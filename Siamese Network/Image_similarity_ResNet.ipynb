{
  "cells": [
    {
      "cell_type": "code",
      "execution_count": null,
      "metadata": {
        "colab": {
          "base_uri": "https://localhost:8080/"
        },
        "id": "D6slDO0WLDwZ",
        "outputId": "582ba320-1bdb-4868-d768-08c5981bccb7"
      },
      "outputs": [
        {
          "name": "stdout",
          "output_type": "stream",
          "text": [
            "Mounted at /content/drive/\n"
          ]
        }
      ],
      "source": [
        "from google.colab import drive\n",
        "drive.mount('/content/drive/')"
      ]
    },
    {
      "cell_type": "code",
      "execution_count": null,
      "metadata": {
        "id": "va3zBZqjK46T"
      },
      "outputs": [],
      "source": [
        "# import the necessary packages\n",
        "import numpy as np\n",
        "import os\n",
        "from PIL import Image, ImageOps\n",
        "from sys import stdout"
      ]
    },
    {
      "cell_type": "markdown",
      "metadata": {
        "id": "kZ3L3rpJLAMH"
      },
      "source": [
        "### Create pair of images"
      ]
    },
    {
      "cell_type": "code",
      "execution_count": null,
      "metadata": {
        "id": "cI5KMKMcOeXn"
      },
      "outputs": [],
      "source": [
        "original_basepath = '/content/drive/My Drive/DL project/data_plain/r/r'\n",
        "def get_edited_folders():\n",
        "  return ['bordered/#000', 'bordered/#fff', 'cropped/center', 'cropped/left_half', 'cropped/lower_half', 'cropped/lowerleft_quarter', 'cropped/lowerright_quarter', 'cropped/right_half', 'cropped/upper_half', 'cropped/upperleft_quarter', 'cropped/upperright_quarter', 'filtered/aden', 'filtered/inkwell', 'filtered/lofi', 'mirrored', 'rotated/45', 'rotated/90', 'rotated/180']\n",
        "\n",
        "def get_edited_filepaths(original_filepath):\n",
        "  filepaths = []\n",
        "  original_basepath, original_filename = os.path.split(os.path.abspath(original_filepath))\n",
        "  edited_basepath = original_basepath.replace('data_plain', 'data_prepared')\n",
        "  edited_folders = get_edited_folders()\n",
        "  for folder in edited_folders:\n",
        "    filepaths.append(f'{edited_basepath}/{folder}/{original_filename}')\n",
        "  return filepaths\n",
        "\n",
        "os.chdir(original_basepath)\n",
        "\n",
        "def make_pairs():\n",
        "\t# initialize two empty lists to hold the (image, image) pairs and\n",
        "\t# labels to indicate if a pair is positive or negative\n",
        "  pairImages = []\n",
        "  pairLabels = []\n",
        "\n",
        "  # prepare a positive pair and update the images and labels\n",
        "\t# lists, respectively\n",
        "  original_images = []\n",
        "  sorted_files = sorted(os.listdir())\n",
        "  for index, file in enumerate(sorted_files[:15]):\n",
        "    if file.endswith(('.png', '.jpg', '.jpeg', '.tiff', '.bmp', '.gif')):\n",
        "      try:\n",
        "        img1 = Image.open(file).convert('RGB')\n",
        "        original_images.append(file)\n",
        "        print(file)\n",
        "        edited_filepaths = get_edited_filepaths(file)\n",
        "        for edited_file in edited_filepaths:\n",
        "          img2 = Image.open(edited_file).convert('RGB')\n",
        "          pairImages.append([img1, img2])\n",
        "          pairLabels.append([1])\n",
        "      except Exception as e:\n",
        "        stdout.write(e)\n",
        "    else:\n",
        "      stdout.write(f\"Skipping {os.path.split(os.path.abspath(file))[1]}...\")\n",
        "\n",
        "  print(len(original_images))\n",
        "  original_image_paths = [original_basepath+'/'+file for file in original_images]\n",
        "  # prepare a negative pair of images and update our lists\n",
        "  neg_basepath = '/content/drive/My Drive/DL project/data_neg'\n",
        "  os.chdir(neg_basepath)\n",
        "  i = 0\n",
        "  for index, file in enumerate(os.listdir()):\n",
        "    if file.endswith(('.png', '.jpg', '.jpeg', '.tiff', '.bmp', '.gif')):\n",
        "      try:\n",
        "        if(i == 15) : i = 0\n",
        "        img1 = Image.open(original_image_paths[i]).convert('RGB')\n",
        "        img2 = Image.open(file).convert('RGB')\n",
        "        print(original_image_paths[i], file)\n",
        "        pairImages.append([img1, img2])\n",
        "        pairLabels.append([0])\n",
        "        i = i+1\n",
        "      except Exception as e:\n",
        "        stdout.write(e)\n",
        "    else:\n",
        "      stdout.write(f\"Skipping {os.path.split(os.path.abspath(file))[1]}...\")\n",
        "\n",
        "  # return a 2-tuple of our image pairs and labels\n",
        "  return (np.array(pairImages), np.array(pairLabels))"
      ]
    },
    {
      "cell_type": "code",
      "execution_count": null,
      "metadata": {
        "colab": {
          "base_uri": "https://localhost:8080/"
        },
        "id": "CVqtPakha-vN",
        "outputId": "580eace7-1be8-4aaa-ac48-7d3fe06e8605"
      },
      "outputs": [
        {
          "name": "stdout",
          "output_type": "stream",
          "text": [
            "B0GysW1pSRR.jpg\n",
            "BBz7jURC0Rr.jpg\n",
            "BFZB3ARRwRr.jpg\n",
            "BG7_XO0JARr.jpg\n",
            "BGOinDhn5rR.jpg\n",
            "BJhtTBEBnrr.jpg\n",
            "BKyiObwBOrr.jpg\n",
            "BL9d3Q-gDRR.jpg\n",
            "BMOer6tl6RR.jpg\n",
            "BMPWR0Hh7rr.jpg\n",
            "BOo0tBKBVRR.jpg\n",
            "BOsfcOIh2RR.jpg\n",
            "BQbKwa2BgRr.jpg\n",
            "BQq79LMhHRR.jpg\n",
            "BROOFmkg7Rr.jpg\n",
            "15\n",
            "/content/drive/My Drive/DL project/data_plain/r/r/B0GysW1pSRR.jpg Copy of BfV84njBzrr.jpg\n",
            "/content/drive/My Drive/DL project/data_plain/r/r/BBz7jURC0Rr.jpg Copy of Bib0FB-nnRR.jpg\n",
            "/content/drive/My Drive/DL project/data_plain/r/r/BFZB3ARRwRr.jpg Copy of BKyiObwBOrr.jpg\n",
            "/content/drive/My Drive/DL project/data_plain/r/r/BG7_XO0JARr.jpg Copy of BFZB3ARRwRr.jpg\n",
            "/content/drive/My Drive/DL project/data_plain/r/r/BGOinDhn5rR.jpg Copy of BJhtTBEBnrr.jpg\n",
            "/content/drive/My Drive/DL project/data_plain/r/r/BJhtTBEBnrr.jpg Copy of BfsviIzn7Rr.jpg\n",
            "/content/drive/My Drive/DL project/data_plain/r/r/BKyiObwBOrr.jpg Copy of BkEQv_iFsRR.jpg\n",
            "/content/drive/My Drive/DL project/data_plain/r/r/BL9d3Q-gDRR.jpg Copy of BL9d3Q-gDRR.jpg\n",
            "/content/drive/My Drive/DL project/data_plain/r/r/BMOer6tl6RR.jpg Copy of Bftw-hwlCRr.jpg\n",
            "/content/drive/My Drive/DL project/data_plain/r/r/BMPWR0Hh7rr.jpg Copy of BiDi7edFVRr.jpg\n",
            "/content/drive/My Drive/DL project/data_plain/r/r/BOo0tBKBVRR.jpg Copy of BmvNTBoA6rr (1).jpg\n",
            "/content/drive/My Drive/DL project/data_plain/r/r/BOsfcOIh2RR.jpg Copy of BmYdoD7gFRR (1).jpg\n",
            "/content/drive/My Drive/DL project/data_plain/r/r/BQbKwa2BgRr.jpg Copy of BMOer6tl6RR (1).jpg\n",
            "/content/drive/My Drive/DL project/data_plain/r/r/BQq79LMhHRR.jpg Copy of BMPWR0Hh7rr (1).jpg\n",
            "/content/drive/My Drive/DL project/data_plain/r/r/BROOFmkg7Rr.jpg Copy of Bl5p46cAHrR.jpg\n",
            "/content/drive/My Drive/DL project/data_plain/r/r/B0GysW1pSRR.jpg Copy of BoExqeMg2RR (2).jpg\n",
            "/content/drive/My Drive/DL project/data_plain/r/r/BBz7jURC0Rr.jpg Copy of Bp5SlIaFFRR (3).jpg\n",
            "/content/drive/My Drive/DL project/data_plain/r/r/BFZB3ARRwRr.jpg Copy of BQq79LMhHRR.jpg\n",
            "/content/drive/My Drive/DL project/data_plain/r/r/BG7_XO0JARr.jpg Copy of BqK_O1ah9Rr.jpg\n",
            "/content/drive/My Drive/DL project/data_plain/r/r/BGOinDhn5rR.jpg Copy of Bp8PxM3lvRR (2).jpg\n",
            "/content/drive/My Drive/DL project/data_plain/r/r/BJhtTBEBnrr.jpg Copy of BoirrUiAOrr (2).jpg\n",
            "/content/drive/My Drive/DL project/data_plain/r/r/BKyiObwBOrr.jpg Copy of Bou54VOl2rr (3).jpg\n",
            "/content/drive/My Drive/DL project/data_plain/r/r/BL9d3Q-gDRR.jpg Copy of BoHio2oB-rR (2).jpg\n",
            "/content/drive/My Drive/DL project/data_plain/r/r/BMOer6tl6RR.jpg Copy of BQbKwa2BgRr.jpg\n",
            "/content/drive/My Drive/DL project/data_plain/r/r/BMPWR0Hh7rr.jpg Copy of BOo0tBKBVRR (2).jpg\n",
            "/content/drive/My Drive/DL project/data_plain/r/r/BOo0tBKBVRR.jpg Copy of Bt3BVFSg3Rr (1).jpg\n",
            "/content/drive/My Drive/DL project/data_plain/r/r/BOsfcOIh2RR.jpg Copy of BtiVFeUgrrR (1).jpg\n",
            "/content/drive/My Drive/DL project/data_plain/r/r/BQbKwa2BgRr.jpg Copy of BqxblKdlSRr.jpg\n",
            "/content/drive/My Drive/DL project/data_plain/r/r/BQq79LMhHRR.jpg Copy of BSVdpwQB6Rr (1).jpg\n",
            "/content/drive/My Drive/DL project/data_plain/r/r/BROOFmkg7Rr.jpg Copy of Bt3lklGA2rR.jpg\n",
            "/content/drive/My Drive/DL project/data_plain/r/r/B0GysW1pSRR.jpg Copy of BlxpWIfBmrR.jpg\n",
            "/content/drive/My Drive/DL project/data_plain/r/r/BBz7jURC0Rr.jpg Copy of Bnj0Bs1nHRR.jpg\n",
            "/content/drive/My Drive/DL project/data_plain/r/r/BFZB3ARRwRr.jpg Copy of BmvNTBoA6rr.jpg\n",
            "/content/drive/My Drive/DL project/data_plain/r/r/BG7_XO0JARr.jpg Copy of Bls7IGIFURR.jpg\n",
            "/content/drive/My Drive/DL project/data_plain/r/r/BGOinDhn5rR.jpg Copy of BMOer6tl6RR.jpg\n",
            "/content/drive/My Drive/DL project/data_plain/r/r/BJhtTBEBnrr.jpg Copy of BnD2fozghrR.jpg\n",
            "/content/drive/My Drive/DL project/data_plain/r/r/BKyiObwBOrr.jpg Copy of Bl58AfQFprr.jpg\n",
            "/content/drive/My Drive/DL project/data_plain/r/r/BL9d3Q-gDRR.jpg Copy of BMPWR0Hh7rr.jpg\n",
            "/content/drive/My Drive/DL project/data_plain/r/r/BMOer6tl6RR.jpg Copy of Bnic-YLAVrr.jpg\n",
            "/content/drive/My Drive/DL project/data_plain/r/r/BMPWR0Hh7rr.jpg Copy of BmYdoD7gFRR.jpg\n",
            "/content/drive/My Drive/DL project/data_plain/r/r/BOo0tBKBVRR.jpg Copy of BnWdHiVFrrR (1).jpg\n",
            "/content/drive/My Drive/DL project/data_plain/r/r/BOsfcOIh2RR.jpg Copy of BoCPk0SltrR (4).jpg\n",
            "/content/drive/My Drive/DL project/data_plain/r/r/BQbKwa2BgRr.jpg Copy of Bo7CGawnfRR (2).jpg\n",
            "/content/drive/My Drive/DL project/data_plain/r/r/BQq79LMhHRR.jpg Copy of BnQRBECgERr.jpg\n",
            "/content/drive/My Drive/DL project/data_plain/r/r/BROOFmkg7Rr.jpg Copy of Bo8Y5i3HLrr (4).jpg\n",
            "/content/drive/My Drive/DL project/data_plain/r/r/B0GysW1pSRR.jpg Copy of Body04altRR (3).jpg\n",
            "/content/drive/My Drive/DL project/data_plain/r/r/BBz7jURC0Rr.jpg Copy of BoCPk0SltrR (3).jpg\n",
            "/content/drive/My Drive/DL project/data_plain/r/r/BFZB3ARRwRr.jpg Copy of BoExqeMg2RR (1).jpg\n",
            "/content/drive/My Drive/DL project/data_plain/r/r/BG7_XO0JARr.jpg Copy of BoE929_FyrR (3).jpg\n",
            "/content/drive/My Drive/DL project/data_plain/r/r/BGOinDhn5rR.jpg Copy of Bo8Y5i3HLrr (3).jpg\n",
            "/content/drive/My Drive/DL project/data_plain/r/r/BJhtTBEBnrr.jpg Copy of BoOp6YDFXrr (1).jpg\n",
            "/content/drive/My Drive/DL project/data_plain/r/r/BKyiObwBOrr.jpg Copy of Bo7CGawnfRR (1).jpg\n",
            "/content/drive/My Drive/DL project/data_plain/r/r/BL9d3Q-gDRR.jpg Copy of BoHio2oB-rR (1).jpg\n",
            "/content/drive/My Drive/DL project/data_plain/r/r/BMOer6tl6RR.jpg Copy of BoirrUiAOrr (1).jpg\n",
            "/content/drive/My Drive/DL project/data_plain/r/r/BMPWR0Hh7rr.jpg Copy of BOo0tBKBVRR (1).jpg\n",
            "/content/drive/My Drive/DL project/data_plain/r/r/BOo0tBKBVRR.jpg Copy of BoPuEeunGRR (2).jpg\n",
            "/content/drive/My Drive/DL project/data_plain/r/r/BOsfcOIh2RR.jpg Copy of BOsfcOIh2RR (2).jpg\n",
            "/content/drive/My Drive/DL project/data_plain/r/r/BQbKwa2BgRr.jpg Copy of Bp5SlIaFFRR (2).jpg\n",
            "/content/drive/My Drive/DL project/data_plain/r/r/BQq79LMhHRR.jpg Copy of Bp8PxM3lvRR (1).jpg\n",
            "/content/drive/My Drive/DL project/data_plain/r/r/BROOFmkg7Rr.jpg Copy of Bou54VOl2rr (2).jpg\n",
            "/content/drive/My Drive/DL project/data_plain/r/r/B0GysW1pSRR.jpg Copy of Bp5SlIaFFRR (1).jpg\n",
            "/content/drive/My Drive/DL project/data_plain/r/r/BBz7jURC0Rr.jpg Copy of BoCPk0SltrR (2).jpg\n",
            "/content/drive/My Drive/DL project/data_plain/r/r/BFZB3ARRwRr.jpg Copy of BoE929_FyrR (2).jpg\n",
            "/content/drive/My Drive/DL project/data_plain/r/r/BG7_XO0JARr.jpg Copy of Bo8Y5i3HLrr (2).jpg\n",
            "/content/drive/My Drive/DL project/data_plain/r/r/BGOinDhn5rR.jpg Copy of Body04altRR (2).jpg\n",
            "/content/drive/My Drive/DL project/data_plain/r/r/BJhtTBEBnrr.jpg Copy of BsIlMQ_H-rr (1).jpg\n",
            "/content/drive/My Drive/DL project/data_plain/r/r/BKyiObwBOrr.jpg Copy of Bou54VOl2rr (1).jpg\n",
            "/content/drive/My Drive/DL project/data_plain/r/r/BL9d3Q-gDRR.jpg Copy of Bpm2eqXgbrr (1).jpg\n",
            "/content/drive/My Drive/DL project/data_plain/r/r/BMOer6tl6RR.jpg Copy of BpKdVbsBnrR.jpg\n",
            "/content/drive/My Drive/DL project/data_plain/r/r/BMPWR0Hh7rr.jpg Copy of Bp8PxM3lvRR.jpg\n",
            "/content/drive/My Drive/DL project/data_plain/r/r/BOo0tBKBVRR.jpg Copy of BSVdpwQB6Rr.jpg\n",
            "/content/drive/My Drive/DL project/data_plain/r/r/BOsfcOIh2RR.jpg Copy of Bt3BVFSg3Rr.jpg\n",
            "/content/drive/My Drive/DL project/data_plain/r/r/BQbKwa2BgRr.jpg Copy of BtM5pWsAhRr (1).jpg\n",
            "/content/drive/My Drive/DL project/data_plain/r/r/BQq79LMhHRR.jpg Copy of BTlItP6j8rR (1).jpg\n",
            "/content/drive/My Drive/DL project/data_plain/r/r/BROOFmkg7Rr.jpg Copy of Bt-dBzIHhRr.jpg\n",
            "/content/drive/My Drive/DL project/data_plain/r/r/B0GysW1pSRR.jpg Copy of Bo8Y5i3HLrr (1).jpg\n",
            "/content/drive/My Drive/DL project/data_plain/r/r/BBz7jURC0Rr.jpg Copy of BOsfcOIh2RR (1).jpg\n",
            "/content/drive/My Drive/DL project/data_plain/r/r/BFZB3ARRwRr.jpg Copy of Body04altRR (1).jpg\n",
            "/content/drive/My Drive/DL project/data_plain/r/r/BG7_XO0JARr.jpg Copy of BnWdHiVFrrR.jpg\n",
            "/content/drive/My Drive/DL project/data_plain/r/r/BGOinDhn5rR.jpg Copy of BoE929_FyrR (1).jpg\n",
            "/content/drive/My Drive/DL project/data_plain/r/r/BJhtTBEBnrr.jpg Copy of BoPuEeunGRR (1).jpg\n",
            "/content/drive/My Drive/DL project/data_plain/r/r/BKyiObwBOrr.jpg Copy of BRT8an9FfRR (1).jpg\n",
            "/content/drive/My Drive/DL project/data_plain/r/r/BL9d3Q-gDRR.jpg Copy of Bp5SlIaFFRR.jpg\n",
            "/content/drive/My Drive/DL project/data_plain/r/r/BMOer6tl6RR.jpg Copy of Bo7CGawnfRR.jpg\n",
            "/content/drive/My Drive/DL project/data_plain/r/r/BMPWR0Hh7rr.jpg Copy of BoCPk0SltrR (1).jpg\n",
            "/content/drive/My Drive/DL project/data_plain/r/r/BOo0tBKBVRR.jpg Copy of BsIlMQ_H-rr.jpg\n",
            "/content/drive/My Drive/DL project/data_plain/r/r/BOsfcOIh2RR.jpg Copy of Btv-mbvFrrR (1).jpg\n",
            "/content/drive/My Drive/DL project/data_plain/r/r/BQbKwa2BgRr.jpg Copy of BrYn_6qn1RR.jpg\n",
            "/content/drive/My Drive/DL project/data_plain/r/r/BQq79LMhHRR.jpg Copy of Bu11YQoAmRr (1).jpg\n",
            "/content/drive/My Drive/DL project/data_plain/r/r/BROOFmkg7Rr.jpg Copy of Bu_KPI9FArR (1).jpg\n",
            "/content/drive/My Drive/DL project/data_plain/r/r/B0GysW1pSRR.jpg Copy of BoCPk0SltrR.jpg\n",
            "/content/drive/My Drive/DL project/data_plain/r/r/BBz7jURC0Rr.jpg Copy of BOo0tBKBVRR.jpg\n",
            "/content/drive/My Drive/DL project/data_plain/r/r/BFZB3ARRwRr.jpg Copy of BoExqeMg2RR.jpg\n",
            "/content/drive/My Drive/DL project/data_plain/r/r/BG7_XO0JARr.jpg Copy of BoOp6YDFXrr.jpg\n",
            "/content/drive/My Drive/DL project/data_plain/r/r/BGOinDhn5rR.jpg Copy of BoirrUiAOrr.jpg\n",
            "/content/drive/My Drive/DL project/data_plain/r/r/BJhtTBEBnrr.jpg Copy of BoPuEeunGRR.jpg\n",
            "/content/drive/My Drive/DL project/data_plain/r/r/BKyiObwBOrr.jpg Copy of Bo8Y5i3HLrr.jpg\n",
            "/content/drive/My Drive/DL project/data_plain/r/r/BL9d3Q-gDRR.jpg Copy of Body04altRR.jpg\n",
            "/content/drive/My Drive/DL project/data_plain/r/r/BMOer6tl6RR.jpg Copy of BoHio2oB-rR.jpg\n",
            "/content/drive/My Drive/DL project/data_plain/r/r/BMPWR0Hh7rr.jpg Copy of BoE929_FyrR.jpg\n",
            "/content/drive/My Drive/DL project/data_plain/r/r/BOo0tBKBVRR.jpg Copy of Bou54VOl2rr.jpg\n",
            "/content/drive/My Drive/DL project/data_plain/r/r/BOsfcOIh2RR.jpg Copy of BROOFmkg7Rr.jpg\n",
            "/content/drive/My Drive/DL project/data_plain/r/r/BQbKwa2BgRr.jpg Copy of BOsfcOIh2RR.jpg\n",
            "/content/drive/My Drive/DL project/data_plain/r/r/BQq79LMhHRR.jpg Copy of Bpm2eqXgbrr.jpg\n",
            "/content/drive/My Drive/DL project/data_plain/r/r/BROOFmkg7Rr.jpg Copy of BRT8an9FfRR.jpg\n",
            "/content/drive/My Drive/DL project/data_plain/r/r/B0GysW1pSRR.jpg Copy of BuW_Qral7RR (3).jpg\n",
            "/content/drive/My Drive/DL project/data_plain/r/r/BBz7jURC0Rr.jpg Copy of BuXZ8-QAfRr (3).jpg\n",
            "/content/drive/My Drive/DL project/data_plain/r/r/BFZB3ARRwRr.jpg Copy of Bv1mZSMHprr (3).jpg\n",
            "/content/drive/My Drive/DL project/data_plain/r/r/BG7_XO0JARr.jpg Copy of BuVBarYFFrR (3).jpg\n",
            "/content/drive/My Drive/DL project/data_plain/r/r/BGOinDhn5rR.jpg Copy of BumVkJylxRr (3).jpg\n",
            "/content/drive/My Drive/DL project/data_plain/r/r/BJhtTBEBnrr.jpg Copy of Bv2lb8dBERR (3).jpg\n",
            "/content/drive/My Drive/DL project/data_plain/r/r/BKyiObwBOrr.jpg Copy of BuJIVLWlbrr (2).jpg\n",
            "/content/drive/My Drive/DL project/data_plain/r/r/BL9d3Q-gDRR.jpg Copy of BumZcxcHdRr (3).jpg\n",
            "/content/drive/My Drive/DL project/data_plain/r/r/BMOer6tl6RR.jpg Copy of BuwXIV-g8RR (4).jpg\n",
            "/content/drive/My Drive/DL project/data_plain/r/r/BMPWR0Hh7rr.jpg Copy of BuyyMP7D-Rr (3).jpg\n",
            "/content/drive/My Drive/DL project/data_plain/r/r/BOo0tBKBVRR.jpg Copy of Bv2r1YXjtRR (3).jpg\n",
            "/content/drive/My Drive/DL project/data_plain/r/r/BOsfcOIh2RR.jpg Copy of Bv9FEO2g8rr (2).jpg\n",
            "/content/drive/My Drive/DL project/data_plain/r/r/BQbKwa2BgRr.jpg Copy of Bv3fUfQlIRr (3).jpg\n",
            "/content/drive/My Drive/DL project/data_plain/r/r/BQq79LMhHRR.jpg Copy of Bv7_HchDArR (3).jpg\n",
            "/content/drive/My Drive/DL project/data_plain/r/r/BROOFmkg7Rr.jpg Copy of Bv6qmaRBrRr (3).jpg\n",
            "/content/drive/My Drive/DL project/data_plain/r/r/B0GysW1pSRR.jpg Copy of Bv6qmaRBrRr (2).jpg\n",
            "/content/drive/My Drive/DL project/data_plain/r/r/BBz7jURC0Rr.jpg Copy of BuwXIV-g8RR (3).jpg\n",
            "/content/drive/My Drive/DL project/data_plain/r/r/BFZB3ARRwRr.jpg Copy of BuyyMP7D-Rr (2).jpg\n",
            "/content/drive/My Drive/DL project/data_plain/r/r/BG7_XO0JARr.jpg Copy of Bv3fUfQlIRr (2).jpg\n",
            "/content/drive/My Drive/DL project/data_plain/r/r/BGOinDhn5rR.jpg Copy of Bv7_HchDArR (2).jpg\n",
            "/content/drive/My Drive/DL project/data_plain/r/r/BJhtTBEBnrr.jpg Copy of Bv9FEO2g8rr (1).jpg\n",
            "/content/drive/My Drive/DL project/data_plain/r/r/BKyiObwBOrr.jpg Copy of Bv2lb8dBERR (2).jpg\n",
            "/content/drive/My Drive/DL project/data_plain/r/r/BL9d3Q-gDRR.jpg Copy of BuXZ8-QAfRr (2).jpg\n",
            "/content/drive/My Drive/DL project/data_plain/r/r/BMOer6tl6RR.jpg Copy of Bv1mZSMHprr (2).jpg\n",
            "/content/drive/My Drive/DL project/data_plain/r/r/BMPWR0Hh7rr.jpg Copy of Bv2r1YXjtRR (2).jpg\n",
            "/content/drive/My Drive/DL project/data_plain/r/r/BOo0tBKBVRR.jpg Copy of Bv874ILlDrr (1).jpg\n",
            "/content/drive/My Drive/DL project/data_plain/r/r/BOsfcOIh2RR.jpg Copy of BvhFTc1ATRR (2).jpg\n",
            "/content/drive/My Drive/DL project/data_plain/r/r/BQbKwa2BgRr.jpg Copy of BvbNcuGDPrr (1).jpg\n",
            "/content/drive/My Drive/DL project/data_plain/r/r/BQq79LMhHRR.jpg Copy of BvGavjWFHRr (1).jpg\n",
            "/content/drive/My Drive/DL project/data_plain/r/r/BROOFmkg7Rr.jpg Copy of BvGeR8olrrR (2).jpg\n",
            "/content/drive/My Drive/DL project/data_plain/r/r/B0GysW1pSRR.jpg Copy of BvKBUnzjTRr (2).jpg\n",
            "/content/drive/My Drive/DL project/data_plain/r/r/BBz7jURC0Rr.jpg Copy of BvmvTkolzrR (2).jpg\n",
            "/content/drive/My Drive/DL project/data_plain/r/r/BFZB3ARRwRr.jpg Copy of BumZcxcHdRr (2).jpg\n",
            "/content/drive/My Drive/DL project/data_plain/r/r/BG7_XO0JARr.jpg Copy of BvWJuy4leRR (1).jpg\n",
            "/content/drive/My Drive/DL project/data_plain/r/r/BGOinDhn5rR.jpg Copy of BuwXIV-g8RR (2).jpg\n",
            "/content/drive/My Drive/DL project/data_plain/r/r/BJhtTBEBnrr.jpg Copy of BumVkJylxRr (2).jpg\n",
            "/content/drive/My Drive/DL project/data_plain/r/r/BKyiObwBOrr.jpg Copy of BuVBarYFFrR (2).jpg\n",
            "/content/drive/My Drive/DL project/data_plain/r/r/BL9d3Q-gDRR.jpg Copy of BuW_Qral7RR (2).jpg\n",
            "/content/drive/My Drive/DL project/data_plain/r/r/BMOer6tl6RR.jpg Copy of BvkF6SeBgrr (2).jpg\n",
            "/content/drive/My Drive/DL project/data_plain/r/r/BMPWR0Hh7rr.jpg Copy of BvmCmmYANRr (2).jpg\n",
            "/content/drive/My Drive/DL project/data_plain/r/r/BOo0tBKBVRR.jpg Copy of BvXJGvPBsRR (1).jpg\n",
            "/content/drive/My Drive/DL project/data_plain/r/r/BOsfcOIh2RR.jpg Copy of BvZ561qhNrr (1).jpg\n",
            "/content/drive/My Drive/DL project/data_plain/r/r/BQbKwa2BgRr.jpg Copy of BvXxeZhnCRR (1).jpg\n",
            "/content/drive/My Drive/DL project/data_plain/r/r/BQq79LMhHRR.jpg Copy of Bw2y80shfRR (1).jpg\n",
            "/content/drive/My Drive/DL project/data_plain/r/r/BROOFmkg7Rr.jpg Copy of Bw3Ca0HFyrR (1).jpg\n",
            "/content/drive/My Drive/DL project/data_plain/r/r/B0GysW1pSRR.jpg Copy of Bw9qesKhYRr.jpg\n",
            "/content/drive/My Drive/DL project/data_plain/r/r/BBz7jURC0Rr.jpg Copy of Bw97pM6hzrR.jpg\n",
            "/content/drive/My Drive/DL project/data_plain/r/r/BFZB3ARRwRr.jpg Copy of Bw89_LRHhrr.jpg\n",
            "/content/drive/My Drive/DL project/data_plain/r/r/BG7_XO0JARr.jpg Copy of Bw9UhexHwrr.jpg\n",
            "/content/drive/My Drive/DL project/data_plain/r/r/BGOinDhn5rR.jpg Copy of Bw9xVoRlJRr.jpg\n",
            "/content/drive/My Drive/DL project/data_plain/r/r/BJhtTBEBnrr.jpg Copy of BwcNLbNFjrR.jpg\n",
            "/content/drive/My Drive/DL project/data_plain/r/r/BKyiObwBOrr.jpg Copy of Bwcxg5NADrR.jpg\n",
            "/content/drive/My Drive/DL project/data_plain/r/r/BL9d3Q-gDRR.jpg Copy of Bw46_vyFVRr.jpg\n",
            "/content/drive/My Drive/DL project/data_plain/r/r/BMOer6tl6RR.jpg Copy of BwAHtxSnurR.jpg\n",
            "/content/drive/My Drive/DL project/data_plain/r/r/BMPWR0Hh7rr.jpg Copy of Bw71pI0F2rr.jpg\n",
            "/content/drive/My Drive/DL project/data_plain/r/r/BOo0tBKBVRR.jpg Copy of BwiGe9JhIRR.jpg\n",
            "/content/drive/My Drive/DL project/data_plain/r/r/BOsfcOIh2RR.jpg Copy of BweN_BpBARr.jpg\n",
            "/content/drive/My Drive/DL project/data_plain/r/r/BQbKwa2BgRr.jpg Copy of BwDVrw8HsRR.jpg\n",
            "/content/drive/My Drive/DL project/data_plain/r/r/BQq79LMhHRR.jpg Copy of Bwh6Y_sBCrR.jpg\n",
            "/content/drive/My Drive/DL project/data_plain/r/r/BROOFmkg7Rr.jpg Copy of BwF33T7D1RR.jpg\n",
            "/content/drive/My Drive/DL project/data_plain/r/r/B0GysW1pSRR.jpg Copy of BwhIGltnpRr.jpg\n",
            "/content/drive/My Drive/DL project/data_plain/r/r/BBz7jURC0Rr.jpg Copy of BwHT1hYhWRR.jpg\n",
            "/content/drive/My Drive/DL project/data_plain/r/r/BFZB3ARRwRr.jpg Copy of BwcYVctguRr.jpg\n",
            "/content/drive/My Drive/DL project/data_plain/r/r/BG7_XO0JARr.jpg Copy of Bwig2rWhuRr.jpg\n",
            "/content/drive/My Drive/DL project/data_plain/r/r/BGOinDhn5rR.jpg Copy of Bwj4Cj6AQRR.jpg\n",
            "/content/drive/My Drive/DL project/data_plain/r/r/BJhtTBEBnrr.jpg Copy of BwkeaQflLrR.jpg\n",
            "/content/drive/My Drive/DL project/data_plain/r/r/BKyiObwBOrr.jpg Copy of BwKFkZwlQrr.jpg\n",
            "/content/drive/My Drive/DL project/data_plain/r/r/BL9d3Q-gDRR.jpg Copy of BwkEqdxBJRR.jpg\n",
            "/content/drive/My Drive/DL project/data_plain/r/r/BMOer6tl6RR.jpg Copy of BwjvPEAgrRr.jpg\n",
            "/content/drive/My Drive/DL project/data_plain/r/r/BMPWR0Hh7rr.jpg Copy of BwK_sEPllRR.jpg\n",
            "/content/drive/My Drive/DL project/data_plain/r/r/BOo0tBKBVRR.jpg Copy of BwJ15V6gSRR.jpg\n",
            "/content/drive/My Drive/DL project/data_plain/r/r/BOsfcOIh2RR.jpg Copy of BwkThAyBoRr.jpg\n",
            "/content/drive/My Drive/DL project/data_plain/r/r/BQbKwa2BgRr.jpg Copy of Bwm4EioBRrr.jpg\n",
            "/content/drive/My Drive/DL project/data_plain/r/r/BQq79LMhHRR.jpg Copy of Bwm1txrl_rR.jpg\n",
            "/content/drive/My Drive/DL project/data_plain/r/r/BROOFmkg7Rr.jpg Copy of Bwly0BtD-rr.jpg\n",
            "/content/drive/My Drive/DL project/data_plain/r/r/B0GysW1pSRR.jpg Copy of Bvqd8BkhxRr (1).jpg\n",
            "/content/drive/My Drive/DL project/data_plain/r/r/BBz7jURC0Rr.jpg Copy of BvKBUnzjTRr (1).jpg\n",
            "/content/drive/My Drive/DL project/data_plain/r/r/BFZB3ARRwRr.jpg Copy of BvkF6SeBgrr (1).jpg\n",
            "/content/drive/My Drive/DL project/data_plain/r/r/BG7_XO0JARr.jpg Copy of Bvq7AOXgNrR (1).jpg\n",
            "/content/drive/My Drive/DL project/data_plain/r/r/BGOinDhn5rR.jpg Copy of BvpgGSUlDrR (1).jpg\n",
            "/content/drive/My Drive/DL project/data_plain/r/r/BJhtTBEBnrr.jpg Copy of BvGeR8olrrR (1).jpg\n",
            "/content/drive/My Drive/DL project/data_plain/r/r/BKyiObwBOrr.jpg Copy of BvmvTkolzrR (1).jpg\n",
            "/content/drive/My Drive/DL project/data_plain/r/r/BL9d3Q-gDRR.jpg Copy of BvhFTc1ATRR (1).jpg\n",
            "/content/drive/My Drive/DL project/data_plain/r/r/BMOer6tl6RR.jpg Copy of BvhsKYTH1rr (1).jpg\n",
            "/content/drive/My Drive/DL project/data_plain/r/r/BMPWR0Hh7rr.jpg Copy of BvmCmmYANRr (1).jpg\n",
            "/content/drive/My Drive/DL project/data_plain/r/r/BOo0tBKBVRR.jpg Copy of BvrgIsvnpRr (1).jpg\n",
            "/content/drive/My Drive/DL project/data_plain/r/r/BOsfcOIh2RR.jpg Copy of BvZdCj4Arrr.jpg\n",
            "/content/drive/My Drive/DL project/data_plain/r/r/BQbKwa2BgRr.jpg Copy of BvXJGvPBsRR.jpg\n",
            "/content/drive/My Drive/DL project/data_plain/r/r/BQq79LMhHRR.jpg Copy of BvrteuPAPRR (1).jpg\n",
            "/content/drive/My Drive/DL project/data_plain/r/r/BROOFmkg7Rr.jpg Copy of Bvv_h-1jerR.jpg\n",
            "/content/drive/My Drive/DL project/data_plain/r/r/B0GysW1pSRR.jpg Copy of BvXxeZhnCRR.jpg\n",
            "/content/drive/My Drive/DL project/data_plain/r/r/BBz7jURC0Rr.jpg Copy of BvWPZw9gSRR.jpg\n",
            "/content/drive/My Drive/DL project/data_plain/r/r/BFZB3ARRwRr.jpg Copy of BvWJuy4leRR.jpg\n",
            "/content/drive/My Drive/DL project/data_plain/r/r/BG7_XO0JARr.jpg Copy of BvZ561qhNrr.jpg\n",
            "/content/drive/My Drive/DL project/data_plain/r/r/BGOinDhn5rR.jpg Copy of Bvt_wh8l5RR.jpg\n",
            "/content/drive/My Drive/DL project/data_plain/r/r/BJhtTBEBnrr.jpg Copy of Bw0Pt_AFTRr.jpg\n",
            "/content/drive/My Drive/DL project/data_plain/r/r/BKyiObwBOrr.jpg Copy of Bw4zZuaAZrR.jpg\n",
            "/content/drive/My Drive/DL project/data_plain/r/r/BL9d3Q-gDRR.jpg Copy of Bw1NQ_0FfRr.jpg\n",
            "/content/drive/My Drive/DL project/data_plain/r/r/BMOer6tl6RR.jpg Copy of Bw1lD1XJqRR.jpg\n",
            "/content/drive/My Drive/DL project/data_plain/r/r/BMPWR0Hh7rr.jpg Copy of Bw-ATw_g5rr.jpg\n",
            "/content/drive/My Drive/DL project/data_plain/r/r/BOo0tBKBVRR.jpg Copy of Bw3Ca0HFyrR.jpg\n",
            "/content/drive/My Drive/DL project/data_plain/r/r/BOsfcOIh2RR.jpg Copy of Bw2y80shfRR.jpg\n",
            "/content/drive/My Drive/DL project/data_plain/r/r/BQbKwa2BgRr.jpg Copy of Bw3RITXherR.jpg\n",
            "/content/drive/My Drive/DL project/data_plain/r/r/BQq79LMhHRR.jpg Copy of Bw2WMEiFuRr.jpg\n",
            "/content/drive/My Drive/DL project/data_plain/r/r/BROOFmkg7Rr.jpg Copy of Bw3K5dZF6RR.jpg\n",
            "/content/drive/My Drive/DL project/data_plain/r/r/B0GysW1pSRR.jpg Copy of BtM5pWsAhRr.jpg\n",
            "/content/drive/My Drive/DL project/data_plain/r/r/BBz7jURC0Rr.jpg Copy of BttpZXyFrRR.jpg\n",
            "/content/drive/My Drive/DL project/data_plain/r/r/BFZB3ARRwRr.jpg Copy of BTlItP6j8rR.jpg\n",
            "/content/drive/My Drive/DL project/data_plain/r/r/BG7_XO0JARr.jpg Copy of BtiVFeUgrrR.jpg\n",
            "/content/drive/My Drive/DL project/data_plain/r/r/BGOinDhn5rR.jpg Copy of Btv-mbvFrrR.jpg\n",
            "/content/drive/My Drive/DL project/data_plain/r/r/BJhtTBEBnrr.jpg Copy of Bu11YQoAmRr.jpg\n",
            "/content/drive/My Drive/DL project/data_plain/r/r/BKyiObwBOrr.jpg Copy of Btq9X8lnGRR.jpg\n",
            "/content/drive/My Drive/DL project/data_plain/r/r/BL9d3Q-gDRR.jpg Copy of BTRFoP0AnRr.jpg\n",
            "/content/drive/My Drive/DL project/data_plain/r/r/BMOer6tl6RR.jpg Copy of BtTu88eAwrR.jpg\n",
            "/content/drive/My Drive/DL project/data_plain/r/r/BMPWR0Hh7rr.jpg Copy of Bu_KPI9FArR.jpg\n",
            "/content/drive/My Drive/DL project/data_plain/r/r/BOo0tBKBVRR.jpg Copy of BubNi8TlrRR.jpg\n",
            "/content/drive/My Drive/DL project/data_plain/r/r/BOsfcOIh2RR.jpg Copy of BuJIVLWlbrr (1).jpg\n",
            "/content/drive/My Drive/DL project/data_plain/r/r/BQbKwa2BgRr.jpg Copy of Bue_fJfhARr.jpg\n",
            "/content/drive/My Drive/DL project/data_plain/r/r/BQq79LMhHRR.jpg Copy of BueKVpmDhrr.jpg\n",
            "/content/drive/My Drive/DL project/data_plain/r/r/BROOFmkg7Rr.jpg Copy of BuVBarYFFrR (1).jpg\n",
            "/content/drive/My Drive/DL project/data_plain/r/r/B0GysW1pSRR.jpg Copy of Bugzfixn-RR.jpg\n",
            "/content/drive/My Drive/DL project/data_plain/r/r/BBz7jURC0Rr.jpg Copy of Bu31rQyFyrR.jpg\n",
            "/content/drive/My Drive/DL project/data_plain/r/r/BFZB3ARRwRr.jpg Copy of BumVkJylxRr (1).jpg\n",
            "/content/drive/My Drive/DL project/data_plain/r/r/BG7_XO0JARr.jpg Copy of Bu12jBeBPrr.jpg\n",
            "/content/drive/My Drive/DL project/data_plain/r/r/BGOinDhn5rR.jpg Copy of BumZcxcHdRr (1).jpg\n",
            "/content/drive/My Drive/DL project/data_plain/r/r/BJhtTBEBnrr.jpg Copy of Bv6qmaRBrRr (1).jpg\n",
            "/content/drive/My Drive/DL project/data_plain/r/r/BKyiObwBOrr.jpg Copy of BuW_Qral7RR (1).jpg\n",
            "/content/drive/My Drive/DL project/data_plain/r/r/BL9d3Q-gDRR.jpg Copy of BuXZ8-QAfRr (1).jpg\n",
            "/content/drive/My Drive/DL project/data_plain/r/r/BMOer6tl6RR.jpg Copy of Bv2lb8dBERR (1).jpg\n",
            "/content/drive/My Drive/DL project/data_plain/r/r/BMPWR0Hh7rr.jpg Copy of Bv1mZSMHprr (1).jpg\n",
            "/content/drive/My Drive/DL project/data_plain/r/r/BOo0tBKBVRR.jpg Copy of Bv7_HchDArR (1).jpg\n",
            "/content/drive/My Drive/DL project/data_plain/r/r/BOsfcOIh2RR.jpg Copy of Bv2r1YXjtRR (1).jpg\n",
            "/content/drive/My Drive/DL project/data_plain/r/r/BQbKwa2BgRr.jpg Copy of Bv3fUfQlIRr (1).jpg\n",
            "/content/drive/My Drive/DL project/data_plain/r/r/BQq79LMhHRR.jpg Copy of BuyyMP7D-Rr (1).jpg\n",
            "/content/drive/My Drive/DL project/data_plain/r/r/BROOFmkg7Rr.jpg Copy of BuwXIV-g8RR (1).jpg\n",
            "/content/drive/My Drive/DL project/data_plain/r/r/B0GysW1pSRR.jpg Copy of BuXZ8-QAfRr.jpg\n",
            "/content/drive/My Drive/DL project/data_plain/r/r/BBz7jURC0Rr.jpg Copy of BuyyMP7D-Rr.jpg\n",
            "/content/drive/My Drive/DL project/data_plain/r/r/BFZB3ARRwRr.jpg Copy of BumZcxcHdRr.jpg\n",
            "/content/drive/My Drive/DL project/data_plain/r/r/BG7_XO0JARr.jpg Copy of BuwXIV-g8RR.jpg\n",
            "/content/drive/My Drive/DL project/data_plain/r/r/BGOinDhn5rR.jpg Copy of BuW_Qral7RR.jpg\n",
            "/content/drive/My Drive/DL project/data_plain/r/r/BJhtTBEBnrr.jpg Copy of BuVBarYFFrR.jpg\n",
            "/content/drive/My Drive/DL project/data_plain/r/r/BKyiObwBOrr.jpg Copy of BuJIVLWlbrr.jpg\n",
            "/content/drive/My Drive/DL project/data_plain/r/r/BL9d3Q-gDRR.jpg Copy of Bv2lb8dBERR.jpg\n",
            "/content/drive/My Drive/DL project/data_plain/r/r/BMOer6tl6RR.jpg Copy of BumVkJylxRr.jpg\n",
            "/content/drive/My Drive/DL project/data_plain/r/r/BMPWR0Hh7rr.jpg Copy of Bv1mZSMHprr.jpg\n",
            "/content/drive/My Drive/DL project/data_plain/r/r/BOo0tBKBVRR.jpg Copy of BvGeR8olrrR.jpg\n",
            "/content/drive/My Drive/DL project/data_plain/r/r/BOsfcOIh2RR.jpg Copy of Bv2r1YXjtRR.jpg\n",
            "/content/drive/My Drive/DL project/data_plain/r/r/BQbKwa2BgRr.jpg Copy of Bv9FEO2g8rr.jpg\n",
            "/content/drive/My Drive/DL project/data_plain/r/r/BQq79LMhHRR.jpg Copy of Bv7_HchDArR.jpg\n",
            "/content/drive/My Drive/DL project/data_plain/r/r/BROOFmkg7Rr.jpg Copy of BvhFTc1ATRR.jpg\n",
            "/content/drive/My Drive/DL project/data_plain/r/r/B0GysW1pSRR.jpg Copy of Bv3fUfQlIRr.jpg\n",
            "/content/drive/My Drive/DL project/data_plain/r/r/BBz7jURC0Rr.jpg Copy of Bv874ILlDrr.jpg\n",
            "/content/drive/My Drive/DL project/data_plain/r/r/BFZB3ARRwRr.jpg Copy of BvbNcuGDPrr.jpg\n",
            "/content/drive/My Drive/DL project/data_plain/r/r/BG7_XO0JARr.jpg Copy of Bv6qmaRBrRr.jpg\n",
            "/content/drive/My Drive/DL project/data_plain/r/r/BGOinDhn5rR.jpg Copy of BvGavjWFHRr.jpg\n",
            "/content/drive/My Drive/DL project/data_plain/r/r/BJhtTBEBnrr.jpg Copy of BvpgGSUlDrR.jpg\n",
            "/content/drive/My Drive/DL project/data_plain/r/r/BKyiObwBOrr.jpg Copy of BvkF6SeBgrr.jpg\n",
            "/content/drive/My Drive/DL project/data_plain/r/r/BL9d3Q-gDRR.jpg Copy of BvrgIsvnpRr.jpg\n",
            "/content/drive/My Drive/DL project/data_plain/r/r/BMOer6tl6RR.jpg Copy of BvrteuPAPRR.jpg\n",
            "/content/drive/My Drive/DL project/data_plain/r/r/BMPWR0Hh7rr.jpg Copy of BvmCmmYANRr.jpg\n",
            "/content/drive/My Drive/DL project/data_plain/r/r/BOo0tBKBVRR.jpg Copy of BvKBUnzjTRr.jpg\n",
            "/content/drive/My Drive/DL project/data_plain/r/r/BOsfcOIh2RR.jpg Copy of BvhsKYTH1rr.jpg\n",
            "/content/drive/My Drive/DL project/data_plain/r/r/BQbKwa2BgRr.jpg Copy of BvmvTkolzrR.jpg\n",
            "/content/drive/My Drive/DL project/data_plain/r/r/BQq79LMhHRR.jpg Copy of Bvq7AOXgNrR.jpg\n",
            "/content/drive/My Drive/DL project/data_plain/r/r/BROOFmkg7Rr.jpg Copy of Bvqd8BkhxRr.jpg\n"
          ]
        },
        {
          "name": "stderr",
          "output_type": "stream",
          "text": [
            "<ipython-input-3-be74732e2c85>:64: FutureWarning: The input object of type 'Image' is an array-like implementing one of the corresponding protocols (`__array__`, `__array_interface__` or `__array_struct__`); but not a sequence (or 0-D). In the future, this object will be coerced as if it was first converted using `np.array(obj)`. To retain the old behaviour, you have to either modify the type 'Image', or assign to an empty array created with `np.empty(correct_shape, dtype=object)`.\n",
            "  return (np.array(pairImages), np.array(pairLabels))\n",
            "<ipython-input-3-be74732e2c85>:64: VisibleDeprecationWarning: Creating an ndarray from ragged nested sequences (which is a list-or-tuple of lists-or-tuples-or ndarrays with different lengths or shapes) is deprecated. If you meant to do this, you must specify 'dtype=object' when creating the ndarray.\n",
            "  return (np.array(pairImages), np.array(pairLabels))\n"
          ]
        }
      ],
      "source": [
        "pairImages, pairlabels = make_pairs()"
      ]
    },
    {
      "cell_type": "code",
      "execution_count": null,
      "metadata": {
        "colab": {
          "base_uri": "https://localhost:8080/"
        },
        "id": "Htk7z7nue12_",
        "outputId": "555cb1cf-719a-4e83-b2e1-1d336cb1440c"
      },
      "outputs": [
        {
          "data": {
            "text/plain": [
              "540"
            ]
          },
          "execution_count": 5,
          "metadata": {},
          "output_type": "execute_result"
        }
      ],
      "source": [
        "len(pairlabels)"
      ]
    },
    {
      "cell_type": "code",
      "execution_count": null,
      "metadata": {
        "colab": {
          "base_uri": "https://localhost:8080/"
        },
        "id": "3uZdYx0Qe5PQ",
        "outputId": "108ad219-d63d-4f68-d6c7-9c5f596167be"
      },
      "outputs": [
        {
          "data": {
            "text/plain": [
              "540"
            ]
          },
          "execution_count": 6,
          "metadata": {},
          "output_type": "execute_result"
        }
      ],
      "source": [
        "len(pairImages)"
      ]
    },
    {
      "cell_type": "code",
      "execution_count": null,
      "metadata": {
        "id": "J6aBxiy5hDNx"
      },
      "outputs": [],
      "source": [
        "# Shuffling data\n",
        "num_samples = len(pairlabels)\n",
        "\n",
        "# Generate shuffled indices\n",
        "shuffled_indices = np.random.permutation(num_samples)\n",
        "\n",
        "# Use shuffled indices to shuffle both X and y\n",
        "X_shuffled = pairImages[shuffled_indices]\n",
        "y_shuffled = pairlabels[shuffled_indices]"
      ]
    },
    {
      "cell_type": "code",
      "execution_count": null,
      "metadata": {
        "colab": {
          "base_uri": "https://localhost:8080/"
        },
        "id": "O9er91jXglUb",
        "outputId": "8b9a972f-c0bd-473b-ca9d-3bd1078f9a65"
      },
      "outputs": [
        {
          "name": "stdout",
          "output_type": "stream",
          "text": [
            "Train set size: 378\n",
            "Validation set size: 81\n",
            "Test set size: 81\n"
          ]
        }
      ],
      "source": [
        "from sklearn.model_selection import train_test_split\n",
        "\n",
        "# Choose the split ratios (adjust as needed)\n",
        "train_size = 0.70\n",
        "val_size = 0.15\n",
        "test_size = 0.15\n",
        "\n",
        "# Perform a single split\n",
        "train_data, test_val_data, train_labels, test_val_labels = train_test_split(\n",
        "    X_shuffled, y_shuffled, test_size=(val_size + test_size), random_state=42\n",
        ")\n",
        "\n",
        "val_data, test_data, val_labels, test_labels = train_test_split(\n",
        "    test_val_data, test_val_labels, test_size=test_size / (val_size + test_size), random_state=42\n",
        ")\n",
        "\n",
        "# Print the sizes of each split\n",
        "print(\"Train set size:\", len(train_data))\n",
        "print(\"Validation set size:\", len(val_data))\n",
        "print(\"Test set size:\", len(test_data))"
      ]
    },
    {
      "cell_type": "markdown",
      "metadata": {
        "id": "ZjJXUiSwfSrf"
      },
      "source": [
        "### Model training and evaluation"
      ]
    },
    {
      "cell_type": "code",
      "execution_count": null,
      "metadata": {
        "id": "ke034Qq9jTbt"
      },
      "outputs": [],
      "source": [
        "import torch\n",
        "import torch.nn as nn\n",
        "import torch.optim as optim\n",
        "from torch.utils.data import DataLoader, Dataset\n",
        "from torchvision import models, transforms"
      ]
    },
    {
      "cell_type": "code",
      "execution_count": null,
      "metadata": {
        "id": "Eknoca5qjKSi"
      },
      "outputs": [],
      "source": [
        "class ImagePairResNet(nn.Module):\n",
        "    def __init__(self, num_classes=1):\n",
        "        super(ImagePairResNet, self).__init__()\n",
        "        resnet = models.resnet34(pretrained=True)\n",
        "        self.features = nn.Sequential(*list(resnet.children())[:-1])\n",
        "\n",
        "        # Fully connected layers with dropout\n",
        "        self.fc1 = nn.Linear(512 * 2, 256)\n",
        "        self.dropout = nn.Dropout(p=0.3)\n",
        "        self.fc2 = nn.Linear(256, 64)\n",
        "        self.fc3 = nn.Linear(64, num_classes)\n",
        "        self.relu = nn.ReLU()\n",
        "\n",
        "    def forward(self, x1, x2):\n",
        "        x1 = self.features(x1)\n",
        "        x2 = self.features(x2)\n",
        "        x = torch.cat((x1.view(x1.size(0), -1), x2.view(x2.size(0), -1)), dim=1)\n",
        "        x = self.relu(self.fc1(x))\n",
        "        x = self.dropout(x)\n",
        "        x = self.relu(self.fc2(x))\n",
        "        x = self.dropout(x)\n",
        "        x = self.fc3(x)\n",
        "        return x"
      ]
    },
    {
      "cell_type": "code",
      "execution_count": null,
      "metadata": {
        "id": "aw9Vc0HejRQG"
      },
      "outputs": [],
      "source": [
        "# Custom dataset class for image pairs\n",
        "class ImagePairDataset(Dataset):\n",
        "    def __init__(self, imagePairs, labels, transform=None):\n",
        "        self.image_pairs = imagePairs\n",
        "        self.labels = labels\n",
        "        self.transform = transform\n",
        "\n",
        "    def __len__(self):\n",
        "        return len(self.labels)\n",
        "\n",
        "    def __getitem__(self, idx):\n",
        "        pair = self.image_pairs[idx]\n",
        "        image1, image2 = pair[0], pair[1]\n",
        "        label = torch.tensor(self.labels[idx], dtype=torch.float32)\n",
        "\n",
        "        if self.transform:\n",
        "            image1 = self.transform(image1)\n",
        "            image2 = self.transform(image2)\n",
        "\n",
        "        return image1, image2, label\n",
        "\n",
        "# Define transformations\n",
        "transform = transforms.Compose([\n",
        "    transforms.Resize((224, 224)),\n",
        "    transforms.ToTensor(),\n",
        "    transforms.Normalize(mean=[0.485, 0.456, 0.406], std=[0.229, 0.224, 0.225]),\n",
        "])"
      ]
    },
    {
      "cell_type": "code",
      "execution_count": null,
      "metadata": {
        "colab": {
          "base_uri": "https://localhost:8080/"
        },
        "id": "TFY-ksv9fSL5",
        "outputId": "fa57c02d-5142-438b-c720-ffbe8ac0a900"
      },
      "outputs": [
        {
          "name": "stderr",
          "output_type": "stream",
          "text": [
            "/usr/local/lib/python3.10/dist-packages/torchvision/models/_utils.py:208: UserWarning: The parameter 'pretrained' is deprecated since 0.13 and may be removed in the future, please use 'weights' instead.\n",
            "  warnings.warn(\n",
            "/usr/local/lib/python3.10/dist-packages/torchvision/models/_utils.py:223: UserWarning: Arguments other than a weight enum or `None` for 'weights' are deprecated since 0.13 and may be removed in the future. The current behavior is equivalent to passing `weights=ResNet34_Weights.IMAGENET1K_V1`. You can also use `weights=ResNet34_Weights.DEFAULT` to get the most up-to-date weights.\n",
            "  warnings.warn(msg)\n",
            "Downloading: \"https://download.pytorch.org/models/resnet34-b627a593.pth\" to /root/.cache/torch/hub/checkpoints/resnet34-b627a593.pth\n",
            "100%|██████████| 83.3M/83.3M [00:00<00:00, 110MB/s]\n"
          ]
        },
        {
          "name": "stdout",
          "output_type": "stream",
          "text": [
            "Epoch 1/10, Train Loss: 0.6931053996086121, Val Loss: 4.314207474390666\n",
            "Epoch 2/10, Train Loss: 0.7463862299919128, Val Loss: 82.89892959594727\n",
            "Epoch 3/10, Train Loss: 0.6008244156837463, Val Loss: 6.453629811604817\n",
            "Epoch 4/10, Train Loss: 0.6642294526100159, Val Loss: 4.352379719416301\n",
            "Epoch 5/10, Train Loss: 0.7149127125740051, Val Loss: 12.551904996236166\n",
            "Epoch 6/10, Train Loss: 0.6450513005256653, Val Loss: 2.9195220470428467\n",
            "Epoch 7/10, Train Loss: 0.6360512375831604, Val Loss: 3.961162010828654\n",
            "Epoch 8/10, Train Loss: 0.6073059439659119, Val Loss: 10.996488571166992\n",
            "Epoch 9/10, Train Loss: 0.6492299437522888, Val Loss: 4.5985368092854815\n",
            "Epoch 10/10, Train Loss: 0.7258924841880798, Val Loss: 12.10031795501709\n"
          ]
        }
      ],
      "source": [
        "# Create datasets and dataloaders for training and validation\n",
        "train_dataset = ImagePairDataset(train_data, train_labels, transform=transform)\n",
        "val_dataset = ImagePairDataset(val_data, val_labels, transform=transform)\n",
        "\n",
        "train_dataloader = DataLoader(train_dataset, batch_size=32, shuffle=True)\n",
        "val_dataloader = DataLoader(val_dataset, batch_size=32, shuffle=False)\n",
        "\n",
        "# Initialize the model, loss function, and optimizer\n",
        "model = ImagePairResNet()\n",
        "criterion = nn.BCEWithLogitsLoss()\n",
        "optimizer = optim.Adam(model.parameters(), lr=0.001)\n",
        "\n",
        "# Training and validation loop\n",
        "num_epochs = 10\n",
        "for epoch in range(num_epochs):\n",
        "    # Training\n",
        "    model.train()\n",
        "    for batch in train_dataloader:\n",
        "        images1, images2, labels = batch\n",
        "        optimizer.zero_grad()\n",
        "        outputs = model(images1, images2)\n",
        "        outputs = torch.sigmoid(outputs)\n",
        "        loss = criterion(outputs, labels.view(-1, 1))\n",
        "        loss.backward()\n",
        "        optimizer.step()\n",
        "\n",
        "    # Validation\n",
        "    model.eval()\n",
        "    val_loss = 0.0\n",
        "    with torch.no_grad():\n",
        "        for batch in val_dataloader:\n",
        "            images1, images2, labels = batch\n",
        "            outputs = model(images1, images2)\n",
        "            val_loss += criterion(outputs, labels.view(-1, 1)).item()\n",
        "\n",
        "    val_loss /= len(val_dataloader)\n",
        "    print(f'Epoch {epoch+1}/{num_epochs}, Train Loss: {loss.item()}, Val Loss: {val_loss}')"
      ]
    },
    {
      "cell_type": "code",
      "execution_count": null,
      "metadata": {
        "id": "aCufSVa6CTUo"
      },
      "outputs": [],
      "source": [
        "torch.save(model.state_dict(), '/content/drive/My Drive/DL project/resnet34.pth')"
      ]
    },
    {
      "cell_type": "code",
      "execution_count": null,
      "metadata": {
        "colab": {
          "base_uri": "https://localhost:8080/"
        },
        "id": "ebrhyTxUpg0A",
        "outputId": "a562fcae-b3cc-4fb1-e576-2fcdf23ac11a"
      },
      "outputs": [
        {
          "name": "stdout",
          "output_type": "stream",
          "text": [
            "Test Loss: 10.329416910807291, Accuracy: 0.5308641975308642\n"
          ]
        }
      ],
      "source": [
        "# Define transformations for test data (similar to training and validation transformations)\n",
        "test_transform = transforms.Compose([\n",
        "    transforms.Resize((224, 224)),\n",
        "    transforms.ToTensor(),\n",
        "    transforms.Normalize(mean=[0.485, 0.456, 0.406], std=[0.229, 0.224, 0.225]),\n",
        "])\n",
        "\n",
        "# Create dataset and dataloader for testing\n",
        "test_dataset = ImagePairDataset(test_data, test_labels, transform=test_transform)\n",
        "test_dataloader = DataLoader(test_dataset, batch_size=32, shuffle=False)\n",
        "\n",
        "# Testing loop\n",
        "model.eval()\n",
        "test_loss = 0.0\n",
        "correct_predictions = 0\n",
        "\n",
        "with torch.no_grad():\n",
        "    for batch in test_dataloader:\n",
        "        images1, images2, labels = batch\n",
        "        outputs = model(images1, images2)\n",
        "        test_loss += criterion(outputs, labels.view(-1, 1)).item()\n",
        "\n",
        "        # Assuming binary classification, count correct predictions\n",
        "        predicted_labels = (outputs >= 0.5).float()\n",
        "        correct_predictions += (predicted_labels == labels.view(-1, 1)).sum().item()\n",
        "\n",
        "test_loss /= len(test_dataloader)\n",
        "accuracy = correct_predictions / len(test_dataset)\n",
        "\n",
        "print(f'Test Loss: {test_loss}, Accuracy: {accuracy}')"
      ]
    }
  ],
  "metadata": {
    "accelerator": "GPU",
    "colab": {
      "gpuType": "T4",
      "provenance": [],
      "toc_visible": true
    },
    "kernelspec": {
      "display_name": "Python 3",
      "name": "python3"
    },
    "language_info": {
      "name": "python"
    }
  },
  "nbformat": 4,
  "nbformat_minor": 0
}
