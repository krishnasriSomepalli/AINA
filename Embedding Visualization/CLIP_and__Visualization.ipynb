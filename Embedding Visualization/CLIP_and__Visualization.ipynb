{
  "cells": [
    {
      "cell_type": "code",
      "execution_count": null,
      "metadata": {
        "cellView": "form",
        "id": "dI7xKBuSFXt3"
      },
      "outputs": [],
      "source": [
        "# @title\n",
        "from PIL import Image, ImageOps"
      ]
    },
    {
      "cell_type": "code",
      "execution_count": null,
      "metadata": {
        "cellView": "form",
        "collapsed": true,
        "id": "yJe_mLeiEVkw"
      },
      "outputs": [],
      "source": [
        "# @title\n",
        "!pip install transformers"
      ]
    },
    {
      "cell_type": "code",
      "execution_count": null,
      "metadata": {
        "cellView": "form",
        "collapsed": true,
        "id": "UBk78z7UEgdL"
      },
      "outputs": [],
      "source": [
        "# @title\n",
        "import torch\n",
        "from transformers import CLIPProcessor, CLIPModel\n",
        "\n",
        "device = \"cuda\" if torch.cuda.is_available() else \"cpu\"\n",
        "model = CLIPModel.from_pretrained(\"openai/clip-vit-base-patch16\").to(device)\n",
        "processor = CLIPProcessor.from_pretrained(\"openai/clip-vit-base-patch16\")"
      ]
    },
    {
      "cell_type": "code",
      "execution_count": null,
      "metadata": {
        "cellView": "form",
        "collapsed": true,
        "id": "rvSSbTBoEwXu"
      },
      "outputs": [],
      "source": [
        "# @title\n",
        "! pip install fastdtw\n",
        "\n",
        "from scipy.spatial.distance import cosine\n",
        "from fastdtw import fastdtw"
      ]
    },
    {
      "cell_type": "code",
      "execution_count": null,
      "metadata": {
        "colab": {
          "base_uri": "https://localhost:8080/"
        },
        "collapsed": true,
        "id": "r4LMoNsHFf62",
        "outputId": "8ee768fa-decf-4290-b7ee-cea8afae9ab0"
      },
      "outputs": [
        {
          "name": "stdout",
          "output_type": "stream",
          "text": [
            "Mounted at /content/drive/\n"
          ]
        }
      ],
      "source": [
        "# @title\n",
        "from google.colab import drive\n",
        "drive.mount('/content/drive/')"
      ]
    },
    {
      "cell_type": "markdown",
      "metadata": {
        "id": "rVw3Qj1rIBXX"
      },
      "source": [
        "### Visualisation for Simple Image embeddings (image.flatten)"
      ]
    },
    {
      "cell_type": "code",
      "execution_count": null,
      "metadata": {
        "cellView": "form",
        "id": "ba4sYDTdKfRL"
      },
      "outputs": [],
      "source": [
        "# @title\n",
        "import os\n",
        "import cv2\n",
        "import numpy as np"
      ]
    },
    {
      "cell_type": "code",
      "execution_count": null,
      "metadata": {
        "cellView": "form",
        "id": "vMAI_hBmKCAn"
      },
      "outputs": [],
      "source": [
        "# @title\n",
        "def get_edited_folders():\n",
        "  return ['bordered/#000', 'bordered/#fff', 'cropped/center', 'cropped/left_half', 'cropped/lower_half', 'cropped/lowerleft_quarter', 'cropped/lowerright_quarter', 'cropped/right_half', 'cropped/upper_half', 'cropped/upperleft_quarter', 'cropped/upperright_quarter', 'filtered/aden', 'filtered/inkwell', 'filtered/lofi', 'mirrored', 'rotated/45', 'rotated/90', 'rotated/180']"
      ]
    },
    {
      "cell_type": "code",
      "execution_count": null,
      "metadata": {
        "cellView": "form",
        "id": "2ANqcCaBII5q"
      },
      "outputs": [],
      "source": [
        "# @title\n",
        "# Process Data\n",
        "\n",
        "image_list = [\"BwjvPEAgrRr.jpg\", \"BxNDSVPAXRr.jpg\", \"BxPSFbeHxrR.jpg\", \"BtiVFeUgrrR.jpg\"]\n",
        "\n",
        "labels = []\n",
        "\n",
        "l1 = \"Dog\"\n",
        "l2 = \"Kid\"\n",
        "l3 = \"Party\"\n",
        "l4 = \"Skeeing\"\n",
        "\n",
        "for _ in range(19):\n",
        "    labels.append(l1)\n",
        "    labels.append(l2)\n",
        "    labels.append(l3)\n",
        "    labels.append(l4)\n",
        "\n",
        "# Images\n",
        "\n",
        "images = []\n",
        "images_flattened = []\n",
        "image_paths = []\n",
        "\n",
        "original_basepath = '/content/drive/My Drive/DL project/data_plain/r/r'\n",
        "\n",
        "# Original Images\n",
        "for img in image_list:\n",
        "  path1 = original_basepath+\"/\"+img\n",
        "  image = cv2.imread(str(path1))\n",
        "  images.append(image)\n",
        "  images_flattened.append(image.flatten())\n",
        "  image_paths.append(path1)\n",
        "\n",
        "edited_folders = get_edited_folders()\n",
        "edited_basepath = original_basepath.replace('data_plain', 'data_prepared')\n",
        "\n",
        "# Edited images\n",
        "for folder in edited_folders:\n",
        "  edited_folders = get_edited_folders()\n",
        "  for img in image_list:\n",
        "    path2 = f'{edited_basepath}/{folder}/{img}'\n",
        "    image_paths.append(path2)\n",
        "    image = cv2.imread(str(path2))\n",
        "    images.append(image)\n",
        "    images_flattened.append(image.flatten())"
      ]
    },
    {
      "cell_type": "code",
      "execution_count": null,
      "metadata": {
        "cellView": "form",
        "collapsed": true,
        "id": "JZefWzX2PY7R"
      },
      "outputs": [],
      "source": [
        "# @title\n",
        "print(labels)\n",
        "\n",
        "print(image_paths)"
      ]
    },
    {
      "cell_type": "code",
      "execution_count": null,
      "metadata": {
        "cellView": "form",
        "id": "uxkE8URLPn7M"
      },
      "outputs": [],
      "source": [
        "# @title\n",
        "import base64\n",
        "\n",
        "def image_to_data_uri(image_path):\n",
        "    with open(image_path, \"rb\") as image_file:\n",
        "        encoded_image = base64.b64encode(image_file.read()).decode(\"utf-8\")\n",
        "    return \"data:image/jpeg;base64,\" + encoded_image"
      ]
    },
    {
      "cell_type": "code",
      "execution_count": null,
      "metadata": {
        "cellView": "form",
        "id": "qNMejpz8PgoQ"
      },
      "outputs": [],
      "source": [
        "# @title\n",
        "image_data_uris = {path: image_to_data_uri(path) for path in image_paths}"
      ]
    },
    {
      "cell_type": "code",
      "execution_count": null,
      "metadata": {
        "cellView": "form",
        "collapsed": true,
        "id": "20WmVqssMyGv"
      },
      "outputs": [],
      "source": [
        "# @title\n",
        "# class associated with image\n",
        "labels_arr = np.array(labels)\n",
        "# features extracted from image\n",
        "image_arr = np.array(images_flattened)"
      ]
    },
    {
      "cell_type": "code",
      "execution_count": null,
      "metadata": {
        "cellView": "form",
        "collapsed": true,
        "id": "ltTi00mKOAHj"
      },
      "outputs": [],
      "source": [
        "# @title\n",
        "image_arr.shape"
      ]
    },
    {
      "cell_type": "code",
      "execution_count": null,
      "metadata": {
        "cellView": "form",
        "id": "vopUiEJENxpA"
      },
      "outputs": [],
      "source": [
        "# @title\n",
        "max_length = max(len(image) for image in image_arr)\n",
        "\n",
        "# Pad or truncate each image to have the same length\n",
        "padded_images = [np.pad(image, (0, max_length - len(image))) if len(image) < max_length else image[:max_length] for image in image_arr]\n",
        "\n",
        "padded_images = np.array(padded_images)"
      ]
    },
    {
      "cell_type": "markdown",
      "metadata": {
        "id": "sgIQmsELK0Z8"
      },
      "source": [
        "*Noticed that the shapes of the images varies.*"
      ]
    },
    {
      "cell_type": "markdown",
      "metadata": {
        "id": "5JeD6zj-NGPv"
      },
      "source": [
        "#### Generate T-SNE projections"
      ]
    },
    {
      "cell_type": "code",
      "execution_count": null,
      "metadata": {
        "cellView": "form",
        "collapsed": true,
        "id": "d1i_-tUCNCCd"
      },
      "outputs": [],
      "source": [
        "# @title\n",
        "from sklearn.manifold import TSNE\n",
        "import time\n",
        "\n",
        "start = time.time()\n",
        "tsne = TSNE(n_components = 3, random_state=0)\n",
        "projections = tsne.fit_transform(padded_images)\n",
        "end = time.time()\n",
        "print(f\"generating projections with T-SNE took: {(end-start):.2f} sec\")"
      ]
    },
    {
      "cell_type": "code",
      "execution_count": null,
      "metadata": {
        "cellView": "form",
        "collapsed": true,
        "id": "8opRT5uI3tld"
      },
      "outputs": [],
      "source": [
        "# @title\n",
        "len(projections)"
      ]
    },
    {
      "cell_type": "code",
      "execution_count": null,
      "metadata": {
        "cellView": "form",
        "collapsed": true,
        "id": "vUK75Uvm4eUH"
      },
      "outputs": [],
      "source": [
        "# @title\n",
        "import plotly.express as px\n",
        "fig = px.scatter_3d(\n",
        "    projections, x=0, y=1, z=2,\n",
        "    color=labels, hover_data=[image_paths]\n",
        ")\n",
        "fig.update_traces(marker_size=8)\n",
        "fig.show()"
      ]
    },
    {
      "cell_type": "markdown",
      "metadata": {
        "id": "kcmN3VdR80x2"
      },
      "source": [
        "*Cannot see any distinct clusters formed. The data points are scattered.*"
      ]
    },
    {
      "cell_type": "markdown",
      "metadata": {
        "id": "3D7KZj5L6gdN"
      },
      "source": [
        "#### Generate UMAP projection"
      ]
    },
    {
      "cell_type": "code",
      "execution_count": null,
      "metadata": {
        "cellView": "form",
        "collapsed": true,
        "id": "H8AXMYP_6pjo"
      },
      "outputs": [],
      "source": [
        "# @title\n",
        "! pip install --upgrade umap-learn"
      ]
    },
    {
      "cell_type": "code",
      "execution_count": null,
      "metadata": {
        "cellView": "form",
        "colab": {
          "base_uri": "https://localhost:8080/"
        },
        "collapsed": true,
        "id": "Ev3CJ7kV6jBg",
        "outputId": "3cb142dc-9f1a-4bf9-a6fb-29d5e8318fdd"
      },
      "outputs": [
        {
          "name": "stdout",
          "output_type": "stream",
          "text": [
            "generating projections with UMAP took: 41.64 sec\n"
          ]
        }
      ],
      "source": [
        "# @title\n",
        "import umap.umap_ as umap\n",
        "import time\n",
        "\n",
        "start = time.time()\n",
        "projections_umap = umap.UMAP(n_components=3).fit_transform(padded_images)\n",
        "end = time.time()\n",
        "print(f\"generating projections with UMAP took: {(end-start):.2f} sec\")"
      ]
    },
    {
      "cell_type": "code",
      "execution_count": null,
      "metadata": {
        "cellView": "form",
        "colab": {
          "base_uri": "https://localhost:8080/",
          "height": 542
        },
        "collapsed": true,
        "id": "PJwkBr2_6oed",
        "outputId": "fa3ad01b-f606-4c16-e5e3-aa573715b590"
      },
      "outputs": [
        {
          "data": {
            "text/html": [
              "<html>\n",
              "<head><meta charset=\"utf-8\" /></head>\n",
              "<body>\n",
              "    <div>            <script src=\"https://cdnjs.cloudflare.com/ajax/libs/mathjax/2.7.5/MathJax.js?config=TeX-AMS-MML_SVG\"></script><script type=\"text/javascript\">if (window.MathJax && window.MathJax.Hub && window.MathJax.Hub.Config) {window.MathJax.Hub.Config({SVG: {font: \"STIX-Web\"}});}</script>                <script type=\"text/javascript\">window.PlotlyConfig = {MathJaxConfig: 'local'};</script>\n",
              "        <script charset=\"utf-8\" src=\"https://cdn.plot.ly/plotly-2.24.1.min.js\"></script>                <div id=\"093c8107-7c7a-452e-be7e-96518e4cfe4a\" class=\"plotly-graph-div\" style=\"height:525px; width:100%;\"></div>            <script type=\"text/javascript\">                                    window.PLOTLYENV=window.PLOTLYENV || {};                                    if (document.getElementById(\"093c8107-7c7a-452e-be7e-96518e4cfe4a\")) {                    Plotly.newPlot(                        \"093c8107-7c7a-452e-be7e-96518e4cfe4a\",                        [{\"customdata\":[[\"\\u002fcontent\\u002fdrive\\u002fMy Drive\\u002fDL project\\u002fdata_plain\\u002fr\\u002fr\\u002fBwjvPEAgrRr.jpg\"],[\"\\u002fcontent\\u002fdrive\\u002fMy Drive\\u002fDL project\\u002fdata_prepared\\u002fr\\u002fr\\u002fbordered\\u002f#000\\u002fBwjvPEAgrRr.jpg\"],[\"\\u002fcontent\\u002fdrive\\u002fMy Drive\\u002fDL project\\u002fdata_prepared\\u002fr\\u002fr\\u002fbordered\\u002f#fff\\u002fBwjvPEAgrRr.jpg\"],[\"\\u002fcontent\\u002fdrive\\u002fMy Drive\\u002fDL project\\u002fdata_prepared\\u002fr\\u002fr\\u002fcropped\\u002fcenter\\u002fBwjvPEAgrRr.jpg\"],[\"\\u002fcontent\\u002fdrive\\u002fMy Drive\\u002fDL project\\u002fdata_prepared\\u002fr\\u002fr\\u002fcropped\\u002fleft_half\\u002fBwjvPEAgrRr.jpg\"],[\"\\u002fcontent\\u002fdrive\\u002fMy Drive\\u002fDL project\\u002fdata_prepared\\u002fr\\u002fr\\u002fcropped\\u002flower_half\\u002fBwjvPEAgrRr.jpg\"],[\"\\u002fcontent\\u002fdrive\\u002fMy Drive\\u002fDL project\\u002fdata_prepared\\u002fr\\u002fr\\u002fcropped\\u002flowerleft_quarter\\u002fBwjvPEAgrRr.jpg\"],[\"\\u002fcontent\\u002fdrive\\u002fMy Drive\\u002fDL project\\u002fdata_prepared\\u002fr\\u002fr\\u002fcropped\\u002flowerright_quarter\\u002fBwjvPEAgrRr.jpg\"],[\"\\u002fcontent\\u002fdrive\\u002fMy Drive\\u002fDL project\\u002fdata_prepared\\u002fr\\u002fr\\u002fcropped\\u002fright_half\\u002fBwjvPEAgrRr.jpg\"],[\"\\u002fcontent\\u002fdrive\\u002fMy Drive\\u002fDL project\\u002fdata_prepared\\u002fr\\u002fr\\u002fcropped\\u002fupper_half\\u002fBwjvPEAgrRr.jpg\"],[\"\\u002fcontent\\u002fdrive\\u002fMy Drive\\u002fDL project\\u002fdata_prepared\\u002fr\\u002fr\\u002fcropped\\u002fupperleft_quarter\\u002fBwjvPEAgrRr.jpg\"],[\"\\u002fcontent\\u002fdrive\\u002fMy Drive\\u002fDL project\\u002fdata_prepared\\u002fr\\u002fr\\u002fcropped\\u002fupperright_quarter\\u002fBwjvPEAgrRr.jpg\"],[\"\\u002fcontent\\u002fdrive\\u002fMy Drive\\u002fDL project\\u002fdata_prepared\\u002fr\\u002fr\\u002ffiltered\\u002faden\\u002fBwjvPEAgrRr.jpg\"],[\"\\u002fcontent\\u002fdrive\\u002fMy Drive\\u002fDL project\\u002fdata_prepared\\u002fr\\u002fr\\u002ffiltered\\u002finkwell\\u002fBwjvPEAgrRr.jpg\"],[\"\\u002fcontent\\u002fdrive\\u002fMy Drive\\u002fDL project\\u002fdata_prepared\\u002fr\\u002fr\\u002ffiltered\\u002flofi\\u002fBwjvPEAgrRr.jpg\"],[\"\\u002fcontent\\u002fdrive\\u002fMy Drive\\u002fDL project\\u002fdata_prepared\\u002fr\\u002fr\\u002fmirrored\\u002fBwjvPEAgrRr.jpg\"],[\"\\u002fcontent\\u002fdrive\\u002fMy Drive\\u002fDL project\\u002fdata_prepared\\u002fr\\u002fr\\u002frotated\\u002f45\\u002fBwjvPEAgrRr.jpg\"],[\"\\u002fcontent\\u002fdrive\\u002fMy Drive\\u002fDL project\\u002fdata_prepared\\u002fr\\u002fr\\u002frotated\\u002f90\\u002fBwjvPEAgrRr.jpg\"],[\"\\u002fcontent\\u002fdrive\\u002fMy Drive\\u002fDL project\\u002fdata_prepared\\u002fr\\u002fr\\u002frotated\\u002f180\\u002fBwjvPEAgrRr.jpg\"]],\"hovertemplate\":\"color=Dog\\u003cbr\\u003e0=%{x}\\u003cbr\\u003e1=%{y}\\u003cbr\\u003e2=%{z}\\u003cbr\\u003ehover_data_0=%{customdata[0]}\\u003cextra\\u003e\\u003c\\u002fextra\\u003e\",\"legendgroup\":\"Dog\",\"marker\":{\"color\":\"#636efa\",\"symbol\":\"circle\",\"size\":8},\"mode\":\"markers\",\"name\":\"Dog\",\"scene\":\"scene\",\"showlegend\":true,\"x\":[4.672932147979736,4.1185736656188965,4.5174946784973145,6.949119567871094,5.365981101989746,5.213998794555664,7.406338691711426,7.259792327880859,5.22353458404541,5.336820602416992,7.141478061676025,6.901052474975586,4.670830249786377,4.938509941101074,4.884997844696045,4.413971900939941,4.981524467468262,4.683096408843994,4.663275241851807],\"y\":[5.119278430938721,5.183314323425293,4.876115322113037,4.538182735443115,4.60755729675293,4.602598190307617,4.532797813415527,4.691137313842773,4.671145439147949,4.816300392150879,4.4211745262146,4.527955532073975,5.288825035095215,5.166162490844727,5.216439247131348,5.231035232543945,4.846736907958984,5.231325626373291,4.750812530517578],\"z\":[7.2979888916015625,8.086970329284668,5.894560813903809,12.296579360961914,10.19201374053955,10.148978233337402,11.960637092590332,12.221735954284668,10.490921020507812,10.300663948059082,11.789284706115723,11.96434497833252,6.972498416900635,6.6755194664001465,7.137867450714111,7.446448802947998,7.838162899017334,7.726031303405762,7.6311445236206055],\"type\":\"scatter3d\"},{\"customdata\":[[\"\\u002fcontent\\u002fdrive\\u002fMy Drive\\u002fDL project\\u002fdata_plain\\u002fr\\u002fr\\u002fBxNDSVPAXRr.jpg\"],[\"\\u002fcontent\\u002fdrive\\u002fMy Drive\\u002fDL project\\u002fdata_prepared\\u002fr\\u002fr\\u002fbordered\\u002f#000\\u002fBxNDSVPAXRr.jpg\"],[\"\\u002fcontent\\u002fdrive\\u002fMy Drive\\u002fDL project\\u002fdata_prepared\\u002fr\\u002fr\\u002fbordered\\u002f#fff\\u002fBxNDSVPAXRr.jpg\"],[\"\\u002fcontent\\u002fdrive\\u002fMy Drive\\u002fDL project\\u002fdata_prepared\\u002fr\\u002fr\\u002fcropped\\u002fcenter\\u002fBxNDSVPAXRr.jpg\"],[\"\\u002fcontent\\u002fdrive\\u002fMy Drive\\u002fDL project\\u002fdata_prepared\\u002fr\\u002fr\\u002fcropped\\u002fleft_half\\u002fBxNDSVPAXRr.jpg\"],[\"\\u002fcontent\\u002fdrive\\u002fMy Drive\\u002fDL project\\u002fdata_prepared\\u002fr\\u002fr\\u002fcropped\\u002flower_half\\u002fBxNDSVPAXRr.jpg\"],[\"\\u002fcontent\\u002fdrive\\u002fMy Drive\\u002fDL project\\u002fdata_prepared\\u002fr\\u002fr\\u002fcropped\\u002flowerleft_quarter\\u002fBxNDSVPAXRr.jpg\"],[\"\\u002fcontent\\u002fdrive\\u002fMy Drive\\u002fDL project\\u002fdata_prepared\\u002fr\\u002fr\\u002fcropped\\u002flowerright_quarter\\u002fBxNDSVPAXRr.jpg\"],[\"\\u002fcontent\\u002fdrive\\u002fMy Drive\\u002fDL project\\u002fdata_prepared\\u002fr\\u002fr\\u002fcropped\\u002fright_half\\u002fBxNDSVPAXRr.jpg\"],[\"\\u002fcontent\\u002fdrive\\u002fMy Drive\\u002fDL project\\u002fdata_prepared\\u002fr\\u002fr\\u002fcropped\\u002fupper_half\\u002fBxNDSVPAXRr.jpg\"],[\"\\u002fcontent\\u002fdrive\\u002fMy Drive\\u002fDL project\\u002fdata_prepared\\u002fr\\u002fr\\u002fcropped\\u002fupperleft_quarter\\u002fBxNDSVPAXRr.jpg\"],[\"\\u002fcontent\\u002fdrive\\u002fMy Drive\\u002fDL project\\u002fdata_prepared\\u002fr\\u002fr\\u002fcropped\\u002fupperright_quarter\\u002fBxNDSVPAXRr.jpg\"],[\"\\u002fcontent\\u002fdrive\\u002fMy Drive\\u002fDL project\\u002fdata_prepared\\u002fr\\u002fr\\u002ffiltered\\u002faden\\u002fBxNDSVPAXRr.jpg\"],[\"\\u002fcontent\\u002fdrive\\u002fMy Drive\\u002fDL project\\u002fdata_prepared\\u002fr\\u002fr\\u002ffiltered\\u002finkwell\\u002fBxNDSVPAXRr.jpg\"],[\"\\u002fcontent\\u002fdrive\\u002fMy Drive\\u002fDL project\\u002fdata_prepared\\u002fr\\u002fr\\u002ffiltered\\u002flofi\\u002fBxNDSVPAXRr.jpg\"],[\"\\u002fcontent\\u002fdrive\\u002fMy Drive\\u002fDL project\\u002fdata_prepared\\u002fr\\u002fr\\u002fmirrored\\u002fBxNDSVPAXRr.jpg\"],[\"\\u002fcontent\\u002fdrive\\u002fMy Drive\\u002fDL project\\u002fdata_prepared\\u002fr\\u002fr\\u002frotated\\u002f45\\u002fBxNDSVPAXRr.jpg\"],[\"\\u002fcontent\\u002fdrive\\u002fMy Drive\\u002fDL project\\u002fdata_prepared\\u002fr\\u002fr\\u002frotated\\u002f90\\u002fBxNDSVPAXRr.jpg\"],[\"\\u002fcontent\\u002fdrive\\u002fMy Drive\\u002fDL project\\u002fdata_prepared\\u002fr\\u002fr\\u002frotated\\u002f180\\u002fBxNDSVPAXRr.jpg\"]],\"hovertemplate\":\"color=Kid\\u003cbr\\u003e0=%{x}\\u003cbr\\u003e1=%{y}\\u003cbr\\u003e2=%{z}\\u003cbr\\u003ehover_data_0=%{customdata[0]}\\u003cextra\\u003e\\u003c\\u002fextra\\u003e\",\"legendgroup\":\"Kid\",\"marker\":{\"color\":\"#EF553B\",\"symbol\":\"circle\",\"size\":8},\"mode\":\"markers\",\"name\":\"Kid\",\"scene\":\"scene\",\"showlegend\":true,\"x\":[3.8400774002075195,4.403050899505615,4.255898475646973,7.194828510284424,6.065866470336914,5.84515380859375,6.835072994232178,7.142890453338623,6.1200785636901855,5.861087322235107,6.7027153968811035,6.792362213134766,3.941603899002075,3.6125147342681885,3.671630620956421,3.924614906311035,4.949031352996826,4.508822441101074,4.112214088439941],\"y\":[5.70895528793335,4.78668212890625,5.0041890144348145,4.921440601348877,4.775390148162842,4.623122215270996,4.925537109375,4.803255081176758,4.363325595855713,4.731683731079102,4.5176286697387695,4.1083760261535645,5.576182842254639,5.685943126678467,5.540867328643799,5.706374168395996,5.52520227432251,5.417910575866699,5.5590128898620605],\"z\":[6.59421968460083,7.228617191314697,6.209078788757324,11.602612495422363,10.536994934082031,10.575074195861816,11.711724281311035,11.481447219848633,10.795106887817383,10.26862907409668,11.619507789611816,11.604153633117676,6.415829181671143,6.58200216293335,6.462073802947998,6.725185394287109,7.911163330078125,7.968572616577148,7.073766708374023],\"type\":\"scatter3d\"},{\"customdata\":[[\"\\u002fcontent\\u002fdrive\\u002fMy Drive\\u002fDL project\\u002fdata_plain\\u002fr\\u002fr\\u002fBxPSFbeHxrR.jpg\"],[\"\\u002fcontent\\u002fdrive\\u002fMy Drive\\u002fDL project\\u002fdata_prepared\\u002fr\\u002fr\\u002fbordered\\u002f#000\\u002fBxPSFbeHxrR.jpg\"],[\"\\u002fcontent\\u002fdrive\\u002fMy Drive\\u002fDL project\\u002fdata_prepared\\u002fr\\u002fr\\u002fbordered\\u002f#fff\\u002fBxPSFbeHxrR.jpg\"],[\"\\u002fcontent\\u002fdrive\\u002fMy Drive\\u002fDL project\\u002fdata_prepared\\u002fr\\u002fr\\u002fcropped\\u002fcenter\\u002fBxPSFbeHxrR.jpg\"],[\"\\u002fcontent\\u002fdrive\\u002fMy Drive\\u002fDL project\\u002fdata_prepared\\u002fr\\u002fr\\u002fcropped\\u002fleft_half\\u002fBxPSFbeHxrR.jpg\"],[\"\\u002fcontent\\u002fdrive\\u002fMy Drive\\u002fDL project\\u002fdata_prepared\\u002fr\\u002fr\\u002fcropped\\u002flower_half\\u002fBxPSFbeHxrR.jpg\"],[\"\\u002fcontent\\u002fdrive\\u002fMy Drive\\u002fDL project\\u002fdata_prepared\\u002fr\\u002fr\\u002fcropped\\u002flowerleft_quarter\\u002fBxPSFbeHxrR.jpg\"],[\"\\u002fcontent\\u002fdrive\\u002fMy Drive\\u002fDL project\\u002fdata_prepared\\u002fr\\u002fr\\u002fcropped\\u002flowerright_quarter\\u002fBxPSFbeHxrR.jpg\"],[\"\\u002fcontent\\u002fdrive\\u002fMy Drive\\u002fDL project\\u002fdata_prepared\\u002fr\\u002fr\\u002fcropped\\u002fright_half\\u002fBxPSFbeHxrR.jpg\"],[\"\\u002fcontent\\u002fdrive\\u002fMy Drive\\u002fDL project\\u002fdata_prepared\\u002fr\\u002fr\\u002fcropped\\u002fupper_half\\u002fBxPSFbeHxrR.jpg\"],[\"\\u002fcontent\\u002fdrive\\u002fMy Drive\\u002fDL project\\u002fdata_prepared\\u002fr\\u002fr\\u002fcropped\\u002fupperleft_quarter\\u002fBxPSFbeHxrR.jpg\"],[\"\\u002fcontent\\u002fdrive\\u002fMy Drive\\u002fDL project\\u002fdata_prepared\\u002fr\\u002fr\\u002fcropped\\u002fupperright_quarter\\u002fBxPSFbeHxrR.jpg\"],[\"\\u002fcontent\\u002fdrive\\u002fMy Drive\\u002fDL project\\u002fdata_prepared\\u002fr\\u002fr\\u002ffiltered\\u002faden\\u002fBxPSFbeHxrR.jpg\"],[\"\\u002fcontent\\u002fdrive\\u002fMy Drive\\u002fDL project\\u002fdata_prepared\\u002fr\\u002fr\\u002ffiltered\\u002finkwell\\u002fBxPSFbeHxrR.jpg\"],[\"\\u002fcontent\\u002fdrive\\u002fMy Drive\\u002fDL project\\u002fdata_prepared\\u002fr\\u002fr\\u002ffiltered\\u002flofi\\u002fBxPSFbeHxrR.jpg\"],[\"\\u002fcontent\\u002fdrive\\u002fMy Drive\\u002fDL project\\u002fdata_prepared\\u002fr\\u002fr\\u002fmirrored\\u002fBxPSFbeHxrR.jpg\"],[\"\\u002fcontent\\u002fdrive\\u002fMy Drive\\u002fDL project\\u002fdata_prepared\\u002fr\\u002fr\\u002frotated\\u002f45\\u002fBxPSFbeHxrR.jpg\"],[\"\\u002fcontent\\u002fdrive\\u002fMy Drive\\u002fDL project\\u002fdata_prepared\\u002fr\\u002fr\\u002frotated\\u002f90\\u002fBxPSFbeHxrR.jpg\"],[\"\\u002fcontent\\u002fdrive\\u002fMy Drive\\u002fDL project\\u002fdata_prepared\\u002fr\\u002fr\\u002frotated\\u002f180\\u002fBxPSFbeHxrR.jpg\"]],\"hovertemplate\":\"color=Party\\u003cbr\\u003e0=%{x}\\u003cbr\\u003e1=%{y}\\u003cbr\\u003e2=%{z}\\u003cbr\\u003ehover_data_0=%{customdata[0]}\\u003cextra\\u003e\\u003c\\u002fextra\\u003e\",\"legendgroup\":\"Party\",\"marker\":{\"color\":\"#00cc96\",\"symbol\":\"circle\",\"size\":8},\"mode\":\"markers\",\"name\":\"Party\",\"scene\":\"scene\",\"showlegend\":true,\"x\":[5.01929235458374,4.163839817047119,4.313905715942383,7.088809490203857,6.354680061340332,5.502833366394043,7.301998615264893,7.895369052886963,5.213538646697998,5.549164772033691,6.99716854095459,7.614587306976318,5.283892631530762,5.1711835861206055,5.343819618225098,5.113912582397461,5.249421119689941,4.975857257843018,4.850694179534912],\"y\":[4.330779075622559,5.280849456787109,5.043237209320068,4.205258369445801,4.869508743286133,4.217381477355957,5.021132469177246,4.066973686218262,4.158510684967041,4.278068542480469,5.096986770629883,3.9998505115509033,4.524391174316406,4.342556476593018,4.521299839019775,5.455164432525635,4.827705383300781,4.453220844268799,5.660849094390869],\"z\":[7.162446975708008,8.046294212341309,5.767878532409668,12.144155502319336,11.213887214660645,10.525015830993652,11.912981986999512,12.254857063293457,9.925939559936523,10.21130657196045,11.662580490112305,12.16819953918457,7.001655101776123,7.059384346008301,7.167439937591553,7.387824058532715,7.97509241104126,8.79394817352295,7.593184947967529],\"type\":\"scatter3d\"},{\"customdata\":[[\"\\u002fcontent\\u002fdrive\\u002fMy Drive\\u002fDL project\\u002fdata_plain\\u002fr\\u002fr\\u002fBtiVFeUgrrR.jpg\"],[\"\\u002fcontent\\u002fdrive\\u002fMy Drive\\u002fDL project\\u002fdata_prepared\\u002fr\\u002fr\\u002fbordered\\u002f#000\\u002fBtiVFeUgrrR.jpg\"],[\"\\u002fcontent\\u002fdrive\\u002fMy Drive\\u002fDL project\\u002fdata_prepared\\u002fr\\u002fr\\u002fbordered\\u002f#fff\\u002fBtiVFeUgrrR.jpg\"],[\"\\u002fcontent\\u002fdrive\\u002fMy Drive\\u002fDL project\\u002fdata_prepared\\u002fr\\u002fr\\u002fcropped\\u002fcenter\\u002fBtiVFeUgrrR.jpg\"],[\"\\u002fcontent\\u002fdrive\\u002fMy Drive\\u002fDL project\\u002fdata_prepared\\u002fr\\u002fr\\u002fcropped\\u002fleft_half\\u002fBtiVFeUgrrR.jpg\"],[\"\\u002fcontent\\u002fdrive\\u002fMy Drive\\u002fDL project\\u002fdata_prepared\\u002fr\\u002fr\\u002fcropped\\u002flower_half\\u002fBtiVFeUgrrR.jpg\"],[\"\\u002fcontent\\u002fdrive\\u002fMy Drive\\u002fDL project\\u002fdata_prepared\\u002fr\\u002fr\\u002fcropped\\u002flowerleft_quarter\\u002fBtiVFeUgrrR.jpg\"],[\"\\u002fcontent\\u002fdrive\\u002fMy Drive\\u002fDL project\\u002fdata_prepared\\u002fr\\u002fr\\u002fcropped\\u002flowerright_quarter\\u002fBtiVFeUgrrR.jpg\"],[\"\\u002fcontent\\u002fdrive\\u002fMy Drive\\u002fDL project\\u002fdata_prepared\\u002fr\\u002fr\\u002fcropped\\u002fright_half\\u002fBtiVFeUgrrR.jpg\"],[\"\\u002fcontent\\u002fdrive\\u002fMy Drive\\u002fDL project\\u002fdata_prepared\\u002fr\\u002fr\\u002fcropped\\u002fupper_half\\u002fBtiVFeUgrrR.jpg\"],[\"\\u002fcontent\\u002fdrive\\u002fMy Drive\\u002fDL project\\u002fdata_prepared\\u002fr\\u002fr\\u002fcropped\\u002fupperleft_quarter\\u002fBtiVFeUgrrR.jpg\"],[\"\\u002fcontent\\u002fdrive\\u002fMy Drive\\u002fDL project\\u002fdata_prepared\\u002fr\\u002fr\\u002fcropped\\u002fupperright_quarter\\u002fBtiVFeUgrrR.jpg\"],[\"\\u002fcontent\\u002fdrive\\u002fMy Drive\\u002fDL project\\u002fdata_prepared\\u002fr\\u002fr\\u002ffiltered\\u002faden\\u002fBtiVFeUgrrR.jpg\"],[\"\\u002fcontent\\u002fdrive\\u002fMy Drive\\u002fDL project\\u002fdata_prepared\\u002fr\\u002fr\\u002ffiltered\\u002finkwell\\u002fBtiVFeUgrrR.jpg\"],[\"\\u002fcontent\\u002fdrive\\u002fMy Drive\\u002fDL project\\u002fdata_prepared\\u002fr\\u002fr\\u002ffiltered\\u002flofi\\u002fBtiVFeUgrrR.jpg\"],[\"\\u002fcontent\\u002fdrive\\u002fMy Drive\\u002fDL project\\u002fdata_prepared\\u002fr\\u002fr\\u002fmirrored\\u002fBtiVFeUgrrR.jpg\"],[\"\\u002fcontent\\u002fdrive\\u002fMy Drive\\u002fDL project\\u002fdata_prepared\\u002fr\\u002fr\\u002frotated\\u002f45\\u002fBtiVFeUgrrR.jpg\"],[\"\\u002fcontent\\u002fdrive\\u002fMy Drive\\u002fDL project\\u002fdata_prepared\\u002fr\\u002fr\\u002frotated\\u002f90\\u002fBtiVFeUgrrR.jpg\"],[\"\\u002fcontent\\u002fdrive\\u002fMy Drive\\u002fDL project\\u002fdata_prepared\\u002fr\\u002fr\\u002frotated\\u002f180\\u002fBtiVFeUgrrR.jpg\"]],\"hovertemplate\":\"color=Skeeing\\u003cbr\\u003e0=%{x}\\u003cbr\\u003e1=%{y}\\u003cbr\\u003e2=%{z}\\u003cbr\\u003ehover_data_0=%{customdata[0]}\\u003cextra\\u003e\\u003c\\u002fextra\\u003e\",\"legendgroup\":\"Skeeing\",\"marker\":{\"color\":\"#ab63fa\",\"symbol\":\"circle\",\"size\":8},\"mode\":\"markers\",\"name\":\"Skeeing\",\"scene\":\"scene\",\"showlegend\":true,\"x\":[4.3954010009765625,4.025730609893799,4.453338146209717,8.246618270874023,4.939517021179199,4.95451021194458,7.875927925109863,7.990913391113281,4.91790771484375,5.097692966461182,7.973206043243408,8.076237678527832,4.5085344314575195,4.710171222686768,4.610212326049805,4.289019584655762,4.248354434967041,4.31708288192749,4.564430236816406],\"y\":[4.365691661834717,5.477481365203857,4.853105068206787,3.6365575790405273,3.8048157691955566,3.956707000732422,3.734860420227051,3.8222150802612305,3.812060832977295,3.9856417179107666,3.927563428878784,3.772407293319702,4.710166931152344,4.496952056884766,4.457808017730713,4.534594535827637,4.848568916320801,4.801961898803711,4.630508899688721],\"z\":[4.710427284240723,7.850390434265137,5.5022783279418945,12.473224639892578,9.72681713104248,9.560462951660156,12.589848518371582,12.47319221496582,9.796523094177246,9.58940601348877,12.645596504211426,12.756576538085938,4.697343826293945,4.4719719886779785,4.535246849060059,4.388454914093018,4.446129322052002,4.206270694732666,4.242160797119141],\"type\":\"scatter3d\"}],                        {\"template\":{\"data\":{\"histogram2dcontour\":[{\"type\":\"histogram2dcontour\",\"colorbar\":{\"outlinewidth\":0,\"ticks\":\"\"},\"colorscale\":[[0.0,\"#0d0887\"],[0.1111111111111111,\"#46039f\"],[0.2222222222222222,\"#7201a8\"],[0.3333333333333333,\"#9c179e\"],[0.4444444444444444,\"#bd3786\"],[0.5555555555555556,\"#d8576b\"],[0.6666666666666666,\"#ed7953\"],[0.7777777777777778,\"#fb9f3a\"],[0.8888888888888888,\"#fdca26\"],[1.0,\"#f0f921\"]]}],\"choropleth\":[{\"type\":\"choropleth\",\"colorbar\":{\"outlinewidth\":0,\"ticks\":\"\"}}],\"histogram2d\":[{\"type\":\"histogram2d\",\"colorbar\":{\"outlinewidth\":0,\"ticks\":\"\"},\"colorscale\":[[0.0,\"#0d0887\"],[0.1111111111111111,\"#46039f\"],[0.2222222222222222,\"#7201a8\"],[0.3333333333333333,\"#9c179e\"],[0.4444444444444444,\"#bd3786\"],[0.5555555555555556,\"#d8576b\"],[0.6666666666666666,\"#ed7953\"],[0.7777777777777778,\"#fb9f3a\"],[0.8888888888888888,\"#fdca26\"],[1.0,\"#f0f921\"]]}],\"heatmap\":[{\"type\":\"heatmap\",\"colorbar\":{\"outlinewidth\":0,\"ticks\":\"\"},\"colorscale\":[[0.0,\"#0d0887\"],[0.1111111111111111,\"#46039f\"],[0.2222222222222222,\"#7201a8\"],[0.3333333333333333,\"#9c179e\"],[0.4444444444444444,\"#bd3786\"],[0.5555555555555556,\"#d8576b\"],[0.6666666666666666,\"#ed7953\"],[0.7777777777777778,\"#fb9f3a\"],[0.8888888888888888,\"#fdca26\"],[1.0,\"#f0f921\"]]}],\"heatmapgl\":[{\"type\":\"heatmapgl\",\"colorbar\":{\"outlinewidth\":0,\"ticks\":\"\"},\"colorscale\":[[0.0,\"#0d0887\"],[0.1111111111111111,\"#46039f\"],[0.2222222222222222,\"#7201a8\"],[0.3333333333333333,\"#9c179e\"],[0.4444444444444444,\"#bd3786\"],[0.5555555555555556,\"#d8576b\"],[0.6666666666666666,\"#ed7953\"],[0.7777777777777778,\"#fb9f3a\"],[0.8888888888888888,\"#fdca26\"],[1.0,\"#f0f921\"]]}],\"contourcarpet\":[{\"type\":\"contourcarpet\",\"colorbar\":{\"outlinewidth\":0,\"ticks\":\"\"}}],\"contour\":[{\"type\":\"contour\",\"colorbar\":{\"outlinewidth\":0,\"ticks\":\"\"},\"colorscale\":[[0.0,\"#0d0887\"],[0.1111111111111111,\"#46039f\"],[0.2222222222222222,\"#7201a8\"],[0.3333333333333333,\"#9c179e\"],[0.4444444444444444,\"#bd3786\"],[0.5555555555555556,\"#d8576b\"],[0.6666666666666666,\"#ed7953\"],[0.7777777777777778,\"#fb9f3a\"],[0.8888888888888888,\"#fdca26\"],[1.0,\"#f0f921\"]]}],\"surface\":[{\"type\":\"surface\",\"colorbar\":{\"outlinewidth\":0,\"ticks\":\"\"},\"colorscale\":[[0.0,\"#0d0887\"],[0.1111111111111111,\"#46039f\"],[0.2222222222222222,\"#7201a8\"],[0.3333333333333333,\"#9c179e\"],[0.4444444444444444,\"#bd3786\"],[0.5555555555555556,\"#d8576b\"],[0.6666666666666666,\"#ed7953\"],[0.7777777777777778,\"#fb9f3a\"],[0.8888888888888888,\"#fdca26\"],[1.0,\"#f0f921\"]]}],\"mesh3d\":[{\"type\":\"mesh3d\",\"colorbar\":{\"outlinewidth\":0,\"ticks\":\"\"}}],\"scatter\":[{\"fillpattern\":{\"fillmode\":\"overlay\",\"size\":10,\"solidity\":0.2},\"type\":\"scatter\"}],\"parcoords\":[{\"type\":\"parcoords\",\"line\":{\"colorbar\":{\"outlinewidth\":0,\"ticks\":\"\"}}}],\"scatterpolargl\":[{\"type\":\"scatterpolargl\",\"marker\":{\"colorbar\":{\"outlinewidth\":0,\"ticks\":\"\"}}}],\"bar\":[{\"error_x\":{\"color\":\"#2a3f5f\"},\"error_y\":{\"color\":\"#2a3f5f\"},\"marker\":{\"line\":{\"color\":\"#E5ECF6\",\"width\":0.5},\"pattern\":{\"fillmode\":\"overlay\",\"size\":10,\"solidity\":0.2}},\"type\":\"bar\"}],\"scattergeo\":[{\"type\":\"scattergeo\",\"marker\":{\"colorbar\":{\"outlinewidth\":0,\"ticks\":\"\"}}}],\"scatterpolar\":[{\"type\":\"scatterpolar\",\"marker\":{\"colorbar\":{\"outlinewidth\":0,\"ticks\":\"\"}}}],\"histogram\":[{\"marker\":{\"pattern\":{\"fillmode\":\"overlay\",\"size\":10,\"solidity\":0.2}},\"type\":\"histogram\"}],\"scattergl\":[{\"type\":\"scattergl\",\"marker\":{\"colorbar\":{\"outlinewidth\":0,\"ticks\":\"\"}}}],\"scatter3d\":[{\"type\":\"scatter3d\",\"line\":{\"colorbar\":{\"outlinewidth\":0,\"ticks\":\"\"}},\"marker\":{\"colorbar\":{\"outlinewidth\":0,\"ticks\":\"\"}}}],\"scattermapbox\":[{\"type\":\"scattermapbox\",\"marker\":{\"colorbar\":{\"outlinewidth\":0,\"ticks\":\"\"}}}],\"scatterternary\":[{\"type\":\"scatterternary\",\"marker\":{\"colorbar\":{\"outlinewidth\":0,\"ticks\":\"\"}}}],\"scattercarpet\":[{\"type\":\"scattercarpet\",\"marker\":{\"colorbar\":{\"outlinewidth\":0,\"ticks\":\"\"}}}],\"carpet\":[{\"aaxis\":{\"endlinecolor\":\"#2a3f5f\",\"gridcolor\":\"white\",\"linecolor\":\"white\",\"minorgridcolor\":\"white\",\"startlinecolor\":\"#2a3f5f\"},\"baxis\":{\"endlinecolor\":\"#2a3f5f\",\"gridcolor\":\"white\",\"linecolor\":\"white\",\"minorgridcolor\":\"white\",\"startlinecolor\":\"#2a3f5f\"},\"type\":\"carpet\"}],\"table\":[{\"cells\":{\"fill\":{\"color\":\"#EBF0F8\"},\"line\":{\"color\":\"white\"}},\"header\":{\"fill\":{\"color\":\"#C8D4E3\"},\"line\":{\"color\":\"white\"}},\"type\":\"table\"}],\"barpolar\":[{\"marker\":{\"line\":{\"color\":\"#E5ECF6\",\"width\":0.5},\"pattern\":{\"fillmode\":\"overlay\",\"size\":10,\"solidity\":0.2}},\"type\":\"barpolar\"}],\"pie\":[{\"automargin\":true,\"type\":\"pie\"}]},\"layout\":{\"autotypenumbers\":\"strict\",\"colorway\":[\"#636efa\",\"#EF553B\",\"#00cc96\",\"#ab63fa\",\"#FFA15A\",\"#19d3f3\",\"#FF6692\",\"#B6E880\",\"#FF97FF\",\"#FECB52\"],\"font\":{\"color\":\"#2a3f5f\"},\"hovermode\":\"closest\",\"hoverlabel\":{\"align\":\"left\"},\"paper_bgcolor\":\"white\",\"plot_bgcolor\":\"#E5ECF6\",\"polar\":{\"bgcolor\":\"#E5ECF6\",\"angularaxis\":{\"gridcolor\":\"white\",\"linecolor\":\"white\",\"ticks\":\"\"},\"radialaxis\":{\"gridcolor\":\"white\",\"linecolor\":\"white\",\"ticks\":\"\"}},\"ternary\":{\"bgcolor\":\"#E5ECF6\",\"aaxis\":{\"gridcolor\":\"white\",\"linecolor\":\"white\",\"ticks\":\"\"},\"baxis\":{\"gridcolor\":\"white\",\"linecolor\":\"white\",\"ticks\":\"\"},\"caxis\":{\"gridcolor\":\"white\",\"linecolor\":\"white\",\"ticks\":\"\"}},\"coloraxis\":{\"colorbar\":{\"outlinewidth\":0,\"ticks\":\"\"}},\"colorscale\":{\"sequential\":[[0.0,\"#0d0887\"],[0.1111111111111111,\"#46039f\"],[0.2222222222222222,\"#7201a8\"],[0.3333333333333333,\"#9c179e\"],[0.4444444444444444,\"#bd3786\"],[0.5555555555555556,\"#d8576b\"],[0.6666666666666666,\"#ed7953\"],[0.7777777777777778,\"#fb9f3a\"],[0.8888888888888888,\"#fdca26\"],[1.0,\"#f0f921\"]],\"sequentialminus\":[[0.0,\"#0d0887\"],[0.1111111111111111,\"#46039f\"],[0.2222222222222222,\"#7201a8\"],[0.3333333333333333,\"#9c179e\"],[0.4444444444444444,\"#bd3786\"],[0.5555555555555556,\"#d8576b\"],[0.6666666666666666,\"#ed7953\"],[0.7777777777777778,\"#fb9f3a\"],[0.8888888888888888,\"#fdca26\"],[1.0,\"#f0f921\"]],\"diverging\":[[0,\"#8e0152\"],[0.1,\"#c51b7d\"],[0.2,\"#de77ae\"],[0.3,\"#f1b6da\"],[0.4,\"#fde0ef\"],[0.5,\"#f7f7f7\"],[0.6,\"#e6f5d0\"],[0.7,\"#b8e186\"],[0.8,\"#7fbc41\"],[0.9,\"#4d9221\"],[1,\"#276419\"]]},\"xaxis\":{\"gridcolor\":\"white\",\"linecolor\":\"white\",\"ticks\":\"\",\"title\":{\"standoff\":15},\"zerolinecolor\":\"white\",\"automargin\":true,\"zerolinewidth\":2},\"yaxis\":{\"gridcolor\":\"white\",\"linecolor\":\"white\",\"ticks\":\"\",\"title\":{\"standoff\":15},\"zerolinecolor\":\"white\",\"automargin\":true,\"zerolinewidth\":2},\"scene\":{\"xaxis\":{\"backgroundcolor\":\"#E5ECF6\",\"gridcolor\":\"white\",\"linecolor\":\"white\",\"showbackground\":true,\"ticks\":\"\",\"zerolinecolor\":\"white\",\"gridwidth\":2},\"yaxis\":{\"backgroundcolor\":\"#E5ECF6\",\"gridcolor\":\"white\",\"linecolor\":\"white\",\"showbackground\":true,\"ticks\":\"\",\"zerolinecolor\":\"white\",\"gridwidth\":2},\"zaxis\":{\"backgroundcolor\":\"#E5ECF6\",\"gridcolor\":\"white\",\"linecolor\":\"white\",\"showbackground\":true,\"ticks\":\"\",\"zerolinecolor\":\"white\",\"gridwidth\":2}},\"shapedefaults\":{\"line\":{\"color\":\"#2a3f5f\"}},\"annotationdefaults\":{\"arrowcolor\":\"#2a3f5f\",\"arrowhead\":0,\"arrowwidth\":1},\"geo\":{\"bgcolor\":\"white\",\"landcolor\":\"#E5ECF6\",\"subunitcolor\":\"white\",\"showland\":true,\"showlakes\":true,\"lakecolor\":\"white\"},\"title\":{\"x\":0.05},\"mapbox\":{\"style\":\"light\"}}},\"scene\":{\"domain\":{\"x\":[0.0,1.0],\"y\":[0.0,1.0]},\"xaxis\":{\"title\":{\"text\":\"0\"}},\"yaxis\":{\"title\":{\"text\":\"1\"}},\"zaxis\":{\"title\":{\"text\":\"2\"}}},\"legend\":{\"title\":{\"text\":\"color\"},\"tracegroupgap\":0},\"margin\":{\"t\":60}},                        {\"responsive\": true}                    ).then(function(){\n",
              "                            \n",
              "var gd = document.getElementById('093c8107-7c7a-452e-be7e-96518e4cfe4a');\n",
              "var x = new MutationObserver(function (mutations, observer) {{\n",
              "        var display = window.getComputedStyle(gd).display;\n",
              "        if (!display || display === 'none') {{\n",
              "            console.log([gd, 'removed!']);\n",
              "            Plotly.purge(gd);\n",
              "            observer.disconnect();\n",
              "        }}\n",
              "}});\n",
              "\n",
              "// Listen for the removal of the full notebook cells\n",
              "var notebookContainer = gd.closest('#notebook-container');\n",
              "if (notebookContainer) {{\n",
              "    x.observe(notebookContainer, {childList: true});\n",
              "}}\n",
              "\n",
              "// Listen for the clearing of the current output cell\n",
              "var outputEl = gd.closest('.output');\n",
              "if (outputEl) {{\n",
              "    x.observe(outputEl, {childList: true});\n",
              "}}\n",
              "\n",
              "                        })                };                            </script>        </div>\n",
              "</body>\n",
              "</html>"
            ]
          },
          "metadata": {},
          "output_type": "display_data"
        }
      ],
      "source": [
        "# @title\n",
        "fig = px.scatter_3d(\n",
        "    projections_umap, x=0, y=1, z=2,\n",
        "    color=labels, hover_data=[image_paths]\n",
        ")\n",
        "fig.update_traces(marker_size=8)\n",
        "fig.show()"
      ]
    },
    {
      "cell_type": "markdown",
      "metadata": {
        "id": "P3OgAWtf89B8"
      },
      "source": [
        "*Some clusters are formed for images - the cropped images for the same image are very close to each other and the copies images with other operations are very close to each other. Different images with similar operations are also pretty close to each other.*"
      ]
    },
    {
      "cell_type": "markdown",
      "metadata": {
        "id": "7p3g6Kml9Xi2"
      },
      "source": [
        "### CLIP embeddings and Visualization"
      ]
    },
    {
      "cell_type": "code",
      "execution_count": null,
      "metadata": {
        "cellView": "form",
        "id": "7C_q8f9rEtcd"
      },
      "outputs": [],
      "source": [
        "@title\n",
        "def compute_similarity_for_images(path1, path2):\n",
        "  # embedding extraciton process\n",
        "  image1 = Image.open(path1)\n",
        "  inputs1 = processor(images=image1, return_tensors=\"pt\").to(device)\n",
        "  image2 = Image.open(path2)\n",
        "  inputs2 = processor(images=image2, return_tensors=\"pt\").to(device)\n",
        "\n",
        "  with torch.no_grad():\n",
        "      embedding1 = model.get_image_features(**inputs1)\n",
        "      embedding2 = model.get_image_features(**inputs2)\n",
        "      #embedding1 = embedding1.flatten()\n",
        "\n",
        "  # Move the tensor to the CPU\n",
        "  embedding1 = embedding1.cpu()\n",
        "  embedding2 = embedding2.cpu()\n",
        "\n",
        "  # Convert the CPU tensor to a NumPy array\n",
        "  embedding1 = embedding1.numpy()\n",
        "  embedding2 = embedding2.numpy()\n",
        "\n",
        "  distance, path =  fastdtw(embedding1, embedding2, dist=cosine)\n",
        "  similarity_score = 1 / (1 + distance)  # Higher score indicates higher similarity\n",
        "  return similarity_score\n",
        "  # print(f\"\\nSimilarity Score for image {path1} and {path2} is : {similarity_score}.\")"
      ]
    },
    {
      "cell_type": "code",
      "execution_count": null,
      "metadata": {
        "cellView": "form",
        "id": "rWDawfVYFI6M"
      },
      "outputs": [],
      "source": [
        "@title\n",
        "original_basepath = '/content/drive/My Drive/DL project/data_plain/r/r'\n",
        "import torch\n",
        "import os\n",
        "import numpy as np\n",
        "from sys import stdout\n",
        "\n",
        "def get_edited_folders():\n",
        "  return ['bordered/#000', 'bordered/#fff', 'cropped/center', 'cropped/left_half', 'cropped/lower_half', 'cropped/lowerleft_quarter', 'cropped/lowerright_quarter', 'cropped/right_half', 'cropped/upper_half', 'cropped/upperleft_quarter', 'cropped/upperright_quarter', 'filtered/aden', 'filtered/inkwell', 'filtered/lofi', 'mirrored', 'rotated/45', 'rotated/90', 'rotated/180']\n",
        "\n",
        "def get_edited_filepaths(original_filepath):\n",
        "  filepaths = []\n",
        "  original_basepath, original_filename = os.path.split(os.path.abspath(original_filepath))\n",
        "  edited_basepath = original_basepath.replace('data_plain', 'data_prepared')\n",
        "  edited_folders = get_edited_folders()\n",
        "  for folder in edited_folders:\n",
        "    filepaths.append(f'{edited_basepath}/{folder}/{original_filename}')\n",
        "  return filepaths"
      ]
    },
    {
      "cell_type": "code",
      "execution_count": null,
      "metadata": {
        "cellView": "form",
        "id": "osqN3BEbE9JC"
      },
      "outputs": [],
      "source": [
        "# @title\n",
        "def compute_embeddings_for_images(path):\n",
        "  # embedding extraciton process\n",
        "  image1 = Image.open(path)\n",
        "  inputs = processor(images=image1, return_tensors=\"pt\").to(device)\n",
        "\n",
        "  with torch.no_grad():\n",
        "      embedding = model.get_image_features(**inputs)\n",
        "\n",
        "  # Move the tensor to the CPU\n",
        "  embedding = embedding.cpu()\n",
        "\n",
        "  # Convert the CPU tensor to a NumPy array\n",
        "  embedding = embedding.numpy()\n",
        "  return embedding"
      ]
    },
    {
      "cell_type": "code",
      "execution_count": null,
      "metadata": {
        "cellView": "form",
        "id": "RImoFBzx-0Rg"
      },
      "outputs": [],
      "source": [
        "# @title\n",
        "embeddings = []\n",
        "for path in image_paths:\n",
        "  embeddings.append(compute_embeddings_for_images(path))"
      ]
    },
    {
      "cell_type": "markdown",
      "metadata": {
        "id": "WOdZ7aEY9d0o"
      },
      "source": [
        "#### Visualisation using T-SNE"
      ]
    },
    {
      "cell_type": "code",
      "execution_count": null,
      "metadata": {
        "cellView": "form",
        "id": "i6J-HAI6_dPO"
      },
      "outputs": [],
      "source": [
        "# @title\n",
        "# features extracted from image\n",
        "embeddings_arr = np.array(embeddings)"
      ]
    },
    {
      "cell_type": "code",
      "execution_count": null,
      "metadata": {
        "cellView": "form",
        "id": "3wxDwFa6_ySr"
      },
      "outputs": [],
      "source": [
        "# @title\n",
        "from sklearn.decomposition import PCA\n",
        "clip_embeddings_reshaped = np.reshape(embeddings_arr, (76, 512))\n",
        "# Apply PCA to reduce dimensionality\n",
        "pca = PCA(n_components=50)  # Choose the number of principal components\n",
        "clip_embeddings_pca = pca.fit_transform(clip_embeddings_reshaped)\n"
      ]
    },
    {
      "cell_type": "code",
      "execution_count": null,
      "metadata": {
        "cellView": "form",
        "colab": {
          "base_uri": "https://localhost:8080/"
        },
        "collapsed": true,
        "id": "wqSl4uFg9dNw",
        "outputId": "22cb5feb-55ab-47de-ff47-0246dffae7d5"
      },
      "outputs": [
        {
          "name": "stdout",
          "output_type": "stream",
          "text": [
            "generating projections with T-SNE took: 1.83 sec\n"
          ]
        }
      ],
      "source": [
        "# @title\n",
        "start = time.time()\n",
        "tsne = TSNE(n_components = 3, random_state=0)\n",
        "projections = tsne.fit_transform(clip_embeddings_pca)\n",
        "end = time.time()\n",
        "print(f\"generating projections with T-SNE took: {(end-start):.2f} sec\")"
      ]
    },
    {
      "cell_type": "code",
      "execution_count": null,
      "metadata": {
        "cellView": "form",
        "collapsed": true,
        "id": "iryZHb2UAQyX"
      },
      "outputs": [],
      "source": [
        "# @title\n",
        "import plotly.express as px\n",
        "fig = px.scatter_3d(\n",
        "    projections, x=0, y=1, z=2,\n",
        "    color=labels, hover_data=[image_paths]\n",
        ")\n",
        "fig.update_traces(marker_size=8)\n",
        "fig.show()"
      ]
    },
    {
      "cell_type": "markdown",
      "metadata": {
        "id": "QqxSwp3fBJZS"
      },
      "source": [
        "*We can see that thge clusters are very distinguishable as compared to before. There are however overlap between different images and some modified images are a little further than there source image.*"
      ]
    },
    {
      "cell_type": "markdown",
      "metadata": {
        "id": "IbxPCbMOAs7s"
      },
      "source": [
        "#### Visualization Using UMAP"
      ]
    },
    {
      "cell_type": "code",
      "execution_count": null,
      "metadata": {
        "cellView": "form",
        "collapsed": true,
        "id": "3RHdeXD5AzBv"
      },
      "outputs": [],
      "source": [
        "# @title\n",
        "start = time.time()\n",
        "projections_umap_clip = umap.UMAP(n_components=3).fit_transform(clip_embeddings_pca)\n",
        "end = time.time()\n",
        "print(f\"generating projections with UMAP took: {(end-start):.2f} sec\")"
      ]
    },
    {
      "cell_type": "code",
      "execution_count": null,
      "metadata": {
        "cellView": "form",
        "collapsed": true,
        "id": "WFz1FcjuA4AR"
      },
      "outputs": [],
      "source": [
        "# @title\n",
        "fig = px.scatter_3d(\n",
        "    projections_umap_clip, x=0, y=1, z=2,\n",
        "    color=labels, hover_data=[image_paths]\n",
        ")\n",
        "fig.update_traces(marker_size=8)\n",
        "fig.show()"
      ]
    },
    {
      "cell_type": "markdown",
      "metadata": {
        "id": "1q7ODpZqBbD2"
      },
      "source": [
        "*Damnn!! This is crazy. The clusters are so well formed and are easily differentiable.*"
      ]
    },
    {
      "cell_type": "markdown",
      "metadata": {
        "id": "Crh7VqntFdd1"
      },
      "source": [
        "### Using cosine similarity to detect duplicates"
      ]
    },
    {
      "cell_type": "code",
      "execution_count": null,
      "metadata": {
        "id": "J8SSvy6KFhu3"
      },
      "outputs": [],
      "source": [
        "import numpy as np\n",
        "\n",
        "def normalize(vec: np.ndarray):\n",
        "    return vec / np.linalg.norm(vec, axis=1, keepdims=True)"
      ]
    },
    {
      "cell_type": "code",
      "execution_count": null,
      "metadata": {
        "id": "lEcIm9mAFk0w"
      },
      "outputs": [],
      "source": [
        "clip_embeddings_reshaped = np.reshape(embeddings, (76, 512))\n",
        "normalized_embeddings = normalize(clip_embeddings_reshaped)\n",
        "cosine_sim_matrix = np.dot(normalized_embeddings, normalized_embeddings.T)"
      ]
    },
    {
      "cell_type": "code",
      "execution_count": null,
      "metadata": {
        "colab": {
          "base_uri": "https://localhost:8080/",
          "height": 1000
        },
        "id": "voFOfLfEHFU0",
        "outputId": "e0a65ed4-7c53-4171-cac2-684714be1853"
      },
      "outputs": [
        {
          "data": {
            "text/html": [
              "<html>\n",
              "<head><meta charset=\"utf-8\" /></head>\n",
              "<body>\n",
              "    <div>            <script src=\"https://cdnjs.cloudflare.com/ajax/libs/mathjax/2.7.5/MathJax.js?config=TeX-AMS-MML_SVG\"></script><script type=\"text/javascript\">if (window.MathJax && window.MathJax.Hub && window.MathJax.Hub.Config) {window.MathJax.Hub.Config({SVG: {font: \"STIX-Web\"}});}</script>                <script type=\"text/javascript\">window.PlotlyConfig = {MathJaxConfig: 'local'};</script>\n",
              "        <script charset=\"utf-8\" src=\"https://cdn.plot.ly/plotly-2.24.1.min.js\"></script>                <div id=\"3626baa4-16f6-42ea-9b48-56e9239833bd\" class=\"plotly-graph-div\" style=\"height:1000px; width:1000px;\"></div>            <script type=\"text/javascript\">                                    window.PLOTLYENV=window.PLOTLYENV || {};                                    if (document.getElementById(\"3626baa4-16f6-42ea-9b48-56e9239833bd\")) {                    Plotly.newPlot(                        \"3626baa4-16f6-42ea-9b48-56e9239833bd\",                        [{\"colorscale\":[[0.0,\"#440154\"],[0.1111111111111111,\"#482878\"],[0.2222222222222222,\"#3e4989\"],[0.3333333333333333,\"#31688e\"],[0.4444444444444444,\"#26828e\"],[0.5555555555555556,\"#1f9e89\"],[0.6666666666666666,\"#35b779\"],[0.7777777777777778,\"#6ece58\"],[0.8888888888888888,\"#b5de2b\"],[1.0,\"#fde725\"]],\"z\":[[1.0,0.3878089487552643,0.46039536595344543,0.4829080104827881,0.9339810013771057,0.39739376306533813,0.46739983558654785,0.49881380796432495,0.9327816367149353,0.4022202491760254,0.4679792821407318,0.5076813697814941,0.9222486019134521,0.39495304226875305,0.4780603051185608,0.4557444751262665,0.9028804302215576,0.37560999393463135,0.4391332268714905,0.4752503037452698,0.8940216302871704,0.37768274545669556,0.40830594301223755,0.4771762788295746,0.8145803213119507,0.400867223739624,0.5083642601966858,0.46496737003326416,0.867226243019104,0.4174194633960724,0.44110915064811707,0.5542250275611877,0.8952234983444214,0.35361579060554504,0.5334763526916504,0.5594967603683472,0.9274492263793945,0.3675963282585144,0.5660887956619263,0.5548853278160095,0.9088789224624634,0.3381175100803375,0.5537015199661255,0.5511727333068848,0.8890673518180847,0.3455048203468323,0.5855405926704407,0.5432090759277344,0.9545656442642212,0.3930787146091461,0.4440307021141052,0.5042799115180969,0.8201563954353333,0.3868507146835327,0.5029320120811462,0.48626333475112915,0.9441615343093872,0.3757815361022949,0.47439849376678467,0.5132580399513245,0.9917851686477661,0.3714301288127899,0.42511269450187683,0.5004119873046875,0.8891397714614868,0.4171472191810608,0.493805855512619,0.487807959318161,0.93038010597229,0.38590842485427856,0.5186922550201416,0.48473984003067017,0.8544451594352722,0.3734408915042877,0.4748580753803253,0.49903610348701477],[0.3878089487552643,1.0000003576278687,0.38000237941741943,0.42526257038116455,0.43340036273002625,0.9630115032196045,0.36899781227111816,0.4556032717227936,0.41468650102615356,0.9590014219284058,0.35269084572792053,0.44234615564346313,0.38319194316864014,0.9075493812561035,0.3791617453098297,0.46555858850479126,0.427325963973999,0.8329885005950928,0.35475945472717285,0.4748276472091675,0.4077926278114319,0.8082535266876221,0.5285612344741821,0.48809877038002014,0.3402359187602997,0.6963510513305664,0.39637309312820435,0.4473196268081665,0.3432464599609375,0.6798197627067566,0.4472663104534149,0.4410157799720764,0.41410547494888306,0.7101906538009644,0.36017856001853943,0.42887189984321594,0.3764307498931885,0.7860954999923706,0.3943946957588196,0.4238177537918091,0.3822876214981079,0.7130099534988403,0.36324647068977356,0.40585818886756897,0.4097123444080353,0.7014678120613098,0.3851861357688904,0.3571508526802063,0.41550078988075256,0.9802610874176025,0.3713932931423187,0.4427981972694397,0.3669547140598297,0.8956276774406433,0.4386896789073944,0.43247154355049133,0.3844093382358551,0.9596868753433228,0.42751777172088623,0.45227131247520447,0.38005512952804565,0.9346896409988403,0.33518895506858826,0.4400290846824646,0.3802286982536316,0.8878249526023865,0.34899356961250305,0.45878875255584717,0.3787185251712799,0.8445374965667725,0.40969225764274597,0.44273269176483154,0.375791072845459,0.7421412467956543,0.3514467477798462,0.4825022220611572],[0.46039536595344543,0.38000237941741943,1.0,0.3430832624435425,0.5288956165313721,0.40214020013809204,0.9230053424835205,0.3609660863876343,0.5130500793457031,0.40336066484451294,0.9258438348770142,0.36073923110961914,0.4242759943008423,0.3629070520401001,0.830021858215332,0.35755690932273865,0.499038964509964,0.3792487382888794,0.736933171749115,0.36993706226348877,0.48552262783050537,0.38763052225112915,0.765475869178772,0.3622855246067047,0.43382003903388977,0.4009911119937897,0.7406078577041626,0.35701557993888855,0.4658384621143341,0.37911760807037354,0.6454298496246338,0.39807718992233276,0.47744256258010864,0.3530409038066864,0.7095186710357666,0.40749868750572205,0.4280014634132385,0.36307594180107117,0.7534226775169373,0.3978412449359894,0.4435611367225647,0.3177674114704132,0.6593441963195801,0.4013122320175171,0.48084378242492676,0.370011568069458,0.6476135849952698,0.3767993748188019,0.49720340967178345,0.39864447712898254,0.9614471793174744,0.3480489253997803,0.4374677240848541,0.3759298026561737,0.8378878831863403,0.3318173587322235,0.4425322115421295,0.3870689272880554,0.9344340562820435,0.3591206669807434,0.45171281695365906,0.38831132650375366,0.9410784244537354,0.3510574996471405,0.46801650524139404,0.39689844846725464,0.8517115116119385,0.3782922029495239,0.46021151542663574,0.4059692621231079,0.8908281922340393,0.3560645282268524,0.5039685368537903,0.4233653247356415,0.8693224191665649,0.3875603675842285],[0.4829080104827881,0.42526257038116455,0.3430832624435425,1.0,0.5190393328666687,0.4187282621860504,0.3398839831352234,0.9318925738334656,0.5413872599601746,0.43033304810523987,0.35433682799339294,0.9542661309242249,0.4866564869880676,0.39739739894866943,0.39734378457069397,0.9360644817352295,0.513159990310669,0.390158474445343,0.3498813807964325,0.9457622766494751,0.5050519704818726,0.471165269613266,0.35944122076034546,0.9264822006225586,0.4820109009742737,0.4416946768760681,0.38339006900787354,0.922711968421936,0.4419606029987335,0.49072882533073425,0.3920573592185974,0.8431311249732971,0.5183517932891846,0.45256730914115906,0.45960384607315063,0.888702929019928,0.49658340215682983,0.38911592960357666,0.499258816242218,0.9138226509094238,0.5412979125976562,0.35271260142326355,0.46593645215034485,0.8910305500030518,0.5301014184951782,0.4032430350780487,0.49451595544815063,0.7803062200546265,0.496757447719574,0.41886425018310547,0.35674479603767395,0.9821394681930542,0.43698132038116455,0.4056738018989563,0.37054502964019775,0.907959520816803,0.4698406755924225,0.40849098563194275,0.3566460609436035,0.959538459777832,0.4821704924106598,0.420491099357605,0.3060796558856964,0.9890669584274292,0.4650254547595978,0.479268878698349,0.3663017153739929,0.9158639311790466,0.4986909031867981,0.48272186517715454,0.4125879406929016,0.9278059005737305,0.5687804818153381,0.5150966644287109,0.38038039207458496,0.9044073820114136],[0.9339810013771057,0.43340036273002625,0.5288956165313721,0.5190393328666687,1.000000238418579,0.4672185480594635,0.5422418713569641,0.5871385931968689,0.982822060585022,0.47025737166404724,0.5387966632843018,0.5789247155189514,0.873289942741394,0.4415876567363739,0.5412296056747437,0.5030739307403564,0.8979087471961975,0.42352133989334106,0.4953053891658783,0.5244874954223633,0.8932269811630249,0.43133726716041565,0.4722916781902313,0.5176315903663635,0.8108620643615723,0.4513077437877655,0.5530905723571777,0.5115695595741272,0.8492180109024048,0.47740161418914795,0.5109258890151978,0.611304521560669,0.888206422328949,0.4240964353084564,0.6070969104766846,0.606757402420044,0.8680464625358582,0.4176813066005707,0.6510409116744995,0.6043659448623657,0.8715986013412476,0.3660392761230469,0.6318117380142212,0.5976922512054443,0.8657853007316589,0.3985045552253723,0.6616519093513489,0.6013344526290894,0.933469831943512,0.43398967385292053,0.5222803950309753,0.5410346984863281,0.8433354496955872,0.4529399871826172,0.5940441489219666,0.5484021902084351,0.9204258918762207,0.442720890045166,0.5523138642311096,0.5623602867126465,0.9312392473220825,0.4172275960445404,0.4837267994880676,0.5380821228027344,0.8984360694885254,0.48950549960136414,0.5773681402206421,0.5558401942253113,0.8827348947525024,0.466685026884079,0.582828938961029,0.5376349687576294,0.8464986085891724,0.45154285430908203,0.538496196269989,0.5571371912956238],[0.39739376306533813,0.9630115032196045,0.40214020013809204,0.4187282621860504,0.4672185480594635,1.0,0.40409988164901733,0.4698735475540161,0.44134289026260376,0.993677020072937,0.3812469244003296,0.446297287940979,0.4018775224685669,0.9075483083724976,0.41268789768218994,0.47060590982437134,0.439304918050766,0.8417476415634155,0.3888671100139618,0.4820312261581421,0.4496228098869324,0.8224690556526184,0.5396908521652222,0.48411181569099426,0.3805835545063019,0.7278127670288086,0.4300672113895416,0.46274876594543457,0.3747529685497284,0.725252628326416,0.4745461940765381,0.4524281919002533,0.44178178906440735,0.7364534735679626,0.4030075669288635,0.43720781803131104,0.38881513476371765,0.7872465252876282,0.42714831233024597,0.4331625699996948,0.3985094130039215,0.7206276655197144,0.401516854763031,0.40912750363349915,0.41839396953582764,0.7226991057395935,0.43246933817863464,0.37621796131134033,0.42672300338745117,0.9490041136741638,0.39264217019081116,0.4412253499031067,0.3978433310985565,0.8988010287284851,0.47013920545578003,0.4383298456668854,0.4136633574962616,0.9557747840881348,0.4512624144554138,0.45714813470840454,0.38943833112716675,0.9130719900131226,0.3546930253505707,0.4357779026031494,0.4231607913970947,0.9153434038162231,0.38758575916290283,0.4761284291744232,0.3993350565433502,0.8774330615997314,0.4307588040828705,0.4554412066936493,0.3917456567287445,0.7645089626312256,0.3720550537109375,0.4905669689178467],[0.46739983558654785,0.36899781227111816,0.9230053424835205,0.3398839831352234,0.5422418713569641,0.40409988164901733,1.0,0.38425907492637634,0.5211522579193115,0.40390920639038086,0.984736442565918,0.3763318955898285,0.4381099045276642,0.35690373182296753,0.8110926151275635,0.3581964373588562,0.486397385597229,0.381929486989975,0.7123291492462158,0.37158045172691345,0.4985259175300598,0.38195088505744934,0.7049741148948669,0.3640075922012329,0.44103315472602844,0.4199155569076538,0.7220257520675659,0.3676721751689911,0.4683842062950134,0.40533775091171265,0.61008220911026,0.41062748432159424,0.4861127734184265,0.34209927916526794,0.7024269104003906,0.40914490818977356,0.44187644124031067,0.36463046073913574,0.7280895709991455,0.39959898591041565,0.44979310035705566,0.3184344470500946,0.6514570116996765,0.3919178545475006,0.4716981053352356,0.3631216883659363,0.6405942440032959,0.3923327326774597,0.4881705045700073,0.3856404423713684,0.9068877696990967,0.3483343720436096,0.4390040338039398,0.3720667362213135,0.8126586079597473,0.3312106430530548,0.45378875732421875,0.3683713674545288,0.8578698039054871,0.3653877377510071,0.4571785628795624,0.3800382912158966,0.91302490234375,0.3494320809841156,0.4917759895324707,0.4088762700557709,0.8332074880599976,0.3990890681743622,0.47110360860824585,0.41289591789245605,0.8559454679489136,0.36511293053627014,0.4844491183757782,0.4335441291332245,0.8180481195449829,0.39566314220428467],[0.49881380796432495,0.4556032717227936,0.3609660863876343,0.9318925738334656,0.5871385931968689,0.4698735475540161,0.38425907492637634,0.9999996423721313,0.5906111598014832,0.47773611545562744,0.3879817724227905,0.9719916582107544,0.5040016770362854,0.43207696080207825,0.429975688457489,0.8917312622070312,0.5374622941017151,0.43237197399139404,0.3840627074241638,0.9060618281364441,0.5342155694961548,0.5170913934707642,0.39735329151153564,0.8910880088806152,0.5237830877304077,0.46780914068222046,0.42074131965637207,0.8887249231338501,0.4767134487628937,0.5416746735572815,0.44317036867141724,0.8573732376098633,0.5555175542831421,0.49915099143981934,0.5005611181259155,0.8730182647705078,0.5153802633285522,0.41157644987106323,0.5467395186424255,0.886290431022644,0.5621429681777954,0.38132616877555847,0.537553608417511,0.8676648736000061,0.5495810508728027,0.44206762313842773,0.556404173374176,0.7947192192077637,0.5282682180404663,0.4447212815284729,0.38859933614730835,0.9264181852340698,0.5124565362930298,0.462028443813324,0.44853299856185913,0.9054147005081177,0.5138535499572754,0.4568459391593933,0.393768310546875,0.9296173453330994,0.4941536486148834,0.45072829723358154,0.327889084815979,0.935668408870697,0.5163787603378296,0.5348643064498901,0.4075860381126404,0.9094935059547424,0.5104420185089111,0.5513768792152405,0.441394567489624,0.9146208763122559,0.5791528224945068,0.5697214603424072,0.4103783667087555,0.8998568058013916],[0.9327816367149353,0.41468650102615356,0.5130500793457031,0.5413872599601746,0.982822060585022,0.44134289026260376,0.5211522579193115,0.5906111598014832,1.000000238418579,0.45480817556381226,0.5330131649971008,0.6074469685554504,0.872117280960083,0.4095768332481384,0.510406494140625,0.5066814422607422,0.8885301351547241,0.3924681544303894,0.4598051905632019,0.5271167159080505,0.8765465617179871,0.4113708436489105,0.4342675805091858,0.5158333778381348,0.7901729345321655,0.4299200773239136,0.5243878960609436,0.5083949565887451,0.828464925289154,0.4481329619884491,0.4810625910758972,0.6143955588340759,0.8694595098495483,0.3974309265613556,0.5828689932823181,0.6160774827003479,0.865013599395752,0.3987746238708496,0.6281692981719971,0.6189649105072021,0.8652836084365845,0.3374291658401489,0.6025521755218506,0.6111445426940918,0.8596916794776917,0.36672335863113403,0.6263882517814636,0.6048363447189331,0.9309758543968201,0.41511696577072144,0.5136814117431641,0.5592170357704163,0.8165335059165955,0.4269987642765045,0.5635362863540649,0.5561969876289368,0.9013636708259583,0.4141910672187805,0.525969386100769,0.5704897046089172,0.9306658506393433,0.39665693044662476,0.46099853515625,0.5541519522666931,0.8761765360832214,0.4666135311126709,0.5522477626800537,0.5553142428398132,0.8730560541152954,0.43541446328163147,0.5609799027442932,0.5427507162094116,0.842350423336029,0.42963361740112305,0.5161371827125549,0.5608326196670532],[0.4022202491760254,0.9590014219284058,0.40336066484451294,0.43033304810523987,0.47025737166404724,0.993677020072937,0.40390920639038086,0.47773611545562744,0.45480817556381226,1.0,0.3882116973400116,0.4621800482273102,0.40531089901924133,0.8998037576675415,0.4116872549057007,0.47483497858047485,0.44560763239860535,0.8386452198028564,0.38331568241119385,0.4877527356147766,0.4480248987674713,0.821603536605835,0.5353870391845703,0.4876371920108795,0.3776058554649353,0.7170860767364502,0.4276134669780731,0.46642521023750305,0.3726691007614136,0.7196779251098633,0.47269850969314575,0.4605206847190857,0.4416559934616089,0.7309926152229309,0.40236085653305054,0.4465675950050354,0.38915079832077026,0.7898849248886108,0.4272433817386627,0.4438648819923401,0.40239936113357544,0.7138348817825317,0.3948809504508972,0.42282623052597046,0.42324963212013245,0.7133114337921143,0.425905704498291,0.38435599207878113,0.4314112961292267,0.9435388445854187,0.39932727813720703,0.4512241780757904,0.39151251316070557,0.8972021341323853,0.46807312965393066,0.4475248456001282,0.4102674424648285,0.9505230188369751,0.45105963945388794,0.4659020006656647,0.39465421438217163,0.9102256298065186,0.35416898131370544,0.44465962052345276,0.4201186001300812,0.9129335880279541,0.38563090562820435,0.47949737310409546,0.3994376063346863,0.8706539869308472,0.42720699310302734,0.4610579013824463,0.3972841501235962,0.7663100957870483,0.36595258116722107,0.49719440937042236],[0.4679792821407318,0.35269084572792053,0.9258438348770142,0.35433682799339294,0.5387966632843018,0.3812469244003296,0.984736442565918,0.3879817724227905,0.5330131649971008,0.3882116973400116,0.9999997615814209,0.3951837420463562,0.4321334958076477,0.33320701122283936,0.8071390390396118,0.3571115732192993,0.48108071088790894,0.35977903008461,0.7031605839729309,0.3693391680717468,0.4836135804653168,0.3677569627761841,0.6977653503417969,0.36294445395469666,0.4318995177745819,0.4029618799686432,0.7155671119689941,0.36261868476867676,0.45566537976264954,0.3818219304084778,0.5985380411148071,0.4113953113555908,0.4731404483318329,0.32687869668006897,0.6935617923736572,0.4156349003314972,0.4340139627456665,0.35083192586898804,0.7237335443496704,0.4051057994365692,0.44504374265670776,0.3052579462528229,0.6433919668197632,0.3986637592315674,0.4641394317150116,0.34668245911598206,0.6272177696228027,0.39148715138435364,0.49014782905578613,0.37236487865448,0.9202627539634705,0.35944870114326477,0.42276424169540405,0.35613012313842773,0.8114364147186279,0.3369944989681244,0.4456460475921631,0.3506900668144226,0.8618007302284241,0.3710227310657501,0.4588037431240082,0.3638318181037903,0.9148986339569092,0.35946348309516907,0.4830971956253052,0.3896799683570862,0.8239743709564209,0.3995811641216278,0.4653565585613251,0.39351511001586914,0.8495718240737915,0.3701644241809845,0.4863244891166687,0.4187982976436615,0.814569354057312,0.3921118378639221],[0.5076813697814941,0.44234615564346313,0.36073923110961914,0.9542661309242249,0.5789247155189514,0.446297287940979,0.3763318955898285,0.9719916582107544,0.6074469685554504,0.4621800482273102,0.3951837420463562,0.9999998211860657,0.5114042162895203,0.4037303924560547,0.41156965494155884,0.8845118284225464,0.5377042889595032,0.40268248319625854,0.3500465452671051,0.8949673175811768,0.5220946669578552,0.49211958050727844,0.3851897418498993,0.8751554489135742,0.5118722319602966,0.4376249313354492,0.39462724328041077,0.8673141002655029,0.46132394671440125,0.49885255098342896,0.43911874294281006,0.8520141243934631,0.546668291091919,0.4687766432762146,0.49373507499694824,0.8847827315330505,0.5196201801300049,0.3985486328601837,0.5256359577178955,0.9017822742462158,0.5608762502670288,0.37104931473731995,0.4985203742980957,0.8774838447570801,0.5500394105911255,0.42400801181793213,0.5234395861625671,0.8024303317070007,0.5251121520996094,0.4373897612094879,0.39278554916381836,0.9368160963058472,0.467502623796463,0.4281330704689026,0.4177734851837158,0.8880510926246643,0.4924999177455902,0.42788806557655334,0.3740447163581848,0.9222479462623596,0.504847526550293,0.4355721175670624,0.3212631344795227,0.9481141567230225,0.5029301643371582,0.5096868872642517,0.40107274055480957,0.8934841752052307,0.515708863735199,0.5059418678283691,0.4310508370399475,0.9015356302261353,0.5685746669769287,0.5276947617530823,0.3952457308769226,0.8761709332466125],[0.9222486019134521,0.38319194316864014,0.4242759943008423,0.4866564869880676,0.873289942741394,0.4018775224685669,0.4381099045276642,0.5040016770362854,0.872117280960083,0.40531089901924133,0.4321334958076477,0.5114042162895203,0.9999996423721313,0.4219004511833191,0.4837666153907776,0.4821327328681946,0.9363104104995728,0.3899480104446411,0.44456008076667786,0.4995003938674927,0.9064965844154358,0.390659898519516,0.4169827699661255,0.499066561460495,0.8460887670516968,0.3995031714439392,0.526740550994873,0.4947926700115204,0.8368856906890869,0.4246941804885864,0.4627096652984619,0.5709876418113708,0.9349458813667297,0.38681483268737793,0.5583386421203613,0.5624350309371948,0.9698168635368347,0.3705626130104065,0.5446709394454956,0.5661250948905945,0.9358828663825989,0.354165643453598,0.5461381673812866,0.5517670512199402,0.8925915956497192,0.38277512788772583,0.5984646081924438,0.5603796243667603,0.8731982707977295,0.38852232694625854,0.40725240111351013,0.5098223090171814,0.7613965272903442,0.38599705696105957,0.48164039850234985,0.4826600253582001,0.8835467100143433,0.37637895345687866,0.43742501735687256,0.5135353207588196,0.9284937381744385,0.36825767159461975,0.3854221701622009,0.5069529414176941,0.8916959166526794,0.4340163469314575,0.47810932993888855,0.504016101360321,0.9329620599746704,0.39644676446914673,0.48810991644859314,0.4948301613330841,0.8274965882301331,0.38600099086761475,0.43761321902275085,0.5139428973197937],[0.39495304226875305,0.9075493812561035,0.3629070520401001,0.39739739894866943,0.4415876567363739,0.9075483083724976,0.35690373182296753,0.43207696080207825,0.4095768332481384,0.8998037576675415,0.33320701122283936,0.4037303924560547,0.4219004511833191,0.9999998807907104,0.4205353558063507,0.45889347791671753,0.45412594079971313,0.8404491543769836,0.4035285711288452,0.4706483483314514,0.45870575308799744,0.7854178547859192,0.5281474590301514,0.48693788051605225,0.39428049325942993,0.6782662868499756,0.43561598658561707,0.45902758836746216,0.37673574686050415,0.7288308143615723,0.47173142433166504,0.4671483635902405,0.45930755138397217,0.7614470720291138,0.4004349410533905,0.4386437237262726,0.4114927053451538,0.7784714698791504,0.41426071524620056,0.437865674495697,0.415634423494339,0.7270872592926025,0.42106878757476807,0.4144803285598755,0.43754762411117554,0.7220984697341919,0.4396269619464874,0.39937618374824524,0.42185020446777344,0.8955817818641663,0.3580743670463562,0.42399919033050537,0.4078662395477295,0.8481171131134033,0.4393603801727295,0.41492658853530884,0.4196458160877228,0.9002267718315125,0.418348491191864,0.43053126335144043,0.39022424817085266,0.8640040159225464,0.3280235528945923,0.4167752265930176,0.4421675503253937,0.8481506109237671,0.3592589497566223,0.4700060784816742,0.42420250177383423,0.8157875537872314,0.39182040095329285,0.4436158239841461,0.40090301632881165,0.7196786403656006,0.3479244112968445,0.47828757762908936],[0.4780603051185608,0.3791617453098297,0.830021858215332,0.39734378457069397,0.5412296056747437,0.41268789768218994,0.8110926151275635,0.429975688457489,0.510406494140625,0.4116872549057007,0.8071390390396118,0.41156965494155884,0.4837666153907776,0.4205353558063507,1.0,0.4427904188632965,0.5510361194610596,0.4284508526325226,0.8651658892631531,0.45193663239479065,0.5585238337516785,0.4029368758201599,0.8051652908325195,0.4419131278991699,0.5415591597557068,0.42878398299217224,0.8336844444274902,0.446435809135437,0.5237320065498352,0.4499346613883972,0.6459505558013916,0.5111492872238159,0.5615899562835693,0.427740216255188,0.7631712555885315,0.5148910880088806,0.4957609176635742,0.388545423746109,0.8002603054046631,0.49449577927589417,0.53267902135849,0.3783949315547943,0.7473227977752686,0.4932597279548645,0.539307177066803,0.41454535722732544,0.7678832411766052,0.5256800055503845,0.5118411779403687,0.39223212003707886,0.8302077054977417,0.40724676847457886,0.4847998023033142,0.4032268524169922,0.7692732810974121,0.40268346667289734,0.49489378929138184,0.3925451636314392,0.7856506109237671,0.4184117317199707,0.47403478622436523,0.3803110420703888,0.8298096656799316,0.4188496172428131,0.5457899570465088,0.4215802550315857,0.7778522968292236,0.4609360992908478,0.5254285931587219,0.4293765723705292,0.7929219603538513,0.4441438913345337,0.5442637205123901,0.4521636962890625,0.7611190676689148,0.4740797281265259],[0.4557444751262665,0.46555858850479126,0.35755690932273865,0.9360644817352295,0.5030739307403564,0.47060590982437134,0.3581964373588562,0.8917312622070312,0.5066814422607422,0.47483497858047485,0.3571115732192993,0.8845118284225464,0.4821327328681946,0.45889347791671753,0.4427904188632965,1.0,0.49658653140068054,0.43944060802459717,0.40949320793151855,0.9807310104370117,0.5067344307899475,0.49287450313568115,0.3935498297214508,0.9369016289710999,0.4743589460849762,0.5080083608627319,0.4246348738670349,0.9359548091888428,0.43117451667785645,0.5461865663528442,0.42995959520339966,0.8257052898406982,0.509867250919342,0.4928562045097351,0.46915292739868164,0.8831815123558044,0.4820003807544708,0.4033014476299286,0.5257566571235657,0.9031670093536377,0.5219525098800659,0.3933832347393036,0.5013272762298584,0.842342734336853,0.5061211585998535,0.4387573301792145,0.5312638282775879,0.7805507183074951,0.4673853814601898,0.4510490894317627,0.3630599081516266,0.933029055595398,0.44597163796424866,0.4467219412326813,0.3992771506309509,0.8610232472419739,0.47756510972976685,0.4581432342529297,0.3805820941925049,0.9217734336853027,0.4558088779449463,0.46319928765296936,0.32454049587249756,0.9466015100479126,0.48425719141960144,0.5290428996086121,0.39911872148513794,0.9230285882949829,0.4871588349342346,0.5301903486251831,0.43286651372909546,0.9087244272232056,0.5392025709152222,0.5364493131637573,0.4090403616428375,0.9072822332382202],[0.9028804302215576,0.427325963973999,0.499038964509964,0.513159990310669,0.8979087471961975,0.439304918050766,0.486397385597229,0.5374622941017151,0.8885301351547241,0.44560763239860535,0.48108071088790894,0.5377042889595032,0.9363104104995728,0.45412594079971313,0.5510361194610596,0.49658653140068054,0.9999998807907104,0.455974280834198,0.5054470300674438,0.5259597897529602,0.9174690246582031,0.4642186164855957,0.49973371624946594,0.5409986972808838,0.8660968542098999,0.42516785860061646,0.5798234939575195,0.5223555564880371,0.8629019856452942,0.46340540051460266,0.4975661039352417,0.6325441598892212,0.9530784487724304,0.4424252212047577,0.6159051060676575,0.6069964170455933,0.9262982606887817,0.4425904452800751,0.6273512840270996,0.6028550267219543,0.9444310665130615,0.3764207065105438,0.6210636496543884,0.6109585165977478,0.9467152953147888,0.4183013439178467,0.6564394235610962,0.5904909372329712,0.9039141535758972,0.4357805550098419,0.4798295199871063,0.5350621938705444,0.7881402969360352,0.4415166676044464,0.5425108075141907,0.5358381271362305,0.8692671060562134,0.42715826630592346,0.5199180841445923,0.5437425374984741,0.9114720821380615,0.41081470251083374,0.4523829221725464,0.5321167707443237,0.8757164478302002,0.46509069204330444,0.5286459922790527,0.5284594297409058,0.9129141569137573,0.43597573041915894,0.5633842349052429,0.5166966319084167,0.8537395596504211,0.43670129776000977,0.5046876072883606,0.546493411064148],[0.37560999393463135,0.8329885005950928,0.3792487382888794,0.390158474445343,0.42352133989334106,0.8417476415634155,0.381929486989975,0.43237197399139404,0.3924681544303894,0.8386452198028564,0.35977903008461,0.40268248319625854,0.3899480104446411,0.8404491543769836,0.4284508526325226,0.43944060802459717,0.455974280834198,1.0,0.42495980858802795,0.4640941023826599,0.4400412142276764,0.7666953802108765,0.5269303321838379,0.47954609990119934,0.3977589011192322,0.7217944860458374,0.4681470990180969,0.4498089551925659,0.4077098071575165,0.7375540733337402,0.4458140730857849,0.4734054207801819,0.45224523544311523,0.7444486618041992,0.42170393466949463,0.4368607699871063,0.38346073031425476,0.7973476052284241,0.4269038438796997,0.44104188680648804,0.4111933708190918,0.7835214138031006,0.4372718930244446,0.4390498101711273,0.4422595500946045,0.7251560091972351,0.4497576057910919,0.389490008354187,0.41697970032691956,0.8243129253387451,0.37989822030067444,0.39971494674682617,0.3930981159210205,0.766666054725647,0.440432608127594,0.4246888756752014,0.39617499709129333,0.8245257139205933,0.430206298828125,0.410898357629776,0.37597307562828064,0.8234066963195801,0.3565499186515808,0.40820538997650146,0.4017724394798279,0.8114619255065918,0.377896785736084,0.4368841052055359,0.39199724793434143,0.7990115284919739,0.42418354749679565,0.4348808825016022,0.3929140567779541,0.7663516998291016,0.37787365913391113,0.47284775972366333],[0.4391332268714905,0.35475945472717285,0.736933171749115,0.3498813807964325,0.4953053891658783,0.3888671100139618,0.7123291492462158,0.3840627074241638,0.4598051905632019,0.38331568241119385,0.7031605839729309,0.3500465452671051,0.44456008076667786,0.4035285711288452,0.8651658892631531,0.40949320793151855,0.5054470300674438,0.42495980858802795,1.0000001192092896,0.41497543454170227,0.531093180179596,0.3848406970500946,0.7437682747840881,0.4126041829586029,0.5288687944412231,0.4084484577178955,0.8982142210006714,0.42295920848846436,0.501474916934967,0.42382270097732544,0.5379201173782349,0.45938557386398315,0.5111337304115295,0.3972408175468445,0.5876449942588806,0.4615711569786072,0.44021081924438477,0.35497912764549255,0.6563447117805481,0.44022783637046814,0.47162631154060364,0.412080317735672,0.7179569005966187,0.4398083984851837,0.46923238039016724,0.447265625,0.6692240238189697,0.47708451747894287,0.465300977230072,0.3778771758079529,0.7402331829071045,0.35751423239707947,0.47548964619636536,0.3716753125190735,0.691677451133728,0.3655450940132141,0.4763320982456207,0.38129568099975586,0.6724182367324829,0.3675645887851715,0.430843710899353,0.3539711833000183,0.7749889492988586,0.3669945299625397,0.5370707511901855,0.3861737847328186,0.6858199834823608,0.429085910320282,0.49116235971450806,0.41174983978271484,0.6674209237098694,0.40682289004325867,0.527803897857666,0.42071840167045593,0.6831787824630737,0.4394211173057556],[0.4752503037452698,0.4748276472091675,0.36993706226348877,0.9457622766494751,0.5244874954223633,0.4820312261581421,0.37158045172691345,0.9060618281364441,0.5271167159080505,0.4877527356147766,0.3693391680717468,0.8949673175811768,0.4995003938674927,0.4706483483314514,0.45193663239479065,0.9807310104370117,0.5259597897529602,0.4640941023826599,0.41497543454170227,1.000000238418579,0.5332357883453369,0.5216925144195557,0.4030401408672333,0.9488970041275024,0.5010346174240112,0.5224738717079163,0.4320867359638214,0.956824541091919,0.4621942639350891,0.5665749907493591,0.4426168203353882,0.8512424826622009,0.5368059873580933,0.5061025619506836,0.4991919994354248,0.8838137984275818,0.5036893486976624,0.4251192808151245,0.5514150261878967,0.9093317985534668,0.5490890741348267,0.3991866707801819,0.528847873210907,0.8696063160896301,0.5373338460922241,0.4536594748497009,0.5596029758453369,0.7758621573448181,0.4932910203933716,0.4624209403991699,0.37618476152420044,0.9421123266220093,0.4663412272930145,0.464292049407959,0.4149080812931061,0.8776001930236816,0.4919445216655731,0.46443334221839905,0.39621174335479736,0.9318996667861938,0.4755244255065918,0.47294414043426514,0.3333956003189087,0.9503329992294312,0.49855130910873413,0.5378623008728027,0.41276657581329346,0.9306274652481079,0.5078726410865784,0.545791745185852,0.44865429401397705,0.9267809391021729,0.566599428653717,0.5597065091133118,0.4231601655483246,0.9309260845184326],[0.8940216302871704,0.4077926278114319,0.48552262783050537,0.5050519704818726,0.8932269811630249,0.4496228098869324,0.4985259175300598,0.5342155694961548,0.8765465617179871,0.4480248987674713,0.4836135804653168,0.5220946669578552,0.9064965844154358,0.45870575308799744,0.5585238337516785,0.5067344307899475,0.9174690246582031,0.4400412142276764,0.531093180179596,0.5332357883453369,0.9999997615814209,0.4471331536769867,0.46615031361579895,0.5355230569839478,0.9160079956054688,0.48491448163986206,0.5948154330253601,0.5494441390037537,0.917768120765686,0.5043392181396484,0.51954585313797,0.6306830644607544,0.9323992133140564,0.4406445324420929,0.6338800191879272,0.6105273962020874,0.8876782655715942,0.40706732869148254,0.6369743347167969,0.6084080934524536,0.8988906145095825,0.4016296863555908,0.6566351652145386,0.59945148229599,0.8778005838394165,0.4359857738018036,0.7013391256332397,0.6148830056190491,0.8822156190872192,0.40863704681396484,0.46760094165802,0.5319438576698303,0.8148871660232544,0.4296736717224121,0.5565434694290161,0.5306703448295593,0.9005424380302429,0.41509807109832764,0.5057192444801331,0.5386947393417358,0.896977424621582,0.39997127652168274,0.44908902049064636,0.5273364782333374,0.9094718098640442,0.47863584756851196,0.5547492504119873,0.5569416284561157,0.9230402708053589,0.4631803333759308,0.5491276383399963,0.530387818813324,0.8499961495399475,0.4554536044597626,0.5066314339637756,0.5561850666999817],[0.37768274545669556,0.8082535266876221,0.38763052225112915,0.471165269613266,0.43133726716041565,0.8224690556526184,0.38195088505744934,0.5170913934707642,0.4113708436489105,0.821603536605835,0.3677569627761841,0.49211958050727844,0.390659898519516,0.7854178547859192,0.4029368758201599,0.49287450313568115,0.4642186164855957,0.7666953802108765,0.3848406970500946,0.5216925144195557,0.4471331536769867,1.0000001192092896,0.5342957973480225,0.5454623103141785,0.4319184124469757,0.7816638946533203,0.4508664011955261,0.5141867995262146,0.41285982728004456,0.7836612462997437,0.48920029401779175,0.5462813377380371,0.45229578018188477,0.762007474899292,0.44125983119010925,0.49659463763237,0.38165977597236633,0.6699460744857788,0.47650864720344543,0.4997471570968628,0.41515660285949707,0.5826880931854248,0.46751531958580017,0.5046349167823792,0.44785216450691223,0.6860260963439941,0.47195959091186523,0.4315727651119232,0.42063555121421814,0.8051385879516602,0.38693350553512573,0.4930739402770996,0.3932532072067261,0.7857851386070251,0.47311651706695557,0.5139756798744202,0.3828938603401184,0.818142831325531,0.440706729888916,0.5063748359680176,0.3763785660266876,0.7664076685905457,0.34267377853393555,0.48666733503341675,0.3858853280544281,0.8497604727745056,0.37165188789367676,0.5098505020141602,0.3805310130119324,0.8531359434127808,0.43185317516326904,0.5103180408477783,0.409208208322525,0.7698817253112793,0.3748345971107483,0.5394295454025269],[0.40830594301223755,0.5285612344741821,0.765475869178772,0.35944122076034546,0.4722916781902313,0.5396908521652222,0.7049741148948669,0.39735329151153564,0.4342675805091858,0.5353870391845703,0.6977653503417969,0.3851897418498993,0.4169827699661255,0.5281474590301514,0.8051652908325195,0.3935498297214508,0.49973371624946594,0.5269303321838379,0.7437682747840881,0.4030401408672333,0.46615031361579895,0.5342957973480225,0.9999998807907104,0.395452618598938,0.45568835735321045,0.4222220182418823,0.755168616771698,0.37430620193481445,0.4428245425224304,0.4372921586036682,0.7919541001319885,0.4548899531364441,0.4800078570842743,0.47448843717575073,0.6360309720039368,0.4603364169597626,0.4163304269313812,0.4279037117958069,0.6382765769958496,0.4331410229206085,0.44252946972846985,0.46076875925064087,0.6068778038024902,0.434383362531662,0.4643392562866211,0.5470953583717346,0.6275336742401123,0.46093887090682983,0.44880640506744385,0.5450131893157959,0.7813035249710083,0.36206015944480896,0.40957072377204895,0.525036633014679,0.7556086778640747,0.3525022864341736,0.4152194857597351,0.544718861579895,0.7511868476867676,0.36615270376205444,0.4083605706691742,0.5056970715522766,0.7372869253158569,0.37251120805740356,0.4652283787727356,0.5102702975273132,0.6678950786590576,0.3875192403793335,0.4503180980682373,0.5303975343704224,0.6791380047798157,0.3874512314796448,0.46505874395370483,0.47649088501930237,0.6671873927116394,0.41852498054504395],[0.4771762788295746,0.48809877038002014,0.3622855246067047,0.9264822006225586,0.5176315903663635,0.48411181569099426,0.3640075922012329,0.8910880088806152,0.5158333778381348,0.4876371920108795,0.36294445395469666,0.8751554489135742,0.499066561460495,0.48693788051605225,0.4419131278991699,0.9369016289710999,0.5409986972808838,0.47954609990119934,0.4126041829586029,0.9488970041275024,0.5355230569839478,0.5454623103141785,0.395452618598938,1.0,0.5150704979896545,0.5282444953918457,0.43977463245391846,0.9756687879562378,0.4766926169395447,0.581910252571106,0.4209529161453247,0.8768424987792969,0.5539343357086182,0.5249884724617004,0.4970839321613312,0.8696937561035156,0.5068209171295166,0.45494675636291504,0.5463018417358398,0.8830776214599609,0.5572033524513245,0.4243873357772827,0.5378162264823914,0.8557441234588623,0.5542657971382141,0.46630632877349854,0.5639485716819763,0.7423434257507324,0.5032239556312561,0.4767000079154968,0.3692924678325653,0.9300397634506226,0.48225483298301697,0.47781848907470703,0.4148789644241333,0.9005703330039978,0.49616727232933044,0.4734926223754883,0.4020302891731262,0.9254571199417114,0.47663557529449463,0.48550355434417725,0.3330220878124237,0.9314919710159302,0.5014642477035522,0.5406601428985596,0.3987504839897156,0.9355545043945312,0.512850284576416,0.5511482954025269,0.4442337155342102,0.9091094732284546,0.5781140327453613,0.5763306617736816,0.4115760624408722,0.9100860357284546],[0.8145803213119507,0.3402359187602997,0.43382003903388977,0.4820109009742737,0.8108620643615723,0.3805835545063019,0.44103315472602844,0.5237830877304077,0.7901729345321655,0.3776058554649353,0.4318995177745819,0.5118722319602966,0.8460887670516968,0.39428049325942993,0.5415591597557068,0.4743589460849762,0.8660968542098999,0.3977589011192322,0.5288687944412231,0.5010346174240112,0.9160079956054688,0.4319184124469757,0.45568835735321045,0.5150704979896545,0.9999998807907104,0.4390788674354553,0.5832286477088928,0.5315080881118774,0.8966375589370728,0.4842330813407898,0.5324846506118774,0.6302900314331055,0.9100301861763,0.43805670738220215,0.6437103748321533,0.5940940380096436,0.8312876224517822,0.3580322861671448,0.6221500635147095,0.5868469476699829,0.8690118193626404,0.3883265554904938,0.6779648065567017,0.5821135640144348,0.8307071924209595,0.415188729763031,0.7226452231407166,0.6164613962173462,0.8015400767326355,0.3450452983379364,0.42663639783859253,0.5024063587188721,0.7389798164367676,0.36689484119415283,0.5076577663421631,0.5144142508506775,0.8264681100845337,0.3595014810562134,0.4536318778991699,0.5128481388092041,0.8231855630874634,0.33103132247924805,0.4013521671295166,0.5027703046798706,0.8581299781799316,0.414850652217865,0.5215760469436646,0.5359662771224976,0.8801226615905762,0.4164242744445801,0.5002859234809875,0.5198599696159363,0.8260523676872253,0.41553473472595215,0.4754064083099365,0.5294771790504456],[0.400867223739624,0.6963510513305664,0.4009911119937897,0.4416946768760681,0.4513077437877655,0.7278127670288086,0.4199155569076538,0.46780914068222046,0.4299200773239136,0.7170860767364502,0.4029618799686432,0.4376249313354492,0.3995031714439392,0.6782662868499756,0.42878398299217224,0.5080083608627319,0.42516785860061646,0.7217944860458374,0.4084484577178955,0.5224738717079163,0.48491448163986206,0.7816638946533203,0.4222220182418823,0.5282444953918457,0.4390788674354553,0.9999998807907104,0.4786094129085541,0.5243551731109619,0.4204702377319336,0.7915838956832886,0.42866525053977966,0.5060575008392334,0.44936758279800415,0.7038300633430481,0.46765226125717163,0.49320662021636963,0.3857894837856293,0.6191729307174683,0.5131389498710632,0.5031463503837585,0.40406662225723267,0.5814505815505981,0.5067148208618164,0.4714012145996094,0.42127177119255066,0.6396312713623047,0.5162961483001709,0.4340461790561676,0.4320395588874817,0.6899677515029907,0.3939239978790283,0.46734723448753357,0.4060172438621521,0.6457292437553406,0.4392452836036682,0.4823418855667114,0.4298166334629059,0.69808030128479,0.4452650249004364,0.48770469427108765,0.3948529362678528,0.698212742805481,0.36689770221710205,0.46292644739151,0.44272372126579285,0.7568519711494446,0.4354083836078644,0.5155043601989746,0.41507455706596375,0.7859628200531006,0.47005295753479004,0.49293333292007446,0.4214155077934265,0.7382323741912842,0.4191019833087921,0.5205096006393433],[0.5083642601966858,0.39637309312820435,0.7406078577041626,0.38339006900787354,0.5530905723571777,0.4300672113895416,0.7220257520675659,0.42074131965637207,0.5243878960609436,0.4276134669780731,0.7155671119689941,0.39462724328041077,0.526740550994873,0.43561598658561707,0.8336844444274902,0.4246348738670349,0.5798234939575195,0.4681470990180969,0.8982142210006714,0.4320867359638214,0.5948154330253601,0.4508664011955261,0.755168616771698,0.43977463245391846,0.5832286477088928,0.4786094129085541,1.0000003576278687,0.44685086607933044,0.5602592825889587,0.4717637896537781,0.5211679935455322,0.49205178022384644,0.5829432606697083,0.44659245014190674,0.6192772388458252,0.48804527521133423,0.5119736194610596,0.4009556174278259,0.6628390550613403,0.46760836243629456,0.5386844873428345,0.4244195222854614,0.7019323110580444,0.4593876302242279,0.5487945675849915,0.4779777526855469,0.6712020635604858,0.48566704988479614,0.5363174676895142,0.4256892204284668,0.7415786981582642,0.3953733444213867,0.5259276032447815,0.4183909595012665,0.6956832408905029,0.39707839488983154,0.528138279914856,0.4228968918323517,0.7012859582901001,0.4038762152194977,0.5055350065231323,0.3939463198184967,0.7520835399627686,0.4006687104701996,0.5765029788017273,0.4412226974964142,0.6858527660369873,0.4507595896720886,0.5416017174720764,0.4642801284790039,0.7018477916717529,0.4293147921562195,0.5540464520454407,0.47676539421081543,0.6575030088424683,0.45421186089515686],[0.46496737003326416,0.4473196268081665,0.35701557993888855,0.922711968421936,0.5115695595741272,0.46274876594543457,0.3676721751689911,0.8887249231338501,0.5083949565887451,0.46642521023750305,0.36261868476867676,0.8673141002655029,0.4947926700115204,0.45902758836746216,0.446435809135437,0.9359548091888428,0.5223555564880371,0.4498089551925659,0.42295920848846436,0.956824541091919,0.5494441390037537,0.5141867995262146,0.37430620193481445,0.9756687879562378,0.5315080881118774,0.5243551731109619,0.44685086607933044,0.9999997615814209,0.48682960867881775,0.5721641182899475,0.41865992546081543,0.8597933053970337,0.5509146451950073,0.4985044002532959,0.5047101974487305,0.8565052151679993,0.501044511795044,0.4228403568267822,0.5414190888404846,0.8794152140617371,0.5490024089813232,0.40303343534469604,0.5412026047706604,0.846438467502594,0.5377076268196106,0.44444283843040466,0.5732420086860657,0.749882161617279,0.4844639003276825,0.436233788728714,0.36186426877975464,0.9260878562927246,0.477272093296051,0.44877898693084717,0.4082185626029968,0.8911101818084717,0.4957529902458191,0.43977123498916626,0.389040470123291,0.9184001684188843,0.46346527338027954,0.45211324095726013,0.3301827311515808,0.9270418882369995,0.5125359296798706,0.5247763395309448,0.4086400866508484,0.9407364130020142,0.5126096606254578,0.5311943888664246,0.4346664547920227,0.9099888205528259,0.569663405418396,0.5553592443466187,0.4066825211048126,0.9095292091369629],[0.867226243019104,0.3432464599609375,0.4658384621143341,0.4419606029987335,0.8492180109024048,0.3747529685497284,0.4683842062950134,0.4767134487628937,0.828464925289154,0.3726691007614136,0.45566537976264954,0.46132394671440125,0.8368856906890869,0.37673574686050415,0.5237320065498352,0.43117451667785645,0.8629019856452942,0.4077098071575165,0.501474916934967,0.4621942639350891,0.917768120765686,0.41285982728004456,0.4428245425224304,0.4766926169395447,0.8966375589370728,0.4204702377319336,0.5602592825889587,0.48682960867881775,0.9999998807907104,0.44673383235931396,0.48898184299468994,0.5748705863952637,0.8779897689819336,0.3934365510940552,0.6120918393135071,0.5455946922302246,0.8322826027870178,0.37338244915008545,0.6233621835708618,0.5416243076324463,0.8518198728561401,0.3623045086860657,0.6426514983177185,0.5461838245391846,0.8387057781219482,0.38124650716781616,0.6752001047134399,0.5494072437286377,0.8644603490829468,0.3485608994960785,0.4452274739742279,0.46661731600761414,0.8132822513580322,0.3647036850452423,0.5277442932128906,0.4793170094490051,0.8853133320808411,0.35375845432281494,0.4948263168334961,0.47532448172569275,0.8774222135543823,0.3325766324996948,0.42690688371658325,0.4637608528137207,0.8339089751243591,0.405495285987854,0.5266563296318054,0.4851745069026947,0.8580146431922913,0.3901785910129547,0.5291654467582703,0.4741821885108948,0.8161145448684692,0.3965657353401184,0.4940914809703827,0.49096620082855225],[0.4174194633960724,0.6798197627067566,0.37911760807037354,0.49072882533073425,0.47740161418914795,0.725252628326416,0.40533775091171265,0.5416746735572815,0.4481329619884491,0.7196779251098633,0.3818219304084778,0.49885255098342896,0.4246941804885864,0.7288308143615723,0.4499346613883972,0.5461865663528442,0.46340540051460266,0.7375540733337402,0.42382270097732544,0.5665749907493591,0.5043392181396484,0.7836612462997437,0.4372921586036682,0.581910252571106,0.4842330813407898,0.7915838956832886,0.4717637896537781,0.5721641182899475,0.44673383235931396,1.000000238418579,0.46012091636657715,0.5837263464927673,0.500432014465332,0.855694055557251,0.4947565197944641,0.5419248938560486,0.4144858717918396,0.6800320744514465,0.5174816846847534,0.5546862483024597,0.4435963034629822,0.6471136808395386,0.5454401969909668,0.5383734703063965,0.45803770422935486,0.751162052154541,0.545139491558075,0.5042672157287598,0.453674852848053,0.6644089221954346,0.3821216821670532,0.5125128030776978,0.4652175307273865,0.6952999830245972,0.46384209394454956,0.5526352524757385,0.46068450808525085,0.7120135426521301,0.4379000961780548,0.530082643032074,0.41447311639785767,0.7197240591049194,0.3472177982330322,0.5070858001708984,0.47626927495002747,0.8024145364761353,0.42830437421798706,0.5871692299842834,0.4505384564399719,0.8225476741790771,0.441936194896698,0.5523704290390015,0.4596612751483917,0.8175081610679626,0.40499234199523926,0.5782581567764282],[0.44110915064811707,0.4472663104534149,0.6454298496246338,0.3920573592185974,0.5109258890151978,0.4745461940765381,0.61008220911026,0.44317036867141724,0.4810625910758972,0.47269850969314575,0.5985380411148071,0.43911874294281006,0.4627096652984619,0.47173142433166504,0.6459505558013916,0.42995959520339966,0.4975661039352417,0.4458140730857849,0.5379201173782349,0.4426168203353882,0.51954585313797,0.48920029401779175,0.7919541001319885,0.4209529161453247,0.5324846506118774,0.42866525053977966,0.5211679935455322,0.41865992546081543,0.48898184299468994,0.46012091636657715,0.9999997019767761,0.5301991105079651,0.5371125936508179,0.46548962593078613,0.8030382394790649,0.5210994482040405,0.46229326725006104,0.35025376081466675,0.7276431918144226,0.49610722064971924,0.4917284846305847,0.4246141314506531,0.6645021438598633,0.48088645935058594,0.4824047088623047,0.5113433599472046,0.7551199197769165,0.5708972215652466,0.4637168049812317,0.4509594142436981,0.6735342741012573,0.4032883942127228,0.4300946593284607,0.4498586058616638,0.6948822736740112,0.40169036388397217,0.4775548279285431,0.46152442693710327,0.6770006418228149,0.4165879487991333,0.4436572194099426,0.4318588376045227,0.5956976413726807,0.4109421968460083,0.5249218940734863,0.4825877547264099,0.6977300047874451,0.44922685623168945,0.5090295672416687,0.5023161172866821,0.6287491321563721,0.42048338055610657,0.46490198373794556,0.4242842495441437,0.6449360847473145,0.43771353363990784],[0.5542250275611877,0.4410157799720764,0.39807718992233276,0.8431311249732971,0.611304521560669,0.4524281919002533,0.41062748432159424,0.8573732376098633,0.6143955588340759,0.4605206847190857,0.4113953113555908,0.8520141243934631,0.5709876418113708,0.4671483635902405,0.5111492872238159,0.8257052898406982,0.6325441598892212,0.4734054207801819,0.45938557386398315,0.8512424826622009,0.6306830644607544,0.5462813377380371,0.4548899531364441,0.8768424987792969,0.6302900314331055,0.5060575008392334,0.49205178022384644,0.8597933053970337,0.5748705863952637,0.5837263464927673,0.5301991105079651,1.000000238418579,0.6638234853744507,0.5469383001327515,0.6184694766998291,0.9530515670776367,0.5877255797386169,0.4296985864639282,0.6532735824584961,0.9268320798873901,0.6513882279396057,0.3969310522079468,0.6597432494163513,0.9269880056381226,0.6527402997016907,0.45179057121276855,0.693585991859436,0.8565841913223267,0.6031662225723267,0.43222129344940186,0.4306080639362335,0.8565211296081543,0.5659740567207336,0.4649491608142853,0.499270498752594,0.8757803440093994,0.5829311013221741,0.44011402130126953,0.4431312680244446,0.8702585101127625,0.5600581765174866,0.43062955141067505,0.362725168466568,0.856862485408783,0.5801160335540771,0.523912250995636,0.47139284014701843,0.8740659356117249,0.5875270962715149,0.5385345220565796,0.47994285821914673,0.866691529750824,0.6266494989395142,0.5453411936759949,0.43964001536369324,0.8579173684120178],[0.8952234983444214,0.41410547494888306,0.47744256258010864,0.5183517932891846,0.888206422328949,0.44178178906440735,0.4861127734184265,0.5555175542831421,0.8694595098495483,0.4416559934616089,0.4731404483318329,0.546668291091919,0.9349458813667297,0.45930755138397217,0.5615899562835693,0.509867250919342,0.9530784487724304,0.45224523544311523,0.5111337304115295,0.5368059873580933,0.9323992133140564,0.45229578018188477,0.4800078570842743,0.5539343357086182,0.9100301861763,0.44936758279800415,0.5829432606697083,0.5509146451950073,0.8779897689819336,0.500432014465332,0.5371125936508179,0.6638234853744507,1.0,0.4589058458805084,0.6576132774353027,0.6295566558837891,0.9363995790481567,0.4343359172344208,0.6585553288459778,0.6234493851661682,0.9542822241783142,0.4075741767883301,0.6798045635223389,0.6245654821395874,0.9451249241828918,0.4458230137825012,0.7230014801025391,0.6378965377807617,0.8853532075881958,0.4221341609954834,0.4664938747882843,0.5454359650611877,0.7994738221168518,0.43879368901252747,0.5563127994537354,0.5480058193206787,0.8834688663482666,0.420511394739151,0.5070337653160095,0.55553138256073,0.8961403369903564,0.3983314335346222,0.43843019008636475,0.5377469658851624,0.8994594812393188,0.47956958413124084,0.5540497899055481,0.5598233342170715,0.9270143508911133,0.45482972264289856,0.5543296337127686,0.5323052406311035,0.8452969789505005,0.4454972743988037,0.5047260522842407,0.5530456900596619],[0.35361579060554504,0.7101906538009644,0.3530409038066864,0.45256730914115906,0.4240964353084564,0.7364534735679626,0.34209927916526794,0.49915099143981934,0.3974309265613556,0.7309926152229309,0.32687869668006897,0.4687766432762146,0.38681483268737793,0.7614470720291138,0.427740216255188,0.4928562045097351,0.4424252212047577,0.7444486618041992,0.3972408175468445,0.5061025619506836,0.4406445324420929,0.762007474899292,0.47448843717575073,0.5249884724617004,0.43805670738220215,0.7038300633430481,0.44659245014190674,0.4985044002532959,0.3934365510940552,0.855694055557251,0.46548962593078613,0.5469383001327515,0.4589058458805084,0.9999998211860657,0.4669443964958191,0.5146763920783997,0.3782712519168854,0.7458618879318237,0.4647539556026459,0.5190014839172363,0.418488472700119,0.7034759521484375,0.50225430727005,0.5095852613449097,0.4352996051311493,0.8209326267242432,0.4961490035057068,0.47259190678596497,0.3963615298271179,0.7059956789016724,0.35279232263565063,0.47243183851242065,0.3956018090248108,0.7167240381240845,0.43780317902565,0.5131208896636963,0.38903701305389404,0.7515581846237183,0.40973132848739624,0.49379563331604004,0.35749131441116333,0.7186230421066284,0.30469077825546265,0.4726615846157074,0.40230122208595276,0.8031692504882812,0.3759306073188782,0.5221166014671326,0.3930257558822632,0.8338172435760498,0.39855024218559265,0.5093571543693542,0.39138463139533997,0.7980071306228638,0.3584304451942444,0.5262547135353088],[0.5334763526916504,0.36017856001853943,0.7095186710357666,0.45960384607315063,0.6070969104766846,0.4030075669288635,0.7024269104003906,0.5005611181259155,0.5828689932823181,0.40236085653305054,0.6935617923736572,0.49373507499694824,0.5583386421203613,0.4004349410533905,0.7631712555885315,0.46915292739868164,0.6159051060676575,0.42170393466949463,0.5876449942588806,0.4991919994354248,0.6338800191879272,0.44125983119010925,0.6360309720039368,0.4970839321613312,0.6437103748321533,0.46765226125717163,0.6192772388458252,0.5047101974487305,0.6120918393135071,0.4947565197944641,0.8030382394790649,0.6184694766998291,0.6576132774353027,0.4669443964958191,0.9999998807907104,0.5843992829322815,0.569202184677124,0.3830532431602478,0.9017972946166992,0.5658972263336182,0.6149585843086243,0.37917470932006836,0.8244537711143494,0.5747473239898682,0.6140812039375305,0.4397527575492859,0.921384334564209,0.604386568069458,0.5671783089637756,0.3677271604537964,0.6981282234191895,0.4736626148223877,0.5095341801643372,0.38788852095603943,0.7011567950248718,0.48459550738334656,0.5521553754806519,0.36824220418930054,0.748503565788269,0.4885934591293335,0.5377195477485657,0.3564794361591339,0.665668785572052,0.47947633266448975,0.5855552554130554,0.44666579365730286,0.8174981474876404,0.5124244689941406,0.5936252474784851,0.4551551938056946,0.7877375483512878,0.48473623394966125,0.5530250668525696,0.4582263231277466,0.7535210847854614,0.5010192394256592],[0.5594967603683472,0.42887189984321594,0.40749868750572205,0.888702929019928,0.606757402420044,0.43720781803131104,0.40914490818977356,0.8730182647705078,0.6160774827003479,0.4465675950050354,0.4156349003314972,0.8847827315330505,0.5624350309371948,0.4386437237262726,0.5148910880088806,0.8831815123558044,0.6069964170455933,0.4368607699871063,0.4615711569786072,0.8838137984275818,0.6105273962020874,0.49659463763237,0.4603364169597626,0.8696937561035156,0.5940940380096436,0.49320662021636963,0.48804527521133423,0.8565052151679993,0.5455946922302246,0.5419248938560486,0.5210994482040405,0.9530515670776367,0.6295566558837891,0.5146763920783997,0.5843992829322815,0.9999996423721313,0.5792650580406189,0.4150197505950928,0.6321492195129395,0.9693531394004822,0.6376320123672485,0.3885253071784973,0.6271588206291199,0.9492265582084656,0.632297694683075,0.4299367070198059,0.6572332978248596,0.9090259075164795,0.5951107144355774,0.4257828891277313,0.4367632269859314,0.8918232321739197,0.5474554300308228,0.4398617744445801,0.4785141050815582,0.8690183758735657,0.5789541006088257,0.4270508885383606,0.43732890486717224,0.8934574127197266,0.5631563663482666,0.4212924540042877,0.3736640512943268,0.9008294343948364,0.5722205638885498,0.5051800608634949,0.4692544937133789,0.8784624338150024,0.5807325839996338,0.5072137117385864,0.4793662130832672,0.8840503096580505,0.6079824566841125,0.5203404426574707,0.4517427682876587,0.869306206703186],[0.9274492263793945,0.3764307498931885,0.4280014634132385,0.49658340215682983,0.8680464625358582,0.38881513476371765,0.44187644124031067,0.5153802633285522,0.865013599395752,0.38915079832077026,0.4340139627456665,0.5196201801300049,0.9698168635368347,0.4114927053451538,0.4957609176635742,0.4820003807544708,0.9262982606887817,0.38346073031425476,0.44021081924438477,0.5036893486976624,0.8876782655715942,0.38165977597236633,0.4163304269313812,0.5068209171295166,0.8312876224517822,0.3857894837856293,0.5119736194610596,0.501044511795044,0.8322826027870178,0.4144858717918396,0.46229326725006104,0.5877255797386169,0.9363995790481567,0.3782712519168854,0.569202184677124,0.5792650580406189,1.0000001192092896,0.37686532735824585,0.5677492022514343,0.5764796733856201,0.9713881611824036,0.3478999733924866,0.5672658681869507,0.5739354491233826,0.9363694190979004,0.36971381306648254,0.6161330938339233,0.5765920877456665,0.8895806074142456,0.38313403725624084,0.40824490785598755,0.5184365510940552,0.7804969549179077,0.3801531195640564,0.4867607355117798,0.4999719262123108,0.8899545669555664,0.3613501787185669,0.4444500803947449,0.5228583812713623,0.9303975105285645,0.35487040877342224,0.387364000082016,0.5168678760528564,0.8834531903266907,0.4194536805152893,0.48259952664375305,0.5051367282867432,0.93084716796875,0.3803553879261017,0.49959734082221985,0.4962416887283325,0.8229665756225586,0.37212032079696655,0.4506623446941376,0.5133838057518005],[0.3675963282585144,0.7860954999923706,0.36307594180107117,0.38911592960357666,0.4176813066005707,0.7872465252876282,0.36463046073913574,0.41157644987106323,0.3987746238708496,0.7898849248886108,0.35083192586898804,0.3985486328601837,0.3705626130104065,0.7784714698791504,0.388545423746109,0.4033014476299286,0.4425904452800751,0.7973476052284241,0.35497912764549255,0.4251192808151245,0.40706732869148254,0.6699460744857788,0.4279037117958069,0.45494675636291504,0.3580322861671448,0.6191729307174683,0.4009556174278259,0.4228403568267822,0.37338244915008545,0.6800320744514465,0.35025376081466675,0.4296985864639282,0.4343359172344208,0.7458618879318237,0.3830532431602478,0.4150197505950928,0.37686532735824585,1.000000238418579,0.41430461406707764,0.41848453879356384,0.40246254205703735,0.8030502796173096,0.41752883791923523,0.4285205006599426,0.4490194618701935,0.7340096235275269,0.4068484604358673,0.3467709720134735,0.41977229714393616,0.7947408556938171,0.359611839056015,0.40068843960762024,0.3750987946987152,0.7428094148635864,0.38033750653266907,0.4091138243675232,0.37074097990989685,0.7824757099151611,0.4093534052371979,0.4085652232170105,0.36618772149086,0.798940122127533,0.33242303133010864,0.39359015226364136,0.36864179372787476,0.7593564987182617,0.35263434052467346,0.42958295345306396,0.36636415123939514,0.7247748374938965,0.4187714159488678,0.3991854786872864,0.378833144903183,0.7284530401229858,0.3690657615661621,0.4377489686012268],[0.5660887956619263,0.3943946957588196,0.7534226775169373,0.499258816242218,0.6510409116744995,0.42714831233024597,0.7280895709991455,0.5467395186424255,0.6281692981719971,0.4272433817386627,0.7237335443496704,0.5256359577178955,0.5446709394454956,0.41426071524620056,0.8002603054046631,0.5257566571235657,0.6273512840270996,0.4269038438796997,0.6563447117805481,0.5514150261878967,0.6369743347167969,0.47650864720344543,0.6382765769958496,0.5463018417358398,0.6221500635147095,0.5131389498710632,0.6628390550613403,0.5414190888404846,0.6233621835708618,0.5174816846847534,0.7276431918144226,0.6532735824584961,0.6585553288459778,0.4647539556026459,0.9017972946166992,0.6321492195129395,0.5677492022514343,0.41430461406707764,1.0000001192092896,0.6135790944099426,0.6213465929031372,0.35310447216033936,0.8754196166992188,0.6280372142791748,0.6354029774665833,0.4064159691333771,0.9153624773025513,0.6245622634887695,0.620086669921875,0.40307897329330444,0.7412777543067932,0.5189675092697144,0.5624392032623291,0.4299331605434418,0.7467164397239685,0.5403950810432434,0.5915539264678955,0.41429948806762695,0.7914232015609741,0.5475125908851624,0.5629603266716003,0.3913975656032562,0.7001234292984009,0.5212299823760986,0.5923342704772949,0.4674842357635498,0.8272289633750916,0.5562483668327332,0.584683358669281,0.4874592423439026,0.8415053486824036,0.5286419987678528,0.6147478222846985,0.5154246687889099,0.8138951063156128,0.5532824993133545],[0.5548853278160095,0.4238177537918091,0.3978412449359894,0.9138226509094238,0.6043659448623657,0.4331625699996948,0.39959898591041565,0.886290431022644,0.6189649105072021,0.4438648819923401,0.4051057994365692,0.9017822742462158,0.5661250948905945,0.437865674495697,0.49449577927589417,0.9031670093536377,0.6028550267219543,0.44104188680648804,0.44022783637046814,0.9093317985534668,0.6084080934524536,0.4997471570968628,0.4331410229206085,0.8830776214599609,0.5868469476699829,0.5031463503837585,0.46760836243629456,0.8794152140617371,0.5416243076324463,0.5546862483024597,0.49610722064971924,0.9268320798873901,0.6234493851661682,0.5190014839172363,0.5658972263336182,0.9693531394004822,0.5764796733856201,0.41848453879356384,0.6135790944099426,0.9999999403953552,0.6339278221130371,0.3881625831127167,0.6019930839538574,0.9608252048492432,0.6243346333503723,0.4437541365623474,0.6337074041366577,0.9003219604492188,0.5854077339172363,0.42496058344841003,0.42201414704322815,0.9106971025466919,0.547736644744873,0.4329671561717987,0.452951043844223,0.8871179819107056,0.5674417018890381,0.4211462140083313,0.42093920707702637,0.9075844287872314,0.5589770674705505,0.4181540608406067,0.35684701800346375,0.9200689196586609,0.5686225295066833,0.5118827223777771,0.4615587294101715,0.8929648399353027,0.5796383023262024,0.5111501216888428,0.4756889045238495,0.9001890420913696,0.6248791217803955,0.5389917492866516,0.44695717096328735,0.896841287612915],[0.9088789224624634,0.3822876214981079,0.4435611367225647,0.5412979125976562,0.8715986013412476,0.3985094130039215,0.44979310035705566,0.5621429681777954,0.8652836084365845,0.40239936113357544,0.44504374265670776,0.5608762502670288,0.9358828663825989,0.415634423494339,0.53267902135849,0.5219525098800659,0.9444310665130615,0.4111933708190918,0.47162631154060364,0.5490890741348267,0.8988906145095825,0.41515660285949707,0.44252946972846985,0.5572033524513245,0.8690118193626404,0.40406662225723267,0.5386844873428345,0.5490024089813232,0.8518198728561401,0.4435963034629822,0.4917284846305847,0.6513882279396057,0.9542822241783142,0.418488472700119,0.6149585843086243,0.6376320123672485,0.9713881611824036,0.40246254205703735,0.6213465929031372,0.6339278221130371,1.000000238418579,0.3648647665977478,0.6253244876861572,0.6391305923461914,0.9615959525108337,0.3845871388912201,0.6756842136383057,0.6369562149047852,0.8956581950187683,0.38968992233276367,0.425827294588089,0.56429523229599,0.7901932001113892,0.4000544548034668,0.5064084529876709,0.5578045845031738,0.8855043649673462,0.3750726878643036,0.4706647992134094,0.5713928937911987,0.9163931608200073,0.36345043778419495,0.39843568205833435,0.5635015368461609,0.8807693719863892,0.43495064973831177,0.5047866702079773,0.5450912117958069,0.924496591091156,0.40557536482810974,0.5239285230636597,0.5415067672729492,0.8442078828811646,0.4103814661502838,0.4747059941291809,0.5631712079048157],[0.3381175100803375,0.7130099534988403,0.3177674114704132,0.35271260142326355,0.3660392761230469,0.7206276655197144,0.3184344470500946,0.38132616877555847,0.3374291658401489,0.7138348817825317,0.3052579462528229,0.37104931473731995,0.354165643453598,0.7270872592926025,0.3783949315547943,0.3933832347393036,0.3764207065105438,0.7835214138031006,0.412080317735672,0.3991866707801819,0.4016296863555908,0.5826880931854248,0.46076875925064087,0.4243873357772827,0.3883265554904938,0.5814505815505981,0.4244195222854614,0.40303343534469604,0.3623045086860657,0.6471136808395386,0.4246141314506531,0.3969310522079468,0.4075741767883301,0.7034759521484375,0.37917470932006836,0.3885253071784973,0.3478999733924866,0.8030502796173096,0.35310447216033936,0.3881625831127167,0.3648647665977478,0.9999997615814209,0.4172899127006531,0.36466139554977417,0.3628377616405487,0.803875207901001,0.41630223393440247,0.3502956032752991,0.3498295545578003,0.7225416898727417,0.31846389174461365,0.35604166984558105,0.3359537124633789,0.6674563884735107,0.35793817043304443,0.3505299389362335,0.3557382822036743,0.7186427712440491,0.3376253545284271,0.3483302593231201,0.3328697979450226,0.7140844464302063,0.3074995279312134,0.3577568233013153,0.4049816131591797,0.7047293782234192,0.3529065251350403,0.41957107186317444,0.3823776841163635,0.698239803314209,0.3631424605846405,0.3837774991989136,0.3604718744754791,0.6702225208282471,0.3518751263618469,0.4118198752403259],[0.5537015199661255,0.36324647068977356,0.6593441963195801,0.46593645215034485,0.6318117380142212,0.401516854763031,0.6514570116996765,0.537553608417511,0.6025521755218506,0.3948809504508972,0.6433919668197632,0.4985203742980957,0.5461381673812866,0.42106878757476807,0.7473227977752686,0.5013272762298584,0.6210636496543884,0.4372718930244446,0.7179569005966187,0.528847873210907,0.6566351652145386,0.46751531958580017,0.6068778038024902,0.5378162264823914,0.6779648065567017,0.5067148208618164,0.7019323110580444,0.5412026047706604,0.6426514983177185,0.5454401969909668,0.6645021438598633,0.6597432494163513,0.6798045635223389,0.50225430727005,0.8244537711143494,0.6271588206291199,0.5672658681869507,0.41752883791923523,0.8754196166992188,0.6019930839538574,0.6253244876861572,0.4172899127006531,1.0,0.6142978072166443,0.6311591863632202,0.46885544061660767,0.8967283964157104,0.638108491897583,0.620639443397522,0.3869364261627197,0.6651180982589722,0.49164342880249023,0.5957016348838806,0.4086298942565918,0.7069330215454102,0.5197919011116028,0.6060194969177246,0.3933837413787842,0.6907951831817627,0.5035921335220337,0.5528479218482971,0.361333429813385,0.638418436050415,0.48873525857925415,0.6323174238204956,0.4550630748271942,0.7472774982452393,0.5540518760681152,0.599696695804596,0.4836163818836212,0.7353082895278931,0.5083082914352417,0.6194877028465271,0.5115571022033691,0.7397583723068237,0.5394608378410339],[0.5511727333068848,0.40585818886756897,0.4013122320175171,0.8910305500030518,0.5976922512054443,0.40912750363349915,0.3919178545475006,0.8676648736000061,0.6111445426940918,0.42282623052597046,0.3986637592315674,0.8774838447570801,0.5517670512199402,0.4144803285598755,0.4932597279548645,0.842342734336853,0.6109585165977478,0.4390498101711273,0.4398083984851837,0.8696063160896301,0.59945148229599,0.5046349167823792,0.434383362531662,0.8557441234588623,0.5821135640144348,0.4714012145996094,0.4593876302242279,0.846438467502594,0.5461838245391846,0.5383734703063965,0.48088645935058594,0.9269880056381226,0.6245654821395874,0.5095852613449097,0.5747473239898682,0.9492265582084656,0.5739354491233826,0.4285205006599426,0.6280372142791748,0.9608252048492432,0.6391305923461914,0.36466139554977417,0.6142978072166443,1.0000003576278687,0.6410667300224304,0.4281046390533447,0.6416328549385071,0.879120409488678,0.5937454104423523,0.40585440397262573,0.4224643111228943,0.8885865211486816,0.5432288646697998,0.4133152365684509,0.45715585350990295,0.8837305307388306,0.5532950162887573,0.4008261561393738,0.4315350651741028,0.8902016878128052,0.5546254515647888,0.39994552731513977,0.3624327778816223,0.8919495344161987,0.5396555662155151,0.4815807342529297,0.4566943645477295,0.8494520783424377,0.5603792071342468,0.49077489972114563,0.4811844527721405,0.8719247579574585,0.6149890422821045,0.5221161842346191,0.4519813358783722,0.8671009540557861],[0.8890673518180847,0.4097123444080353,0.48084378242492676,0.5301014184951782,0.8657853007316589,0.41839396953582764,0.4716981053352356,0.5495810508728027,0.8596916794776917,0.42324963212013245,0.4641394317150116,0.5500394105911255,0.8925915956497192,0.43754762411117554,0.539307177066803,0.5061211585998535,0.9467152953147888,0.4422595500946045,0.46923238039016724,0.5373338460922241,0.8778005838394165,0.44785216450691223,0.4643392562866211,0.5542657971382141,0.8307071924209595,0.42127177119255066,0.5487945675849915,0.5377076268196106,0.8387057781219482,0.45803770422935486,0.4824047088623047,0.6527402997016907,0.9451249241828918,0.4352996051311493,0.6140812039375305,0.632297694683075,0.9363694190979004,0.4490194618701935,0.6354029774665833,0.6243346333503723,0.9615959525108337,0.3628377616405487,0.6311591863632202,0.6410667300224304,1.0000001192092896,0.3944047689437866,0.6618920564651489,0.613053023815155,0.8985180854797363,0.4183250665664673,0.46305444836616516,0.5520298480987549,0.7913402915000916,0.4259139597415924,0.5255322456359863,0.553655743598938,0.8603743314743042,0.40141761302948,0.5111410617828369,0.5590527057647705,0.8912137150764465,0.3911912739276886,0.42999041080474854,0.5503564476966858,0.8444324731826782,0.4489929676055908,0.515333890914917,0.5314466953277588,0.8927874565124512,0.4202497601509094,0.5554829835891724,0.5239256620407104,0.8278152346611023,0.43041929602622986,0.4933089017868042,0.5484010577201843],[0.3455048203468323,0.7014678120613098,0.370011568069458,0.4032430350780487,0.3985045552253723,0.7226991057395935,0.3631216883659363,0.44206762313842773,0.36672335863113403,0.7133114337921143,0.34668245911598206,0.42400801181793213,0.38277512788772583,0.7220984697341919,0.41454535722732544,0.4387573301792145,0.4183013439178467,0.7251560091972351,0.447265625,0.4536594748497009,0.4359857738018036,0.6860260963439941,0.5470953583717346,0.46630632877349854,0.415188729763031,0.6396312713623047,0.4779777526855469,0.44444283843040466,0.38124650716781616,0.751162052154541,0.5113433599472046,0.45179057121276855,0.4458230137825012,0.8209326267242432,0.4397527575492859,0.4299367070198059,0.36971381306648254,0.7340096235275269,0.4064159691333771,0.4437541365623474,0.3845871388912201,0.803875207901001,0.46885544061660767,0.4281046390533447,0.3944047689437866,1.0,0.46414196491241455,0.41769975423812866,0.3638041317462921,0.7136322259902954,0.3758750855922699,0.40549927949905396,0.3508279323577881,0.6768865585327148,0.42063143849372864,0.4063911736011505,0.36339423060417175,0.7317440509796143,0.3888295888900757,0.4015233516693115,0.3433557450771332,0.6976839303970337,0.3495010733604431,0.4024423062801361,0.4106181263923645,0.7743804454803467,0.39711546897888184,0.45803016424179077,0.3986437916755676,0.7923012971878052,0.404178649187088,0.431925892829895,0.36811909079551697,0.7266544699668884,0.3807457983493805,0.46462225914001465],[0.5855405926704407,0.3851861357688904,0.6476135849952698,0.49451595544815063,0.6616519093513489,0.43246933817863464,0.6405942440032959,0.556404173374176,0.6263882517814636,0.425905704498291,0.6272177696228027,0.5234395861625671,0.5984646081924438,0.4396269619464874,0.7678832411766052,0.5312638282775879,0.6564394235610962,0.4497576057910919,0.6692240238189697,0.5596029758453369,0.7013391256332397,0.47195959091186523,0.6275336742401123,0.5639485716819763,0.7226452231407166,0.5162961483001709,0.6712020635604858,0.5732420086860657,0.6752001047134399,0.545139491558075,0.7551199197769165,0.693585991859436,0.7230014801025391,0.4961490035057068,0.921384334564209,0.6572332978248596,0.6161330938339233,0.4068484604358673,0.9153624773025513,0.6337074041366577,0.6756842136383057,0.41630223393440247,0.8967283964157104,0.6416328549385071,0.6618920564651489,0.46414196491241455,1.0,0.6932332515716553,0.6321554780006409,0.39437335729599,0.6476834416389465,0.5188944935798645,0.6039425134658813,0.41993656754493713,0.7020564079284668,0.5422939658164978,0.6356525421142578,0.3980553150177002,0.7052311301231384,0.5421807169914246,0.5880551338195801,0.3754732608795166,0.6106325387954712,0.5206931233406067,0.6715002655982971,0.4751657545566559,0.7786980867385864,0.5772788524627686,0.6480886936187744,0.4945702850818634,0.7367911338806152,0.5426434278488159,0.6287550330162048,0.4925968647003174,0.7169296741485596,0.5677862763404846],[0.5432090759277344,0.3571508526802063,0.3767993748188019,0.7803062200546265,0.6013344526290894,0.37621796131134033,0.3923327326774597,0.7947192192077637,0.6048363447189331,0.38435599207878113,0.39148715138435364,0.8024303317070007,0.5603796243667603,0.39937618374824524,0.5256800055503845,0.7805507183074951,0.5904909372329712,0.389490008354187,0.47708451747894287,0.7758621573448181,0.6148830056190491,0.4315727651119232,0.46093887090682983,0.7423434257507324,0.6164613962173462,0.4340461790561676,0.48566704988479614,0.749882161617279,0.5494072437286377,0.5042672157287598,0.5708972215652466,0.8565841913223267,0.6378965377807617,0.47259190678596497,0.604386568069458,0.9090259075164795,0.5765920877456665,0.3467709720134735,0.6245622634887695,0.9003219604492188,0.6369562149047852,0.3502956032752991,0.638108491897583,0.879120409488678,0.613053023815155,0.41769975423812866,0.6932332515716553,0.9999998807907104,0.5717658996582031,0.3609100580215454,0.4160767197608948,0.7771161794662476,0.5483832359313965,0.3823412358760834,0.480362206697464,0.7639781832695007,0.5751141309738159,0.36079150438308716,0.410179078578949,0.7771611213684082,0.5448012351989746,0.3509722352027893,0.3544641435146332,0.7914919257164001,0.5900472402572632,0.4503466784954071,0.4758797287940979,0.7645175457000732,0.5818614959716797,0.4632378816604614,0.44170910120010376,0.7841446399688721,0.5882829427719116,0.463138222694397,0.438528835773468,0.7694768309593201],[0.9545656442642212,0.41550078988075256,0.49720340967178345,0.496757447719574,0.933469831943512,0.42672300338745117,0.4881705045700073,0.5282682180404663,0.9309758543968201,0.4314112961292267,0.49014782905578613,0.5251121520996094,0.8731982707977295,0.42185020446777344,0.5118411779403687,0.4673853814601898,0.9039141535758972,0.41697970032691956,0.465300977230072,0.4932910203933716,0.8822156190872192,0.42063555121421814,0.44880640506744385,0.5032239556312561,0.8015400767326355,0.4320395588874817,0.5363174676895142,0.4844639003276825,0.8644603490829468,0.453674852848053,0.4637168049812317,0.6031662225723267,0.8853532075881958,0.3963615298271179,0.5671783089637756,0.5951107144355774,0.8895806074142456,0.41977229714393616,0.620086669921875,0.5854077339172363,0.8956581950187683,0.3498295545578003,0.620639443397522,0.5937454104423523,0.8985180854797363,0.3638041317462921,0.6321554780006409,0.5717658996582031,0.9999997019767761,0.42391130328178406,0.4956948459148407,0.525975227355957,0.8621346950531006,0.4288528859615326,0.5513816475868225,0.5331900119781494,0.9508808255195618,0.41258060932159424,0.5358698964118958,0.5427189469337463,0.9582600593566895,0.4046981632709503,0.451809823513031,0.5169265270233154,0.8786691427230835,0.4459928274154663,0.5188626050949097,0.5125867128372192,0.9012237787246704,0.43060189485549927,0.5573794841766357,0.5101255178451538,0.8655751347541809,0.42674583196640015,0.5103038549423218,0.5271852016448975],[0.3930787146091461,0.9802610874176025,0.39864447712898254,0.41886425018310547,0.43398967385292053,0.9490041136741638,0.3856404423713684,0.4447212815284729,0.41511696577072144,0.9435388445854187,0.37236487865448,0.4373897612094879,0.38852232694625854,0.8955817818641663,0.39223212003707886,0.4510490894317627,0.4357805550098419,0.8243129253387451,0.3778771758079529,0.4624209403991699,0.40863704681396484,0.8051385879516602,0.5450131893157959,0.4767000079154968,0.3450452983379364,0.6899677515029907,0.4256892204284668,0.436233788728714,0.3485608994960785,0.6644089221954346,0.4509594142436981,0.43222129344940186,0.4221341609954834,0.7059956789016724,0.3677271604537964,0.4257828891277313,0.38313403725624084,0.7947408556938171,0.40307897329330444,0.42496058344841003,0.38968992233276367,0.7225416898727417,0.3869364261627197,0.40585440397262573,0.4183250665664673,0.7136322259902954,0.39437335729599,0.3609100580215454,0.42391130328178406,1.000000238418579,0.39514729380607605,0.4350506067276001,0.36750665307044983,0.891594648361206,0.44526711106300354,0.41558897495269775,0.38330262899398804,0.9462378025054932,0.43810588121414185,0.4384174346923828,0.38733625411987305,0.9164102077484131,0.35967087745666504,0.43114349246025085,0.38795289397239685,0.8809500932693481,0.3622552752494812,0.44582608342170715,0.3859976828098297,0.8364074230194092,0.4300725758075714,0.4259416162967682,0.3789173364639282,0.7409768104553223,0.3712025284767151,0.4648236632347107],[0.4440307021141052,0.3713932931423187,0.9614471793174744,0.35674479603767395,0.5222803950309753,0.39264217019081116,0.9068877696990967,0.38859933614730835,0.5136814117431641,0.39932727813720703,0.9202627539634705,0.39278554916381836,0.40725240111351013,0.3580743670463562,0.8302077054977417,0.3630599081516266,0.4798295199871063,0.37989822030067444,0.7402331829071045,0.37618476152420044,0.46760094165802,0.38693350553512573,0.7813035249710083,0.3692924678325653,0.42663639783859253,0.3939239978790283,0.7415786981582642,0.36186426877975464,0.4452274739742279,0.3821216821670532,0.6735342741012573,0.4306080639362335,0.4664938747882843,0.35279232263565063,0.6981282234191895,0.4367632269859314,0.40824490785598755,0.359611839056015,0.7412777543067932,0.42201414704322815,0.425827294588089,0.31846389174461365,0.6651180982589722,0.4224643111228943,0.46305444836616516,0.3758750855922699,0.6476834416389465,0.4160767197608948,0.4956948459148407,0.39514729380607605,0.9999998807907104,0.36763691902160645,0.43188512325286865,0.3707073926925659,0.860497236251831,0.3539009690284729,0.439572274684906,0.3809908628463745,0.9206527471542358,0.37483513355255127,0.4382738769054413,0.3796465992927551,0.9235873222351074,0.365266889333725,0.4673042893409729,0.3954318165779114,0.8266768455505371,0.4052298665046692,0.44977033138275146,0.40677276253700256,0.8393129706382751,0.3772836923599243,0.5008851885795593,0.4184078574180603,0.8236106634140015,0.39875102043151855],[0.5042799115180969,0.4427981972694397,0.3480489253997803,0.9821394681930542,0.5410346984863281,0.4412253499031067,0.3483343720436096,0.9264181852340698,0.5592170357704163,0.4512241780757904,0.35944870114326477,0.9368160963058472,0.5098223090171814,0.42399919033050537,0.40724676847457886,0.933029055595398,0.5350621938705444,0.39971494674682617,0.35751423239707947,0.9421123266220093,0.5319438576698303,0.4930739402770996,0.36206015944480896,0.9300397634506226,0.5024063587188721,0.46734723448753357,0.3953733444213867,0.9260878562927246,0.46661731600761414,0.5125128030776978,0.4032883942127228,0.8565211296081543,0.5454359650611877,0.47243183851242065,0.4736626148223877,0.8918232321739197,0.5184365510940552,0.40068843960762024,0.5189675092697144,0.9106971025466919,0.56429523229599,0.35604166984558105,0.49164342880249023,0.8885865211486816,0.5520298480987549,0.40549927949905396,0.5188944935798645,0.7771161794662476,0.525975227355957,0.4350506067276001,0.36763691902160645,1.000000238418579,0.46494653820991516,0.4258763790130615,0.4003011882305145,0.9185619950294495,0.5061976909637451,0.432767778635025,0.3786056637763977,0.9708404541015625,0.5062462687492371,0.4382559657096863,0.30608680844306946,0.985115110874176,0.49503853917121887,0.4984734058380127,0.3707107603549957,0.9291085004806519,0.5198789834976196,0.506214439868927,0.4209575057029724,0.9320119619369507,0.5908066630363464,0.5270856618881226,0.3825525641441345,0.9100638628005981],[0.8201563954353333,0.3669547140598297,0.4374677240848541,0.43698132038116455,0.8433354496955872,0.3978433310985565,0.4390040338039398,0.5124565362930298,0.8165335059165955,0.39151251316070557,0.42276424169540405,0.467502623796463,0.7613965272903442,0.4078662395477295,0.4847998023033142,0.44597163796424866,0.7881402969360352,0.3930981159210205,0.47548964619636536,0.4663412272930145,0.8148871660232544,0.3932532072067261,0.40957072377204895,0.48225483298301697,0.7389798164367676,0.4060172438621521,0.5259276032447815,0.477272093296051,0.8132822513580322,0.4652175307273865,0.4300946593284607,0.5659740567207336,0.7994738221168518,0.3956018090248108,0.5095341801643372,0.5474554300308228,0.7804969549179077,0.3750987946987152,0.5624392032623291,0.547736644744873,0.7901932001113892,0.3359537124633789,0.5957016348838806,0.5432288646697998,0.7913402915000916,0.3508279323577881,0.6039425134658813,0.5483832359313965,0.8621346950531006,0.36750665307044983,0.43188512325286865,0.46494653820991516,1.000000238418579,0.44778525829315186,0.5645298361778259,0.5480822920799255,0.8866239190101624,0.3910955488681793,0.47820916771888733,0.49495479464530945,0.8148297071456909,0.3529417812824249,0.41423070430755615,0.45822522044181824,0.8185356259346008,0.423056423664093,0.4915270209312439,0.5035639405250549,0.7884460687637329,0.4278309643268585,0.49588173627853394,0.4765624403953552,0.7718708515167236,0.4375526010990143,0.4693528115749359,0.4996562898159027],[0.3868507146835327,0.8956276774406433,0.3759298026561737,0.4056738018989563,0.4529399871826172,0.8988010287284851,0.3720667362213135,0.462028443813324,0.4269987642765045,0.8972021341323853,0.35613012313842773,0.4281330704689026,0.38599705696105957,0.8481171131134033,0.4032268524169922,0.4467219412326813,0.4415166676044464,0.766666054725647,0.3716753125190735,0.464292049407959,0.4296736717224121,0.7857851386070251,0.525036633014679,0.47781848907470703,0.36689484119415283,0.6457292437553406,0.4183909595012665,0.44877898693084717,0.3647036850452423,0.6952999830245972,0.4498586058616638,0.4649491608142853,0.43879368901252747,0.7167240381240845,0.38788852095603943,0.4398617744445801,0.3801531195640564,0.7428094148635864,0.4299331605434418,0.4329671561717987,0.4000544548034668,0.6674563884735107,0.4086298942565918,0.4133152365684509,0.4259139597415924,0.6768865585327148,0.41993656754493713,0.3823412358760834,0.4288528859615326,0.891594648361206,0.3707073926925659,0.4258763790130615,0.44778525829315186,1.000000238418579,0.4885905683040619,0.47191500663757324,0.4150083363056183,0.9227906465530396,0.43340277671813965,0.45468905568122864,0.37653353810310364,0.8362808227539062,0.3393993079662323,0.422255277633667,0.4021659791469574,0.8573530912399292,0.36594635248184204,0.46183067560195923,0.38736918568611145,0.8334057331085205,0.4137488603591919,0.43661096692085266,0.3964742422103882,0.7486928105354309,0.3546493351459503,0.46870526671409607],[0.5029320120811462,0.4386896789073944,0.8378878831863403,0.37054502964019775,0.5940441489219666,0.47013920545578003,0.8126586079597473,0.44853299856185913,0.5635362863540649,0.46807312965393066,0.8114364147186279,0.4177734851837158,0.48164039850234985,0.4393603801727295,0.7692732810974121,0.3992771506309509,0.5425108075141907,0.440432608127594,0.691677451133728,0.4149080812931061,0.5565434694290161,0.47311651706695557,0.7556086778640747,0.4148789644241333,0.5076577663421631,0.4392452836036682,0.6956832408905029,0.4082185626029968,0.5277442932128906,0.46384209394454956,0.6948822736740112,0.499270498752594,0.5563127994537354,0.43780317902565,0.7011567950248718,0.4785141050815582,0.4867607355117798,0.38033750653266907,0.7467164397239685,0.452951043844223,0.5064084529876709,0.35793817043304443,0.7069330215454102,0.45715585350990295,0.5255322456359863,0.42063143849372864,0.7020564079284668,0.480362206697464,0.5513816475868225,0.44526711106300354,0.860497236251831,0.4003011882305145,0.5645298361778259,0.4885905683040619,1.0000003576278687,0.4507170021533966,0.5460653901100159,0.46743109822273254,0.8626244068145752,0.42889994382858276,0.4939282536506653,0.4341794550418854,0.7962878942489624,0.3922801613807678,0.5554183721542358,0.4750027060508728,0.7789919376373291,0.4608477056026459,0.5197303891181946,0.5078637599945068,0.7586020231246948,0.4123888313770294,0.5330450534820557,0.4855876863002777,0.738459587097168,0.4403079152107239],[0.48626333475112915,0.43247154355049133,0.3318173587322235,0.907959520816803,0.5484021902084351,0.4383298456668854,0.3312106430530548,0.9054147005081177,0.5561969876289368,0.4475248456001282,0.3369944989681244,0.8880510926246643,0.4826600253582001,0.41492658853530884,0.40268346667289734,0.8610232472419739,0.5358381271362305,0.4246888756752014,0.3655450940132141,0.8776001930236816,0.5306703448295593,0.5139756798744202,0.3525022864341736,0.9005703330039978,0.5144142508506775,0.4823418855667114,0.39707839488983154,0.8911101818084717,0.4793170094490051,0.5526352524757385,0.40169036388397217,0.8757803440093994,0.5480058193206787,0.5131208896636963,0.48459550738334656,0.8690183758735657,0.4999719262123108,0.4091138243675232,0.5403950810432434,0.8871179819107056,0.5578045845031738,0.3505299389362335,0.5197919011116028,0.8837305307388306,0.553655743598938,0.4063911736011505,0.5422939658164978,0.7639781832695007,0.5331900119781494,0.41558897495269775,0.3539009690284729,0.9185619950294495,0.5480822920799255,0.47191500663757324,0.4507170021533966,0.9999999403953552,0.5221988558769226,0.4443523585796356,0.38568171858787537,0.9424975514411926,0.483487606048584,0.42976778745651245,0.2940351068973541,0.9155822992324829,0.48100629448890686,0.5025980472564697,0.372246116399765,0.9008947610855103,0.5022320747375488,0.5355005860328674,0.40454500913619995,0.8812621831893921,0.5834589004516602,0.5570699572563171,0.3622119426727295,0.86502605676651],[0.9441615343093872,0.3844093382358551,0.4425322115421295,0.4698406755924225,0.9204258918762207,0.4136633574962616,0.45378875732421875,0.5138535499572754,0.9013636708259583,0.4102674424648285,0.4456460475921631,0.4924999177455902,0.8835467100143433,0.4196458160877228,0.49489378929138184,0.47756510972976685,0.8692671060562134,0.39617499709129333,0.4763320982456207,0.4919445216655731,0.9005424380302429,0.3828938603401184,0.4152194857597351,0.49616727232933044,0.8264681100845337,0.4298166334629059,0.528138279914856,0.4957529902458191,0.8853133320808411,0.46068450808525085,0.4775548279285431,0.5829311013221741,0.8834688663482666,0.38903701305389404,0.5521553754806519,0.5789541006088257,0.8899545669555664,0.37074097990989685,0.5915539264678955,0.5674417018890381,0.8855043649673462,0.3557382822036743,0.6060194969177246,0.5532950162887573,0.8603743314743042,0.36339423060417175,0.6356525421142578,0.5751141309738159,0.9508808255195618,0.38330262899398804,0.439572274684906,0.5061976909637451,0.8866239190101624,0.4150083363056183,0.5460653901100159,0.5221988558769226,1.0,0.4046051502227783,0.49010586738586426,0.5319785475730896,0.9448827505111694,0.37568163871765137,0.4105449318885803,0.4984148442745209,0.9075826406478882,0.43628737330436707,0.5056367516517639,0.527618408203125,0.9099504947662354,0.430047869682312,0.5010592937469482,0.5007047057151794,0.8452813029289246,0.409821093082428,0.4740433990955353,0.5132285952568054],[0.3757815361022949,0.9596868753433228,0.3870689272880554,0.40849098563194275,0.442720890045166,0.9557747840881348,0.3683713674545288,0.4568459391593933,0.4141910672187805,0.9505230188369751,0.3506900668144226,0.42788806557655334,0.37637895345687866,0.9002267718315125,0.3925451636314392,0.4581432342529297,0.42715826630592346,0.8245257139205933,0.38129568099975586,0.46443334221839905,0.41509807109832764,0.818142831325531,0.544718861579895,0.4734926223754883,0.3595014810562134,0.69808030128479,0.4228968918323517,0.43977123498916626,0.35375845432281494,0.7120135426521301,0.46152442693710327,0.44011402130126953,0.420511394739151,0.7515581846237183,0.36824220418930054,0.4270508885383606,0.3613501787185669,0.7824757099151611,0.41429948806762695,0.4211462140083313,0.3750726878643036,0.7186427712440491,0.3933837413787842,0.4008261561393738,0.40141761302948,0.7317440509796143,0.3980553150177002,0.36079150438308716,0.41258060932159424,0.9462378025054932,0.3809908628463745,0.432767778635025,0.3910955488681793,0.9227906465530396,0.46743109822273254,0.4443523585796356,0.4046051502227783,1.0000001192092896,0.4446173906326294,0.45440754294395447,0.366965115070343,0.8991358876228333,0.33943307399749756,0.4259915351867676,0.39214229583740234,0.9085245132446289,0.3568943440914154,0.4614258408546448,0.37602698802948,0.880734920501709,0.4131743609905243,0.4419770836830139,0.38670408725738525,0.788091778755188,0.35498008131980896,0.4778590798377991],[0.47439849376678467,0.42751777172088623,0.9344340562820435,0.3566460609436035,0.5523138642311096,0.4512624144554138,0.8578698039054871,0.393768310546875,0.525969386100769,0.45105963945388794,0.8618007302284241,0.3740447163581848,0.43742501735687256,0.418348491191864,0.7856506109237671,0.3805820941925049,0.5199180841445923,0.430206298828125,0.6724182367324829,0.39621174335479736,0.5057192444801331,0.440706729888916,0.7511868476867676,0.4020302891731262,0.4536318778991699,0.4452650249004364,0.7012859582901001,0.389040470123291,0.4948263168334961,0.4379000961780548,0.6770006418228149,0.4431312680244446,0.5070337653160095,0.40973132848739624,0.748503565788269,0.43732890486717224,0.4444500803947449,0.4093534052371979,0.7914232015609741,0.42093920707702637,0.4706647992134094,0.3376253545284271,0.6907951831817627,0.4315350651741028,0.5111410617828369,0.3888295888900757,0.7052311301231384,0.410179078578949,0.5358698964118958,0.43810588121414185,0.9206527471542358,0.3786056637763977,0.47820916771888733,0.43340277671813965,0.8626244068145752,0.38568171858787537,0.49010586738586426,0.4446173906326294,1.000000238418579,0.40862131118774414,0.4716540575027466,0.43259915709495544,0.8618369102478027,0.3763386309146881,0.484348326921463,0.4452472925186157,0.8491734266281128,0.40899842977523804,0.4725353419780731,0.46691203117370605,0.8772081732749939,0.3847746253013611,0.5109119415283203,0.4794028103351593,0.839401364326477,0.412747859954834],[0.5132580399513245,0.45227131247520447,0.3591206669807434,0.959538459777832,0.5623602867126465,0.45714813470840454,0.3653877377510071,0.9296173453330994,0.5704897046089172,0.4659020006656647,0.3710227310657501,0.9222479462623596,0.5135353207588196,0.43053126335144043,0.4184117317199707,0.9217734336853027,0.5437425374984741,0.410898357629776,0.3675645887851715,0.9318996667861938,0.5386947393417358,0.5063748359680176,0.36615270376205444,0.9254571199417114,0.5128481388092041,0.48770469427108765,0.4038762152194977,0.9184001684188843,0.47532448172569275,0.530082643032074,0.4165879487991333,0.8702585101127625,0.55553138256073,0.49379563331604004,0.4885934591293335,0.8934574127197266,0.5228583812713623,0.4085652232170105,0.5475125908851624,0.9075844287872314,0.5713928937911987,0.3483302593231201,0.5035921335220337,0.8902016878128052,0.5590527057647705,0.4015233516693115,0.5421807169914246,0.7771611213684082,0.5427189469337463,0.4384174346923828,0.37483513355255127,0.9708404541015625,0.49495479464530945,0.45468905568122864,0.42889994382858276,0.9424975514411926,0.5319785475730896,0.45440754294395447,0.40862131118774414,1.0000003576278687,0.5119537711143494,0.4531461000442505,0.31790223717689514,0.9667915105819702,0.5025622248649597,0.5140236020088196,0.39433369040489197,0.9327410459518433,0.5233158469200134,0.5350119471549988,0.43960243463516235,0.9286324381828308,0.5984581112861633,0.5486449599266052,0.39373457431793213,0.9100214242935181],[0.9917851686477661,0.38005512952804565,0.45171281695365906,0.4821704924106598,0.9312392473220825,0.38943833112716675,0.4571785628795624,0.4941536486148834,0.9306658506393433,0.39465421438217163,0.4588037431240082,0.504847526550293,0.9284937381744385,0.39022424817085266,0.47403478622436523,0.4558088779449463,0.9114720821380615,0.37597307562828064,0.430843710899353,0.4755244255065918,0.896977424621582,0.3763785660266876,0.4083605706691742,0.47663557529449463,0.8231855630874634,0.3948529362678528,0.5055350065231323,0.46346527338027954,0.8774222135543823,0.41447311639785767,0.4436572194099426,0.5600581765174866,0.8961403369903564,0.35749131441116333,0.5377195477485657,0.5631563663482666,0.9303975105285645,0.36618772149086,0.5629603266716003,0.5589770674705505,0.9163931608200073,0.3328697979450226,0.5528479218482971,0.5546254515647888,0.8912137150764465,0.3433557450771332,0.5880551338195801,0.5448012351989746,0.9582600593566895,0.38733625411987305,0.4382738769054413,0.5062462687492371,0.8148297071456909,0.37653353810310364,0.4939282536506653,0.483487606048584,0.9448827505111694,0.366965115070343,0.4716540575027466,0.5119537711143494,1.0,0.3662833273410797,0.41295868158340454,0.5023214221000671,0.8917146325111389,0.4117320775985718,0.4847736954689026,0.4846425950527191,0.9329490661621094,0.37902727723121643,0.5106748342514038,0.4854723811149597,0.8580986857414246,0.3691490888595581,0.46240848302841187,0.498236745595932],[0.3714301288127899,0.9346896409988403,0.38831132650375366,0.420491099357605,0.4172275960445404,0.9130719900131226,0.3800382912158966,0.45072829723358154,0.39665693044662476,0.9102256298065186,0.3638318181037903,0.4355721175670624,0.36825767159461975,0.8640040159225464,0.3803110420703888,0.46319928765296936,0.41081470251083374,0.8234066963195801,0.3539711833000183,0.47294414043426514,0.39997127652168274,0.7664076685905457,0.5056970715522766,0.48550355434417725,0.33103132247924805,0.698212742805481,0.3939463198184967,0.45211324095726013,0.3325766324996948,0.7197240591049194,0.4318588376045227,0.43062955141067505,0.3983314335346222,0.7186230421066284,0.3564794361591339,0.4212924540042877,0.35487040877342224,0.798940122127533,0.3913975656032562,0.4181540608406067,0.36345043778419495,0.7140844464302063,0.361333429813385,0.39994552731513977,0.3911912739276886,0.6976839303970337,0.3754732608795166,0.3509722352027893,0.4046981632709503,0.9164102077484131,0.3796465992927551,0.4382559657096863,0.3529417812824249,0.8362808227539062,0.4341794550418854,0.42976778745651245,0.37568163871765137,0.8991358876228333,0.43259915709495544,0.4531461000442505,0.3662833273410797,1.0000004768371582,0.34054264426231384,0.43835142254829407,0.37344110012054443,0.8525890111923218,0.3404098153114319,0.46735113859176636,0.36562544107437134,0.8261232972145081,0.40650343894958496,0.4453192949295044,0.36602190136909485,0.7642720937728882,0.3571980595588684,0.48417025804519653],[0.42511269450187683,0.33518895506858826,0.9410784244537354,0.3060796558856964,0.4837267994880676,0.3546930253505707,0.91302490234375,0.327889084815979,0.46099853515625,0.35416898131370544,0.9148986339569092,0.3212631344795227,0.3854221701622009,0.3280235528945923,0.8298096656799316,0.32454049587249756,0.4523829221725464,0.3565499186515808,0.7749889492988586,0.3333956003189087,0.44908902049064636,0.34267377853393555,0.7372869253158569,0.3330220878124237,0.4013521671295166,0.36689770221710205,0.7520835399627686,0.3301827311515808,0.42690688371658325,0.3472177982330322,0.5956976413726807,0.362725168466568,0.43843019008636475,0.30469077825546265,0.665668785572052,0.3736640512943268,0.387364000082016,0.33242303133010864,0.7001234292984009,0.35684701800346375,0.39843568205833435,0.3074995279312134,0.638418436050415,0.3624327778816223,0.42999041080474854,0.3495010733604431,0.6106325387954712,0.3544641435146332,0.451809823513031,0.35967087745666504,0.9235873222351074,0.30608680844306946,0.41423070430755615,0.3393993079662323,0.7962878942489624,0.2940351068973541,0.4105449318885803,0.33943307399749756,0.8618369102478027,0.31790223717689514,0.41295868158340454,0.34054264426231384,1.0000001192092896,0.31124937534332275,0.44814789295196533,0.3508491814136505,0.8374114036560059,0.3521392047405243,0.4342018663883209,0.3571060597896576,0.8555648922920227,0.32192492485046387,0.46550002694129944,0.3769514560699463,0.8565045595169067,0.35023561120033264],[0.5004119873046875,0.4400290846824646,0.3510574996471405,0.9890669584274292,0.5380821228027344,0.4357779026031494,0.3494320809841156,0.935668408870697,0.5541519522666931,0.44465962052345276,0.35946348309516907,0.9481141567230225,0.5069529414176941,0.4167752265930176,0.4188496172428131,0.9466015100479126,0.5321167707443237,0.40820538997650146,0.3669945299625397,0.9503329992294312,0.5273364782333374,0.48666733503341675,0.37251120805740356,0.9314919710159302,0.5027703046798706,0.46292644739151,0.4006687104701996,0.9270418882369995,0.4637608528137207,0.5070858001708984,0.4109421968460083,0.856862485408783,0.5377469658851624,0.4726615846157074,0.47947633266448975,0.9008294343948364,0.5168678760528564,0.39359015226364136,0.5212299823760986,0.9200689196586609,0.5635015368461609,0.3577568233013153,0.48873525857925415,0.8919495344161987,0.5503564476966858,0.4024423062801361,0.5206931233406067,0.7914919257164001,0.5169265270233154,0.43114349246025085,0.365266889333725,0.985115110874176,0.45822522044181824,0.422255277633667,0.3922801613807678,0.9155822992324829,0.4984148442745209,0.4259915351867676,0.3763386309146881,0.9667915105819702,0.5023214221000671,0.43835142254829407,0.31124937534332275,1.0,0.48746275901794434,0.49351975321769714,0.3747537136077881,0.9232958555221558,0.5160701274871826,0.5033976435661316,0.42809009552001953,0.9393970966339111,0.583733081817627,0.5287891030311584,0.3898128867149353,0.9173390865325928],[0.8891397714614868,0.3802286982536316,0.46801650524139404,0.4650254547595978,0.8984360694885254,0.4231607913970947,0.4917759895324707,0.5163787603378296,0.8761765360832214,0.4201186001300812,0.4830971956253052,0.5029301643371582,0.8916959166526794,0.4421675503253937,0.5457899570465088,0.48425719141960144,0.8757164478302002,0.4017724394798279,0.5370707511901855,0.49855130910873413,0.9094718098640442,0.3858853280544281,0.4652283787727356,0.5014642477035522,0.8581299781799316,0.44272372126579285,0.5765029788017273,0.5125359296798706,0.8339089751243591,0.47626927495002747,0.5249218940734863,0.5801160335540771,0.8994594812393188,0.40230122208595276,0.5855552554130554,0.5722205638885498,0.8834531903266907,0.36864179372787476,0.5923342704772949,0.5686225295066833,0.8807693719863892,0.4049816131591797,0.6323174238204956,0.5396555662155151,0.8444324731826782,0.4106181263923645,0.6715002655982971,0.5900472402572632,0.8786691427230835,0.38795289397239685,0.4673042893409729,0.49503853917121887,0.8185356259346008,0.4021659791469574,0.5554183721542358,0.48100629448890686,0.9075826406478882,0.39214229583740234,0.484348326921463,0.5025622248649597,0.8917146325111389,0.37344110012054443,0.44814789295196533,0.48746275901794434,0.9999998807907104,0.4595737159252167,0.5664386749267578,0.5501179695129395,0.9479719400405884,0.43567702174186707,0.5282434225082397,0.49669432640075684,0.8501918911933899,0.41108277440071106,0.4996154308319092,0.5155248641967773],[0.4171472191810608,0.8878249526023865,0.39689844846725464,0.479268878698349,0.48950549960136414,0.9153434038162231,0.4088762700557709,0.5348643064498901,0.4666135311126709,0.9129335880279541,0.3896799683570862,0.5096868872642517,0.4340163469314575,0.8481506109237671,0.4215802550315857,0.5290428996086121,0.46509069204330444,0.8114619255065918,0.3861737847328186,0.5378623008728027,0.47863584756851196,0.8497604727745056,0.5102702975273132,0.5406601428985596,0.414850652217865,0.7568519711494446,0.4412226974964142,0.5247763395309448,0.405495285987854,0.8024145364761353,0.4825877547264099,0.523912250995636,0.47956958413124084,0.8031692504882812,0.44666579365730286,0.5051800608634949,0.4194536805152893,0.7593564987182617,0.4674842357635498,0.5118827223777771,0.43495064973831177,0.7047293782234192,0.4550630748271942,0.4815807342529297,0.4489929676055908,0.7743804454803467,0.4751657545566559,0.4503466784954071,0.4459928274154663,0.8809500932693481,0.3954318165779114,0.4984734058380127,0.423056423664093,0.8573530912399292,0.4750027060508728,0.5025980472564697,0.43628737330436707,0.9085245132446289,0.4452472925186157,0.5140236020088196,0.4117320775985718,0.8525890111923218,0.3508491814136505,0.49351975321769714,0.4595737159252167,1.0,0.4154375493526459,0.5463647246360779,0.4367619752883911,0.9283663034439087,0.4501441419124603,0.5149552226066589,0.42839205265045166,0.8393673896789551,0.39113667607307434,0.5516577959060669],[0.493805855512619,0.34899356961250305,0.8517115116119385,0.3663017153739929,0.5773681402206421,0.38758575916290283,0.8332074880599976,0.4075860381126404,0.5522477626800537,0.38563090562820435,0.8239743709564209,0.40107274055480957,0.47810932993888855,0.3592589497566223,0.7778522968292236,0.39911872148513794,0.5286459922790527,0.377896785736084,0.6858199834823608,0.41276657581329346,0.5547492504119873,0.37165188789367676,0.6678950786590576,0.3987504839897156,0.5215760469436646,0.4354083836078644,0.6858527660369873,0.4086400866508484,0.5266563296318054,0.42830437421798706,0.6977300047874451,0.47139284014701843,0.5540497899055481,0.3759306073188782,0.8174981474876404,0.4692544937133789,0.48259952664375305,0.35263434052467346,0.8272289633750916,0.4615587294101715,0.5047866702079773,0.3529065251350403,0.7472774982452393,0.4566943645477295,0.515333890914917,0.39711546897888184,0.7786980867385864,0.4758797287940979,0.5188626050949097,0.3622552752494812,0.8266768455505371,0.3707107603549957,0.4915270209312439,0.36594635248184204,0.7789919376373291,0.372246116399765,0.5056367516517639,0.3568943440914154,0.8491734266281128,0.39433369040489197,0.4847736954689026,0.3404098153114319,0.8374114036560059,0.3747537136077881,0.5664386749267578,0.4154375493526459,1.000000238418579,0.4432229697704315,0.5355695486068726,0.41722163558006287,0.8983290195465088,0.38185352087020874,0.5172637701034546,0.41876164078712463,0.8719944357872009,0.41128161549568176],[0.487807959318161,0.45878875255584717,0.3782922029495239,0.9158639311790466,0.5558401942253113,0.4761284291744232,0.3990890681743622,0.9094935059547424,0.5553142428398132,0.47949737310409546,0.3995811641216278,0.8934841752052307,0.504016101360321,0.4700060784816742,0.4609360992908478,0.9230285882949829,0.5284594297409058,0.4368841052055359,0.429085910320282,0.9306274652481079,0.5569416284561157,0.5098505020141602,0.3875192403793335,0.9355545043945312,0.5359662771224976,0.5155043601989746,0.4507595896720886,0.9407364130020142,0.4851745069026947,0.5871692299842834,0.44922685623168945,0.8740659356117249,0.5598233342170715,0.5221166014671326,0.5124244689941406,0.8784624338150024,0.5051367282867432,0.42958295345306396,0.5562483668327332,0.8929648399353027,0.5450912117958069,0.41957107186317444,0.5540518760681152,0.8494520783424377,0.5314466953277588,0.45803016424179077,0.5772788524627686,0.7645175457000732,0.5125867128372192,0.44582608342170715,0.4052298665046692,0.9291085004806519,0.5035639405250549,0.46183067560195923,0.4608477056026459,0.9008947610855103,0.527618408203125,0.4614258408546448,0.40899842977523804,0.9327410459518433,0.4846425950527191,0.46735113859176636,0.3521392047405243,0.9232958555221558,0.5501179695129395,0.5463647246360779,0.4432229697704315,0.9999998807907104,0.5372699499130249,0.552676796913147,0.44791698455810547,0.9199339151382446,0.5869756937026978,0.5678355693817139,0.42431825399398804,0.9144052863121033],[0.93038010597229,0.3787185251712799,0.46021151542663574,0.4986909031867981,0.8827348947525024,0.3993350565433502,0.47110360860824585,0.5104420185089111,0.8730560541152954,0.3994376063346863,0.4653565585613251,0.515708863735199,0.9329620599746704,0.42420250177383423,0.5254285931587219,0.4871588349342346,0.9129141569137573,0.39199724793434143,0.49116235971450806,0.5078726410865784,0.9230402708053589,0.3805310130119324,0.4503180980682373,0.512850284576416,0.8801226615905762,0.41507455706596375,0.5416017174720764,0.5126096606254578,0.8580146431922913,0.4505384564399719,0.5090295672416687,0.5875270962715149,0.9270143508911133,0.3930257558822632,0.5936252474784851,0.5807325839996338,0.93084716796875,0.36636415123939514,0.584683358669281,0.5796383023262024,0.924496591091156,0.3823776841163635,0.599696695804596,0.5603792071342468,0.8927874565124512,0.3986437916755676,0.6480886936187744,0.5818614959716797,0.9012237787246704,0.3859976828098297,0.44977033138275146,0.5198789834976196,0.7884460687637329,0.38736918568611145,0.5197303891181946,0.5022320747375488,0.9099504947662354,0.37602698802948,0.4725353419780731,0.5233158469200134,0.9329490661621094,0.36562544107437134,0.4342018663883209,0.5160701274871826,0.9479719400405884,0.4367619752883911,0.5355695486068726,0.5372699499130249,0.9999997615814209,0.4147546887397766,0.5262694954872131,0.5066189169883728,0.8802193999290466,0.4018681049346924,0.48945456743240356,0.5234285593032837],[0.38590842485427856,0.8445374965667725,0.4059692621231079,0.48272186517715454,0.466685026884079,0.8774330615997314,0.41289591789245605,0.5513768792152405,0.43541446328163147,0.8706539869308472,0.39351511001586914,0.5059418678283691,0.39644676446914673,0.8157875537872314,0.4293765723705292,0.5301903486251831,0.43597573041915894,0.7990115284919739,0.41174983978271484,0.545791745185852,0.4631803333759308,0.8531359434127808,0.5303975343704224,0.5511482954025269,0.4164242744445801,0.7859628200531006,0.4642801284790039,0.5311943888664246,0.3901785910129547,0.8225476741790771,0.5023161172866821,0.5385345220565796,0.45482972264289856,0.8338172435760498,0.4551551938056946,0.5072137117385864,0.3803553879261017,0.7247748374938965,0.4874592423439026,0.5111501216888428,0.40557536482810974,0.698239803314209,0.4836163818836212,0.49077489972114563,0.4202497601509094,0.7923012971878052,0.4945702850818634,0.4632378816604614,0.43060189485549927,0.8364074230194092,0.40677276253700256,0.506214439868927,0.4278309643268585,0.8334057331085205,0.5078637599945068,0.5355005860328674,0.430047869682312,0.880734920501709,0.46691203117370605,0.5350119471549988,0.37902727723121643,0.8261232972145081,0.3571060597896576,0.5033976435661316,0.43567702174186707,0.9283663034439087,0.41722163558006287,0.552676796913147,0.4147546887397766,0.9999997615814209,0.46195411682128906,0.5410586595535278,0.42283400893211365,0.8887166380882263,0.41101953387260437,0.5632854700088501],[0.5186922550201416,0.40969225764274597,0.8908281922340393,0.4125879406929016,0.582828938961029,0.4307588040828705,0.8559454679489136,0.441394567489624,0.5609799027442932,0.42720699310302734,0.8495718240737915,0.4310508370399475,0.48810991644859314,0.39182040095329285,0.7929219603538513,0.43286651372909546,0.5633842349052429,0.42418354749679565,0.6674209237098694,0.44865429401397705,0.5491276383399963,0.43185317516326904,0.6791380047798157,0.4442337155342102,0.5002859234809875,0.47005295753479004,0.7018477916717529,0.4346664547920227,0.5291654467582703,0.441936194896698,0.6287491321563721,0.47994285821914673,0.5543296337127686,0.39855024218559265,0.7877375483512878,0.4793662130832672,0.49959734082221985,0.4187714159488678,0.8415053486824036,0.4756889045238495,0.5239285230636597,0.3631424605846405,0.7353082895278931,0.4811844527721405,0.5554829835891724,0.404178649187088,0.7367911338806152,0.44170910120010376,0.5573794841766357,0.4300725758075714,0.8393129706382751,0.4209575057029724,0.49588173627853394,0.4137488603591919,0.7586020231246948,0.40454500913619995,0.5010592937469482,0.4131743609905243,0.8772081732749939,0.43960243463516235,0.5106748342514038,0.40650343894958496,0.8555648922920227,0.42809009552001953,0.5282434225082397,0.4501441419124603,0.8983290195465088,0.44791698455810547,0.5262694954872131,0.46195411682128906,1.0000003576278687,0.4316459596157074,0.5565426349639893,0.49855101108551025,0.9164320230484009,0.4631970524787903],[0.48473984003067017,0.44273269176483154,0.3560645282268524,0.9278059005737305,0.5376349687576294,0.4554412066936493,0.36511293053627014,0.9146208763122559,0.5427507162094116,0.4610579013824463,0.3701644241809845,0.9015356302261353,0.4948301613330841,0.4436158239841461,0.4441438913345337,0.9087244272232056,0.5166966319084167,0.4348808825016022,0.40682289004325867,0.9267809391021729,0.530387818813324,0.5103180408477783,0.3874512314796448,0.9091094732284546,0.5198599696159363,0.49293333292007446,0.4293147921562195,0.9099888205528259,0.4741821885108948,0.5523704290390015,0.42048338055610657,0.866691529750824,0.5323052406311035,0.5093571543693542,0.48473623394966125,0.8840503096580505,0.4962416887283325,0.3991854786872864,0.5286419987678528,0.9001890420913696,0.5415067672729492,0.3837774991989136,0.5083082914352417,0.8719247579574585,0.5239256620407104,0.431925892829895,0.5426434278488159,0.7841446399688721,0.5101255178451538,0.4259416162967682,0.3772836923599243,0.9320119619369507,0.4765624403953552,0.43661096692085266,0.4123888313770294,0.8812621831893921,0.5007047057151794,0.4419770836830139,0.3847746253013611,0.9286324381828308,0.4854723811149597,0.4453192949295044,0.32192492485046387,0.9393970966339111,0.49669432640075684,0.5149552226066589,0.38185352087020874,0.9199339151382446,0.5066189169883728,0.5410586595535278,0.4316459596157074,1.000000238418579,0.5983131527900696,0.562671959400177,0.394788533449173,0.9583660364151001],[0.8544451594352722,0.375791072845459,0.5039685368537903,0.5687804818153381,0.8464986085891724,0.3917456567287445,0.4844491183757782,0.5791528224945068,0.842350423336029,0.3972841501235962,0.4863244891166687,0.5685746669769287,0.8274965882301331,0.40090301632881165,0.5442637205123901,0.5392025709152222,0.8537395596504211,0.3929140567779541,0.527803897857666,0.566599428653717,0.8499961495399475,0.409208208322525,0.46505874395370483,0.5781140327453613,0.8260523676872253,0.4214155077934265,0.5540464520454407,0.569663405418396,0.8161145448684692,0.4596612751483917,0.46490198373794556,0.6266494989395142,0.8452969789505005,0.39138463139533997,0.5530250668525696,0.6079824566841125,0.8229665756225586,0.378833144903183,0.6147478222846985,0.6248791217803955,0.8442078828811646,0.3604718744754791,0.6194877028465271,0.6149890422821045,0.8278152346611023,0.36811909079551697,0.6287550330162048,0.5882829427719116,0.8655751347541809,0.3789173364639282,0.5008851885795593,0.5908066630363464,0.7718708515167236,0.3964742422103882,0.5330450534820557,0.5834589004516602,0.8452813029289246,0.38670408725738525,0.5109119415283203,0.5984581112861633,0.8580986857414246,0.36602190136909485,0.46550002694129944,0.583733081817627,0.8501918911933899,0.42839205265045166,0.5172637701034546,0.5869756937026978,0.8802193999290466,0.42283400893211365,0.5565426349639893,0.5983131527900696,1.000000238418579,0.4717620611190796,0.5393473505973816,0.6207295656204224],[0.3734408915042877,0.7421412467956543,0.4233653247356415,0.5150966644287109,0.45154285430908203,0.7645089626312256,0.4335441291332245,0.5697214603424072,0.42963361740112305,0.7663100957870483,0.4187982976436615,0.5276947617530823,0.38600099086761475,0.7196786403656006,0.4521636962890625,0.5364493131637573,0.43670129776000977,0.7663516998291016,0.42071840167045593,0.5597065091133118,0.4554536044597626,0.7698817253112793,0.47649088501930237,0.5763306617736816,0.41553473472595215,0.7382323741912842,0.47676539421081543,0.5553592443466187,0.3965657353401184,0.8175081610679626,0.4242842495441437,0.5453411936759949,0.4454972743988037,0.7980071306228638,0.4582263231277466,0.5203404426574707,0.37212032079696655,0.7284530401229858,0.5154246687889099,0.5389917492866516,0.4103814661502838,0.6702225208282471,0.5115571022033691,0.5221161842346191,0.43041929602622986,0.7266544699668884,0.4925968647003174,0.463138222694397,0.42674583196640015,0.7409768104553223,0.4184078574180603,0.5270856618881226,0.4375526010990143,0.7486928105354309,0.4855876863002777,0.5570699572563171,0.409821093082428,0.788091778755188,0.4794028103351593,0.5486449599266052,0.3691490888595581,0.7642720937728882,0.3769514560699463,0.5287891030311584,0.41108277440071106,0.8393673896789551,0.41876164078712463,0.5678355693817139,0.4018681049346924,0.8887166380882263,0.49855101108551025,0.562671959400177,0.4717620611190796,1.000000238418579,0.44781988859176636,0.5955765843391418],[0.4748580753803253,0.3514467477798462,0.8693224191665649,0.38038039207458496,0.538496196269989,0.3720550537109375,0.8180481195449829,0.4103783667087555,0.5161371827125549,0.36595258116722107,0.814569354057312,0.3952457308769226,0.43761321902275085,0.3479244112968445,0.7611190676689148,0.4090403616428375,0.5046876072883606,0.37787365913391113,0.6831787824630737,0.4231601655483246,0.5066314339637756,0.3748345971107483,0.6671873927116394,0.4115760624408722,0.4754064083099365,0.4191019833087921,0.6575030088424683,0.4066825211048126,0.4940914809703827,0.40499234199523926,0.6449360847473145,0.43964001536369324,0.5047260522842407,0.3584304451942444,0.7535210847854614,0.4517427682876587,0.4506623446941376,0.3690657615661621,0.8138951063156128,0.44695717096328735,0.4747059941291809,0.3518751263618469,0.7397583723068237,0.4519813358783722,0.4933089017868042,0.3807457983493805,0.7169296741485596,0.438528835773468,0.5103038549423218,0.3712025284767151,0.8236106634140015,0.3825525641441345,0.4693528115749359,0.3546493351459503,0.738459587097168,0.3622119426727295,0.4740433990955353,0.35498008131980896,0.839401364326477,0.39373457431793213,0.46240848302841187,0.3571980595588684,0.8565045595169067,0.3898128867149353,0.4996154308319092,0.39113667607307434,0.8719944357872009,0.42431825399398804,0.48945456743240356,0.41101953387260437,0.9164320230484009,0.394788533449173,0.5393473505973816,0.44781988859176636,0.9999997615814209,0.4291337728500366],[0.49903610348701477,0.4825022220611572,0.3875603675842285,0.9044073820114136,0.5571371912956238,0.4905669689178467,0.39566314220428467,0.8998568058013916,0.5608326196670532,0.49719440937042236,0.3921118378639221,0.8761709332466125,0.5139428973197937,0.47828757762908936,0.4740797281265259,0.9072822332382202,0.546493411064148,0.47284775972366333,0.4394211173057556,0.9309260845184326,0.5561850666999817,0.5394295454025269,0.41852498054504395,0.9100860357284546,0.5294771790504456,0.5205096006393433,0.45421186089515686,0.9095292091369629,0.49096620082855225,0.5782581567764282,0.43771353363990784,0.8579173684120178,0.5530456900596619,0.5262547135353088,0.5010192394256592,0.869306206703186,0.5133838057518005,0.4377489686012268,0.5532824993133545,0.896841287612915,0.5631712079048157,0.4118198752403259,0.5394608378410339,0.8671009540557861,0.5484010577201843,0.46462225914001465,0.5677862763404846,0.7694768309593201,0.5271852016448975,0.4648236632347107,0.39875102043151855,0.9100638628005981,0.4996562898159027,0.46870526671409607,0.4403079152107239,0.86502605676651,0.5132285952568054,0.4778590798377991,0.412747859954834,0.9100214242935181,0.498236745595932,0.48417025804519653,0.35023561120033264,0.9173390865325928,0.5155248641967773,0.5516577959060669,0.41128161549568176,0.9144052863121033,0.5234285593032837,0.5632854700088501,0.4631970524787903,0.9583660364151001,0.6207295656204224,0.5955765843391418,0.4291337728500366,0.9999996423721313]],\"type\":\"heatmap\"}],                        {\"template\":{\"data\":{\"histogram2dcontour\":[{\"type\":\"histogram2dcontour\",\"colorbar\":{\"outlinewidth\":0,\"ticks\":\"\"},\"colorscale\":[[0.0,\"#0d0887\"],[0.1111111111111111,\"#46039f\"],[0.2222222222222222,\"#7201a8\"],[0.3333333333333333,\"#9c179e\"],[0.4444444444444444,\"#bd3786\"],[0.5555555555555556,\"#d8576b\"],[0.6666666666666666,\"#ed7953\"],[0.7777777777777778,\"#fb9f3a\"],[0.8888888888888888,\"#fdca26\"],[1.0,\"#f0f921\"]]}],\"choropleth\":[{\"type\":\"choropleth\",\"colorbar\":{\"outlinewidth\":0,\"ticks\":\"\"}}],\"histogram2d\":[{\"type\":\"histogram2d\",\"colorbar\":{\"outlinewidth\":0,\"ticks\":\"\"},\"colorscale\":[[0.0,\"#0d0887\"],[0.1111111111111111,\"#46039f\"],[0.2222222222222222,\"#7201a8\"],[0.3333333333333333,\"#9c179e\"],[0.4444444444444444,\"#bd3786\"],[0.5555555555555556,\"#d8576b\"],[0.6666666666666666,\"#ed7953\"],[0.7777777777777778,\"#fb9f3a\"],[0.8888888888888888,\"#fdca26\"],[1.0,\"#f0f921\"]]}],\"heatmap\":[{\"type\":\"heatmap\",\"colorbar\":{\"outlinewidth\":0,\"ticks\":\"\"},\"colorscale\":[[0.0,\"#0d0887\"],[0.1111111111111111,\"#46039f\"],[0.2222222222222222,\"#7201a8\"],[0.3333333333333333,\"#9c179e\"],[0.4444444444444444,\"#bd3786\"],[0.5555555555555556,\"#d8576b\"],[0.6666666666666666,\"#ed7953\"],[0.7777777777777778,\"#fb9f3a\"],[0.8888888888888888,\"#fdca26\"],[1.0,\"#f0f921\"]]}],\"heatmapgl\":[{\"type\":\"heatmapgl\",\"colorbar\":{\"outlinewidth\":0,\"ticks\":\"\"},\"colorscale\":[[0.0,\"#0d0887\"],[0.1111111111111111,\"#46039f\"],[0.2222222222222222,\"#7201a8\"],[0.3333333333333333,\"#9c179e\"],[0.4444444444444444,\"#bd3786\"],[0.5555555555555556,\"#d8576b\"],[0.6666666666666666,\"#ed7953\"],[0.7777777777777778,\"#fb9f3a\"],[0.8888888888888888,\"#fdca26\"],[1.0,\"#f0f921\"]]}],\"contourcarpet\":[{\"type\":\"contourcarpet\",\"colorbar\":{\"outlinewidth\":0,\"ticks\":\"\"}}],\"contour\":[{\"type\":\"contour\",\"colorbar\":{\"outlinewidth\":0,\"ticks\":\"\"},\"colorscale\":[[0.0,\"#0d0887\"],[0.1111111111111111,\"#46039f\"],[0.2222222222222222,\"#7201a8\"],[0.3333333333333333,\"#9c179e\"],[0.4444444444444444,\"#bd3786\"],[0.5555555555555556,\"#d8576b\"],[0.6666666666666666,\"#ed7953\"],[0.7777777777777778,\"#fb9f3a\"],[0.8888888888888888,\"#fdca26\"],[1.0,\"#f0f921\"]]}],\"surface\":[{\"type\":\"surface\",\"colorbar\":{\"outlinewidth\":0,\"ticks\":\"\"},\"colorscale\":[[0.0,\"#0d0887\"],[0.1111111111111111,\"#46039f\"],[0.2222222222222222,\"#7201a8\"],[0.3333333333333333,\"#9c179e\"],[0.4444444444444444,\"#bd3786\"],[0.5555555555555556,\"#d8576b\"],[0.6666666666666666,\"#ed7953\"],[0.7777777777777778,\"#fb9f3a\"],[0.8888888888888888,\"#fdca26\"],[1.0,\"#f0f921\"]]}],\"mesh3d\":[{\"type\":\"mesh3d\",\"colorbar\":{\"outlinewidth\":0,\"ticks\":\"\"}}],\"scatter\":[{\"fillpattern\":{\"fillmode\":\"overlay\",\"size\":10,\"solidity\":0.2},\"type\":\"scatter\"}],\"parcoords\":[{\"type\":\"parcoords\",\"line\":{\"colorbar\":{\"outlinewidth\":0,\"ticks\":\"\"}}}],\"scatterpolargl\":[{\"type\":\"scatterpolargl\",\"marker\":{\"colorbar\":{\"outlinewidth\":0,\"ticks\":\"\"}}}],\"bar\":[{\"error_x\":{\"color\":\"#2a3f5f\"},\"error_y\":{\"color\":\"#2a3f5f\"},\"marker\":{\"line\":{\"color\":\"#E5ECF6\",\"width\":0.5},\"pattern\":{\"fillmode\":\"overlay\",\"size\":10,\"solidity\":0.2}},\"type\":\"bar\"}],\"scattergeo\":[{\"type\":\"scattergeo\",\"marker\":{\"colorbar\":{\"outlinewidth\":0,\"ticks\":\"\"}}}],\"scatterpolar\":[{\"type\":\"scatterpolar\",\"marker\":{\"colorbar\":{\"outlinewidth\":0,\"ticks\":\"\"}}}],\"histogram\":[{\"marker\":{\"pattern\":{\"fillmode\":\"overlay\",\"size\":10,\"solidity\":0.2}},\"type\":\"histogram\"}],\"scattergl\":[{\"type\":\"scattergl\",\"marker\":{\"colorbar\":{\"outlinewidth\":0,\"ticks\":\"\"}}}],\"scatter3d\":[{\"type\":\"scatter3d\",\"line\":{\"colorbar\":{\"outlinewidth\":0,\"ticks\":\"\"}},\"marker\":{\"colorbar\":{\"outlinewidth\":0,\"ticks\":\"\"}}}],\"scattermapbox\":[{\"type\":\"scattermapbox\",\"marker\":{\"colorbar\":{\"outlinewidth\":0,\"ticks\":\"\"}}}],\"scatterternary\":[{\"type\":\"scatterternary\",\"marker\":{\"colorbar\":{\"outlinewidth\":0,\"ticks\":\"\"}}}],\"scattercarpet\":[{\"type\":\"scattercarpet\",\"marker\":{\"colorbar\":{\"outlinewidth\":0,\"ticks\":\"\"}}}],\"carpet\":[{\"aaxis\":{\"endlinecolor\":\"#2a3f5f\",\"gridcolor\":\"white\",\"linecolor\":\"white\",\"minorgridcolor\":\"white\",\"startlinecolor\":\"#2a3f5f\"},\"baxis\":{\"endlinecolor\":\"#2a3f5f\",\"gridcolor\":\"white\",\"linecolor\":\"white\",\"minorgridcolor\":\"white\",\"startlinecolor\":\"#2a3f5f\"},\"type\":\"carpet\"}],\"table\":[{\"cells\":{\"fill\":{\"color\":\"#EBF0F8\"},\"line\":{\"color\":\"white\"}},\"header\":{\"fill\":{\"color\":\"#C8D4E3\"},\"line\":{\"color\":\"white\"}},\"type\":\"table\"}],\"barpolar\":[{\"marker\":{\"line\":{\"color\":\"#E5ECF6\",\"width\":0.5},\"pattern\":{\"fillmode\":\"overlay\",\"size\":10,\"solidity\":0.2}},\"type\":\"barpolar\"}],\"pie\":[{\"automargin\":true,\"type\":\"pie\"}]},\"layout\":{\"autotypenumbers\":\"strict\",\"colorway\":[\"#636efa\",\"#EF553B\",\"#00cc96\",\"#ab63fa\",\"#FFA15A\",\"#19d3f3\",\"#FF6692\",\"#B6E880\",\"#FF97FF\",\"#FECB52\"],\"font\":{\"color\":\"#2a3f5f\"},\"hovermode\":\"closest\",\"hoverlabel\":{\"align\":\"left\"},\"paper_bgcolor\":\"white\",\"plot_bgcolor\":\"#E5ECF6\",\"polar\":{\"bgcolor\":\"#E5ECF6\",\"angularaxis\":{\"gridcolor\":\"white\",\"linecolor\":\"white\",\"ticks\":\"\"},\"radialaxis\":{\"gridcolor\":\"white\",\"linecolor\":\"white\",\"ticks\":\"\"}},\"ternary\":{\"bgcolor\":\"#E5ECF6\",\"aaxis\":{\"gridcolor\":\"white\",\"linecolor\":\"white\",\"ticks\":\"\"},\"baxis\":{\"gridcolor\":\"white\",\"linecolor\":\"white\",\"ticks\":\"\"},\"caxis\":{\"gridcolor\":\"white\",\"linecolor\":\"white\",\"ticks\":\"\"}},\"coloraxis\":{\"colorbar\":{\"outlinewidth\":0,\"ticks\":\"\"}},\"colorscale\":{\"sequential\":[[0.0,\"#0d0887\"],[0.1111111111111111,\"#46039f\"],[0.2222222222222222,\"#7201a8\"],[0.3333333333333333,\"#9c179e\"],[0.4444444444444444,\"#bd3786\"],[0.5555555555555556,\"#d8576b\"],[0.6666666666666666,\"#ed7953\"],[0.7777777777777778,\"#fb9f3a\"],[0.8888888888888888,\"#fdca26\"],[1.0,\"#f0f921\"]],\"sequentialminus\":[[0.0,\"#0d0887\"],[0.1111111111111111,\"#46039f\"],[0.2222222222222222,\"#7201a8\"],[0.3333333333333333,\"#9c179e\"],[0.4444444444444444,\"#bd3786\"],[0.5555555555555556,\"#d8576b\"],[0.6666666666666666,\"#ed7953\"],[0.7777777777777778,\"#fb9f3a\"],[0.8888888888888888,\"#fdca26\"],[1.0,\"#f0f921\"]],\"diverging\":[[0,\"#8e0152\"],[0.1,\"#c51b7d\"],[0.2,\"#de77ae\"],[0.3,\"#f1b6da\"],[0.4,\"#fde0ef\"],[0.5,\"#f7f7f7\"],[0.6,\"#e6f5d0\"],[0.7,\"#b8e186\"],[0.8,\"#7fbc41\"],[0.9,\"#4d9221\"],[1,\"#276419\"]]},\"xaxis\":{\"gridcolor\":\"white\",\"linecolor\":\"white\",\"ticks\":\"\",\"title\":{\"standoff\":15},\"zerolinecolor\":\"white\",\"automargin\":true,\"zerolinewidth\":2},\"yaxis\":{\"gridcolor\":\"white\",\"linecolor\":\"white\",\"ticks\":\"\",\"title\":{\"standoff\":15},\"zerolinecolor\":\"white\",\"automargin\":true,\"zerolinewidth\":2},\"scene\":{\"xaxis\":{\"backgroundcolor\":\"#E5ECF6\",\"gridcolor\":\"white\",\"linecolor\":\"white\",\"showbackground\":true,\"ticks\":\"\",\"zerolinecolor\":\"white\",\"gridwidth\":2},\"yaxis\":{\"backgroundcolor\":\"#E5ECF6\",\"gridcolor\":\"white\",\"linecolor\":\"white\",\"showbackground\":true,\"ticks\":\"\",\"zerolinecolor\":\"white\",\"gridwidth\":2},\"zaxis\":{\"backgroundcolor\":\"#E5ECF6\",\"gridcolor\":\"white\",\"linecolor\":\"white\",\"showbackground\":true,\"ticks\":\"\",\"zerolinecolor\":\"white\",\"gridwidth\":2}},\"shapedefaults\":{\"line\":{\"color\":\"#2a3f5f\"}},\"annotationdefaults\":{\"arrowcolor\":\"#2a3f5f\",\"arrowhead\":0,\"arrowwidth\":1},\"geo\":{\"bgcolor\":\"white\",\"landcolor\":\"#E5ECF6\",\"subunitcolor\":\"white\",\"showland\":true,\"showlakes\":true,\"lakecolor\":\"white\"},\"title\":{\"x\":0.05},\"mapbox\":{\"style\":\"light\"}}},\"font\":{\"size\":14},\"margin\":{\"t\":100,\"r\":100,\"b\":100,\"l\":100},\"title\":{\"text\":\"Cosine Similarity Matrix\"},\"xaxis\":{\"title\":{\"text\":\"Image Index\"}},\"yaxis\":{\"title\":{\"text\":\"Image Index\"}},\"width\":1000,\"height\":1000},                        {\"responsive\": true}                    ).then(function(){\n",
              "                            \n",
              "var gd = document.getElementById('3626baa4-16f6-42ea-9b48-56e9239833bd');\n",
              "var x = new MutationObserver(function (mutations, observer) {{\n",
              "        var display = window.getComputedStyle(gd).display;\n",
              "        if (!display || display === 'none') {{\n",
              "            console.log([gd, 'removed!']);\n",
              "            Plotly.purge(gd);\n",
              "            observer.disconnect();\n",
              "        }}\n",
              "}});\n",
              "\n",
              "// Listen for the removal of the full notebook cells\n",
              "var notebookContainer = gd.closest('#notebook-container');\n",
              "if (notebookContainer) {{\n",
              "    x.observe(notebookContainer, {childList: true});\n",
              "}}\n",
              "\n",
              "// Listen for the clearing of the current output cell\n",
              "var outputEl = gd.closest('.output');\n",
              "if (outputEl) {{\n",
              "    x.observe(outputEl, {childList: true});\n",
              "}}\n",
              "\n",
              "                        })                };                            </script>        </div>\n",
              "</body>\n",
              "</html>"
            ]
          },
          "metadata": {},
          "output_type": "display_data"
        }
      ],
      "source": [
        "import numpy as np\n",
        "import plotly.graph_objects as go\n",
        "\n",
        "fig = go.Figure(data=go.Heatmap(z=cosine_sim_matrix, colorscale='Viridis'))\n",
        "\n",
        "fig.update_layout(\n",
        "    title=\"Cosine Similarity Matrix\",\n",
        "    xaxis_title=\"Image Index\",\n",
        "    yaxis_title=\"Image Index\",\n",
        "    font=dict(size=14),\n",
        "    width=1000,\n",
        "    height=1000,\n",
        "    margin=dict(t=100, r=100, b=100, l=100),\n",
        ")\n",
        "\n",
        "fig.show()"
      ]
    },
    {
      "cell_type": "markdown",
      "metadata": {
        "id": "wWhWXv37H0u4"
      },
      "source": [
        "We can see that there are these diagonals with major yellow color, these are all at a distance of 4 (the number of images we have taken). Using this cosine similarity matrix we can also query for most similar images."
      ]
    }
  ],
  "metadata": {
    "accelerator": "GPU",
    "colab": {
      "provenance": [],
      "toc_visible": true
    },
    "kernelspec": {
      "display_name": "Python 3",
      "name": "python3"
    },
    "language_info": {
      "name": "python"
    }
  },
  "nbformat": 4,
  "nbformat_minor": 0
}
