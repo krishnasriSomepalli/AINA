{
  "cells": [
    {
      "cell_type": "markdown",
      "metadata": {
        "id": "Xkc8YqGxVNC3"
      },
      "source": [
        "### Prepare Dataset of 5 Image"
      ]
    },
    {
      "cell_type": "code",
      "execution_count": null,
      "metadata": {
        "id": "dI7xKBuSFXt3"
      },
      "outputs": [],
      "source": [
        "from PIL import Image, ImageOps"
      ]
    },
    {
      "cell_type": "code",
      "execution_count": null,
      "metadata": {
        "colab": {
          "base_uri": "https://localhost:8080/"
        },
        "id": "r4LMoNsHFf62",
        "outputId": "b81946d2-5353-47ed-ea4f-58a962e4c239"
      },
      "outputs": [
        {
          "name": "stdout",
          "output_type": "stream",
          "text": [
            "Mounted at /content/drive/\n"
          ]
        }
      ],
      "source": [
        "from google.colab import drive\n",
        "drive.mount('/content/drive/')"
      ]
    },
    {
      "cell_type": "code",
      "execution_count": null,
      "metadata": {
        "id": "ba4sYDTdKfRL"
      },
      "outputs": [],
      "source": [
        "import os\n",
        "import cv2\n",
        "import numpy as np"
      ]
    },
    {
      "cell_type": "code",
      "execution_count": null,
      "metadata": {
        "id": "vMAI_hBmKCAn"
      },
      "outputs": [],
      "source": [
        "def get_edited_folders():\n",
        "  return ['bordered/#000', 'bordered/#fff', 'cropped/center', 'cropped/left_half', 'cropped/lower_half', 'cropped/lowerleft_quarter', 'cropped/lowerright_quarter', 'cropped/right_half', 'cropped/upper_half', 'cropped/upperleft_quarter', 'cropped/upperright_quarter', 'filtered/aden', 'filtered/inkwell', 'filtered/lofi', 'mirrored', 'rotated/45', 'rotated/90', 'rotated/180']"
      ]
    },
    {
      "cell_type": "code",
      "execution_count": null,
      "metadata": {
        "id": "2ANqcCaBII5q"
      },
      "outputs": [],
      "source": [
        "# Process Data\n",
        "\n",
        "image_list = [\"BwjvPEAgrRr.jpg\", \"BxNDSVPAXRr.jpg\", \"BxPSFbeHxrR.jpg\", \"BtiVFeUgrrR.jpg\"]\n",
        "\n",
        "labels = []\n",
        "\n",
        "l1 = \"Dog\"\n",
        "l2 = \"Kid\"\n",
        "l3 = \"Party\"\n",
        "l4 = \"Skeeing\"\n",
        "\n",
        "for _ in range(19):\n",
        "    labels.append(l1)\n",
        "    labels.append(l2)\n",
        "    labels.append(l3)\n",
        "    labels.append(l4)\n",
        "\n",
        "# Images\n",
        "\n",
        "image_paths = []\n",
        "\n",
        "original_basepath = '/content/drive/My Drive/DL project/data_plain/r/r'\n",
        "\n",
        "# Original Images\n",
        "for img in image_list:\n",
        "  path1 = original_basepath+\"/\"+img\n",
        "  image_paths.append(path1)\n",
        "\n",
        "edited_folders = get_edited_folders()\n",
        "edited_basepath = original_basepath.replace('data_plain', 'data_prepared')\n",
        "\n",
        "# Edited images\n",
        "for folder in edited_folders:\n",
        "  edited_folders = get_edited_folders()\n",
        "  for img in image_list:\n",
        "    path2 = f'{edited_basepath}/{folder}/{img}'\n",
        "    image_paths.append(path2)"
      ]
    },
    {
      "cell_type": "code",
      "execution_count": null,
      "metadata": {
        "colab": {
          "base_uri": "https://localhost:8080/"
        },
        "id": "JZefWzX2PY7R",
        "outputId": "145c554d-0326-4e01-eb5b-82728ddc788a"
      },
      "outputs": [
        {
          "name": "stdout",
          "output_type": "stream",
          "text": [
            "['Dog', 'Kid', 'Party', 'Skeeing', 'Dog', 'Kid', 'Party', 'Skeeing', 'Dog', 'Kid', 'Party', 'Skeeing', 'Dog', 'Kid', 'Party', 'Skeeing', 'Dog', 'Kid', 'Party', 'Skeeing', 'Dog', 'Kid', 'Party', 'Skeeing', 'Dog', 'Kid', 'Party', 'Skeeing', 'Dog', 'Kid', 'Party', 'Skeeing', 'Dog', 'Kid', 'Party', 'Skeeing', 'Dog', 'Kid', 'Party', 'Skeeing', 'Dog', 'Kid', 'Party', 'Skeeing', 'Dog', 'Kid', 'Party', 'Skeeing', 'Dog', 'Kid', 'Party', 'Skeeing', 'Dog', 'Kid', 'Party', 'Skeeing', 'Dog', 'Kid', 'Party', 'Skeeing', 'Dog', 'Kid', 'Party', 'Skeeing', 'Dog', 'Kid', 'Party', 'Skeeing', 'Dog', 'Kid', 'Party', 'Skeeing', 'Dog', 'Kid', 'Party', 'Skeeing']\n",
            "['/content/drive/My Drive/DL project/data_plain/r/r/BwjvPEAgrRr.jpg', '/content/drive/My Drive/DL project/data_plain/r/r/BxNDSVPAXRr.jpg', '/content/drive/My Drive/DL project/data_plain/r/r/BxPSFbeHxrR.jpg', '/content/drive/My Drive/DL project/data_plain/r/r/BtiVFeUgrrR.jpg', '/content/drive/My Drive/DL project/data_prepared/r/r/bordered/#000/BwjvPEAgrRr.jpg', '/content/drive/My Drive/DL project/data_prepared/r/r/bordered/#000/BxNDSVPAXRr.jpg', '/content/drive/My Drive/DL project/data_prepared/r/r/bordered/#000/BxPSFbeHxrR.jpg', '/content/drive/My Drive/DL project/data_prepared/r/r/bordered/#000/BtiVFeUgrrR.jpg', '/content/drive/My Drive/DL project/data_prepared/r/r/bordered/#fff/BwjvPEAgrRr.jpg', '/content/drive/My Drive/DL project/data_prepared/r/r/bordered/#fff/BxNDSVPAXRr.jpg', '/content/drive/My Drive/DL project/data_prepared/r/r/bordered/#fff/BxPSFbeHxrR.jpg', '/content/drive/My Drive/DL project/data_prepared/r/r/bordered/#fff/BtiVFeUgrrR.jpg', '/content/drive/My Drive/DL project/data_prepared/r/r/cropped/center/BwjvPEAgrRr.jpg', '/content/drive/My Drive/DL project/data_prepared/r/r/cropped/center/BxNDSVPAXRr.jpg', '/content/drive/My Drive/DL project/data_prepared/r/r/cropped/center/BxPSFbeHxrR.jpg', '/content/drive/My Drive/DL project/data_prepared/r/r/cropped/center/BtiVFeUgrrR.jpg', '/content/drive/My Drive/DL project/data_prepared/r/r/cropped/left_half/BwjvPEAgrRr.jpg', '/content/drive/My Drive/DL project/data_prepared/r/r/cropped/left_half/BxNDSVPAXRr.jpg', '/content/drive/My Drive/DL project/data_prepared/r/r/cropped/left_half/BxPSFbeHxrR.jpg', '/content/drive/My Drive/DL project/data_prepared/r/r/cropped/left_half/BtiVFeUgrrR.jpg', '/content/drive/My Drive/DL project/data_prepared/r/r/cropped/lower_half/BwjvPEAgrRr.jpg', '/content/drive/My Drive/DL project/data_prepared/r/r/cropped/lower_half/BxNDSVPAXRr.jpg', '/content/drive/My Drive/DL project/data_prepared/r/r/cropped/lower_half/BxPSFbeHxrR.jpg', '/content/drive/My Drive/DL project/data_prepared/r/r/cropped/lower_half/BtiVFeUgrrR.jpg', '/content/drive/My Drive/DL project/data_prepared/r/r/cropped/lowerleft_quarter/BwjvPEAgrRr.jpg', '/content/drive/My Drive/DL project/data_prepared/r/r/cropped/lowerleft_quarter/BxNDSVPAXRr.jpg', '/content/drive/My Drive/DL project/data_prepared/r/r/cropped/lowerleft_quarter/BxPSFbeHxrR.jpg', '/content/drive/My Drive/DL project/data_prepared/r/r/cropped/lowerleft_quarter/BtiVFeUgrrR.jpg', '/content/drive/My Drive/DL project/data_prepared/r/r/cropped/lowerright_quarter/BwjvPEAgrRr.jpg', '/content/drive/My Drive/DL project/data_prepared/r/r/cropped/lowerright_quarter/BxNDSVPAXRr.jpg', '/content/drive/My Drive/DL project/data_prepared/r/r/cropped/lowerright_quarter/BxPSFbeHxrR.jpg', '/content/drive/My Drive/DL project/data_prepared/r/r/cropped/lowerright_quarter/BtiVFeUgrrR.jpg', '/content/drive/My Drive/DL project/data_prepared/r/r/cropped/right_half/BwjvPEAgrRr.jpg', '/content/drive/My Drive/DL project/data_prepared/r/r/cropped/right_half/BxNDSVPAXRr.jpg', '/content/drive/My Drive/DL project/data_prepared/r/r/cropped/right_half/BxPSFbeHxrR.jpg', '/content/drive/My Drive/DL project/data_prepared/r/r/cropped/right_half/BtiVFeUgrrR.jpg', '/content/drive/My Drive/DL project/data_prepared/r/r/cropped/upper_half/BwjvPEAgrRr.jpg', '/content/drive/My Drive/DL project/data_prepared/r/r/cropped/upper_half/BxNDSVPAXRr.jpg', '/content/drive/My Drive/DL project/data_prepared/r/r/cropped/upper_half/BxPSFbeHxrR.jpg', '/content/drive/My Drive/DL project/data_prepared/r/r/cropped/upper_half/BtiVFeUgrrR.jpg', '/content/drive/My Drive/DL project/data_prepared/r/r/cropped/upperleft_quarter/BwjvPEAgrRr.jpg', '/content/drive/My Drive/DL project/data_prepared/r/r/cropped/upperleft_quarter/BxNDSVPAXRr.jpg', '/content/drive/My Drive/DL project/data_prepared/r/r/cropped/upperleft_quarter/BxPSFbeHxrR.jpg', '/content/drive/My Drive/DL project/data_prepared/r/r/cropped/upperleft_quarter/BtiVFeUgrrR.jpg', '/content/drive/My Drive/DL project/data_prepared/r/r/cropped/upperright_quarter/BwjvPEAgrRr.jpg', '/content/drive/My Drive/DL project/data_prepared/r/r/cropped/upperright_quarter/BxNDSVPAXRr.jpg', '/content/drive/My Drive/DL project/data_prepared/r/r/cropped/upperright_quarter/BxPSFbeHxrR.jpg', '/content/drive/My Drive/DL project/data_prepared/r/r/cropped/upperright_quarter/BtiVFeUgrrR.jpg', '/content/drive/My Drive/DL project/data_prepared/r/r/filtered/aden/BwjvPEAgrRr.jpg', '/content/drive/My Drive/DL project/data_prepared/r/r/filtered/aden/BxNDSVPAXRr.jpg', '/content/drive/My Drive/DL project/data_prepared/r/r/filtered/aden/BxPSFbeHxrR.jpg', '/content/drive/My Drive/DL project/data_prepared/r/r/filtered/aden/BtiVFeUgrrR.jpg', '/content/drive/My Drive/DL project/data_prepared/r/r/filtered/inkwell/BwjvPEAgrRr.jpg', '/content/drive/My Drive/DL project/data_prepared/r/r/filtered/inkwell/BxNDSVPAXRr.jpg', '/content/drive/My Drive/DL project/data_prepared/r/r/filtered/inkwell/BxPSFbeHxrR.jpg', '/content/drive/My Drive/DL project/data_prepared/r/r/filtered/inkwell/BtiVFeUgrrR.jpg', '/content/drive/My Drive/DL project/data_prepared/r/r/filtered/lofi/BwjvPEAgrRr.jpg', '/content/drive/My Drive/DL project/data_prepared/r/r/filtered/lofi/BxNDSVPAXRr.jpg', '/content/drive/My Drive/DL project/data_prepared/r/r/filtered/lofi/BxPSFbeHxrR.jpg', '/content/drive/My Drive/DL project/data_prepared/r/r/filtered/lofi/BtiVFeUgrrR.jpg', '/content/drive/My Drive/DL project/data_prepared/r/r/mirrored/BwjvPEAgrRr.jpg', '/content/drive/My Drive/DL project/data_prepared/r/r/mirrored/BxNDSVPAXRr.jpg', '/content/drive/My Drive/DL project/data_prepared/r/r/mirrored/BxPSFbeHxrR.jpg', '/content/drive/My Drive/DL project/data_prepared/r/r/mirrored/BtiVFeUgrrR.jpg', '/content/drive/My Drive/DL project/data_prepared/r/r/rotated/45/BwjvPEAgrRr.jpg', '/content/drive/My Drive/DL project/data_prepared/r/r/rotated/45/BxNDSVPAXRr.jpg', '/content/drive/My Drive/DL project/data_prepared/r/r/rotated/45/BxPSFbeHxrR.jpg', '/content/drive/My Drive/DL project/data_prepared/r/r/rotated/45/BtiVFeUgrrR.jpg', '/content/drive/My Drive/DL project/data_prepared/r/r/rotated/90/BwjvPEAgrRr.jpg', '/content/drive/My Drive/DL project/data_prepared/r/r/rotated/90/BxNDSVPAXRr.jpg', '/content/drive/My Drive/DL project/data_prepared/r/r/rotated/90/BxPSFbeHxrR.jpg', '/content/drive/My Drive/DL project/data_prepared/r/r/rotated/90/BtiVFeUgrrR.jpg', '/content/drive/My Drive/DL project/data_prepared/r/r/rotated/180/BwjvPEAgrRr.jpg', '/content/drive/My Drive/DL project/data_prepared/r/r/rotated/180/BxNDSVPAXRr.jpg', '/content/drive/My Drive/DL project/data_prepared/r/r/rotated/180/BxPSFbeHxrR.jpg', '/content/drive/My Drive/DL project/data_prepared/r/r/rotated/180/BtiVFeUgrrR.jpg']\n"
          ]
        }
      ],
      "source": [
        "print(labels)\n",
        "\n",
        "print(image_paths)"
      ]
    },
    {
      "cell_type": "markdown",
      "metadata": {
        "id": "7kzeEWBoVwXZ"
      },
      "source": [
        "### Extracting ResNet-50 embeddings"
      ]
    },
    {
      "cell_type": "code",
      "execution_count": null,
      "metadata": {
        "colab": {
          "base_uri": "https://localhost:8080/",
          "height": 151,
          "referenced_widgets": [
            "5589cd69dea249fa9799facc2155bc7d",
            "5cbc18f5037f4514ab10ca2715500a02",
            "3b67030772b143cda2c3909608676cff",
            "8fbc91b9c0304129b2ad75c87aaf326c",
            "e589af1c4ee44eb99b84902ab37d117c",
            "6d6521864bab47c88a95feb2b9cfad3a",
            "939442df634642c694194890746a60cb",
            "b47979a280bb4e25a59147be050eb3f1",
            "944ba727907343069c8a12d730dd3f63",
            "4c0507d53e604fb285003fb7d52e8d4b",
            "47d987a65f2f4179a9e1c27a9da69cd4",
            "38aa743075304167ba2c6a6ea732acdb",
            "13a55803b59a4413b4003405b5d7bb13",
            "654126f5a06d4a959c316426bad55ab5",
            "11ebbcba4350402f84f90580b285ba05",
            "cdf7b1d6c6394c65b3f284c4b755ff17",
            "a28b0b683b3d40d1912a33c26f1c5772",
            "5ec6a44ac52140868cce0ca08bacc4f6",
            "f41ac0d725fa420d870f03d2717b08b3",
            "c18c63bfe7294ebdb69901b3d9ef8d5b",
            "819239a46063440abade8c49cb4ce303",
            "b1d6c5871c344d1e87f45ead28dfba20",
            "f18d721aacb34857bf63cde7dfb9e0a8",
            "70eea139ea0a48e4b814760224414a84",
            "ae18952108d142a7a29e4ac3ddb573a8",
            "1dc957e8fe324257935eabb4b5fd7beb",
            "b630cf1a972341ac88249b502ba44b01",
            "8443c81599e1450892fb6fbf29a2fa59",
            "aa43cc39dd06463499bf29586f149050",
            "a441346caaef4d24a73aab2062ed161b",
            "020852ae0b054b0d90c0d79a3a3b5a50",
            "f23abbe057664785be58fca8fa21ae53",
            "28205e8dacf24b56896512a72cd60996"
          ]
        },
        "id": "VpPNKMlY5hSS",
        "outputId": "d350b9e8-adb9-4ed2-f286-cc1984adec60"
      },
      "outputs": [
        {
          "data": {
            "application/vnd.jupyter.widget-view+json": {
              "model_id": "5589cd69dea249fa9799facc2155bc7d",
              "version_major": 2,
              "version_minor": 0
            },
            "text/plain": [
              "preprocessor_config.json:   0%|          | 0.00/266 [00:00<?, ?B/s]"
            ]
          },
          "metadata": {},
          "output_type": "display_data"
        },
        {
          "name": "stderr",
          "output_type": "stream",
          "text": [
            "Could not find image processor class in the image processor config or the model config. Loading based on pattern matching with the model's feature extractor configuration.\n"
          ]
        },
        {
          "data": {
            "application/vnd.jupyter.widget-view+json": {
              "model_id": "38aa743075304167ba2c6a6ea732acdb",
              "version_major": 2,
              "version_minor": 0
            },
            "text/plain": [
              "config.json:   0%|          | 0.00/69.6k [00:00<?, ?B/s]"
            ]
          },
          "metadata": {},
          "output_type": "display_data"
        },
        {
          "data": {
            "application/vnd.jupyter.widget-view+json": {
              "model_id": "f18d721aacb34857bf63cde7dfb9e0a8",
              "version_major": 2,
              "version_minor": 0
            },
            "text/plain": [
              "pytorch_model.bin:   0%|          | 0.00/103M [00:00<?, ?B/s]"
            ]
          },
          "metadata": {},
          "output_type": "display_data"
        }
      ],
      "source": [
        "from transformers import AutoImageProcessor, ResNetForImageClassification\n",
        "from PIL import Image\n",
        "import numpy as np\n",
        "import os\n",
        "import torch\n",
        "\n",
        "def get_edited_folders():\n",
        "  return ['bordered/#000', 'bordered/#fff', 'cropped/center', 'cropped/left_half', 'cropped/lower_half', 'cropped/lowerleft_quarter', 'cropped/lowerright_quarter', 'cropped/right_half', 'cropped/upper_half', 'cropped/upperleft_quarter', 'cropped/upperright_quarter', 'filtered/aden', 'filtered/inkwell', 'filtered/lofi', 'mirrored', 'rotated/45', 'rotated/90', 'rotated/180']\n",
        "\n",
        "\n",
        "image_processor = AutoImageProcessor.from_pretrained(\"microsoft/resnet-50\")\n",
        "model = ResNetForImageClassification.from_pretrained(\"microsoft/resnet-50\")\n",
        "\n",
        "def get_em(filepath):\n",
        "  image = Image.open(filepath)\n",
        "  inputs = image_processor(image, return_tensors=\"pt\")\n",
        "  with torch.no_grad():\n",
        "      logits = model(**inputs).logits\n",
        "  return logits\n",
        "\n",
        "resnet_embeddings = []\n",
        "for path in image_paths:\n",
        "  resnet_embeddings.append(get_em(path))"
      ]
    },
    {
      "cell_type": "code",
      "execution_count": null,
      "metadata": {
        "colab": {
          "base_uri": "https://localhost:8080/"
        },
        "id": "KZdHp3xbWR9N",
        "outputId": "91ab813e-bc17-48c6-b953-c1215c3303d4"
      },
      "outputs": [
        {
          "data": {
            "text/plain": [
              "76"
            ]
          },
          "execution_count": 8,
          "metadata": {},
          "output_type": "execute_result"
        }
      ],
      "source": [
        "len(resnet_embeddings)"
      ]
    },
    {
      "cell_type": "markdown",
      "metadata": {
        "id": "xyLjeZeeYfbR"
      },
      "source": [
        "### T-SNE plot for resnet embeddings"
      ]
    },
    {
      "cell_type": "code",
      "execution_count": null,
      "metadata": {
        "id": "PS1upbUBWPMv"
      },
      "outputs": [],
      "source": [
        "# Concatenate tensors into a single array\n",
        "concatenated_array = np.concatenate([tensor.numpy().flatten() for tensor in resnet_embeddings], axis=0)\n",
        "\n",
        "# Reshape the concatenated array to have shape (76, 1000)\n",
        "reshaped_array = concatenated_array.reshape(len(resnet_embeddings), -1)"
      ]
    },
    {
      "cell_type": "code",
      "execution_count": null,
      "metadata": {
        "colab": {
          "base_uri": "https://localhost:8080/"
        },
        "id": "IA5MNRylXFNj",
        "outputId": "0eafdb8e-a7f6-4e52-9d58-b4f28a3d924e"
      },
      "outputs": [
        {
          "name": "stdout",
          "output_type": "stream",
          "text": [
            "generating projections with T-SNE took: 0.80 sec\n"
          ]
        }
      ],
      "source": [
        "from sklearn.manifold import TSNE\n",
        "import time\n",
        "\n",
        "start = time.time()\n",
        "tsne = TSNE(n_components = 3, random_state=0)\n",
        "projections = tsne.fit_transform(reshaped_array)\n",
        "end = time.time()\n",
        "print(f\"generating projections with T-SNE took: {(end-start):.2f} sec\")"
      ]
    },
    {
      "cell_type": "code",
      "execution_count": null,
      "metadata": {
        "colab": {
          "base_uri": "https://localhost:8080/"
        },
        "id": "CsYAtQ9PX2SO",
        "outputId": "1bb90fed-e6dc-42e1-b5dc-6e576b84e945"
      },
      "outputs": [
        {
          "data": {
            "text/plain": [
              "76"
            ]
          },
          "execution_count": 11,
          "metadata": {},
          "output_type": "execute_result"
        }
      ],
      "source": [
        "len(projections)"
      ]
    },
    {
      "cell_type": "code",
      "execution_count": null,
      "metadata": {
        "colab": {
          "base_uri": "https://localhost:8080/",
          "height": 542
        },
        "id": "ErlLrYPaX4Zg",
        "outputId": "6599258e-b5be-43ff-d0c0-a994f2bdb4b5"
      },
      "outputs": [
        {
          "data": {
            "text/html": [
              "<html>\n",
              "<head><meta charset=\"utf-8\" /></head>\n",
              "<body>\n",
              "    <div>            <script src=\"https://cdnjs.cloudflare.com/ajax/libs/mathjax/2.7.5/MathJax.js?config=TeX-AMS-MML_SVG\"></script><script type=\"text/javascript\">if (window.MathJax && window.MathJax.Hub && window.MathJax.Hub.Config) {window.MathJax.Hub.Config({SVG: {font: \"STIX-Web\"}});}</script>                <script type=\"text/javascript\">window.PlotlyConfig = {MathJaxConfig: 'local'};</script>\n",
              "        <script charset=\"utf-8\" src=\"https://cdn.plot.ly/plotly-2.24.1.min.js\"></script>                <div id=\"486dd665-2854-4ec5-8089-65aeba5d39b9\" class=\"plotly-graph-div\" style=\"height:525px; width:100%;\"></div>            <script type=\"text/javascript\">                                    window.PLOTLYENV=window.PLOTLYENV || {};                                    if (document.getElementById(\"486dd665-2854-4ec5-8089-65aeba5d39b9\")) {                    Plotly.newPlot(                        \"486dd665-2854-4ec5-8089-65aeba5d39b9\",                        [{\"customdata\":[[\"\\u002fcontent\\u002fdrive\\u002fMy Drive\\u002fDL project\\u002fdata_plain\\u002fr\\u002fr\\u002fBwjvPEAgrRr.jpg\"],[\"\\u002fcontent\\u002fdrive\\u002fMy Drive\\u002fDL project\\u002fdata_prepared\\u002fr\\u002fr\\u002fbordered\\u002f#000\\u002fBwjvPEAgrRr.jpg\"],[\"\\u002fcontent\\u002fdrive\\u002fMy Drive\\u002fDL project\\u002fdata_prepared\\u002fr\\u002fr\\u002fbordered\\u002f#fff\\u002fBwjvPEAgrRr.jpg\"],[\"\\u002fcontent\\u002fdrive\\u002fMy Drive\\u002fDL project\\u002fdata_prepared\\u002fr\\u002fr\\u002fcropped\\u002fcenter\\u002fBwjvPEAgrRr.jpg\"],[\"\\u002fcontent\\u002fdrive\\u002fMy Drive\\u002fDL project\\u002fdata_prepared\\u002fr\\u002fr\\u002fcropped\\u002fleft_half\\u002fBwjvPEAgrRr.jpg\"],[\"\\u002fcontent\\u002fdrive\\u002fMy Drive\\u002fDL project\\u002fdata_prepared\\u002fr\\u002fr\\u002fcropped\\u002flower_half\\u002fBwjvPEAgrRr.jpg\"],[\"\\u002fcontent\\u002fdrive\\u002fMy Drive\\u002fDL project\\u002fdata_prepared\\u002fr\\u002fr\\u002fcropped\\u002flowerleft_quarter\\u002fBwjvPEAgrRr.jpg\"],[\"\\u002fcontent\\u002fdrive\\u002fMy Drive\\u002fDL project\\u002fdata_prepared\\u002fr\\u002fr\\u002fcropped\\u002flowerright_quarter\\u002fBwjvPEAgrRr.jpg\"],[\"\\u002fcontent\\u002fdrive\\u002fMy Drive\\u002fDL project\\u002fdata_prepared\\u002fr\\u002fr\\u002fcropped\\u002fright_half\\u002fBwjvPEAgrRr.jpg\"],[\"\\u002fcontent\\u002fdrive\\u002fMy Drive\\u002fDL project\\u002fdata_prepared\\u002fr\\u002fr\\u002fcropped\\u002fupper_half\\u002fBwjvPEAgrRr.jpg\"],[\"\\u002fcontent\\u002fdrive\\u002fMy Drive\\u002fDL project\\u002fdata_prepared\\u002fr\\u002fr\\u002fcropped\\u002fupperleft_quarter\\u002fBwjvPEAgrRr.jpg\"],[\"\\u002fcontent\\u002fdrive\\u002fMy Drive\\u002fDL project\\u002fdata_prepared\\u002fr\\u002fr\\u002fcropped\\u002fupperright_quarter\\u002fBwjvPEAgrRr.jpg\"],[\"\\u002fcontent\\u002fdrive\\u002fMy Drive\\u002fDL project\\u002fdata_prepared\\u002fr\\u002fr\\u002ffiltered\\u002faden\\u002fBwjvPEAgrRr.jpg\"],[\"\\u002fcontent\\u002fdrive\\u002fMy Drive\\u002fDL project\\u002fdata_prepared\\u002fr\\u002fr\\u002ffiltered\\u002finkwell\\u002fBwjvPEAgrRr.jpg\"],[\"\\u002fcontent\\u002fdrive\\u002fMy Drive\\u002fDL project\\u002fdata_prepared\\u002fr\\u002fr\\u002ffiltered\\u002flofi\\u002fBwjvPEAgrRr.jpg\"],[\"\\u002fcontent\\u002fdrive\\u002fMy Drive\\u002fDL project\\u002fdata_prepared\\u002fr\\u002fr\\u002fmirrored\\u002fBwjvPEAgrRr.jpg\"],[\"\\u002fcontent\\u002fdrive\\u002fMy Drive\\u002fDL project\\u002fdata_prepared\\u002fr\\u002fr\\u002frotated\\u002f45\\u002fBwjvPEAgrRr.jpg\"],[\"\\u002fcontent\\u002fdrive\\u002fMy Drive\\u002fDL project\\u002fdata_prepared\\u002fr\\u002fr\\u002frotated\\u002f90\\u002fBwjvPEAgrRr.jpg\"],[\"\\u002fcontent\\u002fdrive\\u002fMy Drive\\u002fDL project\\u002fdata_prepared\\u002fr\\u002fr\\u002frotated\\u002f180\\u002fBwjvPEAgrRr.jpg\"]],\"hovertemplate\":\"color=Dog\\u003cbr\\u003e0=%{x}\\u003cbr\\u003e1=%{y}\\u003cbr\\u003e2=%{z}\\u003cbr\\u003ehover_data_0=%{customdata[0]}\\u003cextra\\u003e\\u003c\\u002fextra\\u003e\",\"legendgroup\":\"Dog\",\"marker\":{\"color\":\"#636efa\",\"symbol\":\"circle\",\"size\":8},\"mode\":\"markers\",\"name\":\"Dog\",\"scene\":\"scene\",\"showlegend\":true,\"x\":[92.98391723632812,-25.136600494384766,84.19013977050781,-84.01973724365234,-38.16808319091797,-103.48226165771484,136.7760009765625,-120.7620620727539,-97.3080062866211,-94.92417907714844,-58.722816467285156,-94.03641510009766,-51.15800094604492,-89.67769622802734,-52.52250289916992,61.50140380859375,-105.36212158203125,-69.44440460205078,-86.59381866455078],\"y\":[15.487269401550293,96.182373046875,-30.049964904785156,30.84386444091797,93.61981201171875,-24.655426025390625,39.735252380371094,13.288524627685547,74.0992202758789,62.04783630371094,64.986572265625,52.31489181518555,52.929996490478516,-71.22328186035156,99.51444244384766,-19.59441375732422,-27.84735679626465,-5.1073808670043945,-40.49065399169922],\"z\":[82.17351531982422,26.90315818786621,74.7271728515625,69.09587860107422,83.59012603759766,59.21722412109375,4.616497993469238,31.305484771728516,-26.499319076538086,22.993515014648438,51.51298522949219,-64.82112884521484,0.1877143383026123,-42.430084228515625,-8.86438274383545,114.9704818725586,-61.45452117919922,32.974910736083984,13.979787826538086],\"type\":\"scatter3d\"},{\"customdata\":[[\"\\u002fcontent\\u002fdrive\\u002fMy Drive\\u002fDL project\\u002fdata_plain\\u002fr\\u002fr\\u002fBxNDSVPAXRr.jpg\"],[\"\\u002fcontent\\u002fdrive\\u002fMy Drive\\u002fDL project\\u002fdata_prepared\\u002fr\\u002fr\\u002fbordered\\u002f#000\\u002fBxNDSVPAXRr.jpg\"],[\"\\u002fcontent\\u002fdrive\\u002fMy Drive\\u002fDL project\\u002fdata_prepared\\u002fr\\u002fr\\u002fbordered\\u002f#fff\\u002fBxNDSVPAXRr.jpg\"],[\"\\u002fcontent\\u002fdrive\\u002fMy Drive\\u002fDL project\\u002fdata_prepared\\u002fr\\u002fr\\u002fcropped\\u002fcenter\\u002fBxNDSVPAXRr.jpg\"],[\"\\u002fcontent\\u002fdrive\\u002fMy Drive\\u002fDL project\\u002fdata_prepared\\u002fr\\u002fr\\u002fcropped\\u002fleft_half\\u002fBxNDSVPAXRr.jpg\"],[\"\\u002fcontent\\u002fdrive\\u002fMy Drive\\u002fDL project\\u002fdata_prepared\\u002fr\\u002fr\\u002fcropped\\u002flower_half\\u002fBxNDSVPAXRr.jpg\"],[\"\\u002fcontent\\u002fdrive\\u002fMy Drive\\u002fDL project\\u002fdata_prepared\\u002fr\\u002fr\\u002fcropped\\u002flowerleft_quarter\\u002fBxNDSVPAXRr.jpg\"],[\"\\u002fcontent\\u002fdrive\\u002fMy Drive\\u002fDL project\\u002fdata_prepared\\u002fr\\u002fr\\u002fcropped\\u002flowerright_quarter\\u002fBxNDSVPAXRr.jpg\"],[\"\\u002fcontent\\u002fdrive\\u002fMy Drive\\u002fDL project\\u002fdata_prepared\\u002fr\\u002fr\\u002fcropped\\u002fright_half\\u002fBxNDSVPAXRr.jpg\"],[\"\\u002fcontent\\u002fdrive\\u002fMy Drive\\u002fDL project\\u002fdata_prepared\\u002fr\\u002fr\\u002fcropped\\u002fupper_half\\u002fBxNDSVPAXRr.jpg\"],[\"\\u002fcontent\\u002fdrive\\u002fMy Drive\\u002fDL project\\u002fdata_prepared\\u002fr\\u002fr\\u002fcropped\\u002fupperleft_quarter\\u002fBxNDSVPAXRr.jpg\"],[\"\\u002fcontent\\u002fdrive\\u002fMy Drive\\u002fDL project\\u002fdata_prepared\\u002fr\\u002fr\\u002fcropped\\u002fupperright_quarter\\u002fBxNDSVPAXRr.jpg\"],[\"\\u002fcontent\\u002fdrive\\u002fMy Drive\\u002fDL project\\u002fdata_prepared\\u002fr\\u002fr\\u002ffiltered\\u002faden\\u002fBxNDSVPAXRr.jpg\"],[\"\\u002fcontent\\u002fdrive\\u002fMy Drive\\u002fDL project\\u002fdata_prepared\\u002fr\\u002fr\\u002ffiltered\\u002finkwell\\u002fBxNDSVPAXRr.jpg\"],[\"\\u002fcontent\\u002fdrive\\u002fMy Drive\\u002fDL project\\u002fdata_prepared\\u002fr\\u002fr\\u002ffiltered\\u002flofi\\u002fBxNDSVPAXRr.jpg\"],[\"\\u002fcontent\\u002fdrive\\u002fMy Drive\\u002fDL project\\u002fdata_prepared\\u002fr\\u002fr\\u002fmirrored\\u002fBxNDSVPAXRr.jpg\"],[\"\\u002fcontent\\u002fdrive\\u002fMy Drive\\u002fDL project\\u002fdata_prepared\\u002fr\\u002fr\\u002frotated\\u002f45\\u002fBxNDSVPAXRr.jpg\"],[\"\\u002fcontent\\u002fdrive\\u002fMy Drive\\u002fDL project\\u002fdata_prepared\\u002fr\\u002fr\\u002frotated\\u002f90\\u002fBxNDSVPAXRr.jpg\"],[\"\\u002fcontent\\u002fdrive\\u002fMy Drive\\u002fDL project\\u002fdata_prepared\\u002fr\\u002fr\\u002frotated\\u002f180\\u002fBxNDSVPAXRr.jpg\"]],\"hovertemplate\":\"color=Kid\\u003cbr\\u003e0=%{x}\\u003cbr\\u003e1=%{y}\\u003cbr\\u003e2=%{z}\\u003cbr\\u003ehover_data_0=%{customdata[0]}\\u003cextra\\u003e\\u003c\\u002fextra\\u003e\",\"legendgroup\":\"Kid\",\"marker\":{\"color\":\"#EF553B\",\"symbol\":\"circle\",\"size\":8},\"mode\":\"markers\",\"name\":\"Kid\",\"scene\":\"scene\",\"showlegend\":true,\"x\":[71.26302337646484,105.44123840332031,77.31352996826172,97.74492645263672,63.61958312988281,64.36444091796875,45.11134338378906,85.95354461669922,65.33881378173828,16.227834701538086,69.37814331054688,30.817224502563477,103.67250061035156,31.612747192382812,43.736392974853516,49.28515625,113.08238983154297,87.17186737060547,40.40376663208008],\"y\":[-42.64982223510742,-13.023421287536621,-36.87805938720703,5.630626678466797,-75.0696792602539,9.442052841186523,-115.22332763671875,45.578887939453125,-23.18120574951172,-42.34271240234375,30.258127212524414,-7.6356024742126465,-68.53829193115234,-66.59016418457031,33.34929656982422,-6.098947525024414,-39.472259521484375,-11.961433410644531,-41.18317413330078],\"z\":[-61.38949966430664,0.7828330993652344,19.351970672607422,-44.41054916381836,-24.204933166503906,34.31072235107422,-44.401824951171875,-74.09004211425781,-22.48522186279297,-20.84331512451172,-13.00078010559082,-1.6802551746368408,-1.1389038562774658,-63.33295822143555,-51.94921112060547,-60.578834533691406,-47.223812103271484,-95.67286682128906,-105.19222259521484],\"type\":\"scatter3d\"},{\"customdata\":[[\"\\u002fcontent\\u002fdrive\\u002fMy Drive\\u002fDL project\\u002fdata_plain\\u002fr\\u002fr\\u002fBxPSFbeHxrR.jpg\"],[\"\\u002fcontent\\u002fdrive\\u002fMy Drive\\u002fDL project\\u002fdata_prepared\\u002fr\\u002fr\\u002fbordered\\u002f#000\\u002fBxPSFbeHxrR.jpg\"],[\"\\u002fcontent\\u002fdrive\\u002fMy Drive\\u002fDL project\\u002fdata_prepared\\u002fr\\u002fr\\u002fbordered\\u002f#fff\\u002fBxPSFbeHxrR.jpg\"],[\"\\u002fcontent\\u002fdrive\\u002fMy Drive\\u002fDL project\\u002fdata_prepared\\u002fr\\u002fr\\u002fcropped\\u002fcenter\\u002fBxPSFbeHxrR.jpg\"],[\"\\u002fcontent\\u002fdrive\\u002fMy Drive\\u002fDL project\\u002fdata_prepared\\u002fr\\u002fr\\u002fcropped\\u002fleft_half\\u002fBxPSFbeHxrR.jpg\"],[\"\\u002fcontent\\u002fdrive\\u002fMy Drive\\u002fDL project\\u002fdata_prepared\\u002fr\\u002fr\\u002fcropped\\u002flower_half\\u002fBxPSFbeHxrR.jpg\"],[\"\\u002fcontent\\u002fdrive\\u002fMy Drive\\u002fDL project\\u002fdata_prepared\\u002fr\\u002fr\\u002fcropped\\u002flowerleft_quarter\\u002fBxPSFbeHxrR.jpg\"],[\"\\u002fcontent\\u002fdrive\\u002fMy Drive\\u002fDL project\\u002fdata_prepared\\u002fr\\u002fr\\u002fcropped\\u002flowerright_quarter\\u002fBxPSFbeHxrR.jpg\"],[\"\\u002fcontent\\u002fdrive\\u002fMy Drive\\u002fDL project\\u002fdata_prepared\\u002fr\\u002fr\\u002fcropped\\u002fright_half\\u002fBxPSFbeHxrR.jpg\"],[\"\\u002fcontent\\u002fdrive\\u002fMy Drive\\u002fDL project\\u002fdata_prepared\\u002fr\\u002fr\\u002fcropped\\u002fupper_half\\u002fBxPSFbeHxrR.jpg\"],[\"\\u002fcontent\\u002fdrive\\u002fMy Drive\\u002fDL project\\u002fdata_prepared\\u002fr\\u002fr\\u002fcropped\\u002fupperleft_quarter\\u002fBxPSFbeHxrR.jpg\"],[\"\\u002fcontent\\u002fdrive\\u002fMy Drive\\u002fDL project\\u002fdata_prepared\\u002fr\\u002fr\\u002fcropped\\u002fupperright_quarter\\u002fBxPSFbeHxrR.jpg\"],[\"\\u002fcontent\\u002fdrive\\u002fMy Drive\\u002fDL project\\u002fdata_prepared\\u002fr\\u002fr\\u002ffiltered\\u002faden\\u002fBxPSFbeHxrR.jpg\"],[\"\\u002fcontent\\u002fdrive\\u002fMy Drive\\u002fDL project\\u002fdata_prepared\\u002fr\\u002fr\\u002ffiltered\\u002finkwell\\u002fBxPSFbeHxrR.jpg\"],[\"\\u002fcontent\\u002fdrive\\u002fMy Drive\\u002fDL project\\u002fdata_prepared\\u002fr\\u002fr\\u002ffiltered\\u002flofi\\u002fBxPSFbeHxrR.jpg\"],[\"\\u002fcontent\\u002fdrive\\u002fMy Drive\\u002fDL project\\u002fdata_prepared\\u002fr\\u002fr\\u002fmirrored\\u002fBxPSFbeHxrR.jpg\"],[\"\\u002fcontent\\u002fdrive\\u002fMy Drive\\u002fDL project\\u002fdata_prepared\\u002fr\\u002fr\\u002frotated\\u002f45\\u002fBxPSFbeHxrR.jpg\"],[\"\\u002fcontent\\u002fdrive\\u002fMy Drive\\u002fDL project\\u002fdata_prepared\\u002fr\\u002fr\\u002frotated\\u002f90\\u002fBxPSFbeHxrR.jpg\"],[\"\\u002fcontent\\u002fdrive\\u002fMy Drive\\u002fDL project\\u002fdata_prepared\\u002fr\\u002fr\\u002frotated\\u002f180\\u002fBxPSFbeHxrR.jpg\"]],\"hovertemplate\":\"color=Party\\u003cbr\\u003e0=%{x}\\u003cbr\\u003e1=%{y}\\u003cbr\\u003e2=%{z}\\u003cbr\\u003ehover_data_0=%{customdata[0]}\\u003cextra\\u003e\\u003c\\u002fextra\\u003e\",\"legendgroup\":\"Party\",\"marker\":{\"color\":\"#00cc96\",\"symbol\":\"circle\",\"size\":8},\"mode\":\"markers\",\"name\":\"Party\",\"scene\":\"scene\",\"showlegend\":true,\"x\":[-19.742338180541992,20.139453887939453,4.306922435760498,29.694374084472656,-0.3428928256034851,29.4234619140625,23.510068893432617,-11.27425765991211,-44.21921157836914,-40.64952087402344,48.755191802978516,-8.619643211364746,22.352365493774414,-52.75210952758789,4.097065448760986,-28.221790313720703,-73.51272583007812,-6.991363048553467,19.45046615600586],\"y\":[-45.276756286621094,-20.670297622680664,79.31298065185547,62.06864547729492,-99.58065795898438,21.811744689941406,-96.02237701416016,-1.3124462366104126,-32.069664001464844,-82.3250732421875,-97.31571960449219,-64.14418029785156,-51.84690856933594,-80.8017349243164,30.46769142150879,14.37669563293457,124.29002380371094,-20.486928939819336,16.018863677978516],\"z\":[45.04964065551758,76.55989074707031,-22.398283004760742,112.075927734375,57.92226028442383,-118.0146713256836,19.84229850769043,48.761627197265625,87.52867889404297,24.066383361816406,64.78375244140625,93.28948974609375,45.26836395263672,74.13065338134766,-5.655142784118652,95.3563003540039,50.62461853027344,122.62547302246094,103.16411590576172],\"type\":\"scatter3d\"},{\"customdata\":[[\"\\u002fcontent\\u002fdrive\\u002fMy Drive\\u002fDL project\\u002fdata_plain\\u002fr\\u002fr\\u002fBtiVFeUgrrR.jpg\"],[\"\\u002fcontent\\u002fdrive\\u002fMy Drive\\u002fDL project\\u002fdata_prepared\\u002fr\\u002fr\\u002fbordered\\u002f#000\\u002fBtiVFeUgrrR.jpg\"],[\"\\u002fcontent\\u002fdrive\\u002fMy Drive\\u002fDL project\\u002fdata_prepared\\u002fr\\u002fr\\u002fbordered\\u002f#fff\\u002fBtiVFeUgrrR.jpg\"],[\"\\u002fcontent\\u002fdrive\\u002fMy Drive\\u002fDL project\\u002fdata_prepared\\u002fr\\u002fr\\u002fcropped\\u002fcenter\\u002fBtiVFeUgrrR.jpg\"],[\"\\u002fcontent\\u002fdrive\\u002fMy Drive\\u002fDL project\\u002fdata_prepared\\u002fr\\u002fr\\u002fcropped\\u002fleft_half\\u002fBtiVFeUgrrR.jpg\"],[\"\\u002fcontent\\u002fdrive\\u002fMy Drive\\u002fDL project\\u002fdata_prepared\\u002fr\\u002fr\\u002fcropped\\u002flower_half\\u002fBtiVFeUgrrR.jpg\"],[\"\\u002fcontent\\u002fdrive\\u002fMy Drive\\u002fDL project\\u002fdata_prepared\\u002fr\\u002fr\\u002fcropped\\u002flowerleft_quarter\\u002fBtiVFeUgrrR.jpg\"],[\"\\u002fcontent\\u002fdrive\\u002fMy Drive\\u002fDL project\\u002fdata_prepared\\u002fr\\u002fr\\u002fcropped\\u002flowerright_quarter\\u002fBtiVFeUgrrR.jpg\"],[\"\\u002fcontent\\u002fdrive\\u002fMy Drive\\u002fDL project\\u002fdata_prepared\\u002fr\\u002fr\\u002fcropped\\u002fright_half\\u002fBtiVFeUgrrR.jpg\"],[\"\\u002fcontent\\u002fdrive\\u002fMy Drive\\u002fDL project\\u002fdata_prepared\\u002fr\\u002fr\\u002fcropped\\u002fupper_half\\u002fBtiVFeUgrrR.jpg\"],[\"\\u002fcontent\\u002fdrive\\u002fMy Drive\\u002fDL project\\u002fdata_prepared\\u002fr\\u002fr\\u002fcropped\\u002fupperleft_quarter\\u002fBtiVFeUgrrR.jpg\"],[\"\\u002fcontent\\u002fdrive\\u002fMy Drive\\u002fDL project\\u002fdata_prepared\\u002fr\\u002fr\\u002fcropped\\u002fupperright_quarter\\u002fBtiVFeUgrrR.jpg\"],[\"\\u002fcontent\\u002fdrive\\u002fMy Drive\\u002fDL project\\u002fdata_prepared\\u002fr\\u002fr\\u002ffiltered\\u002faden\\u002fBtiVFeUgrrR.jpg\"],[\"\\u002fcontent\\u002fdrive\\u002fMy Drive\\u002fDL project\\u002fdata_prepared\\u002fr\\u002fr\\u002ffiltered\\u002finkwell\\u002fBtiVFeUgrrR.jpg\"],[\"\\u002fcontent\\u002fdrive\\u002fMy Drive\\u002fDL project\\u002fdata_prepared\\u002fr\\u002fr\\u002ffiltered\\u002flofi\\u002fBtiVFeUgrrR.jpg\"],[\"\\u002fcontent\\u002fdrive\\u002fMy Drive\\u002fDL project\\u002fdata_prepared\\u002fr\\u002fr\\u002fmirrored\\u002fBtiVFeUgrrR.jpg\"],[\"\\u002fcontent\\u002fdrive\\u002fMy Drive\\u002fDL project\\u002fdata_prepared\\u002fr\\u002fr\\u002frotated\\u002f45\\u002fBtiVFeUgrrR.jpg\"],[\"\\u002fcontent\\u002fdrive\\u002fMy Drive\\u002fDL project\\u002fdata_prepared\\u002fr\\u002fr\\u002frotated\\u002f90\\u002fBtiVFeUgrrR.jpg\"],[\"\\u002fcontent\\u002fdrive\\u002fMy Drive\\u002fDL project\\u002fdata_prepared\\u002fr\\u002fr\\u002frotated\\u002f180\\u002fBtiVFeUgrrR.jpg\"]],\"hovertemplate\":\"color=Skeeing\\u003cbr\\u003e0=%{x}\\u003cbr\\u003e1=%{y}\\u003cbr\\u003e2=%{z}\\u003cbr\\u003ehover_data_0=%{customdata[0]}\\u003cextra\\u003e\\u003c\\u002fextra\\u003e\",\"legendgroup\":\"Skeeing\",\"marker\":{\"color\":\"#ab63fa\",\"symbol\":\"circle\",\"size\":8},\"mode\":\"markers\",\"name\":\"Skeeing\",\"scene\":\"scene\",\"showlegend\":true,\"x\":[-33.113563537597656,-125.7745361328125,36.597930908203125,91.11785125732422,39.075599670410156,-45.67608642578125,-54.81195068359375,-71.7203369140625,-22.442548751831055,-8.81732177734375,55.15645980834961,1.5909345149993896,-27.451929092407227,-28.02291488647461,-22.29929542541504,-29.1663875579834,39.30946350097656,-2.2870781421661377,64.20466613769531],\"y\":[33.40394592285156,15.78094482421875,114.74845886230469,80.95403289794922,-74.88146209716797,-19.11159896850586,0.7588780522346497,4.660797595977783,-109.520263671875,45.18357849121094,96.92900848388672,64.85545349121094,74.99040985107422,-9.681076049804688,37.95903015136719,-59.97883605957031,64.32042694091797,-5.2342143058776855,71.93756103515625],\"z\":[-51.08917999267578,-31.707603454589844,30.460969924926758,20.635578155517578,141.13858032226562,-57.898216247558594,-95.08179473876953,-21.400127410888672,-21.84166717529297,36.78119659423828,-22.85716438293457,67.9466552734375,-69.32251739501953,-11.844733238220215,-95.27157592773438,-59.079872131347656,19.596454620361328,-69.92057800292969,61.83940124511719],\"type\":\"scatter3d\"}],                        {\"template\":{\"data\":{\"histogram2dcontour\":[{\"type\":\"histogram2dcontour\",\"colorbar\":{\"outlinewidth\":0,\"ticks\":\"\"},\"colorscale\":[[0.0,\"#0d0887\"],[0.1111111111111111,\"#46039f\"],[0.2222222222222222,\"#7201a8\"],[0.3333333333333333,\"#9c179e\"],[0.4444444444444444,\"#bd3786\"],[0.5555555555555556,\"#d8576b\"],[0.6666666666666666,\"#ed7953\"],[0.7777777777777778,\"#fb9f3a\"],[0.8888888888888888,\"#fdca26\"],[1.0,\"#f0f921\"]]}],\"choropleth\":[{\"type\":\"choropleth\",\"colorbar\":{\"outlinewidth\":0,\"ticks\":\"\"}}],\"histogram2d\":[{\"type\":\"histogram2d\",\"colorbar\":{\"outlinewidth\":0,\"ticks\":\"\"},\"colorscale\":[[0.0,\"#0d0887\"],[0.1111111111111111,\"#46039f\"],[0.2222222222222222,\"#7201a8\"],[0.3333333333333333,\"#9c179e\"],[0.4444444444444444,\"#bd3786\"],[0.5555555555555556,\"#d8576b\"],[0.6666666666666666,\"#ed7953\"],[0.7777777777777778,\"#fb9f3a\"],[0.8888888888888888,\"#fdca26\"],[1.0,\"#f0f921\"]]}],\"heatmap\":[{\"type\":\"heatmap\",\"colorbar\":{\"outlinewidth\":0,\"ticks\":\"\"},\"colorscale\":[[0.0,\"#0d0887\"],[0.1111111111111111,\"#46039f\"],[0.2222222222222222,\"#7201a8\"],[0.3333333333333333,\"#9c179e\"],[0.4444444444444444,\"#bd3786\"],[0.5555555555555556,\"#d8576b\"],[0.6666666666666666,\"#ed7953\"],[0.7777777777777778,\"#fb9f3a\"],[0.8888888888888888,\"#fdca26\"],[1.0,\"#f0f921\"]]}],\"heatmapgl\":[{\"type\":\"heatmapgl\",\"colorbar\":{\"outlinewidth\":0,\"ticks\":\"\"},\"colorscale\":[[0.0,\"#0d0887\"],[0.1111111111111111,\"#46039f\"],[0.2222222222222222,\"#7201a8\"],[0.3333333333333333,\"#9c179e\"],[0.4444444444444444,\"#bd3786\"],[0.5555555555555556,\"#d8576b\"],[0.6666666666666666,\"#ed7953\"],[0.7777777777777778,\"#fb9f3a\"],[0.8888888888888888,\"#fdca26\"],[1.0,\"#f0f921\"]]}],\"contourcarpet\":[{\"type\":\"contourcarpet\",\"colorbar\":{\"outlinewidth\":0,\"ticks\":\"\"}}],\"contour\":[{\"type\":\"contour\",\"colorbar\":{\"outlinewidth\":0,\"ticks\":\"\"},\"colorscale\":[[0.0,\"#0d0887\"],[0.1111111111111111,\"#46039f\"],[0.2222222222222222,\"#7201a8\"],[0.3333333333333333,\"#9c179e\"],[0.4444444444444444,\"#bd3786\"],[0.5555555555555556,\"#d8576b\"],[0.6666666666666666,\"#ed7953\"],[0.7777777777777778,\"#fb9f3a\"],[0.8888888888888888,\"#fdca26\"],[1.0,\"#f0f921\"]]}],\"surface\":[{\"type\":\"surface\",\"colorbar\":{\"outlinewidth\":0,\"ticks\":\"\"},\"colorscale\":[[0.0,\"#0d0887\"],[0.1111111111111111,\"#46039f\"],[0.2222222222222222,\"#7201a8\"],[0.3333333333333333,\"#9c179e\"],[0.4444444444444444,\"#bd3786\"],[0.5555555555555556,\"#d8576b\"],[0.6666666666666666,\"#ed7953\"],[0.7777777777777778,\"#fb9f3a\"],[0.8888888888888888,\"#fdca26\"],[1.0,\"#f0f921\"]]}],\"mesh3d\":[{\"type\":\"mesh3d\",\"colorbar\":{\"outlinewidth\":0,\"ticks\":\"\"}}],\"scatter\":[{\"fillpattern\":{\"fillmode\":\"overlay\",\"size\":10,\"solidity\":0.2},\"type\":\"scatter\"}],\"parcoords\":[{\"type\":\"parcoords\",\"line\":{\"colorbar\":{\"outlinewidth\":0,\"ticks\":\"\"}}}],\"scatterpolargl\":[{\"type\":\"scatterpolargl\",\"marker\":{\"colorbar\":{\"outlinewidth\":0,\"ticks\":\"\"}}}],\"bar\":[{\"error_x\":{\"color\":\"#2a3f5f\"},\"error_y\":{\"color\":\"#2a3f5f\"},\"marker\":{\"line\":{\"color\":\"#E5ECF6\",\"width\":0.5},\"pattern\":{\"fillmode\":\"overlay\",\"size\":10,\"solidity\":0.2}},\"type\":\"bar\"}],\"scattergeo\":[{\"type\":\"scattergeo\",\"marker\":{\"colorbar\":{\"outlinewidth\":0,\"ticks\":\"\"}}}],\"scatterpolar\":[{\"type\":\"scatterpolar\",\"marker\":{\"colorbar\":{\"outlinewidth\":0,\"ticks\":\"\"}}}],\"histogram\":[{\"marker\":{\"pattern\":{\"fillmode\":\"overlay\",\"size\":10,\"solidity\":0.2}},\"type\":\"histogram\"}],\"scattergl\":[{\"type\":\"scattergl\",\"marker\":{\"colorbar\":{\"outlinewidth\":0,\"ticks\":\"\"}}}],\"scatter3d\":[{\"type\":\"scatter3d\",\"line\":{\"colorbar\":{\"outlinewidth\":0,\"ticks\":\"\"}},\"marker\":{\"colorbar\":{\"outlinewidth\":0,\"ticks\":\"\"}}}],\"scattermapbox\":[{\"type\":\"scattermapbox\",\"marker\":{\"colorbar\":{\"outlinewidth\":0,\"ticks\":\"\"}}}],\"scatterternary\":[{\"type\":\"scatterternary\",\"marker\":{\"colorbar\":{\"outlinewidth\":0,\"ticks\":\"\"}}}],\"scattercarpet\":[{\"type\":\"scattercarpet\",\"marker\":{\"colorbar\":{\"outlinewidth\":0,\"ticks\":\"\"}}}],\"carpet\":[{\"aaxis\":{\"endlinecolor\":\"#2a3f5f\",\"gridcolor\":\"white\",\"linecolor\":\"white\",\"minorgridcolor\":\"white\",\"startlinecolor\":\"#2a3f5f\"},\"baxis\":{\"endlinecolor\":\"#2a3f5f\",\"gridcolor\":\"white\",\"linecolor\":\"white\",\"minorgridcolor\":\"white\",\"startlinecolor\":\"#2a3f5f\"},\"type\":\"carpet\"}],\"table\":[{\"cells\":{\"fill\":{\"color\":\"#EBF0F8\"},\"line\":{\"color\":\"white\"}},\"header\":{\"fill\":{\"color\":\"#C8D4E3\"},\"line\":{\"color\":\"white\"}},\"type\":\"table\"}],\"barpolar\":[{\"marker\":{\"line\":{\"color\":\"#E5ECF6\",\"width\":0.5},\"pattern\":{\"fillmode\":\"overlay\",\"size\":10,\"solidity\":0.2}},\"type\":\"barpolar\"}],\"pie\":[{\"automargin\":true,\"type\":\"pie\"}]},\"layout\":{\"autotypenumbers\":\"strict\",\"colorway\":[\"#636efa\",\"#EF553B\",\"#00cc96\",\"#ab63fa\",\"#FFA15A\",\"#19d3f3\",\"#FF6692\",\"#B6E880\",\"#FF97FF\",\"#FECB52\"],\"font\":{\"color\":\"#2a3f5f\"},\"hovermode\":\"closest\",\"hoverlabel\":{\"align\":\"left\"},\"paper_bgcolor\":\"white\",\"plot_bgcolor\":\"#E5ECF6\",\"polar\":{\"bgcolor\":\"#E5ECF6\",\"angularaxis\":{\"gridcolor\":\"white\",\"linecolor\":\"white\",\"ticks\":\"\"},\"radialaxis\":{\"gridcolor\":\"white\",\"linecolor\":\"white\",\"ticks\":\"\"}},\"ternary\":{\"bgcolor\":\"#E5ECF6\",\"aaxis\":{\"gridcolor\":\"white\",\"linecolor\":\"white\",\"ticks\":\"\"},\"baxis\":{\"gridcolor\":\"white\",\"linecolor\":\"white\",\"ticks\":\"\"},\"caxis\":{\"gridcolor\":\"white\",\"linecolor\":\"white\",\"ticks\":\"\"}},\"coloraxis\":{\"colorbar\":{\"outlinewidth\":0,\"ticks\":\"\"}},\"colorscale\":{\"sequential\":[[0.0,\"#0d0887\"],[0.1111111111111111,\"#46039f\"],[0.2222222222222222,\"#7201a8\"],[0.3333333333333333,\"#9c179e\"],[0.4444444444444444,\"#bd3786\"],[0.5555555555555556,\"#d8576b\"],[0.6666666666666666,\"#ed7953\"],[0.7777777777777778,\"#fb9f3a\"],[0.8888888888888888,\"#fdca26\"],[1.0,\"#f0f921\"]],\"sequentialminus\":[[0.0,\"#0d0887\"],[0.1111111111111111,\"#46039f\"],[0.2222222222222222,\"#7201a8\"],[0.3333333333333333,\"#9c179e\"],[0.4444444444444444,\"#bd3786\"],[0.5555555555555556,\"#d8576b\"],[0.6666666666666666,\"#ed7953\"],[0.7777777777777778,\"#fb9f3a\"],[0.8888888888888888,\"#fdca26\"],[1.0,\"#f0f921\"]],\"diverging\":[[0,\"#8e0152\"],[0.1,\"#c51b7d\"],[0.2,\"#de77ae\"],[0.3,\"#f1b6da\"],[0.4,\"#fde0ef\"],[0.5,\"#f7f7f7\"],[0.6,\"#e6f5d0\"],[0.7,\"#b8e186\"],[0.8,\"#7fbc41\"],[0.9,\"#4d9221\"],[1,\"#276419\"]]},\"xaxis\":{\"gridcolor\":\"white\",\"linecolor\":\"white\",\"ticks\":\"\",\"title\":{\"standoff\":15},\"zerolinecolor\":\"white\",\"automargin\":true,\"zerolinewidth\":2},\"yaxis\":{\"gridcolor\":\"white\",\"linecolor\":\"white\",\"ticks\":\"\",\"title\":{\"standoff\":15},\"zerolinecolor\":\"white\",\"automargin\":true,\"zerolinewidth\":2},\"scene\":{\"xaxis\":{\"backgroundcolor\":\"#E5ECF6\",\"gridcolor\":\"white\",\"linecolor\":\"white\",\"showbackground\":true,\"ticks\":\"\",\"zerolinecolor\":\"white\",\"gridwidth\":2},\"yaxis\":{\"backgroundcolor\":\"#E5ECF6\",\"gridcolor\":\"white\",\"linecolor\":\"white\",\"showbackground\":true,\"ticks\":\"\",\"zerolinecolor\":\"white\",\"gridwidth\":2},\"zaxis\":{\"backgroundcolor\":\"#E5ECF6\",\"gridcolor\":\"white\",\"linecolor\":\"white\",\"showbackground\":true,\"ticks\":\"\",\"zerolinecolor\":\"white\",\"gridwidth\":2}},\"shapedefaults\":{\"line\":{\"color\":\"#2a3f5f\"}},\"annotationdefaults\":{\"arrowcolor\":\"#2a3f5f\",\"arrowhead\":0,\"arrowwidth\":1},\"geo\":{\"bgcolor\":\"white\",\"landcolor\":\"#E5ECF6\",\"subunitcolor\":\"white\",\"showland\":true,\"showlakes\":true,\"lakecolor\":\"white\"},\"title\":{\"x\":0.05},\"mapbox\":{\"style\":\"light\"}}},\"scene\":{\"domain\":{\"x\":[0.0,1.0],\"y\":[0.0,1.0]},\"xaxis\":{\"title\":{\"text\":\"0\"}},\"yaxis\":{\"title\":{\"text\":\"1\"}},\"zaxis\":{\"title\":{\"text\":\"2\"}}},\"legend\":{\"title\":{\"text\":\"color\"},\"tracegroupgap\":0},\"margin\":{\"t\":60}},                        {\"responsive\": true}                    ).then(function(){\n",
              "                            \n",
              "var gd = document.getElementById('486dd665-2854-4ec5-8089-65aeba5d39b9');\n",
              "var x = new MutationObserver(function (mutations, observer) {{\n",
              "        var display = window.getComputedStyle(gd).display;\n",
              "        if (!display || display === 'none') {{\n",
              "            console.log([gd, 'removed!']);\n",
              "            Plotly.purge(gd);\n",
              "            observer.disconnect();\n",
              "        }}\n",
              "}});\n",
              "\n",
              "// Listen for the removal of the full notebook cells\n",
              "var notebookContainer = gd.closest('#notebook-container');\n",
              "if (notebookContainer) {{\n",
              "    x.observe(notebookContainer, {childList: true});\n",
              "}}\n",
              "\n",
              "// Listen for the clearing of the current output cell\n",
              "var outputEl = gd.closest('.output');\n",
              "if (outputEl) {{\n",
              "    x.observe(outputEl, {childList: true});\n",
              "}}\n",
              "\n",
              "                        })                };                            </script>        </div>\n",
              "</body>\n",
              "</html>"
            ]
          },
          "metadata": {},
          "output_type": "display_data"
        }
      ],
      "source": [
        "import plotly.express as px\n",
        "fig = px.scatter_3d(\n",
        "    projections, x=0, y=1, z=2,\n",
        "    color=labels, hover_data=[image_paths]\n",
        ")\n",
        "fig.update_traces(marker_size=8)\n",
        "fig.show()"
      ]
    },
    {
      "cell_type": "markdown",
      "metadata": {
        "id": "3E4I_BUnZY83"
      },
      "source": [
        "### UMAP for resnet embeddings"
      ]
    },
    {
      "cell_type": "code",
      "execution_count": null,
      "metadata": {
        "colab": {
          "base_uri": "https://localhost:8080/"
        },
        "id": "ws79drnuYIQJ",
        "outputId": "29abe06e-694d-4644-b965-73f835dc2bde"
      },
      "outputs": [
        {
          "name": "stdout",
          "output_type": "stream",
          "text": [
            "\u001b[2K     \u001b[90m━━━━━━━━━━━━━━━━━━━━━━━━━━━━━━━━━━━━━━━━\u001b[0m \u001b[32m90.9/90.9 kB\u001b[0m \u001b[31m2.7 MB/s\u001b[0m eta \u001b[36m0:00:00\u001b[0m\n",
            "\u001b[?25h  Preparing metadata (setup.py) ... \u001b[?25l\u001b[?25hdone\n",
            "\u001b[2K     \u001b[90m━━━━━━━━━━━━━━━━━━━━━━━━━━━━━━━━━━━━━━━━\u001b[0m \u001b[32m55.8/55.8 kB\u001b[0m \u001b[31m4.5 MB/s\u001b[0m eta \u001b[36m0:00:00\u001b[0m\n",
            "\u001b[?25h  Building wheel for umap-learn (setup.py) ... \u001b[?25l\u001b[?25hdone\n"
          ]
        }
      ],
      "source": [
        "! pip install --upgrade umap-learn --quiet"
      ]
    },
    {
      "cell_type": "code",
      "execution_count": null,
      "metadata": {
        "id": "epkCMP-YYJXJ"
      },
      "outputs": [],
      "source": [
        "import umap.umap_ as umap\n",
        "import time"
      ]
    },
    {
      "cell_type": "code",
      "execution_count": null,
      "metadata": {
        "colab": {
          "base_uri": "https://localhost:8080/"
        },
        "id": "vlIPEAjaYCHb",
        "outputId": "1db5fa71-6333-4c72-edb4-8eeebda38d72"
      },
      "outputs": [
        {
          "name": "stdout",
          "output_type": "stream",
          "text": [
            "generating projections with UMAP took: 10.08 sec\n"
          ]
        }
      ],
      "source": [
        "start = time.time()\n",
        "projections_umap = umap.UMAP(n_components=3).fit_transform(reshaped_array)\n",
        "end = time.time()\n",
        "print(f\"generating projections with UMAP took: {(end-start):.2f} sec\")"
      ]
    },
    {
      "cell_type": "code",
      "execution_count": null,
      "metadata": {
        "colab": {
          "base_uri": "https://localhost:8080/",
          "height": 542
        },
        "id": "EmrgtL4HYQxP",
        "outputId": "98ea9247-2b52-4458-8562-1e8ad78f46ad"
      },
      "outputs": [
        {
          "data": {
            "text/html": [
              "<html>\n",
              "<head><meta charset=\"utf-8\" /></head>\n",
              "<body>\n",
              "    <div>            <script src=\"https://cdnjs.cloudflare.com/ajax/libs/mathjax/2.7.5/MathJax.js?config=TeX-AMS-MML_SVG\"></script><script type=\"text/javascript\">if (window.MathJax && window.MathJax.Hub && window.MathJax.Hub.Config) {window.MathJax.Hub.Config({SVG: {font: \"STIX-Web\"}});}</script>                <script type=\"text/javascript\">window.PlotlyConfig = {MathJaxConfig: 'local'};</script>\n",
              "        <script charset=\"utf-8\" src=\"https://cdn.plot.ly/plotly-2.24.1.min.js\"></script>                <div id=\"40353506-fb54-4ac2-a14a-3360a5a14b1a\" class=\"plotly-graph-div\" style=\"height:525px; width:100%;\"></div>            <script type=\"text/javascript\">                                    window.PLOTLYENV=window.PLOTLYENV || {};                                    if (document.getElementById(\"40353506-fb54-4ac2-a14a-3360a5a14b1a\")) {                    Plotly.newPlot(                        \"40353506-fb54-4ac2-a14a-3360a5a14b1a\",                        [{\"customdata\":[[\"\\u002fcontent\\u002fdrive\\u002fMy Drive\\u002fDL project\\u002fdata_plain\\u002fr\\u002fr\\u002fBwjvPEAgrRr.jpg\"],[\"\\u002fcontent\\u002fdrive\\u002fMy Drive\\u002fDL project\\u002fdata_prepared\\u002fr\\u002fr\\u002fbordered\\u002f#000\\u002fBwjvPEAgrRr.jpg\"],[\"\\u002fcontent\\u002fdrive\\u002fMy Drive\\u002fDL project\\u002fdata_prepared\\u002fr\\u002fr\\u002fbordered\\u002f#fff\\u002fBwjvPEAgrRr.jpg\"],[\"\\u002fcontent\\u002fdrive\\u002fMy Drive\\u002fDL project\\u002fdata_prepared\\u002fr\\u002fr\\u002fcropped\\u002fcenter\\u002fBwjvPEAgrRr.jpg\"],[\"\\u002fcontent\\u002fdrive\\u002fMy Drive\\u002fDL project\\u002fdata_prepared\\u002fr\\u002fr\\u002fcropped\\u002fleft_half\\u002fBwjvPEAgrRr.jpg\"],[\"\\u002fcontent\\u002fdrive\\u002fMy Drive\\u002fDL project\\u002fdata_prepared\\u002fr\\u002fr\\u002fcropped\\u002flower_half\\u002fBwjvPEAgrRr.jpg\"],[\"\\u002fcontent\\u002fdrive\\u002fMy Drive\\u002fDL project\\u002fdata_prepared\\u002fr\\u002fr\\u002fcropped\\u002flowerleft_quarter\\u002fBwjvPEAgrRr.jpg\"],[\"\\u002fcontent\\u002fdrive\\u002fMy Drive\\u002fDL project\\u002fdata_prepared\\u002fr\\u002fr\\u002fcropped\\u002flowerright_quarter\\u002fBwjvPEAgrRr.jpg\"],[\"\\u002fcontent\\u002fdrive\\u002fMy Drive\\u002fDL project\\u002fdata_prepared\\u002fr\\u002fr\\u002fcropped\\u002fright_half\\u002fBwjvPEAgrRr.jpg\"],[\"\\u002fcontent\\u002fdrive\\u002fMy Drive\\u002fDL project\\u002fdata_prepared\\u002fr\\u002fr\\u002fcropped\\u002fupper_half\\u002fBwjvPEAgrRr.jpg\"],[\"\\u002fcontent\\u002fdrive\\u002fMy Drive\\u002fDL project\\u002fdata_prepared\\u002fr\\u002fr\\u002fcropped\\u002fupperleft_quarter\\u002fBwjvPEAgrRr.jpg\"],[\"\\u002fcontent\\u002fdrive\\u002fMy Drive\\u002fDL project\\u002fdata_prepared\\u002fr\\u002fr\\u002fcropped\\u002fupperright_quarter\\u002fBwjvPEAgrRr.jpg\"],[\"\\u002fcontent\\u002fdrive\\u002fMy Drive\\u002fDL project\\u002fdata_prepared\\u002fr\\u002fr\\u002ffiltered\\u002faden\\u002fBwjvPEAgrRr.jpg\"],[\"\\u002fcontent\\u002fdrive\\u002fMy Drive\\u002fDL project\\u002fdata_prepared\\u002fr\\u002fr\\u002ffiltered\\u002finkwell\\u002fBwjvPEAgrRr.jpg\"],[\"\\u002fcontent\\u002fdrive\\u002fMy Drive\\u002fDL project\\u002fdata_prepared\\u002fr\\u002fr\\u002ffiltered\\u002flofi\\u002fBwjvPEAgrRr.jpg\"],[\"\\u002fcontent\\u002fdrive\\u002fMy Drive\\u002fDL project\\u002fdata_prepared\\u002fr\\u002fr\\u002fmirrored\\u002fBwjvPEAgrRr.jpg\"],[\"\\u002fcontent\\u002fdrive\\u002fMy Drive\\u002fDL project\\u002fdata_prepared\\u002fr\\u002fr\\u002frotated\\u002f45\\u002fBwjvPEAgrRr.jpg\"],[\"\\u002fcontent\\u002fdrive\\u002fMy Drive\\u002fDL project\\u002fdata_prepared\\u002fr\\u002fr\\u002frotated\\u002f90\\u002fBwjvPEAgrRr.jpg\"],[\"\\u002fcontent\\u002fdrive\\u002fMy Drive\\u002fDL project\\u002fdata_prepared\\u002fr\\u002fr\\u002frotated\\u002f180\\u002fBwjvPEAgrRr.jpg\"]],\"hovertemplate\":\"color=Dog\\u003cbr\\u003e0=%{x}\\u003cbr\\u003e1=%{y}\\u003cbr\\u003e2=%{z}\\u003cbr\\u003ehover_data_0=%{customdata[0]}\\u003cextra\\u003e\\u003c\\u002fextra\\u003e\",\"legendgroup\":\"Dog\",\"marker\":{\"color\":\"#636efa\",\"symbol\":\"circle\",\"size\":8},\"mode\":\"markers\",\"name\":\"Dog\",\"scene\":\"scene\",\"showlegend\":true,\"x\":[-9.990689277648926,-10.135193824768066,-9.771580696105957,-10.033731460571289,-10.118232727050781,-10.061424255371094,-10.321318626403809,-10.082509994506836,-10.368509292602539,-10.020249366760254,-9.709770202636719,-10.32582950592041,-10.115321159362793,-10.206585884094238,-9.782946586608887,-9.553312301635742,-10.251300811767578,-9.866476058959961,-9.938125610351562],\"y\":[6.697196006774902,6.578689098358154,6.448246002197266,6.545289516448975,6.8783369064331055,6.5320658683776855,6.783744812011719,6.952376365661621,7.127096652984619,7.059795379638672,7.006467819213867,7.1452460289001465,6.503371715545654,6.3051371574401855,6.386370658874512,6.686169624328613,6.363544464111328,6.720358848571777,6.6526641845703125],\"z\":[4.3058600425720215,4.207774639129639,4.146496295928955,3.653146743774414,3.6888506412506104,3.2546463012695312,3.3807334899902344,3.39143705368042,4.024764537811279,4.104672431945801,3.8626949787139893,3.8682000637054443,4.551782608032227,4.283797264099121,4.060031414031982,4.213843822479248,4.392288684844971,3.1193623542785645,3.212480306625366],\"type\":\"scatter3d\"},{\"customdata\":[[\"\\u002fcontent\\u002fdrive\\u002fMy Drive\\u002fDL project\\u002fdata_plain\\u002fr\\u002fr\\u002fBxNDSVPAXRr.jpg\"],[\"\\u002fcontent\\u002fdrive\\u002fMy Drive\\u002fDL project\\u002fdata_prepared\\u002fr\\u002fr\\u002fbordered\\u002f#000\\u002fBxNDSVPAXRr.jpg\"],[\"\\u002fcontent\\u002fdrive\\u002fMy Drive\\u002fDL project\\u002fdata_prepared\\u002fr\\u002fr\\u002fbordered\\u002f#fff\\u002fBxNDSVPAXRr.jpg\"],[\"\\u002fcontent\\u002fdrive\\u002fMy Drive\\u002fDL project\\u002fdata_prepared\\u002fr\\u002fr\\u002fcropped\\u002fcenter\\u002fBxNDSVPAXRr.jpg\"],[\"\\u002fcontent\\u002fdrive\\u002fMy Drive\\u002fDL project\\u002fdata_prepared\\u002fr\\u002fr\\u002fcropped\\u002fleft_half\\u002fBxNDSVPAXRr.jpg\"],[\"\\u002fcontent\\u002fdrive\\u002fMy Drive\\u002fDL project\\u002fdata_prepared\\u002fr\\u002fr\\u002fcropped\\u002flower_half\\u002fBxNDSVPAXRr.jpg\"],[\"\\u002fcontent\\u002fdrive\\u002fMy Drive\\u002fDL project\\u002fdata_prepared\\u002fr\\u002fr\\u002fcropped\\u002flowerleft_quarter\\u002fBxNDSVPAXRr.jpg\"],[\"\\u002fcontent\\u002fdrive\\u002fMy Drive\\u002fDL project\\u002fdata_prepared\\u002fr\\u002fr\\u002fcropped\\u002flowerright_quarter\\u002fBxNDSVPAXRr.jpg\"],[\"\\u002fcontent\\u002fdrive\\u002fMy Drive\\u002fDL project\\u002fdata_prepared\\u002fr\\u002fr\\u002fcropped\\u002fright_half\\u002fBxNDSVPAXRr.jpg\"],[\"\\u002fcontent\\u002fdrive\\u002fMy Drive\\u002fDL project\\u002fdata_prepared\\u002fr\\u002fr\\u002fcropped\\u002fupper_half\\u002fBxNDSVPAXRr.jpg\"],[\"\\u002fcontent\\u002fdrive\\u002fMy Drive\\u002fDL project\\u002fdata_prepared\\u002fr\\u002fr\\u002fcropped\\u002fupperleft_quarter\\u002fBxNDSVPAXRr.jpg\"],[\"\\u002fcontent\\u002fdrive\\u002fMy Drive\\u002fDL project\\u002fdata_prepared\\u002fr\\u002fr\\u002fcropped\\u002fupperright_quarter\\u002fBxNDSVPAXRr.jpg\"],[\"\\u002fcontent\\u002fdrive\\u002fMy Drive\\u002fDL project\\u002fdata_prepared\\u002fr\\u002fr\\u002ffiltered\\u002faden\\u002fBxNDSVPAXRr.jpg\"],[\"\\u002fcontent\\u002fdrive\\u002fMy Drive\\u002fDL project\\u002fdata_prepared\\u002fr\\u002fr\\u002ffiltered\\u002finkwell\\u002fBxNDSVPAXRr.jpg\"],[\"\\u002fcontent\\u002fdrive\\u002fMy Drive\\u002fDL project\\u002fdata_prepared\\u002fr\\u002fr\\u002ffiltered\\u002flofi\\u002fBxNDSVPAXRr.jpg\"],[\"\\u002fcontent\\u002fdrive\\u002fMy Drive\\u002fDL project\\u002fdata_prepared\\u002fr\\u002fr\\u002fmirrored\\u002fBxNDSVPAXRr.jpg\"],[\"\\u002fcontent\\u002fdrive\\u002fMy Drive\\u002fDL project\\u002fdata_prepared\\u002fr\\u002fr\\u002frotated\\u002f45\\u002fBxNDSVPAXRr.jpg\"],[\"\\u002fcontent\\u002fdrive\\u002fMy Drive\\u002fDL project\\u002fdata_prepared\\u002fr\\u002fr\\u002frotated\\u002f90\\u002fBxNDSVPAXRr.jpg\"],[\"\\u002fcontent\\u002fdrive\\u002fMy Drive\\u002fDL project\\u002fdata_prepared\\u002fr\\u002fr\\u002frotated\\u002f180\\u002fBxNDSVPAXRr.jpg\"]],\"hovertemplate\":\"color=Kid\\u003cbr\\u003e0=%{x}\\u003cbr\\u003e1=%{y}\\u003cbr\\u003e2=%{z}\\u003cbr\\u003ehover_data_0=%{customdata[0]}\\u003cextra\\u003e\\u003c\\u002fextra\\u003e\",\"legendgroup\":\"Kid\",\"marker\":{\"color\":\"#EF553B\",\"symbol\":\"circle\",\"size\":8},\"mode\":\"markers\",\"name\":\"Kid\",\"scene\":\"scene\",\"showlegend\":true,\"x\":[10.107151985168457,9.944427490234375,10.207101821899414,9.66212272644043,9.576662063598633,10.309528350830078,10.251775741577148,10.358211517333984,9.871228218078613,9.940023422241211,9.955740928649902,10.048693656921387,10.01960277557373,9.926983833312988,9.73526382446289,9.91280460357666,9.72404956817627,9.997861862182617,9.883008003234863],\"y\":[16.443269729614258,16.38105010986328,16.33847999572754,16.511995315551758,16.49606704711914,16.844377517700195,16.781383514404297,16.610321044921875,16.083860397338867,15.775609016418457,15.9439697265625,15.949529647827148,16.752214431762695,16.460865020751953,16.575708389282227,16.529335021972656,16.491640090942383,16.61324691772461,17.04218864440918],\"z\":[5.966714382171631,6.519870758056641,6.34461784362793,6.144564628601074,6.465216636657715,6.241583347320557,6.588749885559082,5.9881463050842285,5.961236953735352,5.849687576293945,6.00121545791626,5.742862701416016,6.589684963226318,6.642698287963867,6.066503524780273,5.738457679748535,5.603061676025391,5.5435261726379395,6.365389823913574],\"type\":\"scatter3d\"},{\"customdata\":[[\"\\u002fcontent\\u002fdrive\\u002fMy Drive\\u002fDL project\\u002fdata_plain\\u002fr\\u002fr\\u002fBxPSFbeHxrR.jpg\"],[\"\\u002fcontent\\u002fdrive\\u002fMy Drive\\u002fDL project\\u002fdata_prepared\\u002fr\\u002fr\\u002fbordered\\u002f#000\\u002fBxPSFbeHxrR.jpg\"],[\"\\u002fcontent\\u002fdrive\\u002fMy Drive\\u002fDL project\\u002fdata_prepared\\u002fr\\u002fr\\u002fbordered\\u002f#fff\\u002fBxPSFbeHxrR.jpg\"],[\"\\u002fcontent\\u002fdrive\\u002fMy Drive\\u002fDL project\\u002fdata_prepared\\u002fr\\u002fr\\u002fcropped\\u002fcenter\\u002fBxPSFbeHxrR.jpg\"],[\"\\u002fcontent\\u002fdrive\\u002fMy Drive\\u002fDL project\\u002fdata_prepared\\u002fr\\u002fr\\u002fcropped\\u002fleft_half\\u002fBxPSFbeHxrR.jpg\"],[\"\\u002fcontent\\u002fdrive\\u002fMy Drive\\u002fDL project\\u002fdata_prepared\\u002fr\\u002fr\\u002fcropped\\u002flower_half\\u002fBxPSFbeHxrR.jpg\"],[\"\\u002fcontent\\u002fdrive\\u002fMy Drive\\u002fDL project\\u002fdata_prepared\\u002fr\\u002fr\\u002fcropped\\u002flowerleft_quarter\\u002fBxPSFbeHxrR.jpg\"],[\"\\u002fcontent\\u002fdrive\\u002fMy Drive\\u002fDL project\\u002fdata_prepared\\u002fr\\u002fr\\u002fcropped\\u002flowerright_quarter\\u002fBxPSFbeHxrR.jpg\"],[\"\\u002fcontent\\u002fdrive\\u002fMy Drive\\u002fDL project\\u002fdata_prepared\\u002fr\\u002fr\\u002fcropped\\u002fright_half\\u002fBxPSFbeHxrR.jpg\"],[\"\\u002fcontent\\u002fdrive\\u002fMy Drive\\u002fDL project\\u002fdata_prepared\\u002fr\\u002fr\\u002fcropped\\u002fupper_half\\u002fBxPSFbeHxrR.jpg\"],[\"\\u002fcontent\\u002fdrive\\u002fMy Drive\\u002fDL project\\u002fdata_prepared\\u002fr\\u002fr\\u002fcropped\\u002fupperleft_quarter\\u002fBxPSFbeHxrR.jpg\"],[\"\\u002fcontent\\u002fdrive\\u002fMy Drive\\u002fDL project\\u002fdata_prepared\\u002fr\\u002fr\\u002fcropped\\u002fupperright_quarter\\u002fBxPSFbeHxrR.jpg\"],[\"\\u002fcontent\\u002fdrive\\u002fMy Drive\\u002fDL project\\u002fdata_prepared\\u002fr\\u002fr\\u002ffiltered\\u002faden\\u002fBxPSFbeHxrR.jpg\"],[\"\\u002fcontent\\u002fdrive\\u002fMy Drive\\u002fDL project\\u002fdata_prepared\\u002fr\\u002fr\\u002ffiltered\\u002finkwell\\u002fBxPSFbeHxrR.jpg\"],[\"\\u002fcontent\\u002fdrive\\u002fMy Drive\\u002fDL project\\u002fdata_prepared\\u002fr\\u002fr\\u002ffiltered\\u002flofi\\u002fBxPSFbeHxrR.jpg\"],[\"\\u002fcontent\\u002fdrive\\u002fMy Drive\\u002fDL project\\u002fdata_prepared\\u002fr\\u002fr\\u002fmirrored\\u002fBxPSFbeHxrR.jpg\"],[\"\\u002fcontent\\u002fdrive\\u002fMy Drive\\u002fDL project\\u002fdata_prepared\\u002fr\\u002fr\\u002frotated\\u002f45\\u002fBxPSFbeHxrR.jpg\"],[\"\\u002fcontent\\u002fdrive\\u002fMy Drive\\u002fDL project\\u002fdata_prepared\\u002fr\\u002fr\\u002frotated\\u002f90\\u002fBxPSFbeHxrR.jpg\"],[\"\\u002fcontent\\u002fdrive\\u002fMy Drive\\u002fDL project\\u002fdata_prepared\\u002fr\\u002fr\\u002frotated\\u002f180\\u002fBxPSFbeHxrR.jpg\"]],\"hovertemplate\":\"color=Party\\u003cbr\\u003e0=%{x}\\u003cbr\\u003e1=%{y}\\u003cbr\\u003e2=%{z}\\u003cbr\\u003ehover_data_0=%{customdata[0]}\\u003cextra\\u003e\\u003c\\u002fextra\\u003e\",\"legendgroup\":\"Party\",\"marker\":{\"color\":\"#00cc96\",\"symbol\":\"circle\",\"size\":8},\"mode\":\"markers\",\"name\":\"Party\",\"scene\":\"scene\",\"showlegend\":true,\"x\":[7.094133377075195,7.0285325050354,7.086641788482666,6.680690288543701,7.449376583099365,6.88634729385376,7.7031121253967285,6.656532287597656,6.608232021331787,6.89960241317749,7.472754001617432,6.934513568878174,7.103754997253418,7.397801876068115,7.217912197113037,7.041116714477539,6.872110366821289,6.666328430175781,6.939136505126953],\"y\":[1.6029056310653687,2.2068564891815186,1.9972505569458008,2.3345320224761963,1.691202163696289,1.8513411283493042,1.943577527999878,1.7301855087280273,2.0167646408081055,2.3339717388153076,1.7620956897735596,2.0940940380096436,1.4725366830825806,1.549845814704895,1.7945259809494019,1.5272088050842285,2.3575053215026855,2.1270244121551514,1.7574131488800049],\"z\":[15.241979598999023,15.671562194824219,15.836631774902344,15.40955638885498,15.140109062194824,15.459290504455566,15.361977577209473,15.520713806152344,15.270331382751465,15.173816680908203,15.134063720703125,14.977738380432129,15.530302047729492,15.598899841308594,15.176307678222656,15.479758262634277,15.816410064697266,15.797279357910156,15.03813362121582],\"type\":\"scatter3d\"},{\"customdata\":[[\"\\u002fcontent\\u002fdrive\\u002fMy Drive\\u002fDL project\\u002fdata_plain\\u002fr\\u002fr\\u002fBtiVFeUgrrR.jpg\"],[\"\\u002fcontent\\u002fdrive\\u002fMy Drive\\u002fDL project\\u002fdata_prepared\\u002fr\\u002fr\\u002fbordered\\u002f#000\\u002fBtiVFeUgrrR.jpg\"],[\"\\u002fcontent\\u002fdrive\\u002fMy Drive\\u002fDL project\\u002fdata_prepared\\u002fr\\u002fr\\u002fbordered\\u002f#fff\\u002fBtiVFeUgrrR.jpg\"],[\"\\u002fcontent\\u002fdrive\\u002fMy Drive\\u002fDL project\\u002fdata_prepared\\u002fr\\u002fr\\u002fcropped\\u002fcenter\\u002fBtiVFeUgrrR.jpg\"],[\"\\u002fcontent\\u002fdrive\\u002fMy Drive\\u002fDL project\\u002fdata_prepared\\u002fr\\u002fr\\u002fcropped\\u002fleft_half\\u002fBtiVFeUgrrR.jpg\"],[\"\\u002fcontent\\u002fdrive\\u002fMy Drive\\u002fDL project\\u002fdata_prepared\\u002fr\\u002fr\\u002fcropped\\u002flower_half\\u002fBtiVFeUgrrR.jpg\"],[\"\\u002fcontent\\u002fdrive\\u002fMy Drive\\u002fDL project\\u002fdata_prepared\\u002fr\\u002fr\\u002fcropped\\u002flowerleft_quarter\\u002fBtiVFeUgrrR.jpg\"],[\"\\u002fcontent\\u002fdrive\\u002fMy Drive\\u002fDL project\\u002fdata_prepared\\u002fr\\u002fr\\u002fcropped\\u002flowerright_quarter\\u002fBtiVFeUgrrR.jpg\"],[\"\\u002fcontent\\u002fdrive\\u002fMy Drive\\u002fDL project\\u002fdata_prepared\\u002fr\\u002fr\\u002fcropped\\u002fright_half\\u002fBtiVFeUgrrR.jpg\"],[\"\\u002fcontent\\u002fdrive\\u002fMy Drive\\u002fDL project\\u002fdata_prepared\\u002fr\\u002fr\\u002fcropped\\u002fupper_half\\u002fBtiVFeUgrrR.jpg\"],[\"\\u002fcontent\\u002fdrive\\u002fMy Drive\\u002fDL project\\u002fdata_prepared\\u002fr\\u002fr\\u002fcropped\\u002fupperleft_quarter\\u002fBtiVFeUgrrR.jpg\"],[\"\\u002fcontent\\u002fdrive\\u002fMy Drive\\u002fDL project\\u002fdata_prepared\\u002fr\\u002fr\\u002fcropped\\u002fupperright_quarter\\u002fBtiVFeUgrrR.jpg\"],[\"\\u002fcontent\\u002fdrive\\u002fMy Drive\\u002fDL project\\u002fdata_prepared\\u002fr\\u002fr\\u002ffiltered\\u002faden\\u002fBtiVFeUgrrR.jpg\"],[\"\\u002fcontent\\u002fdrive\\u002fMy Drive\\u002fDL project\\u002fdata_prepared\\u002fr\\u002fr\\u002ffiltered\\u002finkwell\\u002fBtiVFeUgrrR.jpg\"],[\"\\u002fcontent\\u002fdrive\\u002fMy Drive\\u002fDL project\\u002fdata_prepared\\u002fr\\u002fr\\u002ffiltered\\u002flofi\\u002fBtiVFeUgrrR.jpg\"],[\"\\u002fcontent\\u002fdrive\\u002fMy Drive\\u002fDL project\\u002fdata_prepared\\u002fr\\u002fr\\u002fmirrored\\u002fBtiVFeUgrrR.jpg\"],[\"\\u002fcontent\\u002fdrive\\u002fMy Drive\\u002fDL project\\u002fdata_prepared\\u002fr\\u002fr\\u002frotated\\u002f45\\u002fBtiVFeUgrrR.jpg\"],[\"\\u002fcontent\\u002fdrive\\u002fMy Drive\\u002fDL project\\u002fdata_prepared\\u002fr\\u002fr\\u002frotated\\u002f90\\u002fBtiVFeUgrrR.jpg\"],[\"\\u002fcontent\\u002fdrive\\u002fMy Drive\\u002fDL project\\u002fdata_prepared\\u002fr\\u002fr\\u002frotated\\u002f180\\u002fBtiVFeUgrrR.jpg\"]],\"hovertemplate\":\"color=Skeeing\\u003cbr\\u003e0=%{x}\\u003cbr\\u003e1=%{y}\\u003cbr\\u003e2=%{z}\\u003cbr\\u003ehover_data_0=%{customdata[0]}\\u003cextra\\u003e\\u003c\\u002fextra\\u003e\",\"legendgroup\":\"Skeeing\",\"marker\":{\"color\":\"#ab63fa\",\"symbol\":\"circle\",\"size\":8},\"mode\":\"markers\",\"name\":\"Skeeing\",\"scene\":\"scene\",\"showlegend\":true,\"x\":[-11.247832298278809,-11.308619499206543,-11.122721672058105,-11.12560749053955,-11.551787376403809,-11.327271461486816,-11.201642036437988,-11.247657775878906,-11.06515121459961,-10.839127540588379,-11.082780838012695,-10.803251266479492,-11.416132926940918,-11.435717582702637,-11.361735343933105,-11.126324653625488,-11.640848159790039,-11.852080345153809,-11.726791381835938],\"y\":[11.203472137451172,11.196822166442871,11.074284553527832,11.572854995727539,11.819635391235352,11.894164085388184,12.05703067779541,12.386414527893066,12.330574035644531,12.322426795959473,12.177848815917969,12.352007865905762,11.482294082641602,12.156876564025879,11.423291206359863,11.262251853942871,11.729598045349121,11.774039268493652,11.670172691345215],\"z\":[15.295113563537598,14.971837997436523,14.944007873535156,15.0598726272583,14.773749351501465,15.366666793823242,14.974051475524902,14.35324764251709,14.263371467590332,14.481188774108887,14.562516212463379,14.470649719238281,14.916725158691406,14.705011367797852,15.319344520568848,15.274219512939453,15.15383529663086,15.043076515197754,15.268196105957031],\"type\":\"scatter3d\"}],                        {\"template\":{\"data\":{\"histogram2dcontour\":[{\"type\":\"histogram2dcontour\",\"colorbar\":{\"outlinewidth\":0,\"ticks\":\"\"},\"colorscale\":[[0.0,\"#0d0887\"],[0.1111111111111111,\"#46039f\"],[0.2222222222222222,\"#7201a8\"],[0.3333333333333333,\"#9c179e\"],[0.4444444444444444,\"#bd3786\"],[0.5555555555555556,\"#d8576b\"],[0.6666666666666666,\"#ed7953\"],[0.7777777777777778,\"#fb9f3a\"],[0.8888888888888888,\"#fdca26\"],[1.0,\"#f0f921\"]]}],\"choropleth\":[{\"type\":\"choropleth\",\"colorbar\":{\"outlinewidth\":0,\"ticks\":\"\"}}],\"histogram2d\":[{\"type\":\"histogram2d\",\"colorbar\":{\"outlinewidth\":0,\"ticks\":\"\"},\"colorscale\":[[0.0,\"#0d0887\"],[0.1111111111111111,\"#46039f\"],[0.2222222222222222,\"#7201a8\"],[0.3333333333333333,\"#9c179e\"],[0.4444444444444444,\"#bd3786\"],[0.5555555555555556,\"#d8576b\"],[0.6666666666666666,\"#ed7953\"],[0.7777777777777778,\"#fb9f3a\"],[0.8888888888888888,\"#fdca26\"],[1.0,\"#f0f921\"]]}],\"heatmap\":[{\"type\":\"heatmap\",\"colorbar\":{\"outlinewidth\":0,\"ticks\":\"\"},\"colorscale\":[[0.0,\"#0d0887\"],[0.1111111111111111,\"#46039f\"],[0.2222222222222222,\"#7201a8\"],[0.3333333333333333,\"#9c179e\"],[0.4444444444444444,\"#bd3786\"],[0.5555555555555556,\"#d8576b\"],[0.6666666666666666,\"#ed7953\"],[0.7777777777777778,\"#fb9f3a\"],[0.8888888888888888,\"#fdca26\"],[1.0,\"#f0f921\"]]}],\"heatmapgl\":[{\"type\":\"heatmapgl\",\"colorbar\":{\"outlinewidth\":0,\"ticks\":\"\"},\"colorscale\":[[0.0,\"#0d0887\"],[0.1111111111111111,\"#46039f\"],[0.2222222222222222,\"#7201a8\"],[0.3333333333333333,\"#9c179e\"],[0.4444444444444444,\"#bd3786\"],[0.5555555555555556,\"#d8576b\"],[0.6666666666666666,\"#ed7953\"],[0.7777777777777778,\"#fb9f3a\"],[0.8888888888888888,\"#fdca26\"],[1.0,\"#f0f921\"]]}],\"contourcarpet\":[{\"type\":\"contourcarpet\",\"colorbar\":{\"outlinewidth\":0,\"ticks\":\"\"}}],\"contour\":[{\"type\":\"contour\",\"colorbar\":{\"outlinewidth\":0,\"ticks\":\"\"},\"colorscale\":[[0.0,\"#0d0887\"],[0.1111111111111111,\"#46039f\"],[0.2222222222222222,\"#7201a8\"],[0.3333333333333333,\"#9c179e\"],[0.4444444444444444,\"#bd3786\"],[0.5555555555555556,\"#d8576b\"],[0.6666666666666666,\"#ed7953\"],[0.7777777777777778,\"#fb9f3a\"],[0.8888888888888888,\"#fdca26\"],[1.0,\"#f0f921\"]]}],\"surface\":[{\"type\":\"surface\",\"colorbar\":{\"outlinewidth\":0,\"ticks\":\"\"},\"colorscale\":[[0.0,\"#0d0887\"],[0.1111111111111111,\"#46039f\"],[0.2222222222222222,\"#7201a8\"],[0.3333333333333333,\"#9c179e\"],[0.4444444444444444,\"#bd3786\"],[0.5555555555555556,\"#d8576b\"],[0.6666666666666666,\"#ed7953\"],[0.7777777777777778,\"#fb9f3a\"],[0.8888888888888888,\"#fdca26\"],[1.0,\"#f0f921\"]]}],\"mesh3d\":[{\"type\":\"mesh3d\",\"colorbar\":{\"outlinewidth\":0,\"ticks\":\"\"}}],\"scatter\":[{\"fillpattern\":{\"fillmode\":\"overlay\",\"size\":10,\"solidity\":0.2},\"type\":\"scatter\"}],\"parcoords\":[{\"type\":\"parcoords\",\"line\":{\"colorbar\":{\"outlinewidth\":0,\"ticks\":\"\"}}}],\"scatterpolargl\":[{\"type\":\"scatterpolargl\",\"marker\":{\"colorbar\":{\"outlinewidth\":0,\"ticks\":\"\"}}}],\"bar\":[{\"error_x\":{\"color\":\"#2a3f5f\"},\"error_y\":{\"color\":\"#2a3f5f\"},\"marker\":{\"line\":{\"color\":\"#E5ECF6\",\"width\":0.5},\"pattern\":{\"fillmode\":\"overlay\",\"size\":10,\"solidity\":0.2}},\"type\":\"bar\"}],\"scattergeo\":[{\"type\":\"scattergeo\",\"marker\":{\"colorbar\":{\"outlinewidth\":0,\"ticks\":\"\"}}}],\"scatterpolar\":[{\"type\":\"scatterpolar\",\"marker\":{\"colorbar\":{\"outlinewidth\":0,\"ticks\":\"\"}}}],\"histogram\":[{\"marker\":{\"pattern\":{\"fillmode\":\"overlay\",\"size\":10,\"solidity\":0.2}},\"type\":\"histogram\"}],\"scattergl\":[{\"type\":\"scattergl\",\"marker\":{\"colorbar\":{\"outlinewidth\":0,\"ticks\":\"\"}}}],\"scatter3d\":[{\"type\":\"scatter3d\",\"line\":{\"colorbar\":{\"outlinewidth\":0,\"ticks\":\"\"}},\"marker\":{\"colorbar\":{\"outlinewidth\":0,\"ticks\":\"\"}}}],\"scattermapbox\":[{\"type\":\"scattermapbox\",\"marker\":{\"colorbar\":{\"outlinewidth\":0,\"ticks\":\"\"}}}],\"scatterternary\":[{\"type\":\"scatterternary\",\"marker\":{\"colorbar\":{\"outlinewidth\":0,\"ticks\":\"\"}}}],\"scattercarpet\":[{\"type\":\"scattercarpet\",\"marker\":{\"colorbar\":{\"outlinewidth\":0,\"ticks\":\"\"}}}],\"carpet\":[{\"aaxis\":{\"endlinecolor\":\"#2a3f5f\",\"gridcolor\":\"white\",\"linecolor\":\"white\",\"minorgridcolor\":\"white\",\"startlinecolor\":\"#2a3f5f\"},\"baxis\":{\"endlinecolor\":\"#2a3f5f\",\"gridcolor\":\"white\",\"linecolor\":\"white\",\"minorgridcolor\":\"white\",\"startlinecolor\":\"#2a3f5f\"},\"type\":\"carpet\"}],\"table\":[{\"cells\":{\"fill\":{\"color\":\"#EBF0F8\"},\"line\":{\"color\":\"white\"}},\"header\":{\"fill\":{\"color\":\"#C8D4E3\"},\"line\":{\"color\":\"white\"}},\"type\":\"table\"}],\"barpolar\":[{\"marker\":{\"line\":{\"color\":\"#E5ECF6\",\"width\":0.5},\"pattern\":{\"fillmode\":\"overlay\",\"size\":10,\"solidity\":0.2}},\"type\":\"barpolar\"}],\"pie\":[{\"automargin\":true,\"type\":\"pie\"}]},\"layout\":{\"autotypenumbers\":\"strict\",\"colorway\":[\"#636efa\",\"#EF553B\",\"#00cc96\",\"#ab63fa\",\"#FFA15A\",\"#19d3f3\",\"#FF6692\",\"#B6E880\",\"#FF97FF\",\"#FECB52\"],\"font\":{\"color\":\"#2a3f5f\"},\"hovermode\":\"closest\",\"hoverlabel\":{\"align\":\"left\"},\"paper_bgcolor\":\"white\",\"plot_bgcolor\":\"#E5ECF6\",\"polar\":{\"bgcolor\":\"#E5ECF6\",\"angularaxis\":{\"gridcolor\":\"white\",\"linecolor\":\"white\",\"ticks\":\"\"},\"radialaxis\":{\"gridcolor\":\"white\",\"linecolor\":\"white\",\"ticks\":\"\"}},\"ternary\":{\"bgcolor\":\"#E5ECF6\",\"aaxis\":{\"gridcolor\":\"white\",\"linecolor\":\"white\",\"ticks\":\"\"},\"baxis\":{\"gridcolor\":\"white\",\"linecolor\":\"white\",\"ticks\":\"\"},\"caxis\":{\"gridcolor\":\"white\",\"linecolor\":\"white\",\"ticks\":\"\"}},\"coloraxis\":{\"colorbar\":{\"outlinewidth\":0,\"ticks\":\"\"}},\"colorscale\":{\"sequential\":[[0.0,\"#0d0887\"],[0.1111111111111111,\"#46039f\"],[0.2222222222222222,\"#7201a8\"],[0.3333333333333333,\"#9c179e\"],[0.4444444444444444,\"#bd3786\"],[0.5555555555555556,\"#d8576b\"],[0.6666666666666666,\"#ed7953\"],[0.7777777777777778,\"#fb9f3a\"],[0.8888888888888888,\"#fdca26\"],[1.0,\"#f0f921\"]],\"sequentialminus\":[[0.0,\"#0d0887\"],[0.1111111111111111,\"#46039f\"],[0.2222222222222222,\"#7201a8\"],[0.3333333333333333,\"#9c179e\"],[0.4444444444444444,\"#bd3786\"],[0.5555555555555556,\"#d8576b\"],[0.6666666666666666,\"#ed7953\"],[0.7777777777777778,\"#fb9f3a\"],[0.8888888888888888,\"#fdca26\"],[1.0,\"#f0f921\"]],\"diverging\":[[0,\"#8e0152\"],[0.1,\"#c51b7d\"],[0.2,\"#de77ae\"],[0.3,\"#f1b6da\"],[0.4,\"#fde0ef\"],[0.5,\"#f7f7f7\"],[0.6,\"#e6f5d0\"],[0.7,\"#b8e186\"],[0.8,\"#7fbc41\"],[0.9,\"#4d9221\"],[1,\"#276419\"]]},\"xaxis\":{\"gridcolor\":\"white\",\"linecolor\":\"white\",\"ticks\":\"\",\"title\":{\"standoff\":15},\"zerolinecolor\":\"white\",\"automargin\":true,\"zerolinewidth\":2},\"yaxis\":{\"gridcolor\":\"white\",\"linecolor\":\"white\",\"ticks\":\"\",\"title\":{\"standoff\":15},\"zerolinecolor\":\"white\",\"automargin\":true,\"zerolinewidth\":2},\"scene\":{\"xaxis\":{\"backgroundcolor\":\"#E5ECF6\",\"gridcolor\":\"white\",\"linecolor\":\"white\",\"showbackground\":true,\"ticks\":\"\",\"zerolinecolor\":\"white\",\"gridwidth\":2},\"yaxis\":{\"backgroundcolor\":\"#E5ECF6\",\"gridcolor\":\"white\",\"linecolor\":\"white\",\"showbackground\":true,\"ticks\":\"\",\"zerolinecolor\":\"white\",\"gridwidth\":2},\"zaxis\":{\"backgroundcolor\":\"#E5ECF6\",\"gridcolor\":\"white\",\"linecolor\":\"white\",\"showbackground\":true,\"ticks\":\"\",\"zerolinecolor\":\"white\",\"gridwidth\":2}},\"shapedefaults\":{\"line\":{\"color\":\"#2a3f5f\"}},\"annotationdefaults\":{\"arrowcolor\":\"#2a3f5f\",\"arrowhead\":0,\"arrowwidth\":1},\"geo\":{\"bgcolor\":\"white\",\"landcolor\":\"#E5ECF6\",\"subunitcolor\":\"white\",\"showland\":true,\"showlakes\":true,\"lakecolor\":\"white\"},\"title\":{\"x\":0.05},\"mapbox\":{\"style\":\"light\"}}},\"scene\":{\"domain\":{\"x\":[0.0,1.0],\"y\":[0.0,1.0]},\"xaxis\":{\"title\":{\"text\":\"0\"}},\"yaxis\":{\"title\":{\"text\":\"1\"}},\"zaxis\":{\"title\":{\"text\":\"2\"}}},\"legend\":{\"title\":{\"text\":\"color\"},\"tracegroupgap\":0},\"margin\":{\"t\":60}},                        {\"responsive\": true}                    ).then(function(){\n",
              "                            \n",
              "var gd = document.getElementById('40353506-fb54-4ac2-a14a-3360a5a14b1a');\n",
              "var x = new MutationObserver(function (mutations, observer) {{\n",
              "        var display = window.getComputedStyle(gd).display;\n",
              "        if (!display || display === 'none') {{\n",
              "            console.log([gd, 'removed!']);\n",
              "            Plotly.purge(gd);\n",
              "            observer.disconnect();\n",
              "        }}\n",
              "}});\n",
              "\n",
              "// Listen for the removal of the full notebook cells\n",
              "var notebookContainer = gd.closest('#notebook-container');\n",
              "if (notebookContainer) {{\n",
              "    x.observe(notebookContainer, {childList: true});\n",
              "}}\n",
              "\n",
              "// Listen for the clearing of the current output cell\n",
              "var outputEl = gd.closest('.output');\n",
              "if (outputEl) {{\n",
              "    x.observe(outputEl, {childList: true});\n",
              "}}\n",
              "\n",
              "                        })                };                            </script>        </div>\n",
              "</body>\n",
              "</html>"
            ]
          },
          "metadata": {},
          "output_type": "display_data"
        }
      ],
      "source": [
        "fig = px.scatter_3d(\n",
        "    projections_umap, x=0, y=1, z=2,\n",
        "    color=labels, hover_data=[image_paths]\n",
        ")\n",
        "fig.update_traces(marker_size=8)\n",
        "fig.show()"
      ]
    },
    {
      "cell_type": "markdown",
      "metadata": {
        "id": "Crh7VqntFdd1"
      },
      "source": [
        "### Using cosine similarity to detect duplicates"
      ]
    },
    {
      "cell_type": "code",
      "execution_count": null,
      "metadata": {
        "id": "J8SSvy6KFhu3"
      },
      "outputs": [],
      "source": [
        "import numpy as np\n",
        "\n",
        "def normalize(vec: np.ndarray):\n",
        "    return vec / np.linalg.norm(vec, axis=1, keepdims=True)"
      ]
    },
    {
      "cell_type": "code",
      "execution_count": null,
      "metadata": {
        "id": "lEcIm9mAFk0w"
      },
      "outputs": [],
      "source": [
        "normalized_embeddings = normalize(reshaped_array)\n",
        "cosine_sim_matrix = np.dot(normalized_embeddings, normalized_embeddings.T)"
      ]
    },
    {
      "cell_type": "code",
      "execution_count": null,
      "metadata": {
        "colab": {
          "base_uri": "https://localhost:8080/",
          "height": 1000
        },
        "id": "voFOfLfEHFU0",
        "outputId": "deae649a-e9ff-4978-d7a8-462e8143b8f1"
      },
      "outputs": [
        {
          "data": {
            "text/html": [
              "<html>\n",
              "<head><meta charset=\"utf-8\" /></head>\n",
              "<body>\n",
              "    <div>            <script src=\"https://cdnjs.cloudflare.com/ajax/libs/mathjax/2.7.5/MathJax.js?config=TeX-AMS-MML_SVG\"></script><script type=\"text/javascript\">if (window.MathJax && window.MathJax.Hub && window.MathJax.Hub.Config) {window.MathJax.Hub.Config({SVG: {font: \"STIX-Web\"}});}</script>                <script type=\"text/javascript\">window.PlotlyConfig = {MathJaxConfig: 'local'};</script>\n",
              "        <script charset=\"utf-8\" src=\"https://cdn.plot.ly/plotly-2.24.1.min.js\"></script>                <div id=\"a07abb1b-720a-4d6e-a00e-54fd9789a0c8\" class=\"plotly-graph-div\" style=\"height:1000px; width:1000px;\"></div>            <script type=\"text/javascript\">                                    window.PLOTLYENV=window.PLOTLYENV || {};                                    if (document.getElementById(\"a07abb1b-720a-4d6e-a00e-54fd9789a0c8\")) {                    Plotly.newPlot(                        \"a07abb1b-720a-4d6e-a00e-54fd9789a0c8\",                        [{\"colorscale\":[[0.0,\"#440154\"],[0.1111111111111111,\"#482878\"],[0.2222222222222222,\"#3e4989\"],[0.3333333333333333,\"#31688e\"],[0.4444444444444444,\"#26828e\"],[0.5555555555555556,\"#1f9e89\"],[0.6666666666666666,\"#35b779\"],[0.7777777777777778,\"#6ece58\"],[0.8888888888888888,\"#b5de2b\"],[1.0,\"#fde725\"]],\"z\":[[1.000000238418579,0.9819854497909546,0.9763952493667603,0.9872887134552002,0.9987635612487793,0.9805443286895752,0.9786214232444763,0.9868124127388,0.9990711212158203,0.9807322025299072,0.9789701700210571,0.987726628780365,0.9968031644821167,0.9840072989463806,0.9813646674156189,0.987960696220398,0.9962052702903748,0.9842910766601562,0.9781032204627991,0.988455057144165,0.993015706539154,0.9800745248794556,0.9807839393615723,0.9883967638015747,0.990980863571167,0.9798712730407715,0.9805383682250977,0.9885475039482117,0.9892365336418152,0.9832074046134949,0.9789880514144897,0.9840651750564575,0.9941574335098267,0.9830582141876221,0.9788166284561157,0.9847972393035889,0.9949936866760254,0.9846593141555786,0.9838017821311951,0.9836208820343018,0.995634138584137,0.9812551140785217,0.98133385181427,0.9854347109794617,0.9884961843490601,0.9862844944000244,0.9809562563896179,0.9788894653320312,0.9992462396621704,0.980309009552002,0.9775707721710205,0.9883260726928711,0.9966506958007812,0.9822008609771729,0.9740753173828125,0.9859757423400879,0.9997009038925171,0.983077883720398,0.9793683290481567,0.9885540008544922,0.9992468357086182,0.9834322929382324,0.9745017886161804,0.9889178276062012,0.9972931742668152,0.9829117059707642,0.9812790751457214,0.985493540763855,0.9919223785400391,0.984688401222229,0.9798760414123535,0.9857580065727234,0.9891324043273926,0.981241762638092,0.9768869876861572,0.9875162839889526],[0.9819854497909546,1.0000001192092896,0.9816949963569641,0.9861643314361572,0.981965184211731,0.9960873126983643,0.9805376529693604,0.9844099283218384,0.9826741218566895,0.9961099028587341,0.9806033372879028,0.9859506487846375,0.9803074598312378,0.994281530380249,0.9826078414916992,0.9875102043151855,0.9778373837471008,0.9931967258453369,0.9849424958229065,0.9862464666366577,0.9786027669906616,0.9919596910476685,0.9813284873962402,0.9870887398719788,0.974030613899231,0.9899806976318359,0.9824950695037842,0.9860310554504395,0.9697051048278809,0.9926007986068726,0.9820147752761841,0.9797747135162354,0.976326048374176,0.9947813749313354,0.9821251034736633,0.9791355133056641,0.9743090867996216,0.9914444088935852,0.9851158857345581,0.9788296222686768,0.9769436120986938,0.9903254508972168,0.9814150333404541,0.9816641211509705,0.9672074317932129,0.9911524057388306,0.9839755296707153,0.9705014228820801,0.9817273020744324,0.9983206391334534,0.9816227555274963,0.9874279499053955,0.9826191663742065,0.9956049919128418,0.978982150554657,0.9828537106513977,0.9823427200317383,0.9988914728164673,0.9831355810165405,0.9868627786636353,0.9812563061714172,0.9984514713287354,0.9800668954849243,0.9872543811798096,0.9824659824371338,0.9956365823745728,0.9826852083206177,0.9820670485496521,0.9749452471733093,0.9922341704368591,0.9842948317527771,0.9832353591918945,0.9700713157653809,0.9929680824279785,0.9821659922599792,0.9852505326271057],[0.9763952493667603,0.9816949963569641,1.0000001192092896,0.9785639643669128,0.9758559465408325,0.9809722900390625,0.9955270290374756,0.9746448993682861,0.9771721363067627,0.9806473255157471,0.9952720999717712,0.9771177172660828,0.9753047227859497,0.9789995551109314,0.9921474456787109,0.9772686958312988,0.9713046550750732,0.9784878492355347,0.9917020201683044,0.9765006303787231,0.9751300811767578,0.9770962595939636,0.992595374584198,0.9775657653808594,0.9681556224822998,0.9776055812835693,0.9879065155982971,0.9756354689598083,0.9633409380912781,0.9828193783760071,0.9894386529922485,0.9706420302391052,0.9697754383087158,0.9794865250587463,0.9906265139579773,0.9699453115463257,0.9664744138717651,0.9790593385696411,0.9908512830734253,0.9658644199371338,0.968880295753479,0.982487678527832,0.9832701683044434,0.9699064493179321,0.9590917825698853,0.9845149517059326,0.9903630614280701,0.9556020498275757,0.9765231609344482,0.9800961017608643,0.9986652135848999,0.979400098323822,0.97751784324646,0.9813922047615051,0.9935835599899292,0.9720924496650696,0.9771264791488647,0.9809701442718506,0.9984462261199951,0.9786575436592102,0.9739609956741333,0.9786990880966187,0.9982646703720093,0.9775670170783997,0.9794324636459351,0.9794880747795105,0.9937960505485535,0.975568413734436,0.9700800776481628,0.9763569831848145,0.9952204823493958,0.9726489782333374,0.9679383039474487,0.9787046313285828,0.993199348449707,0.9765632748603821],[0.9872887134552002,0.9861643314361572,0.9785639643669128,0.9999998807907104,0.9873956441879272,0.9863064885139465,0.9791194200515747,0.9966694712638855,0.9875330328941345,0.9866940975189209,0.979350209236145,0.9985010623931885,0.9880289435386658,0.9857421517372131,0.9813627600669861,0.996537446975708,0.9853768348693848,0.9874769449234009,0.9813574552536011,0.9960055947303772,0.9852113723754883,0.9851443767547607,0.9811121225357056,0.9965167045593262,0.9837758541107178,0.9848843812942505,0.9812372326850891,0.9969167113304138,0.9790371656417847,0.9871212244033813,0.9820619225502014,0.9935210943222046,0.9851505756378174,0.9866980314254761,0.9813392162322998,0.9927752017974854,0.9834269285202026,0.9853756427764893,0.9856342077255249,0.9886568188667297,0.9852780103683472,0.9840893745422363,0.9836462140083313,0.9936007857322693,0.9786704778671265,0.987578272819519,0.9833599328994751,0.9827923774719238,0.9881325960159302,0.9864957332611084,0.9794374704360962,0.9989851713180542,0.9858881235122681,0.9857181310653687,0.9769394397735596,0.9937078952789307,0.9875751733779907,0.9872415065765381,0.9809602499008179,0.9991816282272339,0.987135648727417,0.9867414832115173,0.9769255518913269,0.9988555908203125,0.9865878224372864,0.9867758750915527,0.981590747833252,0.9942940473556519,0.9820306897163391,0.9863181114196777,0.9821079969406128,0.9911805391311646,0.9780215620994568,0.9861655235290527,0.9790626764297485,0.9948511719703674],[0.9987635612487793,0.981965184211731,0.9758559465408325,0.9873956441879272,0.9999997615814209,0.9816335439682007,0.9791733622550964,0.988827109336853,0.9998339414596558,0.981655478477478,0.979634165763855,0.9887098073959351,0.9966831207275391,0.9839954376220703,0.9809198379516602,0.9880414009094238,0.9960628747940063,0.9845331907272339,0.9771057367324829,0.9885159730911255,0.992102861404419,0.9803008437156677,0.9805999398231506,0.9885848760604858,0.9904261231422424,0.9797043800354004,0.9800196886062622,0.9888584613800049,0.9885040521621704,0.9831466674804688,0.9796454310417175,0.9852160215377808,0.994391918182373,0.9831832647323608,0.9785064458847046,0.9860352873802185,0.9949982166290283,0.9852836728096008,0.9835695028305054,0.984833836555481,0.9957867860794067,0.981387734413147,0.9803865551948547,0.9862850904464722,0.9886224269866943,0.986149787902832,0.9806540012359619,0.9807621240615845,0.9985231161117554,0.9801933765411377,0.9769694805145264,0.9883288145065308,0.9959574937820435,0.9821296334266663,0.9735183715820312,0.9863169193267822,0.9987396001815796,0.9833371043205261,0.9791837930679321,0.9885198473930359,0.9985331296920776,0.9835444092750549,0.973968505859375,0.9890569448471069,0.9974440932273865,0.9833106994628906,0.9816629886627197,0.986465573310852,0.9916286468505859,0.9853658676147461,0.9797018766403198,0.985977292060852,0.9888128638267517,0.9814004302024841,0.9770673513412476,0.9878820180892944],[0.9805443286895752,0.9960873126983643,0.9809722900390625,0.9863064885139465,0.9816335439682007,0.9999997615814209,0.9805050492286682,0.9855400919914246,0.9817529916763306,0.9998351335525513,0.9808530807495117,0.9865590929985046,0.9790005683898926,0.991723358631134,0.9806086421012878,0.9865201711654663,0.9759581089019775,0.9925875663757324,0.983554482460022,0.9848203659057617,0.9769895076751709,0.9915968179702759,0.9805120825767517,0.9861361980438232,0.9731554985046387,0.9904496669769287,0.9810886383056641,0.9855612516403198,0.9682071805000305,0.9921702146530151,0.9822996854782104,0.9807766675949097,0.9751409888267517,0.9938837885856628,0.979871392250061,0.9802401065826416,0.9724613428115845,0.9904347062110901,0.9841933250427246,0.9779361486434937,0.975499153137207,0.9904886484146118,0.9793045520782471,0.9819051027297974,0.9660699367523193,0.9900915026664734,0.9823978543281555,0.9710813760757446,0.9807600975036621,0.9955430030822754,0.9805259704589844,0.9863349199295044,0.9808480739593506,0.9948602914810181,0.9776600003242493,0.9815388321876526,0.9808357357978821,0.9965922832489014,0.9824600219726562,0.9860537052154541,0.979771614074707,0.9952237010002136,0.979634165763855,0.9865590333938599,0.9819152355194092,0.9946026802062988,0.9825176000595093,0.9823755621910095,0.9728550314903259,0.9923521876335144,0.9845154285430908,0.9808918237686157,0.9697572588920593,0.9927719235420227,0.9825775027275085,0.9840487241744995],[0.9786214232444763,0.9805376529693604,0.9955270290374756,0.9791194200515747,0.9791733622550964,0.9805050492286682,1.0,0.9779791831970215,0.9800994396209717,0.9801020622253418,0.9997348785400391,0.9792784452438354,0.977682888507843,0.9793357849121094,0.9910120964050293,0.9779859185218811,0.9746431112289429,0.9799271821975708,0.9877408742904663,0.9785780310630798,0.9765071868896484,0.976812481880188,0.9901695251464844,0.9787259697914124,0.9702174067497253,0.9766789078712463,0.9854689836502075,0.9771242141723633,0.9668180346488953,0.9817219972610474,0.9887996315956116,0.9723665714263916,0.9734888076782227,0.9798214435577393,0.9895921945571899,0.9718620777130127,0.9703623056411743,0.9808661341667175,0.9897147417068481,0.9686129093170166,0.9724045991897583,0.9833630323410034,0.9810528755187988,0.9723770022392273,0.9635555744171143,0.9858181476593018,0.9887609481811523,0.9592570066452026,0.9784756898880005,0.9782304763793945,0.9950219988822937,0.9803693294525146,0.9788078665733337,0.9802855253219604,0.9905703067779541,0.9747279286384583,0.9792913794517517,0.9806971549987793,0.9960784912109375,0.9795292615890503,0.9763208627700806,0.9783617258071899,0.9954383969306946,0.9786831140518188,0.9817584156990051,0.9794243574142456,0.9953195452690125,0.9777231216430664,0.9720373153686523,0.9775842428207397,0.9932904243469238,0.9752134680747986,0.9710460901260376,0.9781002402305603,0.9917797446250916,0.9778585433959961],[0.9868124127388,0.9844099283218384,0.9746448993682861,0.9966694712638855,0.988827109336853,0.9855400919914246,0.9779791831970215,0.9999998807907104,0.9882540702819824,0.985773503780365,0.9786155819892883,0.9993244409561157,0.9870051145553589,0.985447108745575,0.9784127473831177,0.9953276515007019,0.9854387044906616,0.985954999923706,0.9761112928390503,0.9960458278656006,0.9830844402313232,0.9837541580200195,0.9774141907691956,0.9955648183822632,0.9815750122070312,0.9813739657402039,0.9772275686264038,0.9955580830574036,0.977802038192749,0.9844937920570374,0.9786943197250366,0.9921935796737671,0.9847255349159241,0.985368013381958,0.9778178930282593,0.9912685751914978,0.9844727516174316,0.9858198761940002,0.9819649457931519,0.9898772239685059,0.9866091012954712,0.9828702211380005,0.9781637191772461,0.9937239289283752,0.9792426824569702,0.9855731725692749,0.9805529117584229,0.9847383499145508,0.9871847629547119,0.9840878248214722,0.9755677580833435,0.9969338178634644,0.9853971600532532,0.9840298891067505,0.9734014272689819,0.9945995807647705,0.986830472946167,0.9860318303108215,0.9777905941009521,0.9969903230667114,0.9867960214614868,0.9860918521881104,0.9727484583854675,0.9973980188369751,0.9864275455474854,0.9863064885139465,0.9802349209785461,0.994421124458313,0.9817633032798767,0.9865259528160095,0.978918194770813,0.9930934906005859,0.9783957004547119,0.9855608344078064,0.9763888120651245,0.9941457509994507],[0.9990711212158203,0.9826741218566895,0.9771721363067627,0.9875330328941345,0.9998339414596558,0.9817529916763306,0.9800994396209717,0.9882540702819824,1.0000001192092896,0.9818136096000671,0.9804872274398804,0.9885421991348267,0.9967779517173767,0.9845602512359619,0.9819546341896057,0.9881979823112488,0.9961463212966919,0.9848553538322449,0.9783357977867126,0.9887435436248779,0.9924169778823853,0.9806685447692871,0.9817872643470764,0.9886484146118164,0.9904052019119263,0.9801767468452454,0.981026291847229,0.988797128200531,0.9883790612220764,0.9837635159492493,0.9804729223251343,0.9847970604896545,0.9942940473556519,0.9836958050727844,0.9797312021255493,0.9856715798377991,0.9948778748512268,0.9856512546539307,0.9844203591346741,0.9844092130661011,0.9956762790679932,0.9819619655609131,0.9813889265060425,0.9859175682067871,0.9883458614349365,0.9870166778564453,0.9816848039627075,0.9798169136047363,0.998794674873352,0.9808123111724854,0.9782931804656982,0.98859703540802,0.9964063167572021,0.9826010465621948,0.9748899936676025,0.9862180948257446,0.9990471005439758,0.9838629961013794,0.9803515672683716,0.9887372255325317,0.9986547827720642,0.9839984774589539,0.9753378033638,0.9891484379768372,0.9977138042449951,0.9836055040359497,0.9824806451797485,0.986357569694519,0.9917948246002197,0.9854226112365723,0.9806702136993408,0.986174464225769,0.9888598918914795,0.9816638827323914,0.9780298471450806,0.9880858063697815],[0.9807322025299072,0.9961099028587341,0.9806473255157471,0.9866940975189209,0.981655478477478,0.9998351335525513,0.9801020622253418,0.985773503780365,0.9818136096000671,1.000000238418579,0.9804418087005615,0.9868724346160889,0.9791476726531982,0.991672158241272,0.9804646968841553,0.9869616031646729,0.9760780334472656,0.9925455451011658,0.983607292175293,0.9851756691932678,0.9772566556930542,0.9917171597480774,0.9801331162452698,0.9865086078643799,0.9733520746231079,0.9906460642814636,0.9809964895248413,0.985835075378418,0.9685059785842896,0.9921252727508545,0.9819067120552063,0.9809898138046265,0.9752466678619385,0.9937629103660583,0.9798007607460022,0.9803602695465088,0.9726310968399048,0.9901334047317505,0.9842569828033447,0.9782317876815796,0.9755836129188538,0.9901089668273926,0.9795646071434021,0.982268214225769,0.9662151336669922,0.990005373954773,0.9823982119560242,0.971272349357605,0.9809895157814026,0.9957534074783325,0.9803345203399658,0.9866810441017151,0.9810083508491516,0.9947829246520996,0.977645754814148,0.9821006655693054,0.9810266494750977,0.9965800046920776,0.9822009205818176,0.9864665269851685,0.979988694190979,0.9952715635299683,0.9791804552078247,0.9869557619094849,0.9818776249885559,0.9946435689926147,0.9820936918258667,0.9826784133911133,0.9730945229530334,0.9923095703125,0.9843454360961914,0.9814311265945435,0.969835638999939,0.9928656220436096,0.9820199012756348,0.984417200088501],[0.9789701700210571,0.9806033372879028,0.9952720999717712,0.979350209236145,0.979634165763855,0.9808530807495117,0.9997348785400391,0.9786155819892883,0.9804872274398804,0.9804418087005615,1.0,0.9797319769859314,0.9780256748199463,0.9797033071517944,0.9910760521888733,0.9781013131141663,0.9750685691833496,0.9800928831100464,0.9877156019210815,0.9788297414779663,0.9767801761627197,0.9769728779792786,0.990081787109375,0.9788579940795898,0.9705955982208252,0.9766854047775269,0.9856178760528564,0.9774011373519897,0.9673919677734375,0.9817789793014526,0.9884463548660278,0.9724257588386536,0.9740451574325562,0.9800131916999817,0.9892452955245972,0.9718292951583862,0.970882773399353,0.9811156988143921,0.9897773861885071,0.9686192870140076,0.9728681445121765,0.9835816621780396,0.9810937643051147,0.9725240468978882,0.9642694592475891,0.9858640432357788,0.9885330200195312,0.9593316316604614,0.9788558483123779,0.9783904552459717,0.9947290420532227,0.9805057048797607,0.9790973663330078,0.9805338382720947,0.990188717842102,0.9749685525894165,0.9796090126037598,0.9808524250984192,0.9957619905471802,0.9797030091285706,0.9766823053359985,0.9784606099128723,0.995239794254303,0.9789321422576904,0.9820117354393005,0.9795582890510559,0.9952968955039978,0.9780566692352295,0.9722768068313599,0.9778512120246887,0.9931914806365967,0.975419819355011,0.9716715812683105,0.9784447550773621,0.9915669560432434,0.9779433012008667],[0.987726628780365,0.9859506487846375,0.9771177172660828,0.9985010623931885,0.9887098073959351,0.9865590929985046,0.9792784452438354,0.9993244409561157,0.9885421991348267,0.9868724346160889,0.9797319769859314,1.000000238418579,0.9879558086395264,0.9865079522132874,0.9801812171936035,0.9965617656707764,0.9860019683837891,0.9874610900878906,0.9787788391113281,0.9969377517700195,0.9845000505447388,0.9853029847145081,0.9795412421226501,0.996674656867981,0.982736349105835,0.9836581945419312,0.9793282747268677,0.9967252016067505,0.9785433411598206,0.9864195585250854,0.9809749126434326,0.9933515787124634,0.9852965474128723,0.9867758750915527,0.9799603223800659,0.9926019906997681,0.9845443964004517,0.9864091873168945,0.9839473962783813,0.9901651740074158,0.9867404699325562,0.9842789173126221,0.9804771542549133,0.9945011138916016,0.9793033599853516,0.9873002171516418,0.9823926687240601,0.9847877025604248,0.9882466793060303,0.9858513474464417,0.9780477285385132,0.9984194040298462,0.9862645864486694,0.9853986501693726,0.9754663109779358,0.9949314594268799,0.987796425819397,0.9873418807983398,0.9798726439476013,0.9984830617904663,0.9876018166542053,0.987134575843811,0.9753633737564087,0.998760461807251,0.9871435165405273,0.9873530864715576,0.9817205667495728,0.9951446056365967,0.9824433326721191,0.9872264862060547,0.9810515642166138,0.9934929609298706,0.9789707660675049,0.9866122007369995,0.9782925844192505,0.9953199625015259],[0.9968031644821167,0.9803074598312378,0.9753047227859497,0.9880289435386658,0.9966831207275391,0.9790005683898926,0.977682888507843,0.9870051145553589,0.9967779517173767,0.9791476726531982,0.9780256748199463,0.9879558086395264,0.9999998807907104,0.9828948974609375,0.981581449508667,0.9876704812049866,0.9977970123291016,0.9840860962867737,0.9773970246315002,0.9878440499305725,0.9951496720314026,0.9784134030342102,0.9803991913795471,0.9879549741744995,0.99399733543396,0.978291928768158,0.9795128107070923,0.9884857535362244,0.9914005994796753,0.9823746681213379,0.9787104725837708,0.9847614169120789,0.9966476559638977,0.9821339249610901,0.9786884784698486,0.9858245849609375,0.9963291883468628,0.9838114976882935,0.9841083288192749,0.9841820001602173,0.9952791333198547,0.9800891280174255,0.9818426370620728,0.9858894348144531,0.9910695552825928,0.985544741153717,0.9807947874069214,0.9801077842712402,0.9964984655380249,0.9787662029266357,0.9765225648880005,0.9883391857147217,0.9932821989059448,0.9805219173431396,0.9731573462486267,0.9854558706283569,0.9971331357955933,0.9815337657928467,0.9786849021911621,0.9888523817062378,0.9971213936805725,0.9817841053009033,0.9734501242637634,0.9892270565032959,0.9949088096618652,0.9814107418060303,0.9808524250984192,0.9858996868133545,0.992607831954956,0.9837722778320312,0.9789774417877197,0.9846662282943726,0.9895356297492981,0.9794989824295044,0.976152777671814,0.9874890446662903],[0.9840072989463806,0.994281530380249,0.9789995551109314,0.9857421517372131,0.9839954376220703,0.991723358631134,0.9793357849121094,0.985447108745575,0.9845602512359619,0.991672158241272,0.9797033071517944,0.9865079522132874,0.9828948974609375,1.000000238418579,0.9808865785598755,0.9876213073730469,0.981550931930542,0.9934936761856079,0.9800577759742737,0.9877288341522217,0.9806597232818604,0.9899798631668091,0.9795260429382324,0.9869462847709656,0.9772797226905823,0.9873049259185791,0.9802390933036804,0.9862315654754639,0.9739470481872559,0.9901569485664368,0.9796334505081177,0.9797622561454773,0.980171799659729,0.995400071144104,0.9796139001846313,0.9796837568283081,0.9791585206985474,0.9917927980422974,0.9831699132919312,0.9797371625900269,0.9814105033874512,0.9889380931854248,0.9791356325149536,0.9823030233383179,0.9731414318084717,0.9896286725997925,0.9817153215408325,0.97235107421875,0.9833579659461975,0.9920631647109985,0.9792075157165527,0.9876738786697388,0.9836341142654419,0.9919174909591675,0.9754894971847534,0.9838052988052368,0.9841655492782593,0.995282769203186,0.9811370372772217,0.9871158003807068,0.9833892583847046,0.9940392971038818,0.9765807390213013,0.987434446811676,0.9837457537651062,0.9929685592651367,0.9816374778747559,0.9826555252075195,0.9782921075820923,0.9898989200592041,0.9820535182952881,0.9848253726959229,0.9733633995056152,0.9901054501533508,0.9797621965408325,0.9856234788894653],[0.9813646674156189,0.9826078414916992,0.9921474456787109,0.9813627600669861,0.9809198379516602,0.9806086421012878,0.9910120964050293,0.9784127473831177,0.9819546341896057,0.9804646968841553,0.9910760521888733,0.9801812171936035,0.981581449508667,0.9808865785598755,0.9999998211860657,0.9799175262451172,0.977999210357666,0.9812213182449341,0.991965651512146,0.9799480438232422,0.9795540571212769,0.9770259857177734,0.994086503982544,0.9802381992340088,0.9743391275405884,0.9766747951507568,0.9871863126754761,0.9793258905410767,0.9715197086334229,0.982075572013855,0.9871761798858643,0.9733189344406128,0.9771467447280884,0.9812268614768982,0.993087649345398,0.9733933210372925,0.9745659828186035,0.9810458421707153,0.994772732257843,0.970440685749054,0.975775957107544,0.9834198951721191,0.9846417903900146,0.9741270542144775,0.9684625864028931,0.9846060276031494,0.992518424987793,0.9609699249267578,0.9811810255050659,0.9808557033538818,0.992728590965271,0.982230544090271,0.9808042049407959,0.9820314645767212,0.9895519018173218,0.9764152765274048,0.9822933673858643,0.9822194576263428,0.9938896894454956,0.9815765619277954,0.9793196320533752,0.9802769422531128,0.9915950298309326,0.9808046817779541,0.9824913740158081,0.98078852891922,0.9921954870223999,0.978080153465271,0.9754403829574585,0.9797446131706238,0.9924819469451904,0.976806640625,0.973228931427002,0.9804794192314148,0.9916212558746338,0.9800139665603638],[0.987960696220398,0.9875102043151855,0.9772686958312988,0.996537446975708,0.9880414009094238,0.9865201711654663,0.9779859185218811,0.9953276515007019,0.9881979823112488,0.9869616031646729,0.9781013131141663,0.9965617656707764,0.9876704812049866,0.9876213073730469,0.9799175262451172,1.0000001192092896,0.9859285354614258,0.9875601530075073,0.9786211848258972,0.9978336095809937,0.9847036600112915,0.9853957295417786,0.9798265695571899,0.9983664751052856,0.982682466506958,0.9844632148742676,0.9806978702545166,0.9975712299346924,0.9790667295455933,0.987528920173645,0.981611430644989,0.9915173053741455,0.9846930503845215,0.9873162508010864,0.9792935252189636,0.9920697212219238,0.9847040176391602,0.9869978427886963,0.9835902452468872,0.9925005435943604,0.9867087602615356,0.9834853410720825,0.980887770652771,0.994320273399353,0.9789246320724487,0.9880408048629761,0.981228232383728,0.9857920408248901,0.9881258606910706,0.9871124029159546,0.9781704545021057,0.9974637627601624,0.9863440990447998,0.9856694936752319,0.9745756387710571,0.9934048652648926,0.9880505204200745,0.9884894490242004,0.979813814163208,0.9973739385604858,0.9881336688995361,0.989007294178009,0.9744434356689453,0.9979125261306763,0.9868158102035522,0.9885967969894409,0.9808635115623474,0.9935148358345032,0.983318567276001,0.9871931672096252,0.9809058904647827,0.9939268231391907,0.9784706830978394,0.986583948135376,0.9772643446922302,0.9959444403648376],[0.9962052702903748,0.9778373837471008,0.9713046550750732,0.9853768348693848,0.9960628747940063,0.9759581089019775,0.9746431112289429,0.9854387044906616,0.9961463212966919,0.9760780334472656,0.9750685691833496,0.9860019683837891,0.9977970123291016,0.981550931930542,0.977999210357666,0.9859285354614258,0.9999995827674866,0.9816877245903015,0.9736148118972778,0.9869983792304993,0.9948504567146301,0.9758930802345276,0.9775805473327637,0.9865195751190186,0.9956486225128174,0.9749505519866943,0.9775124788284302,0.987224280834198,0.9935159087181091,0.9800633192062378,0.9749482274055481,0.9827162027359009,0.9977520704269409,0.9803758263587952,0.9750966429710388,0.9836576581001282,0.997273325920105,0.9825102090835571,0.98040771484375,0.9829343557357788,0.9973174333572388,0.977654218673706,0.9797099828720093,0.9840978384017944,0.9940650463104248,0.9841341972351074,0.9774609804153442,0.9792594909667969,0.9960355162620544,0.9758960008621216,0.9727074503898621,0.9864831566810608,0.9929980039596558,0.9778865575790405,0.9690959453582764,0.9842877388000488,0.9964762926101685,0.9791272878646851,0.9745728969573975,0.9868067502975464,0.9964476823806763,0.9801636338233948,0.9688378572463989,0.98741614818573,0.9934017658233643,0.9796462655067444,0.9774000644683838,0.9842569231987,0.9936954975128174,0.9822405576705933,0.9748251438140869,0.9841200113296509,0.9915950298309326,0.9774107933044434,0.9721325635910034,0.9855810403823853],[0.9842910766601562,0.9931967258453369,0.9784878492355347,0.9874769449234009,0.9845331907272339,0.9925875663757324,0.9799271821975708,0.985954999923706,0.9848553538322449,0.9925455451011658,0.9800928831100464,0.9874610900878906,0.9840860962867737,0.9934936761856079,0.9812213182449341,0.9875601530075073,0.9816877245903015,1.0,0.9823966026306152,0.9868155717849731,0.9813598990440369,0.9908226728439331,0.9801629781723022,0.9869393706321716,0.9783352017402649,0.9915136694908142,0.9803738594055176,0.986784815788269,0.975385308265686,0.9907357096672058,0.9804505109786987,0.9812504649162292,0.9812871217727661,0.993341863155365,0.9798877239227295,0.9814444780349731,0.9786821603775024,0.9923173785209656,0.9836353063583374,0.9799977540969849,0.9804587364196777,0.9915723204612732,0.980427622795105,0.9836442470550537,0.973413348197937,0.9891723394393921,0.9814307689666748,0.9737337231636047,0.9841797351837158,0.9920377731323242,0.9789493083953857,0.9877428412437439,0.9832899570465088,0.992159366607666,0.9767050743103027,0.9841349124908447,0.9846582412719727,0.9938318729400635,0.9809584021568298,0.9875529408454895,0.9839181900024414,0.9924912452697754,0.9775624871253967,0.9881544709205627,0.9841181039810181,0.9914517998695374,0.9821197986602783,0.9837016463279724,0.9773123860359192,0.9898273944854736,0.9825234413146973,0.9832557439804077,0.9739706516265869,0.9883331060409546,0.9808815717697144,0.9859767556190491],[0.9781032204627991,0.9849424958229065,0.9917020201683044,0.9813574552536011,0.9771057367324829,0.983554482460022,0.9877408742904663,0.9761112928390503,0.9783357977867126,0.983607292175293,0.9877156019210815,0.9787788391113281,0.9773970246315002,0.9800577759742737,0.991965651512146,0.9786211848258972,0.9736148118972778,0.9823966026306152,1.000000238418579,0.9777443408966064,0.977892279624939,0.9801760911941528,0.9909820556640625,0.9784955978393555,0.9718372821807861,0.9808107614517212,0.9921406507492065,0.9779411554336548,0.968316912651062,0.9852495789527893,0.984024167060852,0.9710577726364136,0.9736462831497192,0.9824400544166565,0.9883478879928589,0.9706425666809082,0.9685547947883606,0.9802455306053162,0.9903851747512817,0.9657808542251587,0.9699442982673645,0.9851687550544739,0.9897971153259277,0.9706398248672485,0.9632900357246399,0.9851338267326355,0.9890435934066772,0.9554934501647949,0.9783512353897095,0.9842308759689331,0.9916195869445801,0.9813669919967651,0.9788357615470886,0.9848703145980835,0.9894939064979553,0.9737357497215271,0.9786081314086914,0.9837162494659424,0.9918351769447327,0.9808036088943481,0.9758816957473755,0.9815797805786133,0.9905979633331299,0.9798539876937866,0.9800483584403992,0.9817069172859192,0.9863884449005127,0.9768316745758057,0.9719883799552917,0.9803910255432129,0.9902174472808838,0.9736669063568115,0.969724714756012,0.9823358654975891,0.9894331097602844,0.978193998336792],[0.988455057144165,0.9862464666366577,0.9765006303787231,0.9960055947303772,0.9885159730911255,0.9848203659057617,0.9785780310630798,0.9960458278656006,0.9887435436248779,0.9851756691932678,0.9788297414779663,0.9969377517700195,0.9878440499305725,0.9877288341522217,0.9799480438232422,0.9978336095809937,0.9869983792304993,0.9868155717849731,0.9777443408966064,1.0,0.9847902059555054,0.98428875207901,0.9794477820396423,0.997357964515686,0.9823897480964661,0.9822953939437866,0.9799896478652954,0.99763023853302,0.9796739220619202,0.9861148595809937,0.9804943799972534,0.9912850856781006,0.9854753613471985,0.9868838787078857,0.9790564179420471,0.9908285140991211,0.9857293963432312,0.9871711730957031,0.982514500617981,0.9901119470596313,0.9878342151641846,0.98349928855896,0.9803900718688965,0.9938437342643738,0.9802896976470947,0.9889111518859863,0.9812624454498291,0.9835302233695984,0.9882538318634033,0.9851143956184387,0.9773930311203003,0.99776291847229,0.9868396520614624,0.9847557544708252,0.9741878509521484,0.9946140050888062,0.9883455038070679,0.9873625040054321,0.9790369272232056,0.9974796772003174,0.988309383392334,0.9881028532981873,0.974111020565033,0.9976592063903809,0.9873912334442139,0.9881097078323364,0.9812606573104858,0.9935388565063477,0.9838056564331055,0.9876142740249634,0.9799546003341675,0.9950106143951416,0.979446291923523,0.9861024618148804,0.9771103262901306,0.995380163192749],[0.993015706539154,0.9786027669906616,0.9751300811767578,0.9852113723754883,0.992102861404419,0.9769895076751709,0.9765071868896484,0.9830844402313232,0.9924169778823853,0.9772566556930542,0.9767801761627197,0.9845000505447388,0.9951496720314026,0.9806597232818604,0.9795540571212769,0.9847036600112915,0.9948504567146301,0.9813598990440369,0.977892279624939,0.9847902059555054,0.9999998807907104,0.9758628606796265,0.9794067144393921,0.984866738319397,0.9966926574707031,0.9764641523361206,0.9800995588302612,0.9851999878883362,0.9937653541564941,0.9817119240760803,0.9763870239257812,0.9805357456207275,0.9936656355857849,0.9801297783851624,0.976967990398407,0.9811773300170898,0.9902786612510681,0.9817301034927368,0.9826346635818481,0.9790295362472534,0.9898517727851868,0.9785991907119751,0.982905387878418,0.9807323217391968,0.9868811368942261,0.9843722581863403,0.9792639017105103,0.9736135005950928,0.992913007736206,0.9774879217147827,0.9761725664138794,0.9855378866195679,0.9895737171173096,0.9786940813064575,0.9734835028648376,0.9815678596496582,0.9933304190635681,0.9793347120285034,0.9776476621627808,0.9859314560890198,0.9930441379547119,0.9795688986778259,0.972263514995575,0.9860509037971497,0.992030143737793,0.9788993000984192,0.978611171245575,0.9823923110961914,0.9929829835891724,0.9810525178909302,0.9777011871337891,0.9809401035308838,0.9892436265945435,0.9781433343887329,0.9744879007339478,0.9844738245010376],[0.9800745248794556,0.9919596910476685,0.9770962595939636,0.9851443767547607,0.9803008437156677,0.9915968179702759,0.976812481880188,0.9837541580200195,0.9806685447692871,0.9917171597480774,0.9769728779792786,0.9853029847145081,0.9784134030342102,0.9899798631668091,0.9770259857177734,0.9853957295417786,0.9758930802345276,0.9908226728439331,0.9801760911941528,0.98428875207901,0.9758628606796265,1.0000001192092896,0.9777023196220398,0.9856923818588257,0.9721322059631348,0.9932547807693481,0.9785629510879517,0.9851423501968384,0.9679082632064819,0.9932079315185547,0.978829026222229,0.9800906181335449,0.9747949838638306,0.9908289313316345,0.9768779277801514,0.9791368842124939,0.972459614276886,0.9851752519607544,0.9802376627922058,0.9784318208694458,0.9754073619842529,0.98340904712677,0.976743757724762,0.9818103313446045,0.9665267467498779,0.9852988719940186,0.9782261252403259,0.9715480804443359,0.9801638126373291,0.9907962083816528,0.9766693115234375,0.9854202270507812,0.9803175926208496,0.9899014830589294,0.9736560583114624,0.981391429901123,0.9803157448768616,0.9920598864555359,0.9784833192825317,0.9852014780044556,0.9801234006881714,0.9915018081665039,0.9755827784538269,0.9861351251602173,0.9798467755317688,0.9906190633773804,0.9793289303779602,0.9809199571609497,0.9720633029937744,0.9881584048271179,0.9815158843994141,0.9808862209320068,0.9679539799690247,0.9875620603561401,0.9786543846130371,0.9836525917053223],[0.9807839393615723,0.9813284873962402,0.992595374584198,0.9811121225357056,0.9805999398231506,0.9805120825767517,0.9901695251464844,0.9774141907691956,0.9817872643470764,0.9801331162452698,0.990081787109375,0.9795412421226501,0.9803991913795471,0.9795260429382324,0.994086503982544,0.9798265695571899,0.9775805473327637,0.9801629781723022,0.9909820556640625,0.9794477820396423,0.9794067144393921,0.9777023196220398,0.9999997615814209,0.9799627065658569,0.9745898842811584,0.9783705472946167,0.9919145703315735,0.9793250560760498,0.9712655544281006,0.9833845496177673,0.9909210205078125,0.9728720188140869,0.9769916534423828,0.9801455736160278,0.991169810295105,0.9735524654388428,0.9739380478858948,0.9805456399917603,0.989914059638977,0.9694949388504028,0.9757095575332642,0.9819545745849609,0.9846338629722595,0.9730147123336792,0.9685399532318115,0.9854995608329773,0.9888963103294373,0.9600653648376465,0.9810785055160522,0.9798606634140015,0.9926623106002808,0.9817605018615723,0.9807884693145752,0.9819003939628601,0.9892992973327637,0.9747296571731567,0.9815058708190918,0.9810322523117065,0.9933285713195801,0.9812698364257812,0.9787321090698242,0.9793580770492554,0.9909841418266296,0.9804148077964783,0.9827625155448914,0.9798503518104553,0.9901056885719299,0.978539228439331,0.9754763841629028,0.9784900546073914,0.9906225204467773,0.9754689931869507,0.9737297296524048,0.9801772832870483,0.9902337789535522,0.9799709320068359],[0.9883967638015747,0.9870887398719788,0.9775657653808594,0.9965167045593262,0.9885848760604858,0.9861361980438232,0.9787259697914124,0.9955648183822632,0.9886484146118164,0.9865086078643799,0.9788579940795898,0.996674656867981,0.9879549741744995,0.9869462847709656,0.9802381992340088,0.9983664751052856,0.9865195751190186,0.9869393706321716,0.9784955978393555,0.997357964515686,0.984866738319397,0.9856923818588257,0.9799627065658569,1.0,0.9831673502922058,0.9837015271186829,0.9809168577194214,0.9984642267227173,0.9793863296508789,0.9868263602256775,0.9822367429733276,0.9940881729125977,0.9852324724197388,0.9871320724487305,0.9803980588912964,0.9927886724472046,0.9854042530059814,0.9869533777236938,0.9837987422943115,0.9922713041305542,0.9876672029495239,0.9831066727638245,0.9814570546150208,0.9945187568664551,0.979814887046814,0.9879070520401001,0.9820883274078369,0.9864654541015625,0.9885463714599609,0.9866895079612732,0.9784838557243347,0.997556746006012,0.9868661165237427,0.9855260252952576,0.9743576049804688,0.9942266941070557,0.9884508848190308,0.9880325198173523,0.9800093173980713,0.9974783658981323,0.9886175394058228,0.9886493682861328,0.9749665856361389,0.998102068901062,0.9872426390647888,0.9881268739700317,0.9819273948669434,0.9941178560256958,0.9839224219322205,0.9871935248374939,0.9811924695968628,0.9940454959869385,0.9793251752853394,0.9865038394927979,0.9777576327323914,0.9957234859466553],[0.990980863571167,0.974030613899231,0.9681556224822998,0.9837758541107178,0.9904261231422424,0.9731554985046387,0.9702174067497253,0.9815750122070312,0.9904052019119263,0.9733520746231079,0.9705955982208252,0.982736349105835,0.99399733543396,0.9772797226905823,0.9743391275405884,0.982682466506958,0.9956486225128174,0.9783352017402649,0.9718372821807861,0.9823897480964661,0.9966926574707031,0.9721322059631348,0.9745898842811584,0.9831673502922058,1.0,0.9728929996490479,0.9757754802703857,0.9843635559082031,0.9953873753547668,0.9781454205513,0.9718115329742432,0.9812006950378418,0.9947407245635986,0.9771410226821899,0.9715938568115234,0.9818353652954102,0.9920041561126709,0.978291392326355,0.9782931208610535,0.9790695309638977,0.9914288520812988,0.9741396903991699,0.9802881479263306,0.9804543852806091,0.9909440279006958,0.9807204008102417,0.9743509292602539,0.9760254621505737,0.9913310408592224,0.9731515645980835,0.9696823358535767,0.9833555221557617,0.9864358305931091,0.9742444753646851,0.9662013053894043,0.9792822599411011,0.9915390014648438,0.9755569696426392,0.9712597727775574,0.9841227531433105,0.9916748404502869,0.9758422374725342,0.9653825163841248,0.9845304489135742,0.9886212944984436,0.9753726720809937,0.9728000164031982,0.9808056950569153,0.9919681549072266,0.9789472222328186,0.9715570211410522,0.9778839349746704,0.9890208840370178,0.9746358394622803,0.9685420989990234,0.9823240041732788],[0.9798712730407715,0.9899806976318359,0.9776055812835693,0.9848843812942505,0.9797043800354004,0.9904496669769287,0.9766789078712463,0.9813739657402039,0.9801767468452454,0.9906460642814636,0.9766854047775269,0.9836581945419312,0.978291928768158,0.9873049259185791,0.9766747951507568,0.9844632148742676,0.9749505519866943,0.9915136694908142,0.9808107614517212,0.9822953939437866,0.9764641523361206,0.9932547807693481,0.9783705472946167,0.9837015271186829,0.9728929996490479,0.9999998807907104,0.9785305857658386,0.9832611083984375,0.9687600135803223,0.9908715486526489,0.9804349541664124,0.97774338722229,0.97431880235672,0.9887382388114929,0.9760922193527222,0.9776246547698975,0.9708595275878906,0.984065055847168,0.9798956513404846,0.9758543372154236,0.9737333655357361,0.9827275276184082,0.977347731590271,0.9799584746360779,0.9657198190689087,0.984155535697937,0.9764493107795715,0.9685215950012207,0.9800796508789062,0.9897757768630981,0.977683424949646,0.9842208027839661,0.978574812412262,0.9887976050376892,0.9732226133346558,0.9781485199928284,0.9801933765411377,0.9903380274772644,0.978997528553009,0.984464168548584,0.9795616865158081,0.988848865032196,0.9764832258224487,0.9847087860107422,0.9801813364028931,0.9887263774871826,0.97879958152771,0.9804207682609558,0.9716834425926208,0.9866916537284851,0.9812206029891968,0.9785096645355225,0.9681606292724609,0.9872782826423645,0.9790138006210327,0.9823123216629028],[0.9805383682250977,0.9824950695037842,0.9879065155982971,0.9812372326850891,0.9800196886062622,0.9810886383056641,0.9854689836502075,0.9772275686264038,0.981026291847229,0.9809964895248413,0.9856178760528564,0.9793282747268677,0.9795128107070923,0.9802390933036804,0.9871863126754761,0.9806978702545166,0.9775124788284302,0.9803738594055176,0.9921406507492065,0.9799896478652954,0.9800995588302612,0.9785629510879517,0.9919145703315735,0.9809168577194214,0.9757754802703857,0.9785305857658386,0.9999999403953552,0.9802904725074768,0.973050594329834,0.9836324453353882,0.9821593165397644,0.9735158681869507,0.9770247340202332,0.9810792803764343,0.9843220710754395,0.9740204811096191,0.9742282629013062,0.9802108407020569,0.9858510494232178,0.9711573123931885,0.9755934476852417,0.9804286956787109,0.9862898588180542,0.9736908078193665,0.9694652557373047,0.9841005802154541,0.9844067096710205,0.9622492790222168,0.9809845685958862,0.981736421585083,0.9880387783050537,0.982150137424469,0.9802899360656738,0.9829996824264526,0.983220636844635,0.9754623174667358,0.9809565544128418,0.9825411438941956,0.9874836206436157,0.9814850687980652,0.9792394638061523,0.9809446334838867,0.9854095578193665,0.9810296297073364,0.9815571308135986,0.980700671672821,0.9834811091423035,0.9784619808197021,0.9770662784576416,0.979811429977417,0.98534095287323,0.9761731624603271,0.9742884635925293,0.982075035572052,0.9837436676025391,0.9804952144622803],[0.9885475039482117,0.9860310554504395,0.9756354689598083,0.9969167113304138,0.9888584613800049,0.9855612516403198,0.9771242141723633,0.9955580830574036,0.988797128200531,0.985835075378418,0.9774011373519897,0.9967252016067505,0.9884857535362244,0.9862315654754639,0.9793258905410767,0.9975712299346924,0.987224280834198,0.986784815788269,0.9779411554336548,0.99763023853302,0.9851999878883362,0.9851423501968384,0.9793250560760498,0.9984642267227173,0.9843635559082031,0.9832611083984375,0.9802904725074768,0.9999996423721313,0.980401337146759,0.986445426940918,0.9812724590301514,0.994786262512207,0.9862899780273438,0.9868000745773315,0.9785226583480835,0.9943058490753174,0.9860520362854004,0.985815167427063,0.9830257296562195,0.9915287494659424,0.9882408380508423,0.9825393557548523,0.9808920621871948,0.9946414828300476,0.9812294840812683,0.9879647493362427,0.9809359312057495,0.9866945743560791,0.9889270067214966,0.9856916666030884,0.9765676259994507,0.9973177909851074,0.9866275787353516,0.9846035242080688,0.9724640250205994,0.9940003752708435,0.9886282682418823,0.9872643947601318,0.9783384799957275,0.9974403381347656,0.9889422655105591,0.987717866897583,0.9734416604042053,0.9979986548423767,0.9871972799301147,0.9875143766403198,0.9805924892425537,0.9933794736862183,0.9839230179786682,0.9875985383987427,0.9798974990844727,0.9924769401550293,0.97981196641922,0.9861289262771606,0.9768129587173462,0.9952141046524048],[0.9892365336418152,0.9697051048278809,0.9633409380912781,0.9790371656417847,0.9885040521621704,0.9682071805000305,0.9668180346488953,0.977802038192749,0.9883790612220764,0.9685059785842896,0.9673919677734375,0.9785433411598206,0.9914005994796753,0.9739470481872559,0.9715197086334229,0.9790667295455933,0.9935159087181091,0.975385308265686,0.968316912651062,0.9796739220619202,0.9937653541564941,0.9679082632064819,0.9712655544281006,0.9793863296508789,0.9953873753547668,0.9687600135803223,0.973050594329834,0.980401337146759,1.0000001192092896,0.9738126993179321,0.9664844274520874,0.975077211856842,0.9949065446853638,0.9728347063064575,0.9674249887466431,0.9760209918022156,0.9912333488464355,0.9756556749343872,0.9742968082427979,0.9746202230453491,0.9893639087677002,0.9705643653869629,0.9778491258621216,0.9760003089904785,0.9925395250320435,0.9774199724197388,0.9699411392211914,0.9709652066230774,0.9891771674156189,0.9681599140167236,0.9652314782142639,0.9794337153434753,0.983952522277832,0.9705617427825928,0.9622625112533569,0.9771119356155396,0.9896491169929504,0.9711506366729736,0.9667347073554993,0.980155348777771,0.9895826578140259,0.9719410538673401,0.9603426456451416,0.9806522130966187,0.9854060411453247,0.9716919660568237,0.968558669090271,0.977708101272583,0.9902151823043823,0.9758810997009277,0.9665026664733887,0.9755992889404297,0.9888036251068115,0.9712880849838257,0.9639167785644531,0.9780058860778809],[0.9832074046134949,0.9926007986068726,0.9828193783760071,0.9871212244033813,0.9831466674804688,0.9921702146530151,0.9817219972610474,0.9844937920570374,0.9837635159492493,0.9921252727508545,0.9817789793014526,0.9864195585250854,0.9823746681213379,0.9901569485664368,0.982075572013855,0.987528920173645,0.9800633192062378,0.9907357096672058,0.9852495789527893,0.9861148595809937,0.9817119240760803,0.9932079315185547,0.9833845496177673,0.9868263602256775,0.9781454205513,0.9908715486526489,0.9836324453353882,0.986445426940918,0.9738126993179321,1.0,0.9835295677185059,0.9805116653442383,0.9795061349868774,0.9937870502471924,0.9822884202003479,0.9802996516227722,0.976216197013855,0.9884777069091797,0.9852893352508545,0.978589653968811,0.9781627058982849,0.9874264001846313,0.984383761882782,0.9818661212921143,0.9711771607398987,0.9907599687576294,0.9832116365432739,0.9709697961807251,0.9833965301513672,0.991152822971344,0.9826139211654663,0.9873491525650024,0.9829976558685303,0.9904104471206665,0.9791687726974487,0.9820864200592041,0.9835960865020752,0.9924128651618958,0.9840261936187744,0.9872310161590576,0.9831064939498901,0.9917919635772705,0.9808599948883057,0.9877204895019531,0.9834702014923096,0.990882933139801,0.9829535484313965,0.9831118583679199,0.9764341115951538,0.9893441200256348,0.9855332374572754,0.9818791747093201,0.9721841812133789,0.9886730909347534,0.9830484390258789,0.9855359196662903],[0.9789880514144897,0.9820147752761841,0.9894386529922485,0.9820619225502014,0.9796454310417175,0.9822996854782104,0.9887996315956116,0.9786943197250366,0.9804729223251343,0.9819067120552063,0.9884463548660278,0.9809749126434326,0.9787104725837708,0.9796334505081177,0.9871761798858643,0.981611430644989,0.9749482274055481,0.9804505109786987,0.984024167060852,0.9804943799972534,0.9763870239257812,0.978829026222229,0.9909210205078125,0.9822367429733276,0.9718115329742432,0.9804349541664124,0.9821593165397644,0.9812724590301514,0.9664844274520874,0.9835295677185059,1.0,0.977944016456604,0.9741077423095703,0.9804168939590454,0.9910973906517029,0.9784175753593445,0.9712885618209839,0.9802418947219849,0.9868751764297485,0.9743385314941406,0.9744322896003723,0.9811703562736511,0.9810571670532227,0.9775044918060303,0.9641784429550171,0.985045850276947,0.9862546920776367,0.9669455289840698,0.9792739748954773,0.9808314442634583,0.9891749620437622,0.9822354316711426,0.9793949127197266,0.9816154837608337,0.9841039776802063,0.9761995077133179,0.9796930551528931,0.9816449880599976,0.9908015727996826,0.9818732738494873,0.9775791764259338,0.9807806015014648,0.9884029030799866,0.9816601872444153,0.9815450310707092,0.9810798764228821,0.9897549152374268,0.9790533185005188,0.9723309278488159,0.9780049324035645,0.9890328049659729,0.9756087064743042,0.9697077870368958,0.9785934686660767,0.9870041012763977,0.9813562631607056],[0.9840651750564575,0.9797747135162354,0.9706420302391052,0.9935210943222046,0.9852160215377808,0.9807766675949097,0.9723665714263916,0.9921935796737671,0.9847970604896545,0.9809898138046265,0.9724257588386536,0.9933515787124634,0.9847614169120789,0.9797622561454773,0.9733189344406128,0.9915173053741455,0.9827162027359009,0.9812504649162292,0.9710577726364136,0.9912850856781006,0.9805357456207275,0.9800906181335449,0.9728720188140869,0.9940881729125977,0.9812006950378418,0.97774338722229,0.9735158681869507,0.994786262512207,0.975077211856842,0.9805116653442383,0.977944016456604,0.9999997019767761,0.9818555116653442,0.9810972213745117,0.973990797996521,0.9971047043800354,0.9819769859313965,0.9801357388496399,0.978735089302063,0.9904734492301941,0.9845600128173828,0.9768409729003906,0.9756029844284058,0.9938544631004333,0.976612389087677,0.9817675352096558,0.9768364429473877,0.9881854057312012,0.9850237965583801,0.9798159599304199,0.9711019992828369,0.9930026531219482,0.9822409749031067,0.978830099105835,0.9671369791030884,0.9918515086174011,0.9843316078186035,0.9815188646316528,0.9736083745956421,0.9934952259063721,0.9849076271057129,0.9818052053451538,0.9689105153083801,0.9940172433853149,0.9829980731010437,0.9819191694259644,0.9767338633537292,0.9904111623764038,0.979656457901001,0.9826819896697998,0.9752795100212097,0.9868760704994202,0.9748773574829102,0.9802039861679077,0.9718393087387085,0.99056077003479],[0.9941574335098267,0.976326048374176,0.9697754383087158,0.9851505756378174,0.994391918182373,0.9751409888267517,0.9734888076782227,0.9847255349159241,0.9942940473556519,0.9752466678619385,0.9740451574325562,0.9852965474128723,0.9966476559638977,0.980171799659729,0.9771467447280884,0.9846930503845215,0.9977520704269409,0.9812871217727661,0.9736462831497192,0.9854753613471985,0.9936656355857849,0.9747949838638306,0.9769916534423828,0.9852324724197388,0.9947407245635986,0.97431880235672,0.9770247340202332,0.9862899780273438,0.9949065446853638,0.9795061349868774,0.9741077423095703,0.9818555116653442,1.0,0.9790939092636108,0.9744635820388794,0.9827754497528076,0.9962247014045715,0.981601357460022,0.980208158493042,0.9813140630722046,0.9951205253601074,0.9773045778274536,0.9803804159164429,0.9829018115997314,0.9962882399559021,0.9830836057662964,0.9768330454826355,0.9781275987625122,0.9944496154785156,0.9746259450912476,0.9714633226394653,0.9854543209075928,0.9906963109970093,0.9773635864257812,0.9686601758003235,0.98308926820755,0.9944506287574768,0.9777379631996155,0.9733680486679077,0.9860775470733643,0.9943842887878418,0.9783615469932556,0.9673784375190735,0.9866851568222046,0.990998387336731,0.9782134294509888,0.9756818413734436,0.9835090041160583,0.9922695159912109,0.9812837839126587,0.9736042022705078,0.9818598031997681,0.9919363856315613,0.9766190052032471,0.9711447358131409,0.9841591119766235],[0.9830582141876221,0.9947813749313354,0.9794865250587463,0.9866980314254761,0.9831832647323608,0.9938837885856628,0.9798214435577393,0.985368013381958,0.9836958050727844,0.9937629103660583,0.9800131916999817,0.9867758750915527,0.9821339249610901,0.995400071144104,0.9812268614768982,0.9873162508010864,0.9803758263587952,0.993341863155365,0.9824400544166565,0.9868838787078857,0.9801297783851624,0.9908289313316345,0.9801455736160278,0.9871320724487305,0.9771410226821899,0.9887382388114929,0.9810792803764343,0.9868000745773315,0.9728347063064575,0.9937870502471924,0.9804168939590454,0.9810972213745117,0.9790939092636108,1.0,0.9801667928695679,0.9802085161209106,0.9772817492485046,0.9925930500030518,0.9833886623382568,0.9784921407699585,0.9794949293136597,0.9914636611938477,0.980556845664978,0.9818919897079468,0.971674919128418,0.9925946593284607,0.98233962059021,0.9712529182434082,0.9827234745025635,0.9928756356239319,0.9795932769775391,0.987686276435852,0.9826130270957947,0.9917666912078857,0.9759472608566284,0.9829696416854858,0.9833483099937439,0.9957670569419861,0.9816197156906128,0.9873876571655273,0.9827744960784912,0.9939576387405396,0.9779053926467896,0.9876850843429565,0.9833360910415649,0.9937947988510132,0.98175448179245,0.983030378818512,0.9765061140060425,0.9918626546859741,0.9821275472640991,0.9830796122550964,0.9718215465545654,0.99173903465271,0.9808391332626343,0.9852983355522156],[0.9788166284561157,0.9821251034736633,0.9906265139579773,0.9813392162322998,0.9785064458847046,0.979871392250061,0.9895921945571899,0.9778178930282593,0.9797312021255493,0.9798007607460022,0.9892452955245972,0.9799603223800659,0.9786884784698486,0.9796139001846313,0.993087649345398,0.9792935252189636,0.9750966429710388,0.9798877239227295,0.9883478879928589,0.9790564179420471,0.976967990398407,0.9768779277801514,0.991169810295105,0.9803980588912964,0.9715938568115234,0.9760922193527222,0.9843220710754395,0.9785226583480835,0.9674249887466431,0.9822884202003479,0.9910973906517029,0.973990797996521,0.9744635820388794,0.9801667928695679,0.9999998807907104,0.9733725786209106,0.9714714884757996,0.9801430702209473,0.9921090602874756,0.9694961309432983,0.9732202887535095,0.982844889163971,0.9861722588539124,0.9734890460968018,0.9648953676223755,0.9849264621734619,0.9952502250671387,0.9600834846496582,0.9788534641265869,0.9809068441390991,0.9911725521087646,0.9820200204849243,0.9792519807815552,0.9817177057266235,0.9895111322402954,0.9757050275802612,0.9796410799026489,0.9814698696136475,0.9924161434173584,0.9812881946563721,0.9767109155654907,0.9796147346496582,0.9903400540351868,0.9804975986480713,0.9804112315177917,0.9789564609527588,0.9888617992401123,0.9776922464370728,0.9719842672348022,0.9772169589996338,0.9902033805847168,0.9750803709030151,0.9694941639900208,0.9782500267028809,0.9898363947868347,0.979265570640564],[0.9847972393035889,0.9791355133056641,0.9699453115463257,0.9927752017974854,0.9860352873802185,0.9802401065826416,0.9718620777130127,0.9912685751914978,0.9856715798377991,0.9803602695465088,0.9718292951583862,0.9926019906997681,0.9858245849609375,0.9796837568283081,0.9733933210372925,0.9920697212219238,0.9836576581001282,0.9814444780349731,0.9706425666809082,0.9908285140991211,0.9811773300170898,0.9791368842124939,0.9735524654388428,0.9927886724472046,0.9818353652954102,0.9776246547698975,0.9740204811096191,0.9943058490753174,0.9760209918022156,0.9802996516227722,0.9784175753593445,0.9971047043800354,0.9827754497528076,0.9802085161209106,0.9733725786209106,1.0,0.9834297895431519,0.9802870154380798,0.9784694314002991,0.9934976696968079,0.9856364727020264,0.9763761162757874,0.9749494791030884,0.995008111000061,0.9778379201889038,0.9816786050796509,0.9757403135299683,0.9921955466270447,0.9858360290527344,0.9789512753486633,0.9706085324287415,0.992098331451416,0.9820069074630737,0.9779891967773438,0.9660731554031372,0.9900088310241699,0.9852087497711182,0.9811320900917053,0.9731984734535217,0.9925878047943115,0.9856612086296082,0.9809598326683044,0.9678190350532532,0.9936583042144775,0.9837642312049866,0.9808875918388367,0.9763145446777344,0.9906352758407593,0.9807250499725342,0.982403039932251,0.9745720624923706,0.9866507053375244,0.9761044383049011,0.9788458347320557,0.9709417819976807,0.991498589515686],[0.9949936866760254,0.9743090867996216,0.9664744138717651,0.9834269285202026,0.9949982166290283,0.9724613428115845,0.9703623056411743,0.9844727516174316,0.9948778748512268,0.9726310968399048,0.970882773399353,0.9845443964004517,0.9963291883468628,0.9791585206985474,0.9745659828186035,0.9847040176391602,0.997273325920105,0.9786821603775024,0.9685547947883606,0.9857293963432312,0.9902786612510681,0.972459614276886,0.9739380478858948,0.9854042530059814,0.9920041561126709,0.9708595275878906,0.9742282629013062,0.9860520362854004,0.9912333488464355,0.976216197013855,0.9712885618209839,0.9819769859313965,0.9962247014045715,0.9772817492485046,0.9714714884757996,0.9834297895431519,1.0,0.9807267189025879,0.9770961999893188,0.9835336804389954,0.9984211921691895,0.9743183255195618,0.9765405058860779,0.9836652278900146,0.995919942855835,0.9811751842498779,0.9741625785827637,0.9809136390686035,0.9947785139083862,0.9722692966461182,0.9680994749069214,0.9848055839538574,0.9909356832504272,0.9745413064956665,0.9641603231430054,0.9837050437927246,0.9951242208480835,0.9762464761734009,0.970420777797699,0.985339879989624,0.9956372976303101,0.977414608001709,0.9638243913650513,0.9861176013946533,0.9914544820785522,0.976780891418457,0.973682165145874,0.9829319715499878,0.9921883940696716,0.9801598787307739,0.9703031778335571,0.9834536910057068,0.98982834815979,0.9746237993240356,0.9675435423851013,0.9845156073570251],[0.9846593141555786,0.9914444088935852,0.9790593385696411,0.9853756427764893,0.9852836728096008,0.9904347062110901,0.9808661341667175,0.9858198761940002,0.9856512546539307,0.9901334047317505,0.9811156988143921,0.9864091873168945,0.9838114976882935,0.9917927980422974,0.9810458421707153,0.9869978427886963,0.9825102090835571,0.9923173785209656,0.9802455306053162,0.9871711730957031,0.9817301034927368,0.9851752519607544,0.9805456399917603,0.9869533777236938,0.978291392326355,0.984065055847168,0.9802108407020569,0.985815167427063,0.9756556749343872,0.9884777069091797,0.9802418947219849,0.9801357388496399,0.981601357460022,0.9925930500030518,0.9801430702209473,0.9802870154380798,0.9807267189025879,0.9999998807907104,0.9828090667724609,0.9800729751586914,0.9820348024368286,0.9935913681983948,0.9802175164222717,0.9817347526550293,0.9754927158355713,0.9930049777030945,0.9818860292434692,0.9729055166244507,0.9839855432510376,0.9891237020492554,0.9796866178512573,0.9871208667755127,0.9834680557250977,0.9905306100845337,0.976864218711853,0.9835867881774902,0.9848331212997437,0.9923878908157349,0.9815815687179565,0.9867027997970581,0.9840081930160522,0.9914329648017883,0.9776638746261597,0.9872370958328247,0.9858139753341675,0.9905483722686768,0.9832465052604675,0.9844129085540771,0.9799976944923401,0.9892244338989258,0.9818168878555298,0.9841252565383911,0.9757521152496338,0.9875805974006653,0.9807514548301697,0.9857068657875061],[0.9838017821311951,0.9851158857345581,0.9908512830734253,0.9856342077255249,0.9835695028305054,0.9841933250427246,0.9897147417068481,0.9819649457931519,0.9844203591346741,0.9842569828033447,0.9897773861885071,0.9839473962783813,0.9841083288192749,0.9831699132919312,0.994772732257843,0.9835902452468872,0.98040771484375,0.9836353063583374,0.9903851747512817,0.982514500617981,0.9826346635818481,0.9802376627922058,0.989914059638977,0.9837987422943115,0.9782931208610535,0.9798956513404846,0.9858510494232178,0.9830257296562195,0.9742968082427979,0.9852893352508545,0.9868751764297485,0.978735089302063,0.980208158493042,0.9833886623382568,0.9921090602874756,0.9784694314002991,0.9770961999893188,0.9828090667724609,0.9999997019767761,0.9751260280609131,0.978373646736145,0.9849338531494141,0.9893494844436646,0.9788488149642944,0.9711064100265503,0.9866703748703003,0.9955967664718628,0.9665912985801697,0.9842038154602051,0.9843107461929321,0.9910845756530762,0.985642671585083,0.9836679697036743,0.9846787452697754,0.9892315864562988,0.9796326160430908,0.984740138053894,0.9847564101219177,0.9926633834838867,0.9852999448776245,0.9822815656661987,0.983208417892456,0.9895302653312683,0.9846690893173218,0.9843167066574097,0.9830060005187988,0.9908456802368164,0.9805420637130737,0.978108823299408,0.9816240072250366,0.9922176599502563,0.9781075716018677,0.975298285484314,0.982339084148407,0.9903802871704102,0.9823909997940063],[0.9836208820343018,0.9788296222686768,0.9658644199371338,0.9886568188667297,0.984833836555481,0.9779361486434937,0.9686129093170166,0.9898772239685059,0.9844092130661011,0.9782317876815796,0.9686192870140076,0.9901651740074158,0.9841820001602173,0.9797371625900269,0.970440685749054,0.9925005435943604,0.9829343557357788,0.9799977540969849,0.9657808542251587,0.9901119470596313,0.9790295362472534,0.9784318208694458,0.9694949388504028,0.9922713041305542,0.9790695309638977,0.9758543372154236,0.9711573123931885,0.9915287494659424,0.9746202230453491,0.978589653968811,0.9743385314941406,0.9904734492301941,0.9813140630722046,0.9784921407699585,0.9694961309432983,0.9934976696968079,0.9835336804389954,0.9800729751586914,0.9751260280609131,1.0000001192092896,0.9858096241950989,0.9726700782775879,0.9704620242118835,0.997014045715332,0.9768373966217041,0.9780588150024414,0.9716358780860901,0.9969820380210876,0.9840201139450073,0.9780858159065247,0.967292070388794,0.9895142316818237,0.980724573135376,0.9761453866958618,0.9618926048278809,0.9891124963760376,0.983915388584137,0.9801668524742126,0.969642162322998,0.9893168210983276,0.9851399660110474,0.9821217060089111,0.9621862173080444,0.9917380809783936,0.9815342426300049,0.9812992811203003,0.9738397598266602,0.9881393909454346,0.9809707403182983,0.9809937477111816,0.9708414673805237,0.9896493554115295,0.9757437705993652,0.9773173928260803,0.9667729139328003,0.9918919205665588],[0.995634138584137,0.9769436120986938,0.968880295753479,0.9852780103683472,0.9957867860794067,0.975499153137207,0.9724045991897583,0.9866091012954712,0.9956762790679932,0.9755836129188538,0.9728681445121765,0.9867404699325562,0.9952791333198547,0.9814105033874512,0.975775957107544,0.9867087602615356,0.9973174333572388,0.9804587364196777,0.9699442982673645,0.9878342151641846,0.9898517727851868,0.9754073619842529,0.9757095575332642,0.9876672029495239,0.9914288520812988,0.9737333655357361,0.9755934476852417,0.9882408380508423,0.9893639087677002,0.9781627058982849,0.9744322896003723,0.9845600128173828,0.9951205253601074,0.9794949293136597,0.9732202887535095,0.9856364727020264,0.9984211921691895,0.9820348024368286,0.978373646736145,0.9858096241950989,1.000000238418579,0.9759211540222168,0.976691722869873,0.9859788417816162,0.9937518239021301,0.9825851321220398,0.9757928848266602,0.9832853078842163,0.9955652952194214,0.9750450849533081,0.9702496528625488,0.986778974533081,0.9928594827651978,0.9770466089248657,0.9657776355743408,0.9855729341506958,0.9956948757171631,0.9788078665733337,0.972478449344635,0.9870713949203491,0.9960595965385437,0.9800974130630493,0.9661551713943481,0.9879838228225708,0.9923319220542908,0.9795844554901123,0.9759336709976196,0.9845523834228516,0.9916733503341675,0.9822388887405396,0.972830593585968,0.985637903213501,0.9897817969322205,0.977026104927063,0.9700759649276733,0.9865511059761047],[0.9812551140785217,0.9903254508972168,0.982487678527832,0.9840893745422363,0.981387734413147,0.9904886484146118,0.9833630323410034,0.9828702211380005,0.9819619655609131,0.9901089668273926,0.9835816621780396,0.9842789173126221,0.9800891280174255,0.9889380931854248,0.9834198951721191,0.9834853410720825,0.977654218673706,0.9915723204612732,0.9851687550544739,0.98349928855896,0.9785991907119751,0.98340904712677,0.9819545745849609,0.9831066727638245,0.9741396903991699,0.9827275276184082,0.9804286956787109,0.9825393557548523,0.9705643653869629,0.9874264001846313,0.9811703562736511,0.9768409729003906,0.9773045778274536,0.9914636611938477,0.982844889163971,0.9763761162757874,0.9743183255195618,0.9935913681983948,0.9849338531494141,0.9726700782775879,0.9759211540222168,1.0,0.9809263944625854,0.9769483804702759,0.9688624739646912,0.990845263004303,0.9848545789718628,0.965194582939148,0.980746865272522,0.9887503385543823,0.9828459024429321,0.9848387241363525,0.9809856414794922,0.9905407428741455,0.9807678461074829,0.9791885018348694,0.9813339710235596,0.9911447763442993,0.9845384359359741,0.9842785596847534,0.9796741008758545,0.988161563873291,0.9820935726165771,0.9840656518936157,0.9827457666397095,0.9884483218193054,0.9840598106384277,0.9810093641281128,0.9741836190223694,0.9867892861366272,0.9842614531517029,0.9791111946105957,0.9713226556777954,0.9867549538612366,0.9845166802406311,0.9820362329483032],[0.98133385181427,0.9814150333404541,0.9832701683044434,0.9836462140083313,0.9803865551948547,0.9793045520782471,0.9810528755187988,0.9781637191772461,0.9813889265060425,0.9795646071434021,0.9810937643051147,0.9804771542549133,0.9818426370620728,0.9791356325149536,0.9846417903900146,0.980887770652771,0.9797099828720093,0.980427622795105,0.9897971153259277,0.9803900718688965,0.982905387878418,0.976743757724762,0.9846338629722595,0.9814570546150208,0.9802881479263306,0.977347731590271,0.9862898588180542,0.9808920621871948,0.9778491258621216,0.984383761882782,0.9810571670532227,0.9756029844284058,0.9803804159164429,0.980556845664978,0.9861722588539124,0.9749494791030884,0.9765405058860779,0.9802175164222717,0.9893494844436646,0.9704620242118835,0.976691722869873,0.9809263944625854,1.0,0.9739067554473877,0.9738462567329407,0.9857316613197327,0.9872332215309143,0.9618270397186279,0.9818169474601746,0.9807697534561157,0.9833181500434875,0.9835196733474731,0.9809334874153137,0.9808590412139893,0.9822652339935303,0.9764194488525391,0.9818973541259766,0.9804984331130981,0.9843723773956299,0.9833364486694336,0.980402946472168,0.9797513484954834,0.9812279939651489,0.9827674627304077,0.9812890291213989,0.9783847332000732,0.9794608354568481,0.9783309102058411,0.9777160286903381,0.9783139228820801,0.9828214645385742,0.974398136138916,0.9745830297470093,0.9790064692497253,0.9808261394500732,0.9793416261672974],[0.9854347109794617,0.9816641211509705,0.9699064493179321,0.9936007857322693,0.9862850904464722,0.9819051027297974,0.9723770022392273,0.9937239289283752,0.9859175682067871,0.982268214225769,0.9725240468978882,0.9945011138916016,0.9858894348144531,0.9823030233383179,0.9741270542144775,0.994320273399353,0.9840978384017944,0.9836442470550537,0.9706398248672485,0.9938437342643738,0.9807323217391968,0.9818103313446045,0.9730147123336792,0.9945187568664551,0.9804543852806091,0.9799584746360779,0.9736908078193665,0.9946414828300476,0.9760003089904785,0.9818661212921143,0.9775044918060303,0.9938544631004333,0.9829018115997314,0.9818919897079468,0.9734890460968018,0.995008111000061,0.9836652278900146,0.9817347526550293,0.9788488149642944,0.997014045715332,0.9859788417816162,0.9769483804702759,0.9739067554473877,0.9999998807907104,0.9775497913360596,0.9815986156463623,0.9760117530822754,0.9936969876289368,0.9860246181488037,0.981354296207428,0.9709196090698242,0.9938499331474304,0.9827923774719238,0.9804026484489441,0.9667784571647644,0.9925359487533569,0.985634982585907,0.98310786485672,0.9732121825218201,0.9937103986740112,0.9862696528434753,0.9844188690185547,0.9672329425811768,0.9953024387359619,0.9834215044975281,0.9842696785926819,0.9765382409095764,0.9907993078231812,0.9808560609817505,0.9839528799057007,0.9746410250663757,0.9915106296539307,0.976299524307251,0.9811508655548096,0.971097469329834,0.9933649301528931],[0.9884961843490601,0.9672074317932129,0.9590917825698853,0.9786704778671265,0.9886224269866943,0.9660699367523193,0.9635555744171143,0.9792426824569702,0.9883458614349365,0.9662151336669922,0.9642694592475891,0.9793033599853516,0.9910695552825928,0.9731414318084717,0.9684625864028931,0.9789246320724487,0.9940650463104248,0.973413348197937,0.9632900357246399,0.9802896976470947,0.9868811368942261,0.9665267467498779,0.9685399532318115,0.979814887046814,0.9909440279006958,0.9657198190689087,0.9694652557373047,0.9812294840812683,0.9925395250320435,0.9711771607398987,0.9641784429550171,0.976612389087677,0.9962882399559021,0.971674919128418,0.9648953676223755,0.9778379201889038,0.995919942855835,0.9754927158355713,0.9711064100265503,0.9768373966217041,0.9937518239021301,0.9688624739646912,0.9738462567329407,0.9775497913360596,1.0,0.9759494066238403,0.9676167964935303,0.9751039743423462,0.9886607527732849,0.9654127955436707,0.9613467454910278,0.9793291091918945,0.9835770130157471,0.968573808670044,0.9576038122177124,0.9780318737030029,0.9886122345924377,0.9695421457290649,0.9630731344223022,0.980361819267273,0.9890998005867004,0.9704772233963013,0.9563493132591248,0.9810433387756348,0.9836455583572388,0.9703457951545715,0.9662531614303589,0.9785871505737305,0.9891703128814697,0.975159764289856,0.9629694819450378,0.9769956469535828,0.9894105195999146,0.9697437286376953,0.9608076810836792,0.9783737659454346],[0.9862844944000244,0.9911524057388306,0.9845149517059326,0.987578272819519,0.986149787902832,0.9900915026664734,0.9858181476593018,0.9855731725692749,0.9870166778564453,0.990005373954773,0.9858640432357788,0.9873002171516418,0.985544741153717,0.9896286725997925,0.9846060276031494,0.9880408048629761,0.9841341972351074,0.9891723394393921,0.9851338267326355,0.9889111518859863,0.9843722581863403,0.9852988719940186,0.9854995608329773,0.9879070520401001,0.9807204008102417,0.984155535697937,0.9841005802154541,0.9879647493362427,0.9774199724197388,0.9907599687576294,0.985045850276947,0.9817675352096558,0.9830836057662964,0.9925946593284607,0.9849264621734619,0.9816786050796509,0.9811751842498779,0.9930049777030945,0.9866703748703003,0.9780588150024414,0.9825851321220398,0.990845263004303,0.9857316613197327,0.9815986156463623,0.9759494066238403,1.000000238418579,0.9861422777175903,0.9705693125724792,0.9860191345214844,0.9888296127319336,0.9843880534172058,0.98902428150177,0.9853511452674866,0.9893748760223389,0.9819360971450806,0.9832903146743774,0.9865297079086304,0.9918532371520996,0.9862607717514038,0.9886956214904785,0.9849382638931274,0.9908170700073242,0.9836283922195435,0.9884166717529297,0.9875094890594482,0.9908696413040161,0.9862070083618164,0.9844611883163452,0.9809495806694031,0.9905517101287842,0.9853137731552124,0.9835964441299438,0.9771836996078491,0.9881881475448608,0.9839403629302979,0.985933780670166],[0.9809562563896179,0.9839755296707153,0.9903630614280701,0.9833599328994751,0.9806540012359619,0.9823978543281555,0.9887609481811523,0.9805529117584229,0.9816848039627075,0.9823982119560242,0.9885330200195312,0.9823926687240601,0.9807947874069214,0.9817153215408325,0.992518424987793,0.981228232383728,0.9774609804153442,0.9814307689666748,0.9890435934066772,0.9812624454498291,0.9792639017105103,0.9782261252403259,0.9888963103294373,0.9820883274078369,0.9743509292602539,0.9764493107795715,0.9844067096710205,0.9809359312057495,0.9699411392211914,0.9832116365432739,0.9862546920776367,0.9768364429473877,0.9768330454826355,0.98233962059021,0.9952502250671387,0.9757403135299683,0.9741625785827637,0.9818860292434692,0.9955967664718628,0.9716358780860901,0.9757928848266602,0.9848545789718628,0.9872332215309143,0.9760117530822754,0.9676167964935303,0.9861422777175903,0.9999999403953552,0.9626423716545105,0.9812768697738647,0.9826978445053101,0.9905625581741333,0.9840026497840881,0.9814745783805847,0.98362135887146,0.9897989630699158,0.9780118465423584,0.9816771745681763,0.983729362487793,0.9919179081916809,0.9834927320480347,0.9789667725563049,0.9817224144935608,0.9893813729286194,0.9826220273971558,0.9818960428237915,0.9812458753585815,0.988767683506012,0.9785914421081543,0.9747506380081177,0.9806088209152222,0.9909675121307373,0.9769091606140137,0.9717639684677124,0.9809699058532715,0.9903916716575623,0.9805755615234375],[0.9788894653320312,0.9705014228820801,0.9556020498275757,0.9827923774719238,0.9807621240615845,0.9710813760757446,0.9592570066452026,0.9847383499145508,0.9798169136047363,0.971272349357605,0.9593316316604614,0.9847877025604248,0.9801077842712402,0.97235107421875,0.9609699249267578,0.9857920408248901,0.9792594909667969,0.9737337231636047,0.9554934501647949,0.9835302233695984,0.9736135005950928,0.9715480804443359,0.9600653648376465,0.9864654541015625,0.9760254621505737,0.9685215950012207,0.9622492790222168,0.9866945743560791,0.9709652066230774,0.9709697961807251,0.9669455289840698,0.9881854057312012,0.9781275987625122,0.9712529182434082,0.9600834846496582,0.9921955466270447,0.9809136390686035,0.9729055166244507,0.9665912985801697,0.9969820380210876,0.9832853078842163,0.965194582939148,0.9618270397186279,0.9936969876289368,0.9751039743423462,0.9705693125724792,0.9626423716545105,1.0,0.9795694947242737,0.9700302481651306,0.9572278261184692,0.9826971292495728,0.9748644828796387,0.9685916900634766,0.9501922726631165,0.9833205938339233,0.9790918827056885,0.9728153347969055,0.9596790671348572,0.9829376935958862,0.9810527563095093,0.9748558402061462,0.9518634080886841,0.9859433174133301,0.9758340120315552,0.97426837682724,0.965793251991272,0.9824812412261963,0.9766966104507446,0.9757490754127502,0.9615271091461182,0.9821420907974243,0.9722185134887695,0.9698234796524048,0.9574286937713623,0.9860296845436096],[0.9992462396621704,0.9817273020744324,0.9765231609344482,0.9881325960159302,0.9985231161117554,0.9807600975036621,0.9784756898880005,0.9871847629547119,0.998794674873352,0.9809895157814026,0.9788558483123779,0.9882466793060303,0.9964984655380249,0.9833579659461975,0.9811810255050659,0.9881258606910706,0.9960355162620544,0.9841797351837158,0.9783512353897095,0.9882538318634033,0.992913007736206,0.9801638126373291,0.9810785055160522,0.9885463714599609,0.9913310408592224,0.9800796508789062,0.9809845685958862,0.9889270067214966,0.9891771674156189,0.9833965301513672,0.9792739748954773,0.9850237965583801,0.9944496154785156,0.9827234745025635,0.9788534641265869,0.9858360290527344,0.9947785139083862,0.9839855432510376,0.9842038154602051,0.9840201139450073,0.9955652952194214,0.980746865272522,0.9818169474601746,0.9860246181488037,0.9886607527732849,0.9860191345214844,0.9812768697738647,0.9795694947242737,0.9999997019767761,0.9803898334503174,0.9777647256851196,0.9886972904205322,0.9969029426574707,0.9820361137390137,0.9743617177009583,0.985934853553772,0.9992762207984924,0.982904314994812,0.9794251918792725,0.9889917373657227,0.9986769556999207,0.9830003976821899,0.9746403098106384,0.9894307851791382,0.9968715310096741,0.9828281402587891,0.9810196161270142,0.985844075679779,0.9915242195129395,0.9844151735305786,0.9800316095352173,0.9851500988006592,0.9890981912612915,0.9810616970062256,0.9767835140228271,0.9876384735107422],[0.980309009552002,0.9983206391334534,0.9800961017608643,0.9864957332611084,0.9801933765411377,0.9955430030822754,0.9782304763793945,0.9840878248214722,0.9808123111724854,0.9957534074783325,0.9783904552459717,0.9858513474464417,0.9787662029266357,0.9920631647109985,0.9808557033538818,0.9871124029159546,0.9758960008621216,0.9920377731323242,0.9842308759689331,0.9851143956184387,0.9774879217147827,0.9907962083816528,0.9798606634140015,0.9866895079612732,0.9731515645980835,0.9897757768630981,0.981736421585083,0.9856916666030884,0.9681599140167236,0.991152822971344,0.9808314442634583,0.9798159599304199,0.9746259450912476,0.9928756356239319,0.9809068441390991,0.9789512753486633,0.9722692966461182,0.9891237020492554,0.9843107461929321,0.9780858159065247,0.9750450849533081,0.9887503385543823,0.9807697534561157,0.981354296207428,0.9654127955436707,0.9888296127319336,0.9826978445053101,0.9700302481651306,0.9803898334503174,1.0,0.9802075624465942,0.9870050549507141,0.980701208114624,0.9950956106185913,0.9773280024528503,0.9818920493125916,0.9807334542274475,0.9977229237556458,0.9813885688781738,0.9866466522216797,0.9796794056892395,0.9970095157623291,0.9780781865119934,0.9869933128356934,0.9805266857147217,0.9939814805984497,0.9800617098808289,0.9813085794448853,0.9735793471336365,0.990513801574707,0.9824509620666504,0.9814659357070923,0.9689898490905762,0.9928282499313354,0.9805380702018738,0.9843730926513672],[0.9775707721710205,0.9816227555274963,0.9986652135848999,0.9794374704360962,0.9769694805145264,0.9805259704589844,0.9950219988822937,0.9755677580833435,0.9782931804656982,0.9803345203399658,0.9947290420532227,0.9780477285385132,0.9765225648880005,0.9792075157165527,0.992728590965271,0.9781704545021057,0.9727074503898621,0.9789493083953857,0.9916195869445801,0.9773930311203003,0.9761725664138794,0.9766693115234375,0.9926623106002808,0.9784838557243347,0.9696823358535767,0.977683424949646,0.9880387783050537,0.9765676259994507,0.9652314782142639,0.9826139211654663,0.9891749620437622,0.9711019992828369,0.9714633226394653,0.9795932769775391,0.9911725521087646,0.9706085324287415,0.9680994749069214,0.9796866178512573,0.9910845756530762,0.967292070388794,0.9702496528625488,0.9828459024429321,0.9833181500434875,0.9709196090698242,0.9613467454910278,0.9843880534172058,0.9905625581741333,0.9572278261184692,0.9777647256851196,0.9802075624465942,0.9999998211860657,0.9801795482635498,0.9782553911209106,0.9813411831855774,0.9937708377838135,0.9732902646064758,0.9782543182373047,0.9809625148773193,0.9980828166007996,0.9795726537704468,0.9751694798469543,0.9785869717597961,0.9972695708274841,0.9784721732139587,0.9802736043930054,0.979668915271759,0.993736207485199,0.9768162965774536,0.9714344143867493,0.9770269989967346,0.9949358701705933,0.9740504026412964,0.9694564938545227,0.9790508151054382,0.9928776621818542,0.9779524207115173],[0.9883260726928711,0.9874279499053955,0.979400098323822,0.9989851713180542,0.9883288145065308,0.9863349199295044,0.9803693294525146,0.9969338178634644,0.98859703540802,0.9866810441017151,0.9805057048797607,0.9984194040298462,0.9883391857147217,0.9876738786697388,0.982230544090271,0.9974637627601624,0.9864831566810608,0.9877428412437439,0.9813669919967651,0.99776291847229,0.9855378866195679,0.9854202270507812,0.9817605018615723,0.997556746006012,0.9833555221557617,0.9842208027839661,0.982150137424469,0.9973177909851074,0.9794337153434753,0.9873491525650024,0.9822354316711426,0.9930026531219482,0.9854543209075928,0.987686276435852,0.9820200204849243,0.992098331451416,0.9848055839538574,0.9871208667755127,0.985642671585083,0.9895142316818237,0.986778974533081,0.9848387241363525,0.9835196733474731,0.9938499331474304,0.9793291091918945,0.98902428150177,0.9840026497840881,0.9826971292495728,0.9886972904205322,0.9870050549507141,0.9801795482635498,1.0000001192092896,0.9871737957000732,0.9861608743667603,0.9775458574295044,0.9949512481689453,0.9885268807411194,0.9882907867431641,0.9817438721656799,0.9994329214096069,0.9880674481391907,0.9882781505584717,0.977419376373291,0.9990735054016113,0.9876886010169983,0.9879311919212341,0.9825977087020874,0.9944407939910889,0.9833660125732422,0.9872733354568481,0.9824347496032715,0.9939181804656982,0.9789110422134399,0.9867547154426575,0.9795600175857544,0.9955147504806519],[0.9966506958007812,0.9826191663742065,0.97751784324646,0.9858881235122681,0.9959574937820435,0.9808480739593506,0.9788078665733337,0.9853971600532532,0.9964063167572021,0.9810083508491516,0.9790973663330078,0.9862645864486694,0.9932821989059448,0.9836341142654419,0.9808042049407959,0.9863440990447998,0.9929980039596558,0.9832899570465088,0.9788357615470886,0.9868396520614624,0.9895737171173096,0.9803175926208496,0.9807884693145752,0.9868661165237427,0.9864358305931091,0.978574812412262,0.9802899360656738,0.9866275787353516,0.983952522277832,0.9829976558685303,0.9793949127197266,0.9822409749031067,0.9906963109970093,0.9826130270957947,0.9792519807815552,0.9820069074630737,0.9909356832504272,0.9834680557250977,0.9836679697036743,0.980724573135376,0.9928594827651978,0.9809856414794922,0.9809334874153137,0.9827923774719238,0.9835770130157471,0.9853511452674866,0.9814745783805847,0.9748644828796387,0.9969029426574707,0.980701208114624,0.9782553911209106,0.9871737957000732,1.0000001192092896,0.9833166003227234,0.9773092865943909,0.9863954782485962,0.9964600205421448,0.9829863905906677,0.980155348777771,0.9871772527694702,0.9956209659576416,0.983809232711792,0.9754531383514404,0.9873545169830322,0.9951030015945435,0.9831831455230713,0.9811352491378784,0.9834747314453125,0.9880367517471313,0.9830089807510376,0.9804421663284302,0.9844347238540649,0.9853018522262573,0.9804667234420776,0.9774414300918579,0.985581636428833],[0.9822008609771729,0.9956049919128418,0.9813922047615051,0.9857181310653687,0.9821296334266663,0.9948602914810181,0.9802855253219604,0.9840298891067505,0.9826010465621948,0.9947829246520996,0.9805338382720947,0.9853986501693726,0.9805219173431396,0.9919174909591675,0.9820314645767212,0.9856694936752319,0.9778865575790405,0.992159366607666,0.9848703145980835,0.9847557544708252,0.9786940813064575,0.9899014830589294,0.9819003939628601,0.9855260252952576,0.9742444753646851,0.9887976050376892,0.9829996824264526,0.9846035242080688,0.9705617427825928,0.9904104471206665,0.9816154837608337,0.978830099105835,0.9773635864257812,0.9917666912078857,0.9817177057266235,0.9779891967773438,0.9745413064956665,0.9905306100845337,0.9846787452697754,0.9761453866958618,0.9770466089248657,0.9905407428741455,0.9808590412139893,0.9804026484489441,0.968573808670044,0.9893748760223389,0.98362135887146,0.9685916900634766,0.9820361137390137,0.9950956106185913,0.9813411831855774,0.9861608743667603,0.9833166003227234,0.9999999403953552,0.980487585067749,0.9821561574935913,0.9822657704353333,0.9953198432922363,0.9825422763824463,0.9860464334487915,0.9808517694473267,0.9948525428771973,0.9800188541412354,0.986186146736145,0.982709527015686,0.9932302236557007,0.9818730354309082,0.98163902759552,0.9746183753013611,0.990036129951477,0.9839794635772705,0.9811640381813049,0.9715951681137085,0.9916418194770813,0.9823418259620667,0.9835716485977173],[0.9740753173828125,0.978982150554657,0.9935835599899292,0.9769394397735596,0.9735183715820312,0.9776600003242493,0.9905703067779541,0.9734014272689819,0.9748899936676025,0.977645754814148,0.990188717842102,0.9754663109779358,0.9731573462486267,0.9754894971847534,0.9895519018173218,0.9745756387710571,0.9690959453582764,0.9767050743103027,0.9894939064979553,0.9741878509521484,0.9734835028648376,0.9736560583114624,0.9892992973327637,0.9743576049804688,0.9662013053894043,0.9732226133346558,0.983220636844635,0.9724640250205994,0.9622625112533569,0.9791687726974487,0.9841039776802063,0.9671369791030884,0.9686601758003235,0.9759472608566284,0.9895111322402954,0.9660731554031372,0.9641603231430054,0.976864218711853,0.9892315864562988,0.9618926048278809,0.9657776355743408,0.9807678461074829,0.9822652339935303,0.9667784571647644,0.9576038122177124,0.9819360971450806,0.9897989630699158,0.9501922726631165,0.9743617177009583,0.9773280024528503,0.9937708377838135,0.9775458574295044,0.9773092865943909,0.980487585067749,1.000000238418579,0.9724830985069275,0.9747711420059204,0.9775581955909729,0.9936805367469788,0.9768613576889038,0.9712309837341309,0.9755127429962158,0.9930434823036194,0.9755053520202637,0.9768649339675903,0.975843071937561,0.9884892702102661,0.9733643531799316,0.9677010178565979,0.9731642007827759,0.99066561460495,0.9709998369216919,0.9658461809158325,0.9750989079475403,0.9890055656433105,0.9742395877838135],[0.9859757423400879,0.9828537106513977,0.9720924496650696,0.9937078952789307,0.9863169193267822,0.9815388321876526,0.9747279286384583,0.9945995807647705,0.9862180948257446,0.9821006655693054,0.9749685525894165,0.9949314594268799,0.9854558706283569,0.9838052988052368,0.9764152765274048,0.9934048652648926,0.9842877388000488,0.9841349124908447,0.9737357497215271,0.9946140050888062,0.9815678596496582,0.981391429901123,0.9747296571731567,0.9942266941070557,0.9792822599411011,0.9781485199928284,0.9754623174667358,0.9940003752708435,0.9771119356155396,0.9820864200592041,0.9761995077133179,0.9918515086174011,0.98308926820755,0.9829696416854858,0.9757050275802612,0.9900088310241699,0.9837050437927246,0.9835867881774902,0.9796326160430908,0.9891124963760376,0.9855729341506958,0.9791885018348694,0.9764194488525391,0.9925359487533569,0.9780318737030029,0.9832903146743774,0.9780118465423584,0.9833205938339233,0.985934853553772,0.9818920493125916,0.9732902646064758,0.9949512481689453,0.9863954782485962,0.9821561574935913,0.9724830985069275,1.0,0.9858754277229309,0.9835878014564514,0.9753340482711792,0.9952820539474487,0.9860525131225586,0.9852958917617798,0.9700727462768555,0.99528968334198,0.9847774505615234,0.9850459694862366,0.9785192012786865,0.991710901260376,0.9817831516265869,0.9841436147689819,0.9765695333480835,0.9934384226799011,0.9770454168319702,0.9828421473503113,0.9735114574432373,0.9922587871551514],[0.9997009038925171,0.9823427200317383,0.9771264791488647,0.9875751733779907,0.9987396001815796,0.9808357357978821,0.9792913794517517,0.986830472946167,0.9990471005439758,0.9810266494750977,0.9796090126037598,0.987796425819397,0.9971331357955933,0.9841655492782593,0.9822933673858643,0.9880505204200745,0.9964762926101685,0.9846582412719727,0.9786081314086914,0.9883455038070679,0.9933304190635681,0.9803157448768616,0.9815058708190918,0.9884508848190308,0.9915390014648438,0.9801933765411377,0.9809565544128418,0.9886282682418823,0.9896491169929504,0.9835960865020752,0.9796930551528931,0.9843316078186035,0.9944506287574768,0.9833483099937439,0.9796410799026489,0.9852087497711182,0.9951242208480835,0.9848331212997437,0.984740138053894,0.983915388584137,0.9956948757171631,0.9813339710235596,0.9818973541259766,0.985634982585907,0.9886122345924377,0.9865297079086304,0.9816771745681763,0.9790918827056885,0.9992762207984924,0.9807334542274475,0.9782543182373047,0.9885268807411194,0.9964600205421448,0.9822657704353333,0.9747711420059204,0.9858754277229309,0.9999998211860657,0.9833215475082397,0.9801350831985474,0.9887123107910156,0.9992064237594604,0.9836347103118896,0.9751560688018799,0.9891204237937927,0.9971222877502441,0.9831156730651855,0.9819815754890442,0.9855062961578369,0.9921046495437622,0.984642505645752,0.9805829524993896,0.9854334592819214,0.9893966913223267,0.9811686277389526,0.9774149656295776,0.9874681830406189],[0.983077883720398,0.9988914728164673,0.9809701442718506,0.9872415065765381,0.9833371043205261,0.9965922832489014,0.9806971549987793,0.9860318303108215,0.9838629961013794,0.9965800046920776,0.9808524250984192,0.9873418807983398,0.9815337657928467,0.995282769203186,0.9822194576263428,0.9884894490242004,0.9791272878646851,0.9938318729400635,0.9837162494659424,0.9873625040054321,0.9793347120285034,0.9920598864555359,0.9810322523117065,0.9880325198173523,0.9755569696426392,0.9903380274772644,0.9825411438941956,0.9872643947601318,0.9711506366729736,0.9924128651618958,0.9816449880599976,0.9815188646316528,0.9777379631996155,0.9957670569419861,0.9814698696136475,0.9811320900917053,0.9762464761734009,0.9923878908157349,0.9847564101219177,0.9801668524742126,0.9788078665733337,0.9911447763442993,0.9804984331130981,0.98310786485672,0.9695421457290649,0.9918532371520996,0.983729362487793,0.9728153347969055,0.982904314994812,0.9977229237556458,0.9809625148773193,0.9882907867431641,0.9829863905906677,0.9953198432922363,0.9775581955909729,0.9835878014564514,0.9833215475082397,1.0,0.982745349407196,0.987916111946106,0.9824033975601196,0.9977489709854126,0.9793482422828674,0.9882159233093262,0.9833487868309021,0.9959031343460083,0.9825318455696106,0.9833067059516907,0.9762746691703796,0.9936107993125916,0.9836095571517944,0.9839277267456055,0.9717973470687866,0.9937893748283386,0.9819623231887817,0.9863873720169067],[0.9793683290481567,0.9831355810165405,0.9984462261199951,0.9809602499008179,0.9791837930679321,0.9824600219726562,0.9960784912109375,0.9777905941009521,0.9803515672683716,0.9822009205818176,0.9957619905471802,0.9798726439476013,0.9786849021911621,0.9811370372772217,0.9938896894454956,0.979813814163208,0.9745728969573975,0.9809584021568298,0.9918351769447327,0.9790369272232056,0.9776476621627808,0.9784833192825317,0.9933285713195801,0.9800093173980713,0.9712597727775574,0.978997528553009,0.9874836206436157,0.9783384799957275,0.9667347073554993,0.9840261936187744,0.9908015727996826,0.9736083745956421,0.9733680486679077,0.9816197156906128,0.9924161434173584,0.9731984734535217,0.970420777797699,0.9815815687179565,0.9926633834838867,0.969642162322998,0.972478449344635,0.9845384359359741,0.9843723773956299,0.9732121825218201,0.9630731344223022,0.9862607717514038,0.9919179081916809,0.9596790671348572,0.9794251918792725,0.9813885688781738,0.9980828166007996,0.9817438721656799,0.980155348777771,0.9825422763824463,0.9936805367469788,0.9753340482711792,0.9801350831985474,0.982745349407196,1.0,0.9810861349105835,0.977078914642334,0.9803597331047058,0.9974524974822998,0.9801511764526367,0.9822733402252197,0.9813677072525024,0.9948539137840271,0.9780033826828003,0.9730914831161499,0.9787040948867798,0.9955326318740845,0.9755823612213135,0.9703658819198608,0.9800220131874084,0.9936349987983704,0.9792166352272034],[0.9885540008544922,0.9868627786636353,0.9786575436592102,0.9991816282272339,0.9885198473930359,0.9860537052154541,0.9795292615890503,0.9969903230667114,0.9887372255325317,0.9864665269851685,0.9797030091285706,0.9984830617904663,0.9888523817062378,0.9871158003807068,0.9815765619277954,0.9973739385604858,0.9868067502975464,0.9875529408454895,0.9808036088943481,0.9974796772003174,0.9859314560890198,0.9852014780044556,0.9812698364257812,0.9974783658981323,0.9841227531433105,0.984464168548584,0.9814850687980652,0.9974403381347656,0.980155348777771,0.9872310161590576,0.9818732738494873,0.9934952259063721,0.9860775470733643,0.9873876571655273,0.9812881946563721,0.9925878047943115,0.985339879989624,0.9867027997970581,0.9852999448776245,0.9893168210983276,0.9870713949203491,0.9842785596847534,0.9833364486694336,0.9937103986740112,0.980361819267273,0.9886956214904785,0.9834927320480347,0.9829376935958862,0.9889917373657227,0.9866466522216797,0.9795726537704468,0.9994329214096069,0.9871772527694702,0.9860464334487915,0.9768613576889038,0.9952820539474487,0.9887123107910156,0.987916111946106,0.9810861349105835,0.9999998807907104,0.988337516784668,0.9878724813461304,0.9767316579818726,0.999199390411377,0.9877365827560425,0.9876545667648315,0.9820891618728638,0.9949769973754883,0.9838488101959229,0.9873018860816956,0.9819375276565552,0.9935886859893799,0.9794723987579346,0.9869852066040039,0.9789117574691772,0.9953544735908508],[0.9992468357086182,0.9812563061714172,0.9739609956741333,0.987135648727417,0.9985331296920776,0.979771614074707,0.9763208627700806,0.9867960214614868,0.9986547827720642,0.979988694190979,0.9766823053359985,0.9876018166542053,0.9971213936805725,0.9833892583847046,0.9793196320533752,0.9881336688995361,0.9964476823806763,0.9839181900024414,0.9758816957473755,0.988309383392334,0.9930441379547119,0.9801234006881714,0.9787321090698242,0.9886175394058228,0.9916748404502869,0.9795616865158081,0.9792394638061523,0.9889422655105591,0.9895826578140259,0.9831064939498901,0.9775791764259338,0.9849076271057129,0.9943842887878418,0.9827744960784912,0.9767109155654907,0.9856612086296082,0.9956372976303101,0.9840081930160522,0.9822815656661987,0.9851399660110474,0.9960595965385437,0.9796741008758545,0.980402946472168,0.9862696528434753,0.9890998005867004,0.9849382638931274,0.9789667725563049,0.9810527563095093,0.9986769556999207,0.9796794056892395,0.9751694798469543,0.9880674481391907,0.9956209659576416,0.9808517694473267,0.9712309837341309,0.9860525131225586,0.9992064237594604,0.9824033975601196,0.977078914642334,0.988337516784668,1.0000001192092896,0.9830808043479919,0.971634030342102,0.9890632033348083,0.9963102340698242,0.9821738004684448,0.9794632196426392,0.9852954149246216,0.9919687509536743,0.9841568470001221,0.9780313968658447,0.985532283782959,0.9886327981948853,0.9802144169807434,0.9747872352600098,0.9876559972763062],[0.9834322929382324,0.9984514713287354,0.9786990880966187,0.9867414832115173,0.9835444092750549,0.9952237010002136,0.9783617258071899,0.9860918521881104,0.9839984774589539,0.9952715635299683,0.9784606099128723,0.987134575843811,0.9817841053009033,0.9940392971038818,0.9802769422531128,0.989007294178009,0.9801636338233948,0.9924912452697754,0.9815797805786133,0.9881028532981873,0.9795688986778259,0.9915018081665039,0.9793580770492554,0.9886493682861328,0.9758422374725342,0.988848865032196,0.9809446334838867,0.987717866897583,0.9719410538673401,0.9917919635772705,0.9807806015014648,0.9818052053451538,0.9783615469932556,0.9939576387405396,0.9796147346496582,0.9809598326683044,0.977414608001709,0.9914329648017883,0.983208417892456,0.9821217060089111,0.9800974130630493,0.988161563873291,0.9797513484954834,0.9844188690185547,0.9704772233963013,0.9908170700073242,0.9817224144935608,0.9748558402061462,0.9830003976821899,0.9970095157623291,0.9785869717597961,0.9882781505584717,0.983809232711792,0.9948525428771973,0.9755127429962158,0.9852958917617798,0.9836347103118896,0.9977489709854126,0.9803597331047058,0.9878724813461304,0.9830808043479919,0.9999997615814209,0.9763475656509399,0.9886535406112671,0.9832251071929932,0.9960026741027832,0.9811664819717407,0.9831860065460205,0.9774619936943054,0.9930354356765747,0.9817683696746826,0.9853969216346741,0.972327470779419,0.9928816556930542,0.9794872403144836,0.986366868019104],[0.9745017886161804,0.9800668954849243,0.9982646703720093,0.9769255518913269,0.973968505859375,0.979634165763855,0.9954383969306946,0.9727484583854675,0.9753378033638,0.9791804552078247,0.995239794254303,0.9753633737564087,0.9734501242637634,0.9765807390213013,0.9915950298309326,0.9744434356689453,0.9688378572463989,0.9775624871253967,0.9905979633331299,0.974111020565033,0.972263514995575,0.9755827784538269,0.9909841418266296,0.9749665856361389,0.9653825163841248,0.9764832258224487,0.9854095578193665,0.9734416604042053,0.9603426456451416,0.9808599948883057,0.9884029030799866,0.9689105153083801,0.9673784375190735,0.9779053926467896,0.9903400540351868,0.9678190350532532,0.9638243913650513,0.9776638746261597,0.9895302653312683,0.9621862173080444,0.9661551713943481,0.9820935726165771,0.9812279939651489,0.9672329425811768,0.9563493132591248,0.9836283922195435,0.9893813729286194,0.9518634080886841,0.9746403098106384,0.9780781865119934,0.9972695708274841,0.977419376373291,0.9754531383514404,0.9800188541412354,0.9930434823036194,0.9700727462768555,0.9751560688018799,0.9793482422828674,0.9974524974822998,0.9767316579818726,0.971634030342102,0.9763475656509399,1.000000238418579,0.9753274917602539,0.9782769083976746,0.977492094039917,0.9938205480575562,0.9736073017120361,0.9667174816131592,0.9751242399215698,0.9948249459266663,0.969951331615448,0.9649398326873779,0.9770281314849854,0.9934078454971313,0.9741451740264893],[0.9889178276062012,0.9872543811798096,0.9775670170783997,0.9988555908203125,0.9890569448471069,0.9865590333938599,0.9786831140518188,0.9973980188369751,0.9891484379768372,0.9869557619094849,0.9789321422576904,0.998760461807251,0.9892270565032959,0.987434446811676,0.9808046817779541,0.9979125261306763,0.98741614818573,0.9881544709205627,0.9798539876937866,0.9976592063903809,0.9860509037971497,0.9861351251602173,0.9804148077964783,0.998102068901062,0.9845304489135742,0.9847087860107422,0.9810296297073364,0.9979986548423767,0.9806522130966187,0.9877204895019531,0.9816601872444153,0.9940172433853149,0.9866851568222046,0.9876850843429565,0.9804975986480713,0.9936583042144775,0.9861176013946533,0.9872370958328247,0.9846690893173218,0.9917380809783936,0.9879838228225708,0.9840656518936157,0.9827674627304077,0.9953024387359619,0.9810433387756348,0.9884166717529297,0.9826220273971558,0.9859433174133301,0.9894307851791382,0.9869933128356934,0.9784721732139587,0.9990735054016113,0.9873545169830322,0.986186146736145,0.9755053520202637,0.99528968334198,0.9891204237937927,0.9882159233093262,0.9801511764526367,0.999199390411377,0.9890632033348083,0.9886535406112671,0.9753274917602539,1.000000238418579,0.9876861572265625,0.9881159067153931,0.9816403985023499,0.9953190088272095,0.9842261075973511,0.9876729249954224,0.9814295768737793,0.9942194819450378,0.979994535446167,0.9869357347488403,0.9780809283256531,0.9961743354797363],[0.9972931742668152,0.9824659824371338,0.9794324636459351,0.9865878224372864,0.9974440932273865,0.9819152355194092,0.9817584156990051,0.9864275455474854,0.9977138042449951,0.9818776249885559,0.9820117354393005,0.9871435165405273,0.9949088096618652,0.9837457537651062,0.9824913740158081,0.9868158102035522,0.9934017658233643,0.9841181039810181,0.9800483584403992,0.9873912334442139,0.992030143737793,0.9798467755317688,0.9827625155448914,0.9872426390647888,0.9886212944984436,0.9801813364028931,0.9815571308135986,0.9871972799301147,0.9854060411453247,0.9834702014923096,0.9815450310707092,0.9829980731010437,0.990998387336731,0.9833360910415649,0.9804112315177917,0.9837642312049866,0.9914544820785522,0.9858139753341675,0.9843167066574097,0.9815342426300049,0.9923319220542908,0.9827457666397095,0.9812890291213989,0.9834215044975281,0.9836455583572388,0.9875094890594482,0.9818960428237915,0.9758340120315552,0.9968715310096741,0.9805266857147217,0.9802736043930054,0.9876886010169983,0.9951030015945435,0.982709527015686,0.9768649339675903,0.9847774505615234,0.9971222877502441,0.9833487868309021,0.9822733402252197,0.9877365827560425,0.9963102340698242,0.9832251071929932,0.9782769083976746,0.9876861572265625,1.0000001192092896,0.9837483167648315,0.9844636917114258,0.9862160086631775,0.9911890625953674,0.9842522740364075,0.9823564887046814,0.984728217124939,0.9865963459014893,0.9812641739845276,0.9799013137817383,0.9870926141738892],[0.9829117059707642,0.9956365823745728,0.9794880747795105,0.9867758750915527,0.9833106994628906,0.9946026802062988,0.9794243574142456,0.9863064885139465,0.9836055040359497,0.9946435689926147,0.9795582890510559,0.9873530864715576,0.9814107418060303,0.9929685592651367,0.98078852891922,0.9885967969894409,0.9796462655067444,0.9914517998695374,0.9817069172859192,0.9881097078323364,0.9788993000984192,0.9906190633773804,0.9798503518104553,0.9881268739700317,0.9753726720809937,0.9887263774871826,0.980700671672821,0.9875143766403198,0.9716919660568237,0.990882933139801,0.9810798764228821,0.9819191694259644,0.9782134294509888,0.9937947988510132,0.9789564609527588,0.9808875918388367,0.976780891418457,0.9905483722686768,0.9830060005187988,0.9812992811203003,0.9795844554901123,0.9884483218193054,0.9783847332000732,0.9842696785926819,0.9703457951545715,0.9908696413040161,0.9812458753585815,0.97426837682724,0.9828281402587891,0.9939814805984497,0.979668915271759,0.9879311919212341,0.9831831455230713,0.9932302236557007,0.975843071937561,0.9850459694862366,0.9831156730651855,0.9959031343460083,0.9813677072525024,0.9876545667648315,0.9821738004684448,0.9960026741027832,0.977492094039917,0.9881159067153931,0.9837483167648315,0.9999996423721313,0.9820883870124817,0.9843668937683105,0.9767177700996399,0.9939264059066772,0.9821215867996216,0.9853916764259338,0.9726287126541138,0.9929640889167786,0.9801974296569824,0.9863100051879883],[0.9812790751457214,0.9826852083206177,0.9937960505485535,0.981590747833252,0.9816629886627197,0.9825176000595093,0.9953195452690125,0.9802349209785461,0.9824806451797485,0.9820936918258667,0.9952968955039978,0.9817205667495728,0.9808524250984192,0.9816374778747559,0.9921954870223999,0.9808635115623474,0.9774000644683838,0.9821197986602783,0.9863884449005127,0.9812606573104858,0.978611171245575,0.9793289303779602,0.9901056885719299,0.9819273948669434,0.9728000164031982,0.97879958152771,0.9834811091423035,0.9805924892425537,0.968558669090271,0.9829535484313965,0.9897549152374268,0.9767338633537292,0.9756818413734436,0.98175448179245,0.9888617992401123,0.9763145446777344,0.973682165145874,0.9832465052604675,0.9908456802368164,0.9738397598266602,0.9759336709976196,0.9840598106384277,0.9794608354568481,0.9765382409095764,0.9662531614303589,0.9862070083618164,0.988767683506012,0.965793251991272,0.9810196161270142,0.9800617098808289,0.993736207485199,0.9825977087020874,0.9811352491378784,0.9818730354309082,0.9884892702102661,0.9785192012786865,0.9819815754890442,0.9825318455696106,0.9948539137840271,0.9820891618728638,0.9794632196426392,0.9811664819717407,0.9938205480575562,0.9816403985023499,0.9844636917114258,0.9820883870124817,0.9999998807907104,0.9808124303817749,0.975440263748169,0.9802312850952148,0.9954475164413452,0.9783581495285034,0.9731096029281616,0.9797335863113403,0.993141770362854,0.9813929796218872],[0.985493540763855,0.9820670485496521,0.975568413734436,0.9942940473556519,0.986465573310852,0.9823755621910095,0.9777231216430664,0.994421124458313,0.986357569694519,0.9826784133911133,0.9780566692352295,0.9951446056365967,0.9858996868133545,0.9826555252075195,0.978080153465271,0.9935148358345032,0.9842569231987,0.9837016463279724,0.9768316745758057,0.9935388565063477,0.9823923110961914,0.9809199571609497,0.978539228439331,0.9941178560256958,0.9808056950569153,0.9804207682609558,0.9784619808197021,0.9933794736862183,0.977708101272583,0.9831118583679199,0.9790533185005188,0.9904111623764038,0.9835090041160583,0.983030378818512,0.9776922464370728,0.9906352758407593,0.9829319715499878,0.9844129085540771,0.9805420637130737,0.9881393909454346,0.9845523834228516,0.9810093641281128,0.9783309102058411,0.9907993078231812,0.9785871505737305,0.9844611883163452,0.9785914421081543,0.9824812412261963,0.985844075679779,0.9813085794448853,0.9768162965774536,0.9944407939910889,0.9834747314453125,0.98163902759552,0.9733643531799316,0.991710901260376,0.9855062961578369,0.9833067059516907,0.9780033826828003,0.9949769973754883,0.9852954149246216,0.9831860065460205,0.9736073017120361,0.9953190088272095,0.9862160086631775,0.9843668937683105,0.9808124303817749,1.000000238418579,0.9808297753334045,0.9846683740615845,0.9789294004440308,0.9935204982757568,0.977482259273529,0.9833779335021973,0.9764876365661621,0.99434894323349],[0.9919223785400391,0.9749452471733093,0.9700800776481628,0.9820306897163391,0.9916286468505859,0.9728550314903259,0.9720373153686523,0.9817633032798767,0.9917948246002197,0.9730945229530334,0.9722768068313599,0.9824433326721191,0.992607831954956,0.9782921075820923,0.9754403829574585,0.983318567276001,0.9936954975128174,0.9773123860359192,0.9719883799552917,0.9838056564331055,0.9929829835891724,0.9720633029937744,0.9754763841629028,0.9839224219322205,0.9919681549072266,0.9716834425926208,0.9770662784576416,0.9839230179786682,0.9902151823043823,0.9764341115951538,0.9723309278488159,0.979656457901001,0.9922695159912109,0.9765061140060425,0.9719842672348022,0.9807250499725342,0.9921883940696716,0.9799976944923401,0.978108823299408,0.9809707403182983,0.9916733503341675,0.9741836190223694,0.9777160286903381,0.9808560609817505,0.9891703128814697,0.9809495806694031,0.9747506380081177,0.9766966104507446,0.9915242195129395,0.9735793471336365,0.9714344143867493,0.9833660125732422,0.9880367517471313,0.9746183753013611,0.9677010178565979,0.9817831516265869,0.9921046495437622,0.9762746691703796,0.9730914831161499,0.9838488101959229,0.9919687509536743,0.9774619936943054,0.9667174816131592,0.9842261075973511,0.9911890625953674,0.9767177700996399,0.975440263748169,0.9808297753334045,1.0,0.9795603156089783,0.9733579158782959,0.9817420840263367,0.9929953217506409,0.9758093953132629,0.9697573184967041,0.9835854768753052],[0.984688401222229,0.9922341704368591,0.9763569831848145,0.9863181114196777,0.9853658676147461,0.9923521876335144,0.9775842428207397,0.9865259528160095,0.9854226112365723,0.9923095703125,0.9778512120246887,0.9872264862060547,0.9837722778320312,0.9898989200592041,0.9797446131706238,0.9871931672096252,0.9822405576705933,0.9898273944854736,0.9803910255432129,0.9876142740249634,0.9810525178909302,0.9881584048271179,0.9784900546073914,0.9871935248374939,0.9789472222328186,0.9866916537284851,0.979811429977417,0.9875985383987427,0.9758810997009277,0.9893441200256348,0.9780049324035645,0.9826819896697998,0.9812837839126587,0.9918626546859741,0.9772169589996338,0.982403039932251,0.9801598787307739,0.9892244338989258,0.9816240072250366,0.9809937477111816,0.9822388887405396,0.9867892861366272,0.9783139228820801,0.9839528799057007,0.975159764289856,0.9905517101287842,0.9806088209152222,0.9757490754127502,0.9844151735305786,0.990513801574707,0.9770269989967346,0.9872733354568481,0.9830089807510376,0.990036129951477,0.9731642007827759,0.9841436147689819,0.984642505645752,0.9936107993125916,0.9787040948867798,0.9873018860816956,0.9841568470001221,0.9930354356765747,0.9751242399215698,0.9876729249954224,0.9842522740364075,0.9939264059066772,0.9802312850952148,0.9846683740615845,0.9795603156089783,0.9999997615814209,0.9807794690132141,0.985177218914032,0.9761853814125061,0.9936370849609375,0.9791663885116577,0.9863343238830566],[0.9798760414123535,0.9842948317527771,0.9952204823493958,0.9821079969406128,0.9797018766403198,0.9845154285430908,0.9932904243469238,0.978918194770813,0.9806702136993408,0.9843454360961914,0.9931914806365967,0.9810515642166138,0.9789774417877197,0.9820535182952881,0.9924819469451904,0.9809058904647827,0.9748251438140869,0.9825234413146973,0.9902174472808838,0.9799546003341675,0.9777011871337891,0.9815158843994141,0.9906225204467773,0.9811924695968628,0.9715570211410522,0.9812206029891968,0.98534095287323,0.9798974990844727,0.9665026664733887,0.9855332374572754,0.9890328049659729,0.9752795100212097,0.9736042022705078,0.9821275472640991,0.9902033805847168,0.9745720624923706,0.9703031778335571,0.9818168878555298,0.9922176599502563,0.9708414673805237,0.972830593585968,0.9842614531517029,0.9828214645385742,0.9746410250663757,0.9629694819450378,0.9853137731552124,0.9909675121307373,0.9615271091461182,0.9800316095352173,0.9824509620666504,0.9949358701705933,0.9824347496032715,0.9804421663284302,0.9839794635772705,0.99066561460495,0.9765695333480835,0.9805829524993896,0.9836095571517944,0.9955326318740845,0.9819375276565552,0.9780313968658447,0.9817683696746826,0.9948249459266663,0.9814295768737793,0.9823564887046814,0.9821215867996216,0.9954475164413452,0.9789294004440308,0.9733579158782959,0.9807794690132141,1.0,0.9766356945037842,0.9705638289451599,0.9815082550048828,0.9943504333496094,0.9805588722229004],[0.9857580065727234,0.9832353591918945,0.9726489782333374,0.9911805391311646,0.985977292060852,0.9808918237686157,0.9752134680747986,0.9930934906005859,0.986174464225769,0.9814311265945435,0.975419819355011,0.9934929609298706,0.9846662282943726,0.9848253726959229,0.976806640625,0.9939268231391907,0.9841200113296509,0.9832557439804077,0.9736669063568115,0.9950106143951416,0.9809401035308838,0.9808862209320068,0.9754689931869507,0.9940454959869385,0.9778839349746704,0.9785096645355225,0.9761731624603271,0.9924769401550293,0.9755992889404297,0.9818791747093201,0.9756087064743042,0.9868760704994202,0.9818598031997681,0.9830796122550964,0.9750803709030151,0.9866507053375244,0.9834536910057068,0.9841252565383911,0.9781075716018677,0.9896493554115295,0.985637903213501,0.9791111946105957,0.974398136138916,0.9915106296539307,0.9769956469535828,0.9835964441299438,0.9769091606140137,0.9821420907974243,0.9851500988006592,0.9814659357070923,0.9740504026412964,0.9939181804656982,0.9844347238540649,0.9811640381813049,0.9709998369216919,0.9934384226799011,0.9854334592819214,0.9839277267456055,0.9755823612213135,0.9935886859893799,0.985532283782959,0.9853969216346741,0.969951331615448,0.9942194819450378,0.984728217124939,0.9853916764259338,0.9783581495285034,0.9935204982757568,0.9817420840263367,0.985177218914032,0.9766356945037842,0.9999999403953552,0.9766685962677002,0.9834984540939331,0.9736347198486328,0.9950103759765625],[0.9891324043273926,0.9700713157653809,0.9679383039474487,0.9780215620994568,0.9888128638267517,0.9697572588920593,0.9710460901260376,0.9783957004547119,0.9888598918914795,0.969835638999939,0.9716715812683105,0.9789707660675049,0.9895356297492981,0.9733633995056152,0.973228931427002,0.9784706830978394,0.9915950298309326,0.9739706516265869,0.969724714756012,0.979446291923523,0.9892436265945435,0.9679539799690247,0.9737297296524048,0.9793251752853394,0.9890208840370178,0.9681606292724609,0.9742884635925293,0.97981196641922,0.9888036251068115,0.9721841812133789,0.9697077870368958,0.9748773574829102,0.9919363856315613,0.9718215465545654,0.9694941639900208,0.9761044383049011,0.98982834815979,0.9757521152496338,0.975298285484314,0.9757437705993652,0.9897817969322205,0.9713226556777954,0.9745830297470093,0.976299524307251,0.9894105195999146,0.9771836996078491,0.9717639684677124,0.9722185134887695,0.9890981912612915,0.9689898490905762,0.9694564938545227,0.9789110422134399,0.9853018522262573,0.9715951681137085,0.9658461809158325,0.9770454168319702,0.9893966913223267,0.9717973470687866,0.9703658819198608,0.9794723987579346,0.9886327981948853,0.972327470779419,0.9649398326873779,0.979994535446167,0.9865963459014893,0.9726287126541138,0.9731096029281616,0.977482259273529,0.9929953217506409,0.9761853814125061,0.9705638289451599,0.9766685962677002,1.0000001192092896,0.9729431867599487,0.9675818681716919,0.9788160920143127],[0.981241762638092,0.9929680824279785,0.9787046313285828,0.9861655235290527,0.9814004302024841,0.9927719235420227,0.9781002402305603,0.9855608344078064,0.9816638827323914,0.9928656220436096,0.9784447550773621,0.9866122007369995,0.9794989824295044,0.9901054501533508,0.9804794192314148,0.986583948135376,0.9774107933044434,0.9883331060409546,0.9823358654975891,0.9861024618148804,0.9781433343887329,0.9875620603561401,0.9801772832870483,0.9865038394927979,0.9746358394622803,0.9872782826423645,0.982075035572052,0.9861289262771606,0.9712880849838257,0.9886730909347534,0.9785934686660767,0.9802039861679077,0.9766190052032471,0.99173903465271,0.9782500267028809,0.9788458347320557,0.9746237993240356,0.9875805974006653,0.982339084148407,0.9773173928260803,0.977026104927063,0.9867549538612366,0.9790064692497253,0.9811508655548096,0.9697437286376953,0.9881881475448608,0.9809699058532715,0.9698234796524048,0.9810616970062256,0.9928282499313354,0.9790508151054382,0.9867547154426575,0.9804667234420776,0.9916418194770813,0.9750989079475403,0.9828421473503113,0.9811686277389526,0.9937893748283386,0.9800220131874084,0.9869852066040039,0.9802144169807434,0.9928816556930542,0.9770281314849854,0.9869357347488403,0.9812641739845276,0.9929640889167786,0.9797335863113403,0.9833779335021973,0.9758093953132629,0.9936370849609375,0.9815082550048828,0.9834984540939331,0.9729431867599487,1.0,0.9798409938812256,0.9849810600280762],[0.9768869876861572,0.9821659922599792,0.993199348449707,0.9790626764297485,0.9770673513412476,0.9825775027275085,0.9917797446250916,0.9763888120651245,0.9780298471450806,0.9820199012756348,0.9915669560432434,0.9782925844192505,0.976152777671814,0.9797621965408325,0.9916212558746338,0.9772643446922302,0.9721325635910034,0.9808815717697144,0.9894331097602844,0.9771103262901306,0.9744879007339478,0.9786543846130371,0.9902337789535522,0.9777576327323914,0.9685420989990234,0.9790138006210327,0.9837436676025391,0.9768129587173462,0.9639167785644531,0.9830484390258789,0.9870041012763977,0.9718393087387085,0.9711447358131409,0.9808391332626343,0.9898363947868347,0.9709417819976807,0.9675435423851013,0.9807514548301697,0.9903802871704102,0.9667729139328003,0.9700759649276733,0.9845166802406311,0.9808261394500732,0.971097469329834,0.9608076810836792,0.9839403629302979,0.9903916716575623,0.9574286937713623,0.9767835140228271,0.9805380702018738,0.9928776621818542,0.9795600175857544,0.9774414300918579,0.9823418259620667,0.9890055656433105,0.9735114574432373,0.9774149656295776,0.9819623231887817,0.9936349987983704,0.9789117574691772,0.9747872352600098,0.9794872403144836,0.9934078454971313,0.9780809283256531,0.9799013137817383,0.9801974296569824,0.993141770362854,0.9764876365661621,0.9697573184967041,0.9791663885116577,0.9943504333496094,0.9736347198486328,0.9675818681716919,0.9798409938812256,1.0,0.9777700901031494],[0.9875162839889526,0.9852505326271057,0.9765632748603821,0.9948511719703674,0.9878820180892944,0.9840487241744995,0.9778585433959961,0.9941457509994507,0.9880858063697815,0.984417200088501,0.9779433012008667,0.9953199625015259,0.9874890446662903,0.9856234788894653,0.9800139665603638,0.9959444403648376,0.9855810403823853,0.9859767556190491,0.978193998336792,0.995380163192749,0.9844738245010376,0.9836525917053223,0.9799709320068359,0.9957234859466553,0.9823240041732788,0.9823123216629028,0.9804952144622803,0.9952141046524048,0.9780058860778809,0.9855359196662903,0.9813562631607056,0.99056077003479,0.9841591119766235,0.9852983355522156,0.979265570640564,0.991498589515686,0.9845156073570251,0.9857068657875061,0.9823909997940063,0.9918919205665588,0.9865511059761047,0.9820362329483032,0.9793416261672974,0.9933649301528931,0.9783737659454346,0.985933780670166,0.9805755615234375,0.9860296845436096,0.9876384735107422,0.9843730926513672,0.9779524207115173,0.9955147504806519,0.985581636428833,0.9835716485977173,0.9742395877838135,0.9922587871551514,0.9874681830406189,0.9863873720169067,0.9792166352272034,0.9953544735908508,0.9876559972763062,0.986366868019104,0.9741451740264893,0.9961743354797363,0.9870926141738892,0.9863100051879883,0.9813929796218872,0.99434894323349,0.9835854768753052,0.9863343238830566,0.9805588722229004,0.9950103759765625,0.9788160920143127,0.9849810600280762,0.9777700901031494,1.000000238418579]],\"type\":\"heatmap\"}],                        {\"template\":{\"data\":{\"histogram2dcontour\":[{\"type\":\"histogram2dcontour\",\"colorbar\":{\"outlinewidth\":0,\"ticks\":\"\"},\"colorscale\":[[0.0,\"#0d0887\"],[0.1111111111111111,\"#46039f\"],[0.2222222222222222,\"#7201a8\"],[0.3333333333333333,\"#9c179e\"],[0.4444444444444444,\"#bd3786\"],[0.5555555555555556,\"#d8576b\"],[0.6666666666666666,\"#ed7953\"],[0.7777777777777778,\"#fb9f3a\"],[0.8888888888888888,\"#fdca26\"],[1.0,\"#f0f921\"]]}],\"choropleth\":[{\"type\":\"choropleth\",\"colorbar\":{\"outlinewidth\":0,\"ticks\":\"\"}}],\"histogram2d\":[{\"type\":\"histogram2d\",\"colorbar\":{\"outlinewidth\":0,\"ticks\":\"\"},\"colorscale\":[[0.0,\"#0d0887\"],[0.1111111111111111,\"#46039f\"],[0.2222222222222222,\"#7201a8\"],[0.3333333333333333,\"#9c179e\"],[0.4444444444444444,\"#bd3786\"],[0.5555555555555556,\"#d8576b\"],[0.6666666666666666,\"#ed7953\"],[0.7777777777777778,\"#fb9f3a\"],[0.8888888888888888,\"#fdca26\"],[1.0,\"#f0f921\"]]}],\"heatmap\":[{\"type\":\"heatmap\",\"colorbar\":{\"outlinewidth\":0,\"ticks\":\"\"},\"colorscale\":[[0.0,\"#0d0887\"],[0.1111111111111111,\"#46039f\"],[0.2222222222222222,\"#7201a8\"],[0.3333333333333333,\"#9c179e\"],[0.4444444444444444,\"#bd3786\"],[0.5555555555555556,\"#d8576b\"],[0.6666666666666666,\"#ed7953\"],[0.7777777777777778,\"#fb9f3a\"],[0.8888888888888888,\"#fdca26\"],[1.0,\"#f0f921\"]]}],\"heatmapgl\":[{\"type\":\"heatmapgl\",\"colorbar\":{\"outlinewidth\":0,\"ticks\":\"\"},\"colorscale\":[[0.0,\"#0d0887\"],[0.1111111111111111,\"#46039f\"],[0.2222222222222222,\"#7201a8\"],[0.3333333333333333,\"#9c179e\"],[0.4444444444444444,\"#bd3786\"],[0.5555555555555556,\"#d8576b\"],[0.6666666666666666,\"#ed7953\"],[0.7777777777777778,\"#fb9f3a\"],[0.8888888888888888,\"#fdca26\"],[1.0,\"#f0f921\"]]}],\"contourcarpet\":[{\"type\":\"contourcarpet\",\"colorbar\":{\"outlinewidth\":0,\"ticks\":\"\"}}],\"contour\":[{\"type\":\"contour\",\"colorbar\":{\"outlinewidth\":0,\"ticks\":\"\"},\"colorscale\":[[0.0,\"#0d0887\"],[0.1111111111111111,\"#46039f\"],[0.2222222222222222,\"#7201a8\"],[0.3333333333333333,\"#9c179e\"],[0.4444444444444444,\"#bd3786\"],[0.5555555555555556,\"#d8576b\"],[0.6666666666666666,\"#ed7953\"],[0.7777777777777778,\"#fb9f3a\"],[0.8888888888888888,\"#fdca26\"],[1.0,\"#f0f921\"]]}],\"surface\":[{\"type\":\"surface\",\"colorbar\":{\"outlinewidth\":0,\"ticks\":\"\"},\"colorscale\":[[0.0,\"#0d0887\"],[0.1111111111111111,\"#46039f\"],[0.2222222222222222,\"#7201a8\"],[0.3333333333333333,\"#9c179e\"],[0.4444444444444444,\"#bd3786\"],[0.5555555555555556,\"#d8576b\"],[0.6666666666666666,\"#ed7953\"],[0.7777777777777778,\"#fb9f3a\"],[0.8888888888888888,\"#fdca26\"],[1.0,\"#f0f921\"]]}],\"mesh3d\":[{\"type\":\"mesh3d\",\"colorbar\":{\"outlinewidth\":0,\"ticks\":\"\"}}],\"scatter\":[{\"fillpattern\":{\"fillmode\":\"overlay\",\"size\":10,\"solidity\":0.2},\"type\":\"scatter\"}],\"parcoords\":[{\"type\":\"parcoords\",\"line\":{\"colorbar\":{\"outlinewidth\":0,\"ticks\":\"\"}}}],\"scatterpolargl\":[{\"type\":\"scatterpolargl\",\"marker\":{\"colorbar\":{\"outlinewidth\":0,\"ticks\":\"\"}}}],\"bar\":[{\"error_x\":{\"color\":\"#2a3f5f\"},\"error_y\":{\"color\":\"#2a3f5f\"},\"marker\":{\"line\":{\"color\":\"#E5ECF6\",\"width\":0.5},\"pattern\":{\"fillmode\":\"overlay\",\"size\":10,\"solidity\":0.2}},\"type\":\"bar\"}],\"scattergeo\":[{\"type\":\"scattergeo\",\"marker\":{\"colorbar\":{\"outlinewidth\":0,\"ticks\":\"\"}}}],\"scatterpolar\":[{\"type\":\"scatterpolar\",\"marker\":{\"colorbar\":{\"outlinewidth\":0,\"ticks\":\"\"}}}],\"histogram\":[{\"marker\":{\"pattern\":{\"fillmode\":\"overlay\",\"size\":10,\"solidity\":0.2}},\"type\":\"histogram\"}],\"scattergl\":[{\"type\":\"scattergl\",\"marker\":{\"colorbar\":{\"outlinewidth\":0,\"ticks\":\"\"}}}],\"scatter3d\":[{\"type\":\"scatter3d\",\"line\":{\"colorbar\":{\"outlinewidth\":0,\"ticks\":\"\"}},\"marker\":{\"colorbar\":{\"outlinewidth\":0,\"ticks\":\"\"}}}],\"scattermapbox\":[{\"type\":\"scattermapbox\",\"marker\":{\"colorbar\":{\"outlinewidth\":0,\"ticks\":\"\"}}}],\"scatterternary\":[{\"type\":\"scatterternary\",\"marker\":{\"colorbar\":{\"outlinewidth\":0,\"ticks\":\"\"}}}],\"scattercarpet\":[{\"type\":\"scattercarpet\",\"marker\":{\"colorbar\":{\"outlinewidth\":0,\"ticks\":\"\"}}}],\"carpet\":[{\"aaxis\":{\"endlinecolor\":\"#2a3f5f\",\"gridcolor\":\"white\",\"linecolor\":\"white\",\"minorgridcolor\":\"white\",\"startlinecolor\":\"#2a3f5f\"},\"baxis\":{\"endlinecolor\":\"#2a3f5f\",\"gridcolor\":\"white\",\"linecolor\":\"white\",\"minorgridcolor\":\"white\",\"startlinecolor\":\"#2a3f5f\"},\"type\":\"carpet\"}],\"table\":[{\"cells\":{\"fill\":{\"color\":\"#EBF0F8\"},\"line\":{\"color\":\"white\"}},\"header\":{\"fill\":{\"color\":\"#C8D4E3\"},\"line\":{\"color\":\"white\"}},\"type\":\"table\"}],\"barpolar\":[{\"marker\":{\"line\":{\"color\":\"#E5ECF6\",\"width\":0.5},\"pattern\":{\"fillmode\":\"overlay\",\"size\":10,\"solidity\":0.2}},\"type\":\"barpolar\"}],\"pie\":[{\"automargin\":true,\"type\":\"pie\"}]},\"layout\":{\"autotypenumbers\":\"strict\",\"colorway\":[\"#636efa\",\"#EF553B\",\"#00cc96\",\"#ab63fa\",\"#FFA15A\",\"#19d3f3\",\"#FF6692\",\"#B6E880\",\"#FF97FF\",\"#FECB52\"],\"font\":{\"color\":\"#2a3f5f\"},\"hovermode\":\"closest\",\"hoverlabel\":{\"align\":\"left\"},\"paper_bgcolor\":\"white\",\"plot_bgcolor\":\"#E5ECF6\",\"polar\":{\"bgcolor\":\"#E5ECF6\",\"angularaxis\":{\"gridcolor\":\"white\",\"linecolor\":\"white\",\"ticks\":\"\"},\"radialaxis\":{\"gridcolor\":\"white\",\"linecolor\":\"white\",\"ticks\":\"\"}},\"ternary\":{\"bgcolor\":\"#E5ECF6\",\"aaxis\":{\"gridcolor\":\"white\",\"linecolor\":\"white\",\"ticks\":\"\"},\"baxis\":{\"gridcolor\":\"white\",\"linecolor\":\"white\",\"ticks\":\"\"},\"caxis\":{\"gridcolor\":\"white\",\"linecolor\":\"white\",\"ticks\":\"\"}},\"coloraxis\":{\"colorbar\":{\"outlinewidth\":0,\"ticks\":\"\"}},\"colorscale\":{\"sequential\":[[0.0,\"#0d0887\"],[0.1111111111111111,\"#46039f\"],[0.2222222222222222,\"#7201a8\"],[0.3333333333333333,\"#9c179e\"],[0.4444444444444444,\"#bd3786\"],[0.5555555555555556,\"#d8576b\"],[0.6666666666666666,\"#ed7953\"],[0.7777777777777778,\"#fb9f3a\"],[0.8888888888888888,\"#fdca26\"],[1.0,\"#f0f921\"]],\"sequentialminus\":[[0.0,\"#0d0887\"],[0.1111111111111111,\"#46039f\"],[0.2222222222222222,\"#7201a8\"],[0.3333333333333333,\"#9c179e\"],[0.4444444444444444,\"#bd3786\"],[0.5555555555555556,\"#d8576b\"],[0.6666666666666666,\"#ed7953\"],[0.7777777777777778,\"#fb9f3a\"],[0.8888888888888888,\"#fdca26\"],[1.0,\"#f0f921\"]],\"diverging\":[[0,\"#8e0152\"],[0.1,\"#c51b7d\"],[0.2,\"#de77ae\"],[0.3,\"#f1b6da\"],[0.4,\"#fde0ef\"],[0.5,\"#f7f7f7\"],[0.6,\"#e6f5d0\"],[0.7,\"#b8e186\"],[0.8,\"#7fbc41\"],[0.9,\"#4d9221\"],[1,\"#276419\"]]},\"xaxis\":{\"gridcolor\":\"white\",\"linecolor\":\"white\",\"ticks\":\"\",\"title\":{\"standoff\":15},\"zerolinecolor\":\"white\",\"automargin\":true,\"zerolinewidth\":2},\"yaxis\":{\"gridcolor\":\"white\",\"linecolor\":\"white\",\"ticks\":\"\",\"title\":{\"standoff\":15},\"zerolinecolor\":\"white\",\"automargin\":true,\"zerolinewidth\":2},\"scene\":{\"xaxis\":{\"backgroundcolor\":\"#E5ECF6\",\"gridcolor\":\"white\",\"linecolor\":\"white\",\"showbackground\":true,\"ticks\":\"\",\"zerolinecolor\":\"white\",\"gridwidth\":2},\"yaxis\":{\"backgroundcolor\":\"#E5ECF6\",\"gridcolor\":\"white\",\"linecolor\":\"white\",\"showbackground\":true,\"ticks\":\"\",\"zerolinecolor\":\"white\",\"gridwidth\":2},\"zaxis\":{\"backgroundcolor\":\"#E5ECF6\",\"gridcolor\":\"white\",\"linecolor\":\"white\",\"showbackground\":true,\"ticks\":\"\",\"zerolinecolor\":\"white\",\"gridwidth\":2}},\"shapedefaults\":{\"line\":{\"color\":\"#2a3f5f\"}},\"annotationdefaults\":{\"arrowcolor\":\"#2a3f5f\",\"arrowhead\":0,\"arrowwidth\":1},\"geo\":{\"bgcolor\":\"white\",\"landcolor\":\"#E5ECF6\",\"subunitcolor\":\"white\",\"showland\":true,\"showlakes\":true,\"lakecolor\":\"white\"},\"title\":{\"x\":0.05},\"mapbox\":{\"style\":\"light\"}}},\"font\":{\"size\":14},\"margin\":{\"t\":100,\"r\":100,\"b\":100,\"l\":100},\"title\":{\"text\":\"Cosine Similarity Matrix\"},\"xaxis\":{\"title\":{\"text\":\"Image Index\"}},\"yaxis\":{\"title\":{\"text\":\"Image Index\"}},\"width\":1000,\"height\":1000},                        {\"responsive\": true}                    ).then(function(){\n",
              "                            \n",
              "var gd = document.getElementById('a07abb1b-720a-4d6e-a00e-54fd9789a0c8');\n",
              "var x = new MutationObserver(function (mutations, observer) {{\n",
              "        var display = window.getComputedStyle(gd).display;\n",
              "        if (!display || display === 'none') {{\n",
              "            console.log([gd, 'removed!']);\n",
              "            Plotly.purge(gd);\n",
              "            observer.disconnect();\n",
              "        }}\n",
              "}});\n",
              "\n",
              "// Listen for the removal of the full notebook cells\n",
              "var notebookContainer = gd.closest('#notebook-container');\n",
              "if (notebookContainer) {{\n",
              "    x.observe(notebookContainer, {childList: true});\n",
              "}}\n",
              "\n",
              "// Listen for the clearing of the current output cell\n",
              "var outputEl = gd.closest('.output');\n",
              "if (outputEl) {{\n",
              "    x.observe(outputEl, {childList: true});\n",
              "}}\n",
              "\n",
              "                        })                };                            </script>        </div>\n",
              "</body>\n",
              "</html>"
            ]
          },
          "metadata": {},
          "output_type": "display_data"
        }
      ],
      "source": [
        "import numpy as np\n",
        "import plotly.graph_objects as go\n",
        "\n",
        "fig = go.Figure(data=go.Heatmap(z=cosine_sim_matrix, colorscale='Viridis'))\n",
        "\n",
        "fig.update_layout(\n",
        "    title=\"Cosine Similarity Matrix\",\n",
        "    xaxis_title=\"Image Index\",\n",
        "    yaxis_title=\"Image Index\",\n",
        "    font=dict(size=14),\n",
        "    width=1000,\n",
        "    height=1000,\n",
        "    margin=dict(t=100, r=100, b=100, l=100),\n",
        ")\n",
        "\n",
        "fig.show()"
      ]
    }
  ],
  "metadata": {
    "accelerator": "GPU",
    "colab": {
      "gpuType": "T4",
      "provenance": [],
      "toc_visible": true
    },
    "kernelspec": {
      "display_name": "Python 3",
      "name": "python3"
    },
    "language_info": {
      "name": "python"
    },
    "widgets": {
      "application/vnd.jupyter.widget-state+json": {
        "020852ae0b054b0d90c0d79a3a3b5a50": {
          "model_module": "@jupyter-widgets/controls",
          "model_module_version": "1.5.0",
          "model_name": "ProgressStyleModel",
          "state": {
            "_model_module": "@jupyter-widgets/controls",
            "_model_module_version": "1.5.0",
            "_model_name": "ProgressStyleModel",
            "_view_count": null,
            "_view_module": "@jupyter-widgets/base",
            "_view_module_version": "1.2.0",
            "_view_name": "StyleView",
            "bar_color": null,
            "description_width": ""
          }
        },
        "11ebbcba4350402f84f90580b285ba05": {
          "model_module": "@jupyter-widgets/controls",
          "model_module_version": "1.5.0",
          "model_name": "HTMLModel",
          "state": {
            "_dom_classes": [],
            "_model_module": "@jupyter-widgets/controls",
            "_model_module_version": "1.5.0",
            "_model_name": "HTMLModel",
            "_view_count": null,
            "_view_module": "@jupyter-widgets/controls",
            "_view_module_version": "1.5.0",
            "_view_name": "HTMLView",
            "description": "",
            "description_tooltip": null,
            "layout": "IPY_MODEL_819239a46063440abade8c49cb4ce303",
            "placeholder": "​",
            "style": "IPY_MODEL_b1d6c5871c344d1e87f45ead28dfba20",
            "value": " 69.6k/69.6k [00:00&lt;00:00, 5.07MB/s]"
          }
        },
        "13a55803b59a4413b4003405b5d7bb13": {
          "model_module": "@jupyter-widgets/controls",
          "model_module_version": "1.5.0",
          "model_name": "HTMLModel",
          "state": {
            "_dom_classes": [],
            "_model_module": "@jupyter-widgets/controls",
            "_model_module_version": "1.5.0",
            "_model_name": "HTMLModel",
            "_view_count": null,
            "_view_module": "@jupyter-widgets/controls",
            "_view_module_version": "1.5.0",
            "_view_name": "HTMLView",
            "description": "",
            "description_tooltip": null,
            "layout": "IPY_MODEL_a28b0b683b3d40d1912a33c26f1c5772",
            "placeholder": "​",
            "style": "IPY_MODEL_5ec6a44ac52140868cce0ca08bacc4f6",
            "value": "config.json: 100%"
          }
        },
        "1dc957e8fe324257935eabb4b5fd7beb": {
          "model_module": "@jupyter-widgets/controls",
          "model_module_version": "1.5.0",
          "model_name": "HTMLModel",
          "state": {
            "_dom_classes": [],
            "_model_module": "@jupyter-widgets/controls",
            "_model_module_version": "1.5.0",
            "_model_name": "HTMLModel",
            "_view_count": null,
            "_view_module": "@jupyter-widgets/controls",
            "_view_module_version": "1.5.0",
            "_view_name": "HTMLView",
            "description": "",
            "description_tooltip": null,
            "layout": "IPY_MODEL_f23abbe057664785be58fca8fa21ae53",
            "placeholder": "​",
            "style": "IPY_MODEL_28205e8dacf24b56896512a72cd60996",
            "value": " 103M/103M [00:01&lt;00:00, 93.7MB/s]"
          }
        },
        "28205e8dacf24b56896512a72cd60996": {
          "model_module": "@jupyter-widgets/controls",
          "model_module_version": "1.5.0",
          "model_name": "DescriptionStyleModel",
          "state": {
            "_model_module": "@jupyter-widgets/controls",
            "_model_module_version": "1.5.0",
            "_model_name": "DescriptionStyleModel",
            "_view_count": null,
            "_view_module": "@jupyter-widgets/base",
            "_view_module_version": "1.2.0",
            "_view_name": "StyleView",
            "description_width": ""
          }
        },
        "38aa743075304167ba2c6a6ea732acdb": {
          "model_module": "@jupyter-widgets/controls",
          "model_module_version": "1.5.0",
          "model_name": "HBoxModel",
          "state": {
            "_dom_classes": [],
            "_model_module": "@jupyter-widgets/controls",
            "_model_module_version": "1.5.0",
            "_model_name": "HBoxModel",
            "_view_count": null,
            "_view_module": "@jupyter-widgets/controls",
            "_view_module_version": "1.5.0",
            "_view_name": "HBoxView",
            "box_style": "",
            "children": [
              "IPY_MODEL_13a55803b59a4413b4003405b5d7bb13",
              "IPY_MODEL_654126f5a06d4a959c316426bad55ab5",
              "IPY_MODEL_11ebbcba4350402f84f90580b285ba05"
            ],
            "layout": "IPY_MODEL_cdf7b1d6c6394c65b3f284c4b755ff17"
          }
        },
        "3b67030772b143cda2c3909608676cff": {
          "model_module": "@jupyter-widgets/controls",
          "model_module_version": "1.5.0",
          "model_name": "FloatProgressModel",
          "state": {
            "_dom_classes": [],
            "_model_module": "@jupyter-widgets/controls",
            "_model_module_version": "1.5.0",
            "_model_name": "FloatProgressModel",
            "_view_count": null,
            "_view_module": "@jupyter-widgets/controls",
            "_view_module_version": "1.5.0",
            "_view_name": "ProgressView",
            "bar_style": "success",
            "description": "",
            "description_tooltip": null,
            "layout": "IPY_MODEL_b47979a280bb4e25a59147be050eb3f1",
            "max": 266,
            "min": 0,
            "orientation": "horizontal",
            "style": "IPY_MODEL_944ba727907343069c8a12d730dd3f63",
            "value": 266
          }
        },
        "47d987a65f2f4179a9e1c27a9da69cd4": {
          "model_module": "@jupyter-widgets/controls",
          "model_module_version": "1.5.0",
          "model_name": "DescriptionStyleModel",
          "state": {
            "_model_module": "@jupyter-widgets/controls",
            "_model_module_version": "1.5.0",
            "_model_name": "DescriptionStyleModel",
            "_view_count": null,
            "_view_module": "@jupyter-widgets/base",
            "_view_module_version": "1.2.0",
            "_view_name": "StyleView",
            "description_width": ""
          }
        },
        "4c0507d53e604fb285003fb7d52e8d4b": {
          "model_module": "@jupyter-widgets/base",
          "model_module_version": "1.2.0",
          "model_name": "LayoutModel",
          "state": {
            "_model_module": "@jupyter-widgets/base",
            "_model_module_version": "1.2.0",
            "_model_name": "LayoutModel",
            "_view_count": null,
            "_view_module": "@jupyter-widgets/base",
            "_view_module_version": "1.2.0",
            "_view_name": "LayoutView",
            "align_content": null,
            "align_items": null,
            "align_self": null,
            "border": null,
            "bottom": null,
            "display": null,
            "flex": null,
            "flex_flow": null,
            "grid_area": null,
            "grid_auto_columns": null,
            "grid_auto_flow": null,
            "grid_auto_rows": null,
            "grid_column": null,
            "grid_gap": null,
            "grid_row": null,
            "grid_template_areas": null,
            "grid_template_columns": null,
            "grid_template_rows": null,
            "height": null,
            "justify_content": null,
            "justify_items": null,
            "left": null,
            "margin": null,
            "max_height": null,
            "max_width": null,
            "min_height": null,
            "min_width": null,
            "object_fit": null,
            "object_position": null,
            "order": null,
            "overflow": null,
            "overflow_x": null,
            "overflow_y": null,
            "padding": null,
            "right": null,
            "top": null,
            "visibility": null,
            "width": null
          }
        },
        "5589cd69dea249fa9799facc2155bc7d": {
          "model_module": "@jupyter-widgets/controls",
          "model_module_version": "1.5.0",
          "model_name": "HBoxModel",
          "state": {
            "_dom_classes": [],
            "_model_module": "@jupyter-widgets/controls",
            "_model_module_version": "1.5.0",
            "_model_name": "HBoxModel",
            "_view_count": null,
            "_view_module": "@jupyter-widgets/controls",
            "_view_module_version": "1.5.0",
            "_view_name": "HBoxView",
            "box_style": "",
            "children": [
              "IPY_MODEL_5cbc18f5037f4514ab10ca2715500a02",
              "IPY_MODEL_3b67030772b143cda2c3909608676cff",
              "IPY_MODEL_8fbc91b9c0304129b2ad75c87aaf326c"
            ],
            "layout": "IPY_MODEL_e589af1c4ee44eb99b84902ab37d117c"
          }
        },
        "5cbc18f5037f4514ab10ca2715500a02": {
          "model_module": "@jupyter-widgets/controls",
          "model_module_version": "1.5.0",
          "model_name": "HTMLModel",
          "state": {
            "_dom_classes": [],
            "_model_module": "@jupyter-widgets/controls",
            "_model_module_version": "1.5.0",
            "_model_name": "HTMLModel",
            "_view_count": null,
            "_view_module": "@jupyter-widgets/controls",
            "_view_module_version": "1.5.0",
            "_view_name": "HTMLView",
            "description": "",
            "description_tooltip": null,
            "layout": "IPY_MODEL_6d6521864bab47c88a95feb2b9cfad3a",
            "placeholder": "​",
            "style": "IPY_MODEL_939442df634642c694194890746a60cb",
            "value": "preprocessor_config.json: 100%"
          }
        },
        "5ec6a44ac52140868cce0ca08bacc4f6": {
          "model_module": "@jupyter-widgets/controls",
          "model_module_version": "1.5.0",
          "model_name": "DescriptionStyleModel",
          "state": {
            "_model_module": "@jupyter-widgets/controls",
            "_model_module_version": "1.5.0",
            "_model_name": "DescriptionStyleModel",
            "_view_count": null,
            "_view_module": "@jupyter-widgets/base",
            "_view_module_version": "1.2.0",
            "_view_name": "StyleView",
            "description_width": ""
          }
        },
        "654126f5a06d4a959c316426bad55ab5": {
          "model_module": "@jupyter-widgets/controls",
          "model_module_version": "1.5.0",
          "model_name": "FloatProgressModel",
          "state": {
            "_dom_classes": [],
            "_model_module": "@jupyter-widgets/controls",
            "_model_module_version": "1.5.0",
            "_model_name": "FloatProgressModel",
            "_view_count": null,
            "_view_module": "@jupyter-widgets/controls",
            "_view_module_version": "1.5.0",
            "_view_name": "ProgressView",
            "bar_style": "success",
            "description": "",
            "description_tooltip": null,
            "layout": "IPY_MODEL_f41ac0d725fa420d870f03d2717b08b3",
            "max": 69556,
            "min": 0,
            "orientation": "horizontal",
            "style": "IPY_MODEL_c18c63bfe7294ebdb69901b3d9ef8d5b",
            "value": 69556
          }
        },
        "6d6521864bab47c88a95feb2b9cfad3a": {
          "model_module": "@jupyter-widgets/base",
          "model_module_version": "1.2.0",
          "model_name": "LayoutModel",
          "state": {
            "_model_module": "@jupyter-widgets/base",
            "_model_module_version": "1.2.0",
            "_model_name": "LayoutModel",
            "_view_count": null,
            "_view_module": "@jupyter-widgets/base",
            "_view_module_version": "1.2.0",
            "_view_name": "LayoutView",
            "align_content": null,
            "align_items": null,
            "align_self": null,
            "border": null,
            "bottom": null,
            "display": null,
            "flex": null,
            "flex_flow": null,
            "grid_area": null,
            "grid_auto_columns": null,
            "grid_auto_flow": null,
            "grid_auto_rows": null,
            "grid_column": null,
            "grid_gap": null,
            "grid_row": null,
            "grid_template_areas": null,
            "grid_template_columns": null,
            "grid_template_rows": null,
            "height": null,
            "justify_content": null,
            "justify_items": null,
            "left": null,
            "margin": null,
            "max_height": null,
            "max_width": null,
            "min_height": null,
            "min_width": null,
            "object_fit": null,
            "object_position": null,
            "order": null,
            "overflow": null,
            "overflow_x": null,
            "overflow_y": null,
            "padding": null,
            "right": null,
            "top": null,
            "visibility": null,
            "width": null
          }
        },
        "70eea139ea0a48e4b814760224414a84": {
          "model_module": "@jupyter-widgets/controls",
          "model_module_version": "1.5.0",
          "model_name": "HTMLModel",
          "state": {
            "_dom_classes": [],
            "_model_module": "@jupyter-widgets/controls",
            "_model_module_version": "1.5.0",
            "_model_name": "HTMLModel",
            "_view_count": null,
            "_view_module": "@jupyter-widgets/controls",
            "_view_module_version": "1.5.0",
            "_view_name": "HTMLView",
            "description": "",
            "description_tooltip": null,
            "layout": "IPY_MODEL_8443c81599e1450892fb6fbf29a2fa59",
            "placeholder": "​",
            "style": "IPY_MODEL_aa43cc39dd06463499bf29586f149050",
            "value": "pytorch_model.bin: 100%"
          }
        },
        "819239a46063440abade8c49cb4ce303": {
          "model_module": "@jupyter-widgets/base",
          "model_module_version": "1.2.0",
          "model_name": "LayoutModel",
          "state": {
            "_model_module": "@jupyter-widgets/base",
            "_model_module_version": "1.2.0",
            "_model_name": "LayoutModel",
            "_view_count": null,
            "_view_module": "@jupyter-widgets/base",
            "_view_module_version": "1.2.0",
            "_view_name": "LayoutView",
            "align_content": null,
            "align_items": null,
            "align_self": null,
            "border": null,
            "bottom": null,
            "display": null,
            "flex": null,
            "flex_flow": null,
            "grid_area": null,
            "grid_auto_columns": null,
            "grid_auto_flow": null,
            "grid_auto_rows": null,
            "grid_column": null,
            "grid_gap": null,
            "grid_row": null,
            "grid_template_areas": null,
            "grid_template_columns": null,
            "grid_template_rows": null,
            "height": null,
            "justify_content": null,
            "justify_items": null,
            "left": null,
            "margin": null,
            "max_height": null,
            "max_width": null,
            "min_height": null,
            "min_width": null,
            "object_fit": null,
            "object_position": null,
            "order": null,
            "overflow": null,
            "overflow_x": null,
            "overflow_y": null,
            "padding": null,
            "right": null,
            "top": null,
            "visibility": null,
            "width": null
          }
        },
        "8443c81599e1450892fb6fbf29a2fa59": {
          "model_module": "@jupyter-widgets/base",
          "model_module_version": "1.2.0",
          "model_name": "LayoutModel",
          "state": {
            "_model_module": "@jupyter-widgets/base",
            "_model_module_version": "1.2.0",
            "_model_name": "LayoutModel",
            "_view_count": null,
            "_view_module": "@jupyter-widgets/base",
            "_view_module_version": "1.2.0",
            "_view_name": "LayoutView",
            "align_content": null,
            "align_items": null,
            "align_self": null,
            "border": null,
            "bottom": null,
            "display": null,
            "flex": null,
            "flex_flow": null,
            "grid_area": null,
            "grid_auto_columns": null,
            "grid_auto_flow": null,
            "grid_auto_rows": null,
            "grid_column": null,
            "grid_gap": null,
            "grid_row": null,
            "grid_template_areas": null,
            "grid_template_columns": null,
            "grid_template_rows": null,
            "height": null,
            "justify_content": null,
            "justify_items": null,
            "left": null,
            "margin": null,
            "max_height": null,
            "max_width": null,
            "min_height": null,
            "min_width": null,
            "object_fit": null,
            "object_position": null,
            "order": null,
            "overflow": null,
            "overflow_x": null,
            "overflow_y": null,
            "padding": null,
            "right": null,
            "top": null,
            "visibility": null,
            "width": null
          }
        },
        "8fbc91b9c0304129b2ad75c87aaf326c": {
          "model_module": "@jupyter-widgets/controls",
          "model_module_version": "1.5.0",
          "model_name": "HTMLModel",
          "state": {
            "_dom_classes": [],
            "_model_module": "@jupyter-widgets/controls",
            "_model_module_version": "1.5.0",
            "_model_name": "HTMLModel",
            "_view_count": null,
            "_view_module": "@jupyter-widgets/controls",
            "_view_module_version": "1.5.0",
            "_view_name": "HTMLView",
            "description": "",
            "description_tooltip": null,
            "layout": "IPY_MODEL_4c0507d53e604fb285003fb7d52e8d4b",
            "placeholder": "​",
            "style": "IPY_MODEL_47d987a65f2f4179a9e1c27a9da69cd4",
            "value": " 266/266 [00:00&lt;00:00, 17.5kB/s]"
          }
        },
        "939442df634642c694194890746a60cb": {
          "model_module": "@jupyter-widgets/controls",
          "model_module_version": "1.5.0",
          "model_name": "DescriptionStyleModel",
          "state": {
            "_model_module": "@jupyter-widgets/controls",
            "_model_module_version": "1.5.0",
            "_model_name": "DescriptionStyleModel",
            "_view_count": null,
            "_view_module": "@jupyter-widgets/base",
            "_view_module_version": "1.2.0",
            "_view_name": "StyleView",
            "description_width": ""
          }
        },
        "944ba727907343069c8a12d730dd3f63": {
          "model_module": "@jupyter-widgets/controls",
          "model_module_version": "1.5.0",
          "model_name": "ProgressStyleModel",
          "state": {
            "_model_module": "@jupyter-widgets/controls",
            "_model_module_version": "1.5.0",
            "_model_name": "ProgressStyleModel",
            "_view_count": null,
            "_view_module": "@jupyter-widgets/base",
            "_view_module_version": "1.2.0",
            "_view_name": "StyleView",
            "bar_color": null,
            "description_width": ""
          }
        },
        "a28b0b683b3d40d1912a33c26f1c5772": {
          "model_module": "@jupyter-widgets/base",
          "model_module_version": "1.2.0",
          "model_name": "LayoutModel",
          "state": {
            "_model_module": "@jupyter-widgets/base",
            "_model_module_version": "1.2.0",
            "_model_name": "LayoutModel",
            "_view_count": null,
            "_view_module": "@jupyter-widgets/base",
            "_view_module_version": "1.2.0",
            "_view_name": "LayoutView",
            "align_content": null,
            "align_items": null,
            "align_self": null,
            "border": null,
            "bottom": null,
            "display": null,
            "flex": null,
            "flex_flow": null,
            "grid_area": null,
            "grid_auto_columns": null,
            "grid_auto_flow": null,
            "grid_auto_rows": null,
            "grid_column": null,
            "grid_gap": null,
            "grid_row": null,
            "grid_template_areas": null,
            "grid_template_columns": null,
            "grid_template_rows": null,
            "height": null,
            "justify_content": null,
            "justify_items": null,
            "left": null,
            "margin": null,
            "max_height": null,
            "max_width": null,
            "min_height": null,
            "min_width": null,
            "object_fit": null,
            "object_position": null,
            "order": null,
            "overflow": null,
            "overflow_x": null,
            "overflow_y": null,
            "padding": null,
            "right": null,
            "top": null,
            "visibility": null,
            "width": null
          }
        },
        "a441346caaef4d24a73aab2062ed161b": {
          "model_module": "@jupyter-widgets/base",
          "model_module_version": "1.2.0",
          "model_name": "LayoutModel",
          "state": {
            "_model_module": "@jupyter-widgets/base",
            "_model_module_version": "1.2.0",
            "_model_name": "LayoutModel",
            "_view_count": null,
            "_view_module": "@jupyter-widgets/base",
            "_view_module_version": "1.2.0",
            "_view_name": "LayoutView",
            "align_content": null,
            "align_items": null,
            "align_self": null,
            "border": null,
            "bottom": null,
            "display": null,
            "flex": null,
            "flex_flow": null,
            "grid_area": null,
            "grid_auto_columns": null,
            "grid_auto_flow": null,
            "grid_auto_rows": null,
            "grid_column": null,
            "grid_gap": null,
            "grid_row": null,
            "grid_template_areas": null,
            "grid_template_columns": null,
            "grid_template_rows": null,
            "height": null,
            "justify_content": null,
            "justify_items": null,
            "left": null,
            "margin": null,
            "max_height": null,
            "max_width": null,
            "min_height": null,
            "min_width": null,
            "object_fit": null,
            "object_position": null,
            "order": null,
            "overflow": null,
            "overflow_x": null,
            "overflow_y": null,
            "padding": null,
            "right": null,
            "top": null,
            "visibility": null,
            "width": null
          }
        },
        "aa43cc39dd06463499bf29586f149050": {
          "model_module": "@jupyter-widgets/controls",
          "model_module_version": "1.5.0",
          "model_name": "DescriptionStyleModel",
          "state": {
            "_model_module": "@jupyter-widgets/controls",
            "_model_module_version": "1.5.0",
            "_model_name": "DescriptionStyleModel",
            "_view_count": null,
            "_view_module": "@jupyter-widgets/base",
            "_view_module_version": "1.2.0",
            "_view_name": "StyleView",
            "description_width": ""
          }
        },
        "ae18952108d142a7a29e4ac3ddb573a8": {
          "model_module": "@jupyter-widgets/controls",
          "model_module_version": "1.5.0",
          "model_name": "FloatProgressModel",
          "state": {
            "_dom_classes": [],
            "_model_module": "@jupyter-widgets/controls",
            "_model_module_version": "1.5.0",
            "_model_name": "FloatProgressModel",
            "_view_count": null,
            "_view_module": "@jupyter-widgets/controls",
            "_view_module_version": "1.5.0",
            "_view_name": "ProgressView",
            "bar_style": "success",
            "description": "",
            "description_tooltip": null,
            "layout": "IPY_MODEL_a441346caaef4d24a73aab2062ed161b",
            "max": 102567489,
            "min": 0,
            "orientation": "horizontal",
            "style": "IPY_MODEL_020852ae0b054b0d90c0d79a3a3b5a50",
            "value": 102567489
          }
        },
        "b1d6c5871c344d1e87f45ead28dfba20": {
          "model_module": "@jupyter-widgets/controls",
          "model_module_version": "1.5.0",
          "model_name": "DescriptionStyleModel",
          "state": {
            "_model_module": "@jupyter-widgets/controls",
            "_model_module_version": "1.5.0",
            "_model_name": "DescriptionStyleModel",
            "_view_count": null,
            "_view_module": "@jupyter-widgets/base",
            "_view_module_version": "1.2.0",
            "_view_name": "StyleView",
            "description_width": ""
          }
        },
        "b47979a280bb4e25a59147be050eb3f1": {
          "model_module": "@jupyter-widgets/base",
          "model_module_version": "1.2.0",
          "model_name": "LayoutModel",
          "state": {
            "_model_module": "@jupyter-widgets/base",
            "_model_module_version": "1.2.0",
            "_model_name": "LayoutModel",
            "_view_count": null,
            "_view_module": "@jupyter-widgets/base",
            "_view_module_version": "1.2.0",
            "_view_name": "LayoutView",
            "align_content": null,
            "align_items": null,
            "align_self": null,
            "border": null,
            "bottom": null,
            "display": null,
            "flex": null,
            "flex_flow": null,
            "grid_area": null,
            "grid_auto_columns": null,
            "grid_auto_flow": null,
            "grid_auto_rows": null,
            "grid_column": null,
            "grid_gap": null,
            "grid_row": null,
            "grid_template_areas": null,
            "grid_template_columns": null,
            "grid_template_rows": null,
            "height": null,
            "justify_content": null,
            "justify_items": null,
            "left": null,
            "margin": null,
            "max_height": null,
            "max_width": null,
            "min_height": null,
            "min_width": null,
            "object_fit": null,
            "object_position": null,
            "order": null,
            "overflow": null,
            "overflow_x": null,
            "overflow_y": null,
            "padding": null,
            "right": null,
            "top": null,
            "visibility": null,
            "width": null
          }
        },
        "b630cf1a972341ac88249b502ba44b01": {
          "model_module": "@jupyter-widgets/base",
          "model_module_version": "1.2.0",
          "model_name": "LayoutModel",
          "state": {
            "_model_module": "@jupyter-widgets/base",
            "_model_module_version": "1.2.0",
            "_model_name": "LayoutModel",
            "_view_count": null,
            "_view_module": "@jupyter-widgets/base",
            "_view_module_version": "1.2.0",
            "_view_name": "LayoutView",
            "align_content": null,
            "align_items": null,
            "align_self": null,
            "border": null,
            "bottom": null,
            "display": null,
            "flex": null,
            "flex_flow": null,
            "grid_area": null,
            "grid_auto_columns": null,
            "grid_auto_flow": null,
            "grid_auto_rows": null,
            "grid_column": null,
            "grid_gap": null,
            "grid_row": null,
            "grid_template_areas": null,
            "grid_template_columns": null,
            "grid_template_rows": null,
            "height": null,
            "justify_content": null,
            "justify_items": null,
            "left": null,
            "margin": null,
            "max_height": null,
            "max_width": null,
            "min_height": null,
            "min_width": null,
            "object_fit": null,
            "object_position": null,
            "order": null,
            "overflow": null,
            "overflow_x": null,
            "overflow_y": null,
            "padding": null,
            "right": null,
            "top": null,
            "visibility": null,
            "width": null
          }
        },
        "c18c63bfe7294ebdb69901b3d9ef8d5b": {
          "model_module": "@jupyter-widgets/controls",
          "model_module_version": "1.5.0",
          "model_name": "ProgressStyleModel",
          "state": {
            "_model_module": "@jupyter-widgets/controls",
            "_model_module_version": "1.5.0",
            "_model_name": "ProgressStyleModel",
            "_view_count": null,
            "_view_module": "@jupyter-widgets/base",
            "_view_module_version": "1.2.0",
            "_view_name": "StyleView",
            "bar_color": null,
            "description_width": ""
          }
        },
        "cdf7b1d6c6394c65b3f284c4b755ff17": {
          "model_module": "@jupyter-widgets/base",
          "model_module_version": "1.2.0",
          "model_name": "LayoutModel",
          "state": {
            "_model_module": "@jupyter-widgets/base",
            "_model_module_version": "1.2.0",
            "_model_name": "LayoutModel",
            "_view_count": null,
            "_view_module": "@jupyter-widgets/base",
            "_view_module_version": "1.2.0",
            "_view_name": "LayoutView",
            "align_content": null,
            "align_items": null,
            "align_self": null,
            "border": null,
            "bottom": null,
            "display": null,
            "flex": null,
            "flex_flow": null,
            "grid_area": null,
            "grid_auto_columns": null,
            "grid_auto_flow": null,
            "grid_auto_rows": null,
            "grid_column": null,
            "grid_gap": null,
            "grid_row": null,
            "grid_template_areas": null,
            "grid_template_columns": null,
            "grid_template_rows": null,
            "height": null,
            "justify_content": null,
            "justify_items": null,
            "left": null,
            "margin": null,
            "max_height": null,
            "max_width": null,
            "min_height": null,
            "min_width": null,
            "object_fit": null,
            "object_position": null,
            "order": null,
            "overflow": null,
            "overflow_x": null,
            "overflow_y": null,
            "padding": null,
            "right": null,
            "top": null,
            "visibility": null,
            "width": null
          }
        },
        "e589af1c4ee44eb99b84902ab37d117c": {
          "model_module": "@jupyter-widgets/base",
          "model_module_version": "1.2.0",
          "model_name": "LayoutModel",
          "state": {
            "_model_module": "@jupyter-widgets/base",
            "_model_module_version": "1.2.0",
            "_model_name": "LayoutModel",
            "_view_count": null,
            "_view_module": "@jupyter-widgets/base",
            "_view_module_version": "1.2.0",
            "_view_name": "LayoutView",
            "align_content": null,
            "align_items": null,
            "align_self": null,
            "border": null,
            "bottom": null,
            "display": null,
            "flex": null,
            "flex_flow": null,
            "grid_area": null,
            "grid_auto_columns": null,
            "grid_auto_flow": null,
            "grid_auto_rows": null,
            "grid_column": null,
            "grid_gap": null,
            "grid_row": null,
            "grid_template_areas": null,
            "grid_template_columns": null,
            "grid_template_rows": null,
            "height": null,
            "justify_content": null,
            "justify_items": null,
            "left": null,
            "margin": null,
            "max_height": null,
            "max_width": null,
            "min_height": null,
            "min_width": null,
            "object_fit": null,
            "object_position": null,
            "order": null,
            "overflow": null,
            "overflow_x": null,
            "overflow_y": null,
            "padding": null,
            "right": null,
            "top": null,
            "visibility": null,
            "width": null
          }
        },
        "f18d721aacb34857bf63cde7dfb9e0a8": {
          "model_module": "@jupyter-widgets/controls",
          "model_module_version": "1.5.0",
          "model_name": "HBoxModel",
          "state": {
            "_dom_classes": [],
            "_model_module": "@jupyter-widgets/controls",
            "_model_module_version": "1.5.0",
            "_model_name": "HBoxModel",
            "_view_count": null,
            "_view_module": "@jupyter-widgets/controls",
            "_view_module_version": "1.5.0",
            "_view_name": "HBoxView",
            "box_style": "",
            "children": [
              "IPY_MODEL_70eea139ea0a48e4b814760224414a84",
              "IPY_MODEL_ae18952108d142a7a29e4ac3ddb573a8",
              "IPY_MODEL_1dc957e8fe324257935eabb4b5fd7beb"
            ],
            "layout": "IPY_MODEL_b630cf1a972341ac88249b502ba44b01"
          }
        },
        "f23abbe057664785be58fca8fa21ae53": {
          "model_module": "@jupyter-widgets/base",
          "model_module_version": "1.2.0",
          "model_name": "LayoutModel",
          "state": {
            "_model_module": "@jupyter-widgets/base",
            "_model_module_version": "1.2.0",
            "_model_name": "LayoutModel",
            "_view_count": null,
            "_view_module": "@jupyter-widgets/base",
            "_view_module_version": "1.2.0",
            "_view_name": "LayoutView",
            "align_content": null,
            "align_items": null,
            "align_self": null,
            "border": null,
            "bottom": null,
            "display": null,
            "flex": null,
            "flex_flow": null,
            "grid_area": null,
            "grid_auto_columns": null,
            "grid_auto_flow": null,
            "grid_auto_rows": null,
            "grid_column": null,
            "grid_gap": null,
            "grid_row": null,
            "grid_template_areas": null,
            "grid_template_columns": null,
            "grid_template_rows": null,
            "height": null,
            "justify_content": null,
            "justify_items": null,
            "left": null,
            "margin": null,
            "max_height": null,
            "max_width": null,
            "min_height": null,
            "min_width": null,
            "object_fit": null,
            "object_position": null,
            "order": null,
            "overflow": null,
            "overflow_x": null,
            "overflow_y": null,
            "padding": null,
            "right": null,
            "top": null,
            "visibility": null,
            "width": null
          }
        },
        "f41ac0d725fa420d870f03d2717b08b3": {
          "model_module": "@jupyter-widgets/base",
          "model_module_version": "1.2.0",
          "model_name": "LayoutModel",
          "state": {
            "_model_module": "@jupyter-widgets/base",
            "_model_module_version": "1.2.0",
            "_model_name": "LayoutModel",
            "_view_count": null,
            "_view_module": "@jupyter-widgets/base",
            "_view_module_version": "1.2.0",
            "_view_name": "LayoutView",
            "align_content": null,
            "align_items": null,
            "align_self": null,
            "border": null,
            "bottom": null,
            "display": null,
            "flex": null,
            "flex_flow": null,
            "grid_area": null,
            "grid_auto_columns": null,
            "grid_auto_flow": null,
            "grid_auto_rows": null,
            "grid_column": null,
            "grid_gap": null,
            "grid_row": null,
            "grid_template_areas": null,
            "grid_template_columns": null,
            "grid_template_rows": null,
            "height": null,
            "justify_content": null,
            "justify_items": null,
            "left": null,
            "margin": null,
            "max_height": null,
            "max_width": null,
            "min_height": null,
            "min_width": null,
            "object_fit": null,
            "object_position": null,
            "order": null,
            "overflow": null,
            "overflow_x": null,
            "overflow_y": null,
            "padding": null,
            "right": null,
            "top": null,
            "visibility": null,
            "width": null
          }
        }
      }
    }
  },
  "nbformat": 4,
  "nbformat_minor": 0
}
